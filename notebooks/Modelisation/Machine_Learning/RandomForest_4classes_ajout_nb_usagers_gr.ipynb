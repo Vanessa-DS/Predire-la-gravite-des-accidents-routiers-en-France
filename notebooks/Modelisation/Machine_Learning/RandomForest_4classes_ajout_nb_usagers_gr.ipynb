{
 "cells": [
  {
   "cell_type": "markdown",
   "metadata": {},
   "source": [
    "# Importation des librairies"
   ]
  },
  {
   "cell_type": "code",
   "execution_count": 1,
   "metadata": {},
   "outputs": [],
   "source": [
    "import pandas as pd\n",
    "import numpy as np\n",
    "import yaml\n",
    "import warnings\n",
    "\n",
    "from sklearn.model_selection import train_test_split\n",
    "\n",
    "from sklearn.ensemble import RandomForestClassifier\n",
    "from sklearn.model_selection import GridSearchCV\n",
    "\n",
    "from sklearn.metrics import classification_report, accuracy_score\n",
    "\n",
    "import joblib\n",
    "\n",
    "#warnings.filterwarnings(\"ignore\")"
   ]
  },
  {
   "cell_type": "markdown",
   "metadata": {},
   "source": [
    "# Lecture du fichier data_cleaned_final_sans_dummies.csv"
   ]
  },
  {
   "cell_type": "code",
   "execution_count": 2,
   "metadata": {},
   "outputs": [],
   "source": [
    "file = open('../../../conf/global_conf.yml', 'r') \n",
    "conf = yaml.safe_load(file)\n",
    "df = pd.read_csv(conf['local_data_path'] + \"data_cleaned_final_sans_dummies_nb_usagers.csv\",index_col=0,low_memory=False)"
   ]
  },
  {
   "cell_type": "code",
   "execution_count": 3,
   "metadata": {},
   "outputs": [
    {
     "name": "stdout",
     "output_type": "stream",
     "text": [
      "<class 'pandas.core.frame.DataFrame'>\n",
      "Index: 447136 entries, 0 to 494017\n",
      "Data columns (total 43 columns):\n",
      " #   Column          Non-Null Count   Dtype  \n",
      "---  ------          --------------   -----  \n",
      " 0   jour            447136 non-null  int64  \n",
      " 1   mois            447136 non-null  int64  \n",
      " 2   an              447136 non-null  int64  \n",
      " 3   lum             447136 non-null  float64\n",
      " 4   dep             447136 non-null  object \n",
      " 5   agg             447136 non-null  int64  \n",
      " 6   int             447136 non-null  float64\n",
      " 7   atm             447136 non-null  float64\n",
      " 8   col             447136 non-null  float64\n",
      " 9   lat             447136 non-null  float64\n",
      " 10  long            447136 non-null  float64\n",
      " 11  catr            447136 non-null  int64  \n",
      " 12  circ            447136 non-null  float64\n",
      " 13  prof            447136 non-null  float64\n",
      " 14  plan            447136 non-null  float64\n",
      " 15  surf            447136 non-null  float64\n",
      " 16  infra           447136 non-null  float64\n",
      " 17  situ            447136 non-null  float64\n",
      " 18  grav            447136 non-null  float64\n",
      " 19  sexe            447136 non-null  float64\n",
      " 20  catv            447136 non-null  float64\n",
      " 21  obs             447136 non-null  float64\n",
      " 22  obsm            447136 non-null  float64\n",
      " 23  manv            447136 non-null  float64\n",
      " 24  motor           447136 non-null  float64\n",
      " 25  grav_rec        447136 non-null  object \n",
      " 26  nb_usagers      447136 non-null  int64  \n",
      " 27  nb_usagers_gr   447136 non-null  int64  \n",
      " 28  date            447136 non-null  object \n",
      " 29  weekend         447136 non-null  int64  \n",
      " 30  heure           447136 non-null  int64  \n",
      " 31  place_rec       447136 non-null  float64\n",
      " 32  age_usager      447136 non-null  float64\n",
      " 33  eq_ceinture     447136 non-null  int64  \n",
      " 34  eq_casque       447136 non-null  int64  \n",
      " 35  eq_siege        447136 non-null  int64  \n",
      " 36  eq_gilet        447136 non-null  int64  \n",
      " 37  eq_airbag       447136 non-null  int64  \n",
      " 38  eq_gants        447136 non-null  int64  \n",
      " 39  eq_indetermine  447136 non-null  int64  \n",
      " 40  eq_autre        447136 non-null  int64  \n",
      " 41  jour_chome      447136 non-null  int64  \n",
      " 42  prox_pt_choc    447136 non-null  int64  \n",
      "dtypes: float64(21), int64(19), object(3)\n",
      "memory usage: 150.1+ MB\n"
     ]
    }
   ],
   "source": [
    "df.info()"
   ]
  },
  {
   "cell_type": "code",
   "execution_count": 4,
   "metadata": {},
   "outputs": [
    {
     "name": "stdout",
     "output_type": "stream",
     "text": [
      "<class 'pandas.core.frame.DataFrame'>\n",
      "Index: 447136 entries, 0 to 494017\n",
      "Data columns (total 43 columns):\n",
      " #   Column          Non-Null Count   Dtype  \n",
      "---  ------          --------------   -----  \n",
      " 0   jour            447136 non-null  int64  \n",
      " 1   mois            447136 non-null  int64  \n",
      " 2   an              447136 non-null  int64  \n",
      " 3   lum             447136 non-null  int64  \n",
      " 4   dep             447136 non-null  object \n",
      " 5   agg             447136 non-null  int64  \n",
      " 6   int             447136 non-null  int64  \n",
      " 7   atm             447136 non-null  int64  \n",
      " 8   col             447136 non-null  int64  \n",
      " 9   lat             447136 non-null  float64\n",
      " 10  long            447136 non-null  float64\n",
      " 11  catr            447136 non-null  int64  \n",
      " 12  circ            447136 non-null  int64  \n",
      " 13  prof            447136 non-null  int64  \n",
      " 14  plan            447136 non-null  int64  \n",
      " 15  surf            447136 non-null  int64  \n",
      " 16  infra           447136 non-null  int64  \n",
      " 17  situ            447136 non-null  int64  \n",
      " 18  grav            447136 non-null  int64  \n",
      " 19  sexe            447136 non-null  int64  \n",
      " 20  catv            447136 non-null  int64  \n",
      " 21  obs             447136 non-null  int64  \n",
      " 22  obsm            447136 non-null  int64  \n",
      " 23  manv            447136 non-null  int64  \n",
      " 24  motor           447136 non-null  int64  \n",
      " 25  grav_rec        447136 non-null  object \n",
      " 26  nb_usagers      447136 non-null  int64  \n",
      " 27  nb_usagers_gr   447136 non-null  int64  \n",
      " 28  date            447136 non-null  object \n",
      " 29  weekend         447136 non-null  int64  \n",
      " 30  heure           447136 non-null  int64  \n",
      " 31  place_rec       447136 non-null  int64  \n",
      " 32  age_usager      447136 non-null  float64\n",
      " 33  eq_ceinture     447136 non-null  int64  \n",
      " 34  eq_casque       447136 non-null  int64  \n",
      " 35  eq_siege        447136 non-null  int64  \n",
      " 36  eq_gilet        447136 non-null  int64  \n",
      " 37  eq_airbag       447136 non-null  int64  \n",
      " 38  eq_gants        447136 non-null  int64  \n",
      " 39  eq_indetermine  447136 non-null  int64  \n",
      " 40  eq_autre        447136 non-null  int64  \n",
      " 41  jour_chome      447136 non-null  int64  \n",
      " 42  prox_pt_choc    447136 non-null  int64  \n",
      "dtypes: float64(3), int64(37), object(3)\n",
      "memory usage: 150.1+ MB\n"
     ]
    }
   ],
   "source": [
    "cat = ['lum', 'agg', 'int', 'atm', 'col', 'catr', 'circ',\n",
    "       'prof', 'plan', 'surf', 'infra', 'situ', 'grav', 'sexe', 'catv', 'obs',\n",
    "       'obsm', 'manv', 'motor', 'weekend', 'place_rec',\n",
    "       'eq_ceinture', 'eq_casque', 'eq_siege', 'eq_gilet', 'eq_airbag',\n",
    "       'eq_gants', 'eq_indetermine', 'eq_autre', 'jour_chome', 'prox_pt_choc']\n",
    "df[cat] = df[cat].astype(int)\n",
    "df.info()"
   ]
  },
  {
   "cell_type": "markdown",
   "metadata": {},
   "source": [
    "# Séparation en train et test"
   ]
  },
  {
   "cell_type": "markdown",
   "metadata": {},
   "source": [
    "Suppression des colonnes qui ne serviront pas pour la modélisation"
   ]
  },
  {
   "cell_type": "code",
   "execution_count": 5,
   "metadata": {},
   "outputs": [],
   "source": [
    "df = df.drop(['an', 'jour', 'grav_rec', 'date', 'dep', 'nb_usagers'], axis = 1)"
   ]
  },
  {
   "cell_type": "markdown",
   "metadata": {},
   "source": [
    "Séparation des données de la cible"
   ]
  },
  {
   "cell_type": "code",
   "execution_count": 6,
   "metadata": {},
   "outputs": [
    {
     "data": {
      "text/plain": [
       "grav\n",
       "1    0.412733\n",
       "4    0.403430\n",
       "3    0.156550\n",
       "2    0.027287\n",
       "Name: proportion, dtype: float64"
      ]
     },
     "execution_count": 6,
     "metadata": {},
     "output_type": "execute_result"
    }
   ],
   "source": [
    "X = df.drop('grav', axis = 1)\n",
    "y = df['grav']\n",
    "\n",
    "y.value_counts(normalize = True)"
   ]
  },
  {
   "cell_type": "markdown",
   "metadata": {},
   "source": [
    "Séparation en train et test en gardant la même porportion de chque modalité de la cible dans les jeux d'entraînement et de test."
   ]
  },
  {
   "cell_type": "code",
   "execution_count": 7,
   "metadata": {},
   "outputs": [
    {
     "name": "stdout",
     "output_type": "stream",
     "text": [
      "grav\n",
      "1    0.412733\n",
      "4    0.403430\n",
      "3    0.156549\n",
      "2    0.027288\n",
      "Name: proportion, dtype: float64\n",
      "grav\n",
      "1    0.412733\n",
      "4    0.403430\n",
      "3    0.156552\n",
      "2    0.027285\n",
      "Name: proportion, dtype: float64\n"
     ]
    }
   ],
   "source": [
    "X_train, X_test, y_train, y_test = train_test_split(X, y, test_size = 0.25, random_state = 42, stratify = y)\n",
    "\n",
    "print(y_train.value_counts(normalize = True))\n",
    "print(y_test.value_counts(normalize = True))"
   ]
  },
  {
   "cell_type": "code",
   "execution_count": 8,
   "metadata": {},
   "outputs": [
    {
     "data": {
      "text/plain": [
       "(335352, 36)"
      ]
     },
     "execution_count": 8,
     "metadata": {},
     "output_type": "execute_result"
    }
   ],
   "source": [
    "X_train.shape"
   ]
  },
  {
   "cell_type": "markdown",
   "metadata": {},
   "source": [
    "# Random Forest"
   ]
  },
  {
   "cell_type": "markdown",
   "metadata": {},
   "source": [
    "### Selection des variables"
   ]
  },
  {
   "cell_type": "code",
   "execution_count": 9,
   "metadata": {},
   "outputs": [],
   "source": [
    "rf = RandomForestClassifier(n_jobs = -1, random_state = 42).fit(X_train, y_train)"
   ]
  },
  {
   "cell_type": "code",
   "execution_count": 10,
   "metadata": {},
   "outputs": [
    {
     "name": "stdout",
     "output_type": "stream",
     "text": [
      "Train acuracy : 99.9 %\n",
      "Test acuracy :  67.4 %\n",
      "\n",
      "Matrice de confusion :\n"
     ]
    },
    {
     "data": {
      "text/html": [
       "<div>\n",
       "<style scoped>\n",
       "    .dataframe tbody tr th:only-of-type {\n",
       "        vertical-align: middle;\n",
       "    }\n",
       "\n",
       "    .dataframe tbody tr th {\n",
       "        vertical-align: top;\n",
       "    }\n",
       "\n",
       "    .dataframe thead th {\n",
       "        text-align: right;\n",
       "    }\n",
       "</style>\n",
       "<table border=\"1\" class=\"dataframe\">\n",
       "  <thead>\n",
       "    <tr style=\"text-align: right;\">\n",
       "      <th>Classes prédites</th>\n",
       "      <th>1</th>\n",
       "      <th>2</th>\n",
       "      <th>3</th>\n",
       "      <th>4</th>\n",
       "    </tr>\n",
       "    <tr>\n",
       "      <th>Classes réelles</th>\n",
       "      <th></th>\n",
       "      <th></th>\n",
       "      <th></th>\n",
       "      <th></th>\n",
       "    </tr>\n",
       "  </thead>\n",
       "  <tbody>\n",
       "    <tr>\n",
       "      <th>1</th>\n",
       "      <td>38363</td>\n",
       "      <td>18</td>\n",
       "      <td>936</td>\n",
       "      <td>6820</td>\n",
       "    </tr>\n",
       "    <tr>\n",
       "      <th>2</th>\n",
       "      <td>401</td>\n",
       "      <td>156</td>\n",
       "      <td>1588</td>\n",
       "      <td>905</td>\n",
       "    </tr>\n",
       "    <tr>\n",
       "      <th>3</th>\n",
       "      <td>2485</td>\n",
       "      <td>157</td>\n",
       "      <td>7103</td>\n",
       "      <td>7755</td>\n",
       "    </tr>\n",
       "    <tr>\n",
       "      <th>4</th>\n",
       "      <td>11637</td>\n",
       "      <td>62</td>\n",
       "      <td>3679</td>\n",
       "      <td>29719</td>\n",
       "    </tr>\n",
       "  </tbody>\n",
       "</table>\n",
       "</div>"
      ],
      "text/plain": [
       "Classes prédites      1    2     3      4\n",
       "Classes réelles                          \n",
       "1                 38363   18   936   6820\n",
       "2                   401  156  1588    905\n",
       "3                  2485  157  7103   7755\n",
       "4                 11637   62  3679  29719"
      ]
     },
     "metadata": {},
     "output_type": "display_data"
    },
    {
     "name": "stdout",
     "output_type": "stream",
     "text": [
      "\n",
      "Rapport de classification :\n",
      "               precision    recall  f1-score   support\n",
      "\n",
      "           1       0.73      0.83      0.77     46137\n",
      "           2       0.40      0.05      0.09      3050\n",
      "           3       0.53      0.41      0.46     17500\n",
      "           4       0.66      0.66      0.66     45097\n",
      "\n",
      "    accuracy                           0.67    111784\n",
      "   macro avg       0.58      0.49      0.50    111784\n",
      "weighted avg       0.66      0.67      0.66    111784\n",
      "\n"
     ]
    }
   ],
   "source": [
    "print(\"Train acuracy :\", np.round(rf.score(X_train, y_train) * 100, 2), \"%\")\n",
    "print(\"Test acuracy : \", np.round(rf.score(X_test, y_test) * 100, 2), \"%\")\n",
    "print()\n",
    "y_pred = rf.predict(X_test)\n",
    "print(\"Matrice de confusion :\")\n",
    "display(pd.crosstab(y_test, y_pred, rownames = ['Classes réelles'], colnames = ['Classes prédites']))\n",
    "print()\n",
    "print(\"Rapport de classification :\\n\", classification_report(y_test, y_pred))"
   ]
  },
  {
   "cell_type": "markdown",
   "metadata": {},
   "source": [
    "Calcul de l'importance de chaque variable"
   ]
  },
  {
   "cell_type": "code",
   "execution_count": 11,
   "metadata": {},
   "outputs": [
    {
     "data": {
      "text/html": [
       "<div>\n",
       "<style scoped>\n",
       "    .dataframe tbody tr th:only-of-type {\n",
       "        vertical-align: middle;\n",
       "    }\n",
       "\n",
       "    .dataframe tbody tr th {\n",
       "        vertical-align: top;\n",
       "    }\n",
       "\n",
       "    .dataframe thead th {\n",
       "        text-align: right;\n",
       "    }\n",
       "</style>\n",
       "<table border=\"1\" class=\"dataframe\">\n",
       "  <thead>\n",
       "    <tr style=\"text-align: right;\">\n",
       "      <th></th>\n",
       "      <th>importance</th>\n",
       "    </tr>\n",
       "    <tr>\n",
       "      <th>feature</th>\n",
       "      <th></th>\n",
       "    </tr>\n",
       "  </thead>\n",
       "  <tbody>\n",
       "    <tr>\n",
       "      <th>lat</th>\n",
       "      <td>0.105</td>\n",
       "    </tr>\n",
       "    <tr>\n",
       "      <th>long</th>\n",
       "      <td>0.101</td>\n",
       "    </tr>\n",
       "    <tr>\n",
       "      <th>age_usager</th>\n",
       "      <td>0.100</td>\n",
       "    </tr>\n",
       "    <tr>\n",
       "      <th>heure</th>\n",
       "      <td>0.068</td>\n",
       "    </tr>\n",
       "    <tr>\n",
       "      <th>mois</th>\n",
       "      <td>0.057</td>\n",
       "    </tr>\n",
       "    <tr>\n",
       "      <th>eq_ceinture</th>\n",
       "      <td>0.051</td>\n",
       "    </tr>\n",
       "    <tr>\n",
       "      <th>nb_usagers_gr</th>\n",
       "      <td>0.045</td>\n",
       "    </tr>\n",
       "    <tr>\n",
       "      <th>place_rec</th>\n",
       "      <td>0.042</td>\n",
       "    </tr>\n",
       "    <tr>\n",
       "      <th>col</th>\n",
       "      <td>0.040</td>\n",
       "    </tr>\n",
       "    <tr>\n",
       "      <th>catv</th>\n",
       "      <td>0.030</td>\n",
       "    </tr>\n",
       "    <tr>\n",
       "      <th>obsm</th>\n",
       "      <td>0.028</td>\n",
       "    </tr>\n",
       "    <tr>\n",
       "      <th>catr</th>\n",
       "      <td>0.027</td>\n",
       "    </tr>\n",
       "    <tr>\n",
       "      <th>eq_casque</th>\n",
       "      <td>0.023</td>\n",
       "    </tr>\n",
       "    <tr>\n",
       "      <th>manv</th>\n",
       "      <td>0.020</td>\n",
       "    </tr>\n",
       "    <tr>\n",
       "      <th>lum</th>\n",
       "      <td>0.019</td>\n",
       "    </tr>\n",
       "    <tr>\n",
       "      <th>motor</th>\n",
       "      <td>0.018</td>\n",
       "    </tr>\n",
       "    <tr>\n",
       "      <th>sexe</th>\n",
       "      <td>0.017</td>\n",
       "    </tr>\n",
       "    <tr>\n",
       "      <th>agg</th>\n",
       "      <td>0.017</td>\n",
       "    </tr>\n",
       "    <tr>\n",
       "      <th>obs</th>\n",
       "      <td>0.017</td>\n",
       "    </tr>\n",
       "    <tr>\n",
       "      <th>infra</th>\n",
       "      <td>0.016</td>\n",
       "    </tr>\n",
       "    <tr>\n",
       "      <th>weekend</th>\n",
       "      <td>0.015</td>\n",
       "    </tr>\n",
       "    <tr>\n",
       "      <th>prox_pt_choc</th>\n",
       "      <td>0.015</td>\n",
       "    </tr>\n",
       "    <tr>\n",
       "      <th>jour_chome</th>\n",
       "      <td>0.014</td>\n",
       "    </tr>\n",
       "    <tr>\n",
       "      <th>circ</th>\n",
       "      <td>0.013</td>\n",
       "    </tr>\n",
       "    <tr>\n",
       "      <th>surf</th>\n",
       "      <td>0.013</td>\n",
       "    </tr>\n",
       "    <tr>\n",
       "      <th>int</th>\n",
       "      <td>0.013</td>\n",
       "    </tr>\n",
       "    <tr>\n",
       "      <th>prof</th>\n",
       "      <td>0.013</td>\n",
       "    </tr>\n",
       "    <tr>\n",
       "      <th>situ</th>\n",
       "      <td>0.013</td>\n",
       "    </tr>\n",
       "    <tr>\n",
       "      <th>eq_indetermine</th>\n",
       "      <td>0.012</td>\n",
       "    </tr>\n",
       "    <tr>\n",
       "      <th>plan</th>\n",
       "      <td>0.012</td>\n",
       "    </tr>\n",
       "    <tr>\n",
       "      <th>atm</th>\n",
       "      <td>0.011</td>\n",
       "    </tr>\n",
       "    <tr>\n",
       "      <th>eq_gants</th>\n",
       "      <td>0.006</td>\n",
       "    </tr>\n",
       "    <tr>\n",
       "      <th>eq_airbag</th>\n",
       "      <td>0.003</td>\n",
       "    </tr>\n",
       "    <tr>\n",
       "      <th>eq_autre</th>\n",
       "      <td>0.002</td>\n",
       "    </tr>\n",
       "    <tr>\n",
       "      <th>eq_siege</th>\n",
       "      <td>0.001</td>\n",
       "    </tr>\n",
       "    <tr>\n",
       "      <th>eq_gilet</th>\n",
       "      <td>0.001</td>\n",
       "    </tr>\n",
       "  </tbody>\n",
       "</table>\n",
       "</div>"
      ],
      "text/plain": [
       "                importance\n",
       "feature                   \n",
       "lat                  0.105\n",
       "long                 0.101\n",
       "age_usager           0.100\n",
       "heure                0.068\n",
       "mois                 0.057\n",
       "eq_ceinture          0.051\n",
       "nb_usagers_gr        0.045\n",
       "place_rec            0.042\n",
       "col                  0.040\n",
       "catv                 0.030\n",
       "obsm                 0.028\n",
       "catr                 0.027\n",
       "eq_casque            0.023\n",
       "manv                 0.020\n",
       "lum                  0.019\n",
       "motor                0.018\n",
       "sexe                 0.017\n",
       "agg                  0.017\n",
       "obs                  0.017\n",
       "infra                0.016\n",
       "weekend              0.015\n",
       "prox_pt_choc         0.015\n",
       "jour_chome           0.014\n",
       "circ                 0.013\n",
       "surf                 0.013\n",
       "int                  0.013\n",
       "prof                 0.013\n",
       "situ                 0.013\n",
       "eq_indetermine       0.012\n",
       "plan                 0.012\n",
       "atm                  0.011\n",
       "eq_gants             0.006\n",
       "eq_airbag            0.003\n",
       "eq_autre             0.002\n",
       "eq_siege             0.001\n",
       "eq_gilet             0.001"
      ]
     },
     "execution_count": 11,
     "metadata": {},
     "output_type": "execute_result"
    }
   ],
   "source": [
    "importances_rf = pd.DataFrame({'feature':X_train.columns,'importance':np.round(rf.feature_importances_,3)})\n",
    "importances_rf = importances_rf.sort_values('importance',ascending=False).set_index('feature')\n",
    "importances_rf.head(38)"
   ]
  },
  {
   "cell_type": "markdown",
   "metadata": {},
   "source": [
    "Recherche du nombre de variables permettant d'obtenir la meilleur accuracy"
   ]
  },
  {
   "cell_type": "code",
   "execution_count": 12,
   "metadata": {},
   "outputs": [
    {
     "data": {
      "text/html": [
       "<div>\n",
       "<style scoped>\n",
       "    .dataframe tbody tr th:only-of-type {\n",
       "        vertical-align: middle;\n",
       "    }\n",
       "\n",
       "    .dataframe tbody tr th {\n",
       "        vertical-align: top;\n",
       "    }\n",
       "\n",
       "    .dataframe thead th {\n",
       "        text-align: right;\n",
       "    }\n",
       "</style>\n",
       "<table border=\"1\" class=\"dataframe\">\n",
       "  <thead>\n",
       "    <tr style=\"text-align: right;\">\n",
       "      <th></th>\n",
       "      <th>nombre_variable</th>\n",
       "      <th>scores</th>\n",
       "    </tr>\n",
       "  </thead>\n",
       "  <tbody>\n",
       "    <tr>\n",
       "      <th>33</th>\n",
       "      <td>34</td>\n",
       "      <td>0.674578</td>\n",
       "    </tr>\n",
       "    <tr>\n",
       "      <th>31</th>\n",
       "      <td>32</td>\n",
       "      <td>0.673415</td>\n",
       "    </tr>\n",
       "    <tr>\n",
       "      <th>32</th>\n",
       "      <td>33</td>\n",
       "      <td>0.673245</td>\n",
       "    </tr>\n",
       "    <tr>\n",
       "      <th>29</th>\n",
       "      <td>30</td>\n",
       "      <td>0.673218</td>\n",
       "    </tr>\n",
       "    <tr>\n",
       "      <th>30</th>\n",
       "      <td>31</td>\n",
       "      <td>0.672887</td>\n",
       "    </tr>\n",
       "  </tbody>\n",
       "</table>\n",
       "</div>"
      ],
      "text/plain": [
       "    nombre_variable    scores\n",
       "33               34  0.674578\n",
       "31               32  0.673415\n",
       "32               33  0.673245\n",
       "29               30  0.673218\n",
       "30               31  0.672887"
      ]
     },
     "execution_count": 12,
     "metadata": {},
     "output_type": "execute_result"
    }
   ],
   "source": [
    "nombre_variable = []\n",
    "scores = []\n",
    "\n",
    "for i in np.arange(1, len(importances_rf), 1):\n",
    "    liste_var = importances_rf.index[0 : i]\n",
    "    X_train_2 = X_train[liste_var]\n",
    "    X_test_2 = X_test[liste_var]\n",
    "\n",
    "    rf_2 = RandomForestClassifier(n_jobs = -1, random_state = 42).fit(X_train_2, y_train)\n",
    "\n",
    "    score = rf_2.score(X_test_2, y_test)\n",
    "    \n",
    "    nombre_variable.append(i)\n",
    "    scores.append(score)\n",
    " \n",
    "dico = {'nombre_variable' : nombre_variable,\n",
    "        'scores' : scores}   \n",
    "\n",
    "y_pred_tableau_rf = pd.DataFrame(dico)\n",
    "y_pred_tableau_rf = y_pred_tableau_rf.sort_values(by = 'scores', ascending = False)\n",
    "y_pred_tableau_rf.head(5)"
   ]
  },
  {
   "cell_type": "code",
   "execution_count": 13,
   "metadata": {},
   "outputs": [
    {
     "name": "stdout",
     "output_type": "stream",
     "text": [
      "La meilleur accuracy est obtenue avec 34.0 variables\n"
     ]
    }
   ],
   "source": [
    "nb_variable_rf = y_pred_tableau_rf.iloc[0]['nombre_variable']\n",
    "print(\"La meilleur accuracy est obtenue avec\", nb_variable_rf, 'variables')"
   ]
  },
  {
   "cell_type": "code",
   "execution_count": 14,
   "metadata": {},
   "outputs": [
    {
     "data": {
      "text/plain": [
       "Index(['lat', 'long', 'age_usager', 'heure', 'mois', 'eq_ceinture',\n",
       "       'nb_usagers_gr', 'place_rec', 'col', 'catv', 'obsm', 'catr',\n",
       "       'eq_casque', 'manv', 'lum', 'motor', 'sexe', 'agg', 'obs', 'infra',\n",
       "       'weekend', 'prox_pt_choc', 'jour_chome', 'circ', 'surf', 'int', 'prof',\n",
       "       'situ', 'eq_indetermine', 'plan', 'atm', 'eq_gants', 'eq_airbag',\n",
       "       'eq_autre'],\n",
       "      dtype='object', name='feature')"
      ]
     },
     "execution_count": 14,
     "metadata": {},
     "output_type": "execute_result"
    }
   ],
   "source": [
    "meilleurs_variables_rf = importances_rf.index[0 : int(nb_variable_rf)]\n",
    "meilleurs_variables_rf"
   ]
  },
  {
   "cell_type": "code",
   "execution_count": 15,
   "metadata": {},
   "outputs": [],
   "source": [
    "liste_var = importances_rf.index[0 : int(nb_variable_rf)]\n",
    "X_train_rf = X_train[liste_var]\n",
    "X_test_rf = X_test[liste_var]\n",
    "\n",
    "rf = RandomForestClassifier(n_jobs = -1, random_state = 42).fit(X_train_rf, y_train)"
   ]
  },
  {
   "cell_type": "code",
   "execution_count": 16,
   "metadata": {},
   "outputs": [
    {
     "name": "stdout",
     "output_type": "stream",
     "text": [
      "Train acuracy : 99.89 %\n",
      "Test acuracy :  67.46 %\n",
      "\n",
      "Matrice de confusion :\n"
     ]
    },
    {
     "data": {
      "text/html": [
       "<div>\n",
       "<style scoped>\n",
       "    .dataframe tbody tr th:only-of-type {\n",
       "        vertical-align: middle;\n",
       "    }\n",
       "\n",
       "    .dataframe tbody tr th {\n",
       "        vertical-align: top;\n",
       "    }\n",
       "\n",
       "    .dataframe thead th {\n",
       "        text-align: right;\n",
       "    }\n",
       "</style>\n",
       "<table border=\"1\" class=\"dataframe\">\n",
       "  <thead>\n",
       "    <tr style=\"text-align: right;\">\n",
       "      <th>Classes prédites</th>\n",
       "      <th>1</th>\n",
       "      <th>2</th>\n",
       "      <th>3</th>\n",
       "      <th>4</th>\n",
       "    </tr>\n",
       "    <tr>\n",
       "      <th>Classes réelles</th>\n",
       "      <th></th>\n",
       "      <th></th>\n",
       "      <th></th>\n",
       "      <th></th>\n",
       "    </tr>\n",
       "  </thead>\n",
       "  <tbody>\n",
       "    <tr>\n",
       "      <th>1</th>\n",
       "      <td>38463</td>\n",
       "      <td>16</td>\n",
       "      <td>906</td>\n",
       "      <td>6752</td>\n",
       "    </tr>\n",
       "    <tr>\n",
       "      <th>2</th>\n",
       "      <td>396</td>\n",
       "      <td>170</td>\n",
       "      <td>1569</td>\n",
       "      <td>915</td>\n",
       "    </tr>\n",
       "    <tr>\n",
       "      <th>3</th>\n",
       "      <td>2496</td>\n",
       "      <td>156</td>\n",
       "      <td>6958</td>\n",
       "      <td>7890</td>\n",
       "    </tr>\n",
       "    <tr>\n",
       "      <th>4</th>\n",
       "      <td>11643</td>\n",
       "      <td>60</td>\n",
       "      <td>3578</td>\n",
       "      <td>29816</td>\n",
       "    </tr>\n",
       "  </tbody>\n",
       "</table>\n",
       "</div>"
      ],
      "text/plain": [
       "Classes prédites      1    2     3      4\n",
       "Classes réelles                          \n",
       "1                 38463   16   906   6752\n",
       "2                   396  170  1569    915\n",
       "3                  2496  156  6958   7890\n",
       "4                 11643   60  3578  29816"
      ]
     },
     "metadata": {},
     "output_type": "display_data"
    },
    {
     "name": "stdout",
     "output_type": "stream",
     "text": [
      "\n",
      "Rapport de classification :\n",
      "               precision    recall  f1-score   support\n",
      "\n",
      "           1       0.73      0.83      0.78     46137\n",
      "           2       0.42      0.06      0.10      3050\n",
      "           3       0.53      0.40      0.46     17500\n",
      "           4       0.66      0.66      0.66     45097\n",
      "\n",
      "    accuracy                           0.67    111784\n",
      "   macro avg       0.59      0.49      0.50    111784\n",
      "weighted avg       0.66      0.67      0.66    111784\n",
      "\n"
     ]
    }
   ],
   "source": [
    "print(\"Train acuracy :\", np.round(rf.score(X_train_rf, y_train) * 100, 2), \"%\")\n",
    "print(\"Test acuracy : \", np.round(rf.score(X_test_rf, y_test) * 100, 2), \"%\")\n",
    "print()\n",
    "y_pred = rf.predict(X_test_rf)\n",
    "print(\"Matrice de confusion :\")\n",
    "display(pd.crosstab(y_test, y_pred, rownames = ['Classes réelles'], colnames = ['Classes prédites']))\n",
    "print()\n",
    "print(\"Rapport de classification :\\n\", classification_report(y_test, y_pred))"
   ]
  },
  {
   "cell_type": "markdown",
   "metadata": {},
   "source": [
    "### Hyperparamétrage"
   ]
  },
  {
   "cell_type": "code",
   "execution_count": 17,
   "metadata": {},
   "outputs": [],
   "source": [
    "liste_var_rf = ['lat', 'long', 'age_usager', 'heure', 'mois', 'eq_ceinture',\n",
    "       'nb_usagers_gr', 'place_rec', 'col', 'catv', 'obsm', 'catr',\n",
    "       'eq_casque', 'manv', 'lum', 'motor', 'sexe', 'agg', 'obs', 'infra',\n",
    "       'weekend', 'prox_pt_choc', 'jour_chome', 'circ', 'surf', 'int', 'prof',\n",
    "       'situ', 'eq_indetermine', 'plan', 'atm', 'eq_gants', 'eq_airbag',\n",
    "       'eq_autre']\n",
    "X_train_rf = X_train[liste_var_rf]\n",
    "X_test_rf = X_test[liste_var_rf]\n",
    "\n",
    "rf = RandomForestClassifier(n_jobs = -1, random_state = 42).fit(X_train_rf, y_train)"
   ]
  },
  {
   "cell_type": "markdown",
   "metadata": {},
   "source": [
    "##### Avec class_weight = None"
   ]
  },
  {
   "cell_type": "code",
   "execution_count": 18,
   "metadata": {},
   "outputs": [],
   "source": [
    "params_rf = {'n_estimators' : [100],\n",
    "             'criterion' : ['gini', 'entropy'],\n",
    "             'max_depth' : [10, 20, None],\n",
    "             'min_samples_split' : [2, 10, 20],\n",
    "             'min_samples_leaf' : [1, 10, 20],\n",
    "             'bootstrap' : [False, True],\n",
    "             'n_jobs' : [-1],\n",
    "             'random_state' : [42],\n",
    "             'class_weight' : [None]}     "
   ]
  },
  {
   "cell_type": "code",
   "execution_count": 19,
   "metadata": {},
   "outputs": [
    {
     "name": "stdout",
     "output_type": "stream",
     "text": [
      "                                                params  mean_test_score\n",
      "0    {'bootstrap': False, 'class_weight': None, 'cr...         0.646112\n",
      "1    {'bootstrap': False, 'class_weight': None, 'cr...         0.645796\n",
      "2    {'bootstrap': False, 'class_weight': None, 'cr...         0.646002\n",
      "3    {'bootstrap': False, 'class_weight': None, 'cr...         0.645850\n",
      "4    {'bootstrap': False, 'class_weight': None, 'cr...         0.645850\n",
      "..                                                 ...              ...\n",
      "103  {'bootstrap': True, 'class_weight': None, 'cri...         0.668301\n",
      "104  {'bootstrap': True, 'class_weight': None, 'cri...         0.668301\n",
      "105  {'bootstrap': True, 'class_weight': None, 'cri...         0.664385\n",
      "106  {'bootstrap': True, 'class_weight': None, 'cri...         0.664385\n",
      "107  {'bootstrap': True, 'class_weight': None, 'cri...         0.664385\n",
      "\n",
      "[108 rows x 2 columns]\n"
     ]
    }
   ],
   "source": [
    "grid_rf = GridSearchCV(estimator = rf, param_grid = params_rf, cv = 5).fit(X_train_rf, y_train)\n",
    "print(pd.DataFrame.from_dict(grid_rf.cv_results_).loc[:, ['params', 'mean_test_score']])"
   ]
  },
  {
   "cell_type": "code",
   "execution_count": 20,
   "metadata": {},
   "outputs": [
    {
     "name": "stdout",
     "output_type": "stream",
     "text": [
      "{'bootstrap': False, 'class_weight': None, 'criterion': 'gini', 'max_depth': None, 'min_samples_leaf': 1, 'min_samples_split': 20, 'n_estimators': 100, 'n_jobs': -1, 'random_state': 42}\n",
      "0.6748640303922151\n"
     ]
    }
   ],
   "source": [
    "print(grid_rf.best_params_)\n",
    "print(grid_rf.best_score_)"
   ]
  },
  {
   "cell_type": "code",
   "execution_count": 21,
   "metadata": {},
   "outputs": [
    {
     "name": "stdout",
     "output_type": "stream",
     "text": [
      "Train acuracy : 89.23 %\n",
      "Test acuracy :  67.76 %\n",
      "\n",
      "Matrice de confusion :\n"
     ]
    },
    {
     "data": {
      "text/html": [
       "<div>\n",
       "<style scoped>\n",
       "    .dataframe tbody tr th:only-of-type {\n",
       "        vertical-align: middle;\n",
       "    }\n",
       "\n",
       "    .dataframe tbody tr th {\n",
       "        vertical-align: top;\n",
       "    }\n",
       "\n",
       "    .dataframe thead th {\n",
       "        text-align: right;\n",
       "    }\n",
       "</style>\n",
       "<table border=\"1\" class=\"dataframe\">\n",
       "  <thead>\n",
       "    <tr style=\"text-align: right;\">\n",
       "      <th>Classes prédites</th>\n",
       "      <th>1</th>\n",
       "      <th>2</th>\n",
       "      <th>3</th>\n",
       "      <th>4</th>\n",
       "    </tr>\n",
       "    <tr>\n",
       "      <th>Classes réelles</th>\n",
       "      <th></th>\n",
       "      <th></th>\n",
       "      <th></th>\n",
       "      <th></th>\n",
       "    </tr>\n",
       "  </thead>\n",
       "  <tbody>\n",
       "    <tr>\n",
       "      <th>1</th>\n",
       "      <td>38754</td>\n",
       "      <td>2</td>\n",
       "      <td>715</td>\n",
       "      <td>6666</td>\n",
       "    </tr>\n",
       "    <tr>\n",
       "      <th>2</th>\n",
       "      <td>407</td>\n",
       "      <td>95</td>\n",
       "      <td>1578</td>\n",
       "      <td>970</td>\n",
       "    </tr>\n",
       "    <tr>\n",
       "      <th>3</th>\n",
       "      <td>2437</td>\n",
       "      <td>64</td>\n",
       "      <td>6834</td>\n",
       "      <td>8165</td>\n",
       "    </tr>\n",
       "    <tr>\n",
       "      <th>4</th>\n",
       "      <td>11699</td>\n",
       "      <td>13</td>\n",
       "      <td>3320</td>\n",
       "      <td>30065</td>\n",
       "    </tr>\n",
       "  </tbody>\n",
       "</table>\n",
       "</div>"
      ],
      "text/plain": [
       "Classes prédites      1   2     3      4\n",
       "Classes réelles                         \n",
       "1                 38754   2   715   6666\n",
       "2                   407  95  1578    970\n",
       "3                  2437  64  6834   8165\n",
       "4                 11699  13  3320  30065"
      ]
     },
     "metadata": {},
     "output_type": "display_data"
    },
    {
     "name": "stdout",
     "output_type": "stream",
     "text": [
      "\n",
      "Rapport de classification :\n",
      "               precision    recall  f1-score   support\n",
      "\n",
      "           1       0.73      0.84      0.78     46137\n",
      "           2       0.55      0.03      0.06      3050\n",
      "           3       0.55      0.39      0.46     17500\n",
      "           4       0.66      0.67      0.66     45097\n",
      "\n",
      "    accuracy                           0.68    111784\n",
      "   macro avg       0.62      0.48      0.49    111784\n",
      "weighted avg       0.67      0.68      0.66    111784\n",
      "\n"
     ]
    }
   ],
   "source": [
    "print(\"Train acuracy :\", np.round(grid_rf.score(X_train_rf, y_train) * 100, 2), \"%\")\n",
    "print(\"Test acuracy : \", np.round(grid_rf.score(X_test_rf, y_test) * 100, 2), \"%\")\n",
    "print()\n",
    "y_pred = grid_rf.predict(X_test_rf)\n",
    "print(\"Matrice de confusion :\")\n",
    "display(pd.crosstab(y_test, y_pred, rownames = ['Classes réelles'], colnames = ['Classes prédites']))\n",
    "print()\n",
    "print(\"Rapport de classification :\\n\", classification_report(y_test, y_pred))"
   ]
  },
  {
   "cell_type": "markdown",
   "metadata": {},
   "source": [
    "Recherche du meilleur max_depth"
   ]
  },
  {
   "cell_type": "code",
   "execution_count": 48,
   "metadata": {},
   "outputs": [],
   "source": [
    "params_rf = {'n_estimators' : [100],\n",
    "             'criterion' : ['gini'],\n",
    "             'max_depth' : [16],\n",
    "             'min_samples_split' : [20],\n",
    "             'min_samples_leaf' : [1],\n",
    "             'bootstrap' : [False],\n",
    "             'n_jobs' : [-1],\n",
    "             'random_state' : [42],\n",
    "             'class_weight' : [None]}        \n",
    "\n",
    "grid_rf_2 = GridSearchCV(estimator = rf, param_grid = params_rf, cv = 5, scoring = 'f1_macro').fit(X_train_rf, y_train)"
   ]
  },
  {
   "cell_type": "code",
   "execution_count": 49,
   "metadata": {},
   "outputs": [
    {
     "name": "stdout",
     "output_type": "stream",
     "text": [
      "{'bootstrap': False, 'class_weight': None, 'criterion': 'gini', 'max_depth': 16, 'min_samples_leaf': 1, 'min_samples_split': 20, 'n_estimators': 100, 'n_jobs': -1, 'random_state': 42}\n",
      "0.471387200432968\n"
     ]
    }
   ],
   "source": [
    "print(grid_rf_2.best_params_)\n",
    "print(grid_rf_2.best_score_)"
   ]
  },
  {
   "cell_type": "code",
   "execution_count": 50,
   "metadata": {},
   "outputs": [
    {
     "name": "stdout",
     "output_type": "stream",
     "text": [
      "Train acuracy : 73.54 %\n",
      "Test acuracy :  67.07 %\n",
      "\n",
      "Matrice de confusion :\n"
     ]
    },
    {
     "data": {
      "text/html": [
       "<div>\n",
       "<style scoped>\n",
       "    .dataframe tbody tr th:only-of-type {\n",
       "        vertical-align: middle;\n",
       "    }\n",
       "\n",
       "    .dataframe tbody tr th {\n",
       "        vertical-align: top;\n",
       "    }\n",
       "\n",
       "    .dataframe thead th {\n",
       "        text-align: right;\n",
       "    }\n",
       "</style>\n",
       "<table border=\"1\" class=\"dataframe\">\n",
       "  <thead>\n",
       "    <tr style=\"text-align: right;\">\n",
       "      <th>Classes prédites</th>\n",
       "      <th>1</th>\n",
       "      <th>2</th>\n",
       "      <th>3</th>\n",
       "      <th>4</th>\n",
       "    </tr>\n",
       "    <tr>\n",
       "      <th>Classes réelles</th>\n",
       "      <th></th>\n",
       "      <th></th>\n",
       "      <th></th>\n",
       "      <th></th>\n",
       "    </tr>\n",
       "  </thead>\n",
       "  <tbody>\n",
       "    <tr>\n",
       "      <th>1</th>\n",
       "      <td>40064</td>\n",
       "      <td>1</td>\n",
       "      <td>495</td>\n",
       "      <td>5577</td>\n",
       "    </tr>\n",
       "    <tr>\n",
       "      <th>2</th>\n",
       "      <td>521</td>\n",
       "      <td>59</td>\n",
       "      <td>1468</td>\n",
       "      <td>1002</td>\n",
       "    </tr>\n",
       "    <tr>\n",
       "      <th>3</th>\n",
       "      <td>2892</td>\n",
       "      <td>30</td>\n",
       "      <td>6036</td>\n",
       "      <td>8542</td>\n",
       "    </tr>\n",
       "    <tr>\n",
       "      <th>4</th>\n",
       "      <td>13561</td>\n",
       "      <td>6</td>\n",
       "      <td>2711</td>\n",
       "      <td>28819</td>\n",
       "    </tr>\n",
       "  </tbody>\n",
       "</table>\n",
       "</div>"
      ],
      "text/plain": [
       "Classes prédites      1   2     3      4\n",
       "Classes réelles                         \n",
       "1                 40064   1   495   5577\n",
       "2                   521  59  1468   1002\n",
       "3                  2892  30  6036   8542\n",
       "4                 13561   6  2711  28819"
      ]
     },
     "metadata": {},
     "output_type": "display_data"
    },
    {
     "name": "stdout",
     "output_type": "stream",
     "text": [
      "\n",
      "Rapport de classification :\n",
      "               precision    recall  f1-score   support\n",
      "\n",
      "           1       0.70      0.87      0.78     46137\n",
      "           2       0.61      0.02      0.04      3050\n",
      "           3       0.56      0.34      0.43     17500\n",
      "           4       0.66      0.64      0.65     45097\n",
      "\n",
      "    accuracy                           0.67    111784\n",
      "   macro avg       0.63      0.47      0.47    111784\n",
      "weighted avg       0.66      0.67      0.65    111784\n",
      "\n"
     ]
    }
   ],
   "source": [
    "y_train_pred = grid_rf_2.predict(X_train_rf)\n",
    "y_test_pred = grid_rf_2.predict(X_test_rf)\n",
    "print(\"Train acuracy :\", np.round(accuracy_score(y_train, y_train_pred) * 100, 2), \"%\")\n",
    "print(\"Test acuracy : \", np.round(accuracy_score(y_test, y_test_pred) * 100, 2), \"%\")\n",
    "print()\n",
    "\n",
    "print(\"Matrice de confusion :\")\n",
    "display(pd.crosstab(y_test, y_test_pred, rownames = ['Classes réelles'], colnames = ['Classes prédites']))\n",
    "print()\n",
    "print(\"Rapport de classification :\\n\", classification_report(y_test, y_test_pred))"
   ]
  },
  {
   "cell_type": "markdown",
   "metadata": {},
   "source": [
    "##### Avec class_weight = 'balanced'"
   ]
  },
  {
   "cell_type": "code",
   "execution_count": 22,
   "metadata": {},
   "outputs": [],
   "source": [
    "params_rf = {'n_estimators' : [100],\n",
    "            'criterion' : ['gini', 'entropy'],\n",
    "            'max_depth' : [10, 20, None],\n",
    "            'min_samples_split' : [2, 10, 20],\n",
    "            'min_samples_leaf' : [1, 10, 20],\n",
    "            'bootstrap' : [False, True],\n",
    "            'n_jobs' : [-1],\n",
    "            'random_state' : [42],\n",
    "            'class_weight' : ['balanced']}    "
   ]
  },
  {
   "cell_type": "code",
   "execution_count": 23,
   "metadata": {},
   "outputs": [
    {
     "name": "stdout",
     "output_type": "stream",
     "text": [
      "                                                params  mean_test_score\n",
      "0    {'bootstrap': False, 'class_weight': 'balanced...         0.581810\n",
      "1    {'bootstrap': False, 'class_weight': 'balanced...         0.581422\n",
      "2    {'bootstrap': False, 'class_weight': 'balanced...         0.581216\n",
      "3    {'bootstrap': False, 'class_weight': 'balanced...         0.580915\n",
      "4    {'bootstrap': False, 'class_weight': 'balanced...         0.580915\n",
      "..                                                 ...              ...\n",
      "103  {'bootstrap': True, 'class_weight': 'balanced'...         0.637584\n",
      "104  {'bootstrap': True, 'class_weight': 'balanced'...         0.637584\n",
      "105  {'bootstrap': True, 'class_weight': 'balanced'...         0.620956\n",
      "106  {'bootstrap': True, 'class_weight': 'balanced'...         0.620956\n",
      "107  {'bootstrap': True, 'class_weight': 'balanced'...         0.620956\n",
      "\n",
      "[108 rows x 2 columns]\n"
     ]
    }
   ],
   "source": [
    "grid_rf = GridSearchCV(estimator = rf, param_grid = params_rf, cv = 5).fit(X_train_rf, y_train)\n",
    "print(pd.DataFrame.from_dict(grid_rf.cv_results_).loc[:, ['params', 'mean_test_score']])"
   ]
  },
  {
   "cell_type": "code",
   "execution_count": 24,
   "metadata": {},
   "outputs": [
    {
     "name": "stdout",
     "output_type": "stream",
     "text": [
      "{'bootstrap': True, 'class_weight': 'balanced', 'criterion': 'entropy', 'max_depth': None, 'min_samples_leaf': 1, 'min_samples_split': 2, 'n_estimators': 100, 'n_jobs': -1, 'random_state': 42}\n",
      "0.6696724706832871\n"
     ]
    }
   ],
   "source": [
    "print(grid_rf.best_params_)\n",
    "print(grid_rf.best_score_)"
   ]
  },
  {
   "cell_type": "code",
   "execution_count": 25,
   "metadata": {},
   "outputs": [
    {
     "name": "stdout",
     "output_type": "stream",
     "text": [
      "Train acuracy : 99.89 %\n",
      "Test acuracy :  67.33 %\n",
      "\n",
      "Matrice de confusion :\n"
     ]
    },
    {
     "data": {
      "text/html": [
       "<div>\n",
       "<style scoped>\n",
       "    .dataframe tbody tr th:only-of-type {\n",
       "        vertical-align: middle;\n",
       "    }\n",
       "\n",
       "    .dataframe tbody tr th {\n",
       "        vertical-align: top;\n",
       "    }\n",
       "\n",
       "    .dataframe thead th {\n",
       "        text-align: right;\n",
       "    }\n",
       "</style>\n",
       "<table border=\"1\" class=\"dataframe\">\n",
       "  <thead>\n",
       "    <tr style=\"text-align: right;\">\n",
       "      <th>Classes prédites</th>\n",
       "      <th>1</th>\n",
       "      <th>2</th>\n",
       "      <th>3</th>\n",
       "      <th>4</th>\n",
       "    </tr>\n",
       "    <tr>\n",
       "      <th>Classes réelles</th>\n",
       "      <th></th>\n",
       "      <th></th>\n",
       "      <th></th>\n",
       "      <th></th>\n",
       "    </tr>\n",
       "  </thead>\n",
       "  <tbody>\n",
       "    <tr>\n",
       "      <th>1</th>\n",
       "      <td>38791</td>\n",
       "      <td>25</td>\n",
       "      <td>902</td>\n",
       "      <td>6419</td>\n",
       "    </tr>\n",
       "    <tr>\n",
       "      <th>2</th>\n",
       "      <td>415</td>\n",
       "      <td>193</td>\n",
       "      <td>1514</td>\n",
       "      <td>928</td>\n",
       "    </tr>\n",
       "    <tr>\n",
       "      <th>3</th>\n",
       "      <td>2570</td>\n",
       "      <td>188</td>\n",
       "      <td>6714</td>\n",
       "      <td>8028</td>\n",
       "    </tr>\n",
       "    <tr>\n",
       "      <th>4</th>\n",
       "      <td>12029</td>\n",
       "      <td>76</td>\n",
       "      <td>3424</td>\n",
       "      <td>29568</td>\n",
       "    </tr>\n",
       "  </tbody>\n",
       "</table>\n",
       "</div>"
      ],
      "text/plain": [
       "Classes prédites      1    2     3      4\n",
       "Classes réelles                          \n",
       "1                 38791   25   902   6419\n",
       "2                   415  193  1514    928\n",
       "3                  2570  188  6714   8028\n",
       "4                 12029   76  3424  29568"
      ]
     },
     "metadata": {},
     "output_type": "display_data"
    },
    {
     "name": "stdout",
     "output_type": "stream",
     "text": [
      "\n",
      "Rapport de classification :\n",
      "               precision    recall  f1-score   support\n",
      "\n",
      "           1       0.72      0.84      0.78     46137\n",
      "           2       0.40      0.06      0.11      3050\n",
      "           3       0.53      0.38      0.45     17500\n",
      "           4       0.66      0.66      0.66     45097\n",
      "\n",
      "    accuracy                           0.67    111784\n",
      "   macro avg       0.58      0.49      0.50    111784\n",
      "weighted avg       0.66      0.67      0.66    111784\n",
      "\n"
     ]
    }
   ],
   "source": [
    "print(\"Train acuracy :\", np.round(grid_rf.score(X_train_rf, y_train) * 100, 2), \"%\")\n",
    "print(\"Test acuracy : \", np.round(grid_rf.score(X_test_rf, y_test) * 100, 2), \"%\")\n",
    "print()\n",
    "y_pred = grid_rf.predict(X_test_rf)\n",
    "print(\"Matrice de confusion :\")\n",
    "display(pd.crosstab(y_test, y_pred, rownames = ['Classes réelles'], colnames = ['Classes prédites']))\n",
    "print()\n",
    "print(\"Rapport de classification :\\n\", classification_report(y_test, y_pred))"
   ]
  },
  {
   "cell_type": "markdown",
   "metadata": {},
   "source": [
    "Recherche du meilleur max_depth"
   ]
  },
  {
   "cell_type": "code",
   "execution_count": 51,
   "metadata": {},
   "outputs": [],
   "source": [
    "params_rf = {'n_estimators' : [100],\n",
    "            'criterion' : ['entropy'],\n",
    "            'max_depth' : [14],\n",
    "            'min_samples_split' : [2],\n",
    "            'min_samples_leaf' : [1],\n",
    "            'bootstrap' : [True],\n",
    "            'n_jobs' : [-1],\n",
    "            'random_state' : [42],\n",
    "            'class_weight' : ['balanced']}   \n",
    "\n",
    "grid_rf_2 = GridSearchCV(estimator = rf, param_grid = params_rf, cv = 5, scoring = 'f1_macro').fit(X_train_rf, y_train)"
   ]
  },
  {
   "cell_type": "code",
   "execution_count": 52,
   "metadata": {},
   "outputs": [
    {
     "name": "stdout",
     "output_type": "stream",
     "text": [
      "{'bootstrap': True, 'class_weight': 'balanced', 'criterion': 'entropy', 'max_depth': 14, 'min_samples_leaf': 1, 'min_samples_split': 2, 'n_estimators': 100, 'n_jobs': -1, 'random_state': 42}\n",
      "0.5131380768451668\n"
     ]
    }
   ],
   "source": [
    "print(grid_rf_2.best_params_)\n",
    "print(grid_rf_2.best_score_)"
   ]
  },
  {
   "cell_type": "code",
   "execution_count": 53,
   "metadata": {},
   "outputs": [
    {
     "name": "stdout",
     "output_type": "stream",
     "text": [
      "Train acuracy : 68.69 %\n",
      "Test acuracy :  62.71 %\n",
      "\n",
      "Matrice de confusion :\n"
     ]
    },
    {
     "data": {
      "text/html": [
       "<div>\n",
       "<style scoped>\n",
       "    .dataframe tbody tr th:only-of-type {\n",
       "        vertical-align: middle;\n",
       "    }\n",
       "\n",
       "    .dataframe tbody tr th {\n",
       "        vertical-align: top;\n",
       "    }\n",
       "\n",
       "    .dataframe thead th {\n",
       "        text-align: right;\n",
       "    }\n",
       "</style>\n",
       "<table border=\"1\" class=\"dataframe\">\n",
       "  <thead>\n",
       "    <tr style=\"text-align: right;\">\n",
       "      <th>Classes prédites</th>\n",
       "      <th>1</th>\n",
       "      <th>2</th>\n",
       "      <th>3</th>\n",
       "      <th>4</th>\n",
       "    </tr>\n",
       "    <tr>\n",
       "      <th>Classes réelles</th>\n",
       "      <th></th>\n",
       "      <th></th>\n",
       "      <th></th>\n",
       "      <th></th>\n",
       "    </tr>\n",
       "  </thead>\n",
       "  <tbody>\n",
       "    <tr>\n",
       "      <th>1</th>\n",
       "      <td>39567</td>\n",
       "      <td>904</td>\n",
       "      <td>2394</td>\n",
       "      <td>3272</td>\n",
       "    </tr>\n",
       "    <tr>\n",
       "      <th>2</th>\n",
       "      <td>274</td>\n",
       "      <td>1297</td>\n",
       "      <td>1184</td>\n",
       "      <td>295</td>\n",
       "    </tr>\n",
       "    <tr>\n",
       "      <th>3</th>\n",
       "      <td>2195</td>\n",
       "      <td>2849</td>\n",
       "      <td>9127</td>\n",
       "      <td>3329</td>\n",
       "    </tr>\n",
       "    <tr>\n",
       "      <th>4</th>\n",
       "      <td>14308</td>\n",
       "      <td>1602</td>\n",
       "      <td>9081</td>\n",
       "      <td>20106</td>\n",
       "    </tr>\n",
       "  </tbody>\n",
       "</table>\n",
       "</div>"
      ],
      "text/plain": [
       "Classes prédites      1     2     3      4\n",
       "Classes réelles                           \n",
       "1                 39567   904  2394   3272\n",
       "2                   274  1297  1184    295\n",
       "3                  2195  2849  9127   3329\n",
       "4                 14308  1602  9081  20106"
      ]
     },
     "metadata": {},
     "output_type": "display_data"
    },
    {
     "name": "stdout",
     "output_type": "stream",
     "text": [
      "\n",
      "Rapport de classification :\n",
      "               precision    recall  f1-score   support\n",
      "\n",
      "           1       0.70      0.86      0.77     46137\n",
      "           2       0.19      0.43      0.27      3050\n",
      "           3       0.42      0.52      0.46     17500\n",
      "           4       0.74      0.45      0.56     45097\n",
      "\n",
      "    accuracy                           0.63    111784\n",
      "   macro avg       0.52      0.56      0.52    111784\n",
      "weighted avg       0.66      0.63      0.62    111784\n",
      "\n"
     ]
    }
   ],
   "source": [
    "y_train_pred = grid_rf_2.predict(X_train_rf)\n",
    "y_test_pred = grid_rf_2.predict(X_test_rf)\n",
    "print(\"Train acuracy :\", np.round(accuracy_score(y_train, y_train_pred) * 100, 2), \"%\")\n",
    "print(\"Test acuracy : \", np.round(accuracy_score(y_test, y_test_pred) * 100, 2), \"%\")\n",
    "print()\n",
    "\n",
    "print(\"Matrice de confusion :\")\n",
    "display(pd.crosstab(y_test, y_test_pred, rownames = ['Classes réelles'], colnames = ['Classes prédites']))\n",
    "print()\n",
    "print(\"Rapport de classification :\\n\", classification_report(y_test, y_test_pred))"
   ]
  },
  {
   "cell_type": "markdown",
   "metadata": {},
   "source": [
    "##### Recherche du meilleur class_weight"
   ]
  },
  {
   "cell_type": "code",
   "execution_count": 26,
   "metadata": {},
   "outputs": [],
   "source": [
    "params_rf = {'n_estimators' : [100],\n",
    "            'criterion' : ['gini', 'entropy'],\n",
    "            'max_depth' : [10, 20, None],\n",
    "            'min_samples_split' : [2, 10, 20],\n",
    "              'min_samples_leaf' : [1, 10, 20],\n",
    "            'bootstrap' : [False, True],\n",
    "            'n_jobs' : [-1],\n",
    "            'random_state' : [42],\n",
    "            'class_weight' : [{1: 1, 2: 4, 3: 1, 4: 1}]} "
   ]
  },
  {
   "cell_type": "code",
   "execution_count": 27,
   "metadata": {},
   "outputs": [
    {
     "name": "stdout",
     "output_type": "stream",
     "text": [
      "                                                params  mean_test_score\n",
      "0    {'bootstrap': False, 'class_weight': {1: 1, 2:...         0.637614\n",
      "1    {'bootstrap': False, 'class_weight': {1: 1, 2:...         0.637739\n",
      "2    {'bootstrap': False, 'class_weight': {1: 1, 2:...         0.637971\n",
      "3    {'bootstrap': False, 'class_weight': {1: 1, 2:...         0.637623\n",
      "4    {'bootstrap': False, 'class_weight': {1: 1, 2:...         0.637623\n",
      "..                                                 ...              ...\n",
      "103  {'bootstrap': True, 'class_weight': {1: 1, 2: ...         0.662122\n",
      "104  {'bootstrap': True, 'class_weight': {1: 1, 2: ...         0.662122\n",
      "105  {'bootstrap': True, 'class_weight': {1: 1, 2: ...         0.655890\n",
      "106  {'bootstrap': True, 'class_weight': {1: 1, 2: ...         0.655890\n",
      "107  {'bootstrap': True, 'class_weight': {1: 1, 2: ...         0.655890\n",
      "\n",
      "[108 rows x 2 columns]\n"
     ]
    }
   ],
   "source": [
    "grid_rf = GridSearchCV(estimator = rf, param_grid = params_rf, cv = 5).fit(X_train_rf, y_train)\n",
    "print(pd.DataFrame.from_dict(grid_rf.cv_results_).loc[:, ['params', 'mean_test_score']])"
   ]
  },
  {
   "cell_type": "code",
   "execution_count": 28,
   "metadata": {},
   "outputs": [
    {
     "name": "stdout",
     "output_type": "stream",
     "text": [
      "{'bootstrap': True, 'class_weight': {1: 1, 2: 4, 3: 1, 4: 1}, 'criterion': 'gini', 'max_depth': None, 'min_samples_leaf': 1, 'min_samples_split': 10, 'n_estimators': 100, 'n_jobs': -1, 'random_state': 42}\n",
      "0.6729854035542809\n"
     ]
    }
   ],
   "source": [
    "print(grid_rf.best_params_)\n",
    "print(grid_rf.best_score_)"
   ]
  },
  {
   "cell_type": "code",
   "execution_count": 29,
   "metadata": {},
   "outputs": [
    {
     "name": "stdout",
     "output_type": "stream",
     "text": [
      "Train acuracy : 90.4 %\n",
      "Test acuracy :  67.52 %\n",
      "\n",
      "Matrice de confusion :\n"
     ]
    },
    {
     "data": {
      "text/html": [
       "<div>\n",
       "<style scoped>\n",
       "    .dataframe tbody tr th:only-of-type {\n",
       "        vertical-align: middle;\n",
       "    }\n",
       "\n",
       "    .dataframe tbody tr th {\n",
       "        vertical-align: top;\n",
       "    }\n",
       "\n",
       "    .dataframe thead th {\n",
       "        text-align: right;\n",
       "    }\n",
       "</style>\n",
       "<table border=\"1\" class=\"dataframe\">\n",
       "  <thead>\n",
       "    <tr style=\"text-align: right;\">\n",
       "      <th>Classes prédites</th>\n",
       "      <th>1</th>\n",
       "      <th>2</th>\n",
       "      <th>3</th>\n",
       "      <th>4</th>\n",
       "    </tr>\n",
       "    <tr>\n",
       "      <th>Classes réelles</th>\n",
       "      <th></th>\n",
       "      <th></th>\n",
       "      <th></th>\n",
       "      <th></th>\n",
       "    </tr>\n",
       "  </thead>\n",
       "  <tbody>\n",
       "    <tr>\n",
       "      <th>1</th>\n",
       "      <td>38813</td>\n",
       "      <td>70</td>\n",
       "      <td>661</td>\n",
       "      <td>6593</td>\n",
       "    </tr>\n",
       "    <tr>\n",
       "      <th>2</th>\n",
       "      <td>393</td>\n",
       "      <td>435</td>\n",
       "      <td>1288</td>\n",
       "      <td>934</td>\n",
       "    </tr>\n",
       "    <tr>\n",
       "      <th>3</th>\n",
       "      <td>2479</td>\n",
       "      <td>565</td>\n",
       "      <td>6261</td>\n",
       "      <td>8195</td>\n",
       "    </tr>\n",
       "    <tr>\n",
       "      <th>4</th>\n",
       "      <td>11819</td>\n",
       "      <td>190</td>\n",
       "      <td>3124</td>\n",
       "      <td>29964</td>\n",
       "    </tr>\n",
       "  </tbody>\n",
       "</table>\n",
       "</div>"
      ],
      "text/plain": [
       "Classes prédites      1    2     3      4\n",
       "Classes réelles                          \n",
       "1                 38813   70   661   6593\n",
       "2                   393  435  1288    934\n",
       "3                  2479  565  6261   8195\n",
       "4                 11819  190  3124  29964"
      ]
     },
     "metadata": {},
     "output_type": "display_data"
    },
    {
     "name": "stdout",
     "output_type": "stream",
     "text": [
      "\n",
      "Rapport de classification :\n",
      "               precision    recall  f1-score   support\n",
      "\n",
      "           1       0.73      0.84      0.78     46137\n",
      "           2       0.35      0.14      0.20      3050\n",
      "           3       0.55      0.36      0.43     17500\n",
      "           4       0.66      0.66      0.66     45097\n",
      "\n",
      "    accuracy                           0.68    111784\n",
      "   macro avg       0.57      0.50      0.52    111784\n",
      "weighted avg       0.66      0.68      0.66    111784\n",
      "\n"
     ]
    }
   ],
   "source": [
    "print(\"Train acuracy :\", np.round(grid_rf.score(X_train_rf, y_train) * 100, 2), \"%\")\n",
    "print(\"Test acuracy : \", np.round(grid_rf.score(X_test_rf, y_test) * 100, 2), \"%\")\n",
    "print()\n",
    "y_pred = grid_rf.predict(X_test_rf)\n",
    "print(\"Matrice de confusion :\")\n",
    "display(pd.crosstab(y_test, y_pred, rownames = ['Classes réelles'], colnames = ['Classes prédites']))\n",
    "print()\n",
    "print(\"Rapport de classification :\\n\", classification_report(y_test, y_pred))"
   ]
  },
  {
   "cell_type": "markdown",
   "metadata": {},
   "source": [
    "Recherche du meilleur max_depth"
   ]
  },
  {
   "cell_type": "code",
   "execution_count": 57,
   "metadata": {},
   "outputs": [],
   "source": [
    "params_rf = {'n_estimators' : [100],\n",
    "            'criterion' : ['gini'],\n",
    "            'max_depth' : [14],\n",
    "            'min_samples_split' : [10],\n",
    "            'min_samples_leaf' : [1],\n",
    "            'bootstrap' : [True],\n",
    "            'n_jobs' : [-1],\n",
    "            'random_state' : [42],\n",
    "            'class_weight' : [{1: 1, 2: 4, 3: 1, 4: 1}]} \n",
    "\n",
    "grid_rf_2 = GridSearchCV(estimator = rf, param_grid = params_rf, cv = 5, scoring = 'f1_macro').fit(X_train_rf, y_train)"
   ]
  },
  {
   "cell_type": "code",
   "execution_count": 58,
   "metadata": {},
   "outputs": [
    {
     "name": "stdout",
     "output_type": "stream",
     "text": [
      "{'bootstrap': True, 'class_weight': {1: 1, 2: 4, 3: 1, 4: 1}, 'criterion': 'gini', 'max_depth': 14, 'min_samples_leaf': 1, 'min_samples_split': 10, 'n_estimators': 100, 'n_jobs': -1, 'random_state': 42}\n",
      "0.5034818238442927\n"
     ]
    }
   ],
   "source": [
    "print(grid_rf_2.best_params_)\n",
    "print(grid_rf_2.best_score_)"
   ]
  },
  {
   "cell_type": "code",
   "execution_count": 59,
   "metadata": {},
   "outputs": [
    {
     "name": "stdout",
     "output_type": "stream",
     "text": [
      "Train acuracy : 69.85 %\n",
      "Test acuracy :  65.72 %\n",
      "\n",
      "Matrice de confusion :\n"
     ]
    },
    {
     "data": {
      "text/html": [
       "<div>\n",
       "<style scoped>\n",
       "    .dataframe tbody tr th:only-of-type {\n",
       "        vertical-align: middle;\n",
       "    }\n",
       "\n",
       "    .dataframe tbody tr th {\n",
       "        vertical-align: top;\n",
       "    }\n",
       "\n",
       "    .dataframe thead th {\n",
       "        text-align: right;\n",
       "    }\n",
       "</style>\n",
       "<table border=\"1\" class=\"dataframe\">\n",
       "  <thead>\n",
       "    <tr style=\"text-align: right;\">\n",
       "      <th>Classes prédites</th>\n",
       "      <th>1</th>\n",
       "      <th>2</th>\n",
       "      <th>3</th>\n",
       "      <th>4</th>\n",
       "    </tr>\n",
       "    <tr>\n",
       "      <th>Classes réelles</th>\n",
       "      <th></th>\n",
       "      <th></th>\n",
       "      <th></th>\n",
       "      <th></th>\n",
       "    </tr>\n",
       "  </thead>\n",
       "  <tbody>\n",
       "    <tr>\n",
       "      <th>1</th>\n",
       "      <td>40360</td>\n",
       "      <td>120</td>\n",
       "      <td>327</td>\n",
       "      <td>5330</td>\n",
       "    </tr>\n",
       "    <tr>\n",
       "      <th>2</th>\n",
       "      <td>531</td>\n",
       "      <td>761</td>\n",
       "      <td>762</td>\n",
       "      <td>996</td>\n",
       "    </tr>\n",
       "    <tr>\n",
       "      <th>3</th>\n",
       "      <td>3084</td>\n",
       "      <td>1314</td>\n",
       "      <td>4226</td>\n",
       "      <td>8876</td>\n",
       "    </tr>\n",
       "    <tr>\n",
       "      <th>4</th>\n",
       "      <td>14507</td>\n",
       "      <td>453</td>\n",
       "      <td>2020</td>\n",
       "      <td>28117</td>\n",
       "    </tr>\n",
       "  </tbody>\n",
       "</table>\n",
       "</div>"
      ],
      "text/plain": [
       "Classes prédites      1     2     3      4\n",
       "Classes réelles                           \n",
       "1                 40360   120   327   5330\n",
       "2                   531   761   762    996\n",
       "3                  3084  1314  4226   8876\n",
       "4                 14507   453  2020  28117"
      ]
     },
     "metadata": {},
     "output_type": "display_data"
    },
    {
     "name": "stdout",
     "output_type": "stream",
     "text": [
      "\n",
      "Rapport de classification :\n",
      "               precision    recall  f1-score   support\n",
      "\n",
      "           1       0.69      0.87      0.77     46137\n",
      "           2       0.29      0.25      0.27      3050\n",
      "           3       0.58      0.24      0.34     17500\n",
      "           4       0.65      0.62      0.64     45097\n",
      "\n",
      "    accuracy                           0.66    111784\n",
      "   macro avg       0.55      0.50      0.50    111784\n",
      "weighted avg       0.64      0.66      0.64    111784\n",
      "\n"
     ]
    }
   ],
   "source": [
    "y_train_pred = grid_rf_2.predict(X_train_rf)\n",
    "y_test_pred = grid_rf_2.predict(X_test_rf)\n",
    "print(\"Train acuracy :\", np.round(accuracy_score(y_train, y_train_pred) * 100, 2), \"%\")\n",
    "print(\"Test acuracy : \", np.round(accuracy_score(y_test, y_test_pred) * 100, 2), \"%\")\n",
    "print()\n",
    "\n",
    "print(\"Matrice de confusion :\")\n",
    "display(pd.crosstab(y_test, y_test_pred, rownames = ['Classes réelles'], colnames = ['Classes prédites']))\n",
    "print()\n",
    "print(\"Rapport de classification :\\n\", classification_report(y_test, y_test_pred))"
   ]
  },
  {
   "cell_type": "markdown",
   "metadata": {},
   "source": [
    "# Meilleur modèle"
   ]
  },
  {
   "cell_type": "code",
   "execution_count": 63,
   "metadata": {},
   "outputs": [],
   "source": [
    "# Variables retenues lors de l'entraînement du modèle brut\n",
    "liste_var_rf = ['lat', 'long', 'age_usager', 'heure', 'mois', 'eq_ceinture',\n",
    "       'nb_usagers_gr', 'place_rec', 'col', 'catv', 'obsm', 'catr',\n",
    "       'eq_casque', 'manv', 'lum', 'motor', 'sexe', 'agg', 'obs', 'infra',\n",
    "       'weekend', 'prox_pt_choc', 'jour_chome', 'circ', 'surf', 'int', 'prof',\n",
    "       'situ', 'eq_indetermine', 'plan', 'atm', 'eq_gants', 'eq_airbag',\n",
    "       'eq_autre']\n",
    "X_train_rf = X_train[liste_var_rf]\n",
    "X_test_rf = X_test[liste_var_rf]"
   ]
  },
  {
   "cell_type": "code",
   "execution_count": 64,
   "metadata": {},
   "outputs": [
    {
     "name": "stdout",
     "output_type": "stream",
     "text": [
      "Train acuracy : 68.69 %\n",
      "Test acuracy :  62.71 %\n",
      "\n",
      "Matrice de confusion :\n"
     ]
    },
    {
     "data": {
      "text/html": [
       "<div>\n",
       "<style scoped>\n",
       "    .dataframe tbody tr th:only-of-type {\n",
       "        vertical-align: middle;\n",
       "    }\n",
       "\n",
       "    .dataframe tbody tr th {\n",
       "        vertical-align: top;\n",
       "    }\n",
       "\n",
       "    .dataframe thead th {\n",
       "        text-align: right;\n",
       "    }\n",
       "</style>\n",
       "<table border=\"1\" class=\"dataframe\">\n",
       "  <thead>\n",
       "    <tr style=\"text-align: right;\">\n",
       "      <th>Classes prédites</th>\n",
       "      <th>1</th>\n",
       "      <th>2</th>\n",
       "      <th>3</th>\n",
       "      <th>4</th>\n",
       "    </tr>\n",
       "    <tr>\n",
       "      <th>Classes réelles</th>\n",
       "      <th></th>\n",
       "      <th></th>\n",
       "      <th></th>\n",
       "      <th></th>\n",
       "    </tr>\n",
       "  </thead>\n",
       "  <tbody>\n",
       "    <tr>\n",
       "      <th>1</th>\n",
       "      <td>39567</td>\n",
       "      <td>904</td>\n",
       "      <td>2394</td>\n",
       "      <td>3272</td>\n",
       "    </tr>\n",
       "    <tr>\n",
       "      <th>2</th>\n",
       "      <td>274</td>\n",
       "      <td>1297</td>\n",
       "      <td>1184</td>\n",
       "      <td>295</td>\n",
       "    </tr>\n",
       "    <tr>\n",
       "      <th>3</th>\n",
       "      <td>2195</td>\n",
       "      <td>2849</td>\n",
       "      <td>9127</td>\n",
       "      <td>3329</td>\n",
       "    </tr>\n",
       "    <tr>\n",
       "      <th>4</th>\n",
       "      <td>14308</td>\n",
       "      <td>1602</td>\n",
       "      <td>9081</td>\n",
       "      <td>20106</td>\n",
       "    </tr>\n",
       "  </tbody>\n",
       "</table>\n",
       "</div>"
      ],
      "text/plain": [
       "Classes prédites      1     2     3      4\n",
       "Classes réelles                           \n",
       "1                 39567   904  2394   3272\n",
       "2                   274  1297  1184    295\n",
       "3                  2195  2849  9127   3329\n",
       "4                 14308  1602  9081  20106"
      ]
     },
     "metadata": {},
     "output_type": "display_data"
    },
    {
     "name": "stdout",
     "output_type": "stream",
     "text": [
      "\n",
      "Rapport de classification :\n",
      "               precision    recall  f1-score   support\n",
      "\n",
      "           1       0.70      0.86      0.77     46137\n",
      "           2       0.19      0.43      0.27      3050\n",
      "           3       0.42      0.52      0.46     17500\n",
      "           4       0.74      0.45      0.56     45097\n",
      "\n",
      "    accuracy                           0.63    111784\n",
      "   macro avg       0.52      0.56      0.52    111784\n",
      "weighted avg       0.66      0.63      0.62    111784\n",
      "\n"
     ]
    }
   ],
   "source": [
    "best_model = RandomForestClassifier(bootstrap = True, \n",
    "                                    class_weight = 'balanced', \n",
    "                                    criterion = 'entropy', \n",
    "                                    max_depth = 14, \n",
    "                                    min_samples_leaf = 1, \n",
    "                                    min_samples_split = 2, \n",
    "                                    n_estimators = 100, \n",
    "                                    n_jobs = -1, \n",
    "                                    random_state = 42).fit(X_train_rf, y_train)\n",
    "\n",
    "y_train_pred = best_model.predict(X_train_rf)\n",
    "y_test_pred = best_model.predict(X_test_rf)\n",
    "print(\"Train acuracy :\", np.round(accuracy_score(y_train, y_train_pred) * 100, 2), \"%\")\n",
    "print(\"Test acuracy : \", np.round(accuracy_score(y_test, y_test_pred) * 100, 2), \"%\")\n",
    "print()\n",
    "\n",
    "print(\"Matrice de confusion :\")\n",
    "display(pd.crosstab(y_test, y_test_pred, rownames = ['Classes réelles'], colnames = ['Classes prédites']))\n",
    "print()\n",
    "print(\"Rapport de classification :\\n\", classification_report(y_test, y_test_pred))"
   ]
  },
  {
   "cell_type": "markdown",
   "metadata": {},
   "source": [
    "# Réentrainement avec changement de l'ordre des modalités de 'grav' pour l'affichage streamlit"
   ]
  },
  {
   "cell_type": "code",
   "execution_count": 65,
   "metadata": {},
   "outputs": [
    {
     "data": {
      "text/plain": [
       "135492    4\n",
       "61030     4\n",
       "97417     4\n",
       "464936    3\n",
       "256701    4\n",
       "         ..\n",
       "181495    3\n",
       "453088    3\n",
       "164103    4\n",
       "172847    2\n",
       "463162    1\n",
       "Name: grav, Length: 335352, dtype: int64"
      ]
     },
     "execution_count": 65,
     "metadata": {},
     "output_type": "execute_result"
    }
   ],
   "source": [
    "y_train"
   ]
  },
  {
   "cell_type": "code",
   "execution_count": 66,
   "metadata": {},
   "outputs": [],
   "source": [
    "# Modification de l'odre des modalités de 'grav' : 0 - indemenes, 1 - blessés légers, 2 - blessés hospitalisés, 3 - tués\n",
    "y_train = y_train.replace([1, 2, 3, 4], ['ind', 'tue', 'bh', 'bl'])\n",
    "y_train = y_train.replace(['ind', 'tue', 'bh', 'bl'], [0, 3, 2, 1])\n",
    "\n",
    "y_test = y_test.replace([1, 2, 3, 4], ['ind', 'tue', 'bh', 'bl'])\n",
    "y_test = y_test.replace(['ind', 'tue', 'bh', 'bl'], [0, 3, 2, 1])"
   ]
  },
  {
   "cell_type": "code",
   "execution_count": 67,
   "metadata": {},
   "outputs": [
    {
     "data": {
      "text/plain": [
       "135492    1\n",
       "61030     1\n",
       "97417     1\n",
       "464936    2\n",
       "256701    1\n",
       "         ..\n",
       "181495    2\n",
       "453088    2\n",
       "164103    1\n",
       "172847    3\n",
       "463162    0\n",
       "Name: grav, Length: 335352, dtype: int64"
      ]
     },
     "execution_count": 67,
     "metadata": {},
     "output_type": "execute_result"
    }
   ],
   "source": [
    "y_train"
   ]
  },
  {
   "cell_type": "code",
   "execution_count": 17,
   "metadata": {},
   "outputs": [],
   "source": [
    "# Variables retenues lors de l'entraînement du modèle brut\n",
    "liste_var_rf = ['lat', 'long', 'age_usager', 'heure', 'mois', 'eq_ceinture',\n",
    "       'nb_usagers_gr', 'place_rec', 'col', 'catv', 'obsm', 'catr',\n",
    "       'eq_casque', 'manv', 'lum', 'motor', 'sexe', 'agg', 'obs', 'infra',\n",
    "       'weekend', 'prox_pt_choc', 'jour_chome', 'circ', 'surf', 'int', 'prof',\n",
    "       'situ', 'eq_indetermine', 'plan', 'atm', 'eq_gants', 'eq_airbag',\n",
    "       'eq_autre']\n",
    "X_train_rf = X_train[liste_var_rf]\n",
    "X_test_rf = X_test[liste_var_rf]"
   ]
  },
  {
   "cell_type": "code",
   "execution_count": 68,
   "metadata": {},
   "outputs": [
    {
     "name": "stdout",
     "output_type": "stream",
     "text": [
      "Train acuracy : 68.81 %\n",
      "Test acuracy :  62.72 %\n",
      "\n",
      "Matrice de confusion :\n"
     ]
    },
    {
     "data": {
      "text/html": [
       "<div>\n",
       "<style scoped>\n",
       "    .dataframe tbody tr th:only-of-type {\n",
       "        vertical-align: middle;\n",
       "    }\n",
       "\n",
       "    .dataframe tbody tr th {\n",
       "        vertical-align: top;\n",
       "    }\n",
       "\n",
       "    .dataframe thead th {\n",
       "        text-align: right;\n",
       "    }\n",
       "</style>\n",
       "<table border=\"1\" class=\"dataframe\">\n",
       "  <thead>\n",
       "    <tr style=\"text-align: right;\">\n",
       "      <th>Classes prédites</th>\n",
       "      <th>0</th>\n",
       "      <th>1</th>\n",
       "      <th>2</th>\n",
       "      <th>3</th>\n",
       "    </tr>\n",
       "    <tr>\n",
       "      <th>Classes réelles</th>\n",
       "      <th></th>\n",
       "      <th></th>\n",
       "      <th></th>\n",
       "      <th></th>\n",
       "    </tr>\n",
       "  </thead>\n",
       "  <tbody>\n",
       "    <tr>\n",
       "      <th>0</th>\n",
       "      <td>39539</td>\n",
       "      <td>3349</td>\n",
       "      <td>2359</td>\n",
       "      <td>890</td>\n",
       "    </tr>\n",
       "    <tr>\n",
       "      <th>1</th>\n",
       "      <td>14258</td>\n",
       "      <td>20230</td>\n",
       "      <td>9040</td>\n",
       "      <td>1569</td>\n",
       "    </tr>\n",
       "    <tr>\n",
       "      <th>2</th>\n",
       "      <td>2194</td>\n",
       "      <td>3383</td>\n",
       "      <td>9061</td>\n",
       "      <td>2862</td>\n",
       "    </tr>\n",
       "    <tr>\n",
       "      <th>3</th>\n",
       "      <td>273</td>\n",
       "      <td>303</td>\n",
       "      <td>1188</td>\n",
       "      <td>1286</td>\n",
       "    </tr>\n",
       "  </tbody>\n",
       "</table>\n",
       "</div>"
      ],
      "text/plain": [
       "Classes prédites      0      1     2     3\n",
       "Classes réelles                           \n",
       "0                 39539   3349  2359   890\n",
       "1                 14258  20230  9040  1569\n",
       "2                  2194   3383  9061  2862\n",
       "3                   273    303  1188  1286"
      ]
     },
     "metadata": {},
     "output_type": "display_data"
    },
    {
     "name": "stdout",
     "output_type": "stream",
     "text": [
      "\n",
      "Rapport de classification :\n",
      "               precision    recall  f1-score   support\n",
      "\n",
      "           0       0.70      0.86      0.77     46137\n",
      "           1       0.74      0.45      0.56     45097\n",
      "           2       0.42      0.52      0.46     17500\n",
      "           3       0.19      0.42      0.27      3050\n",
      "\n",
      "    accuracy                           0.63    111784\n",
      "   macro avg       0.51      0.56      0.52    111784\n",
      "weighted avg       0.66      0.63      0.62    111784\n",
      "\n"
     ]
    }
   ],
   "source": [
    "best_model = RandomForestClassifier(bootstrap = True, \n",
    "                                    class_weight = 'balanced', \n",
    "                                    criterion = 'entropy', \n",
    "                                    max_depth = 14, \n",
    "                                    min_samples_leaf = 1, \n",
    "                                    min_samples_split = 2, \n",
    "                                    n_estimators = 100, \n",
    "                                    n_jobs = -1, \n",
    "                                    random_state = 42).fit(X_train_rf, y_train)\n",
    "\n",
    "y_train_pred = best_model.predict(X_train_rf)\n",
    "y_test_pred = best_model.predict(X_test_rf)\n",
    "print(\"Train acuracy :\", np.round(accuracy_score(y_train, y_train_pred) * 100, 2), \"%\")\n",
    "print(\"Test acuracy : \", np.round(accuracy_score(y_test, y_test_pred) * 100, 2), \"%\")\n",
    "print()\n",
    "\n",
    "print(\"Matrice de confusion :\")\n",
    "display(pd.crosstab(y_test, y_test_pred, rownames = ['Classes réelles'], colnames = ['Classes prédites']))\n",
    "print()\n",
    "print(\"Rapport de classification :\\n\", classification_report(y_test, y_test_pred))"
   ]
  },
  {
   "cell_type": "code",
   "execution_count": 69,
   "metadata": {},
   "outputs": [
    {
     "data": {
      "text/plain": [
       "['../../../data/saved_models/RandomForest_4classes_nb_usagers_gr.joblib']"
      ]
     },
     "execution_count": 69,
     "metadata": {},
     "output_type": "execute_result"
    }
   ],
   "source": [
    "joblib.dump(best_model, \"../../../data/saved_models/RandomForest_4classes_nb_usagers_gr.joblib\")"
   ]
  }
 ],
 "metadata": {
  "kernelspec": {
   "display_name": "Projet",
   "language": "python",
   "name": "python3"
  },
  "language_info": {
   "codemirror_mode": {
    "name": "ipython",
    "version": 3
   },
   "file_extension": ".py",
   "mimetype": "text/x-python",
   "name": "python",
   "nbconvert_exporter": "python",
   "pygments_lexer": "ipython3",
   "version": "3.12.1"
  }
 },
 "nbformat": 4,
 "nbformat_minor": 2
}
