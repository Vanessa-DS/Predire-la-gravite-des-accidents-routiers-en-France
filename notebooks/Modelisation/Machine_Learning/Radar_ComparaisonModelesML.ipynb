{
 "cells": [
  {
   "cell_type": "code",
   "execution_count": 1,
   "metadata": {},
   "outputs": [],
   "source": [
    "import plotly.express as px\n",
    "import pandas as pd\n",
    "import plotly.graph_objects as go\n",
    "from plotly.subplots import make_subplots"
   ]
  },
  {
   "cell_type": "code",
   "execution_count": 2,
   "metadata": {},
   "outputs": [],
   "source": [
    "# Ajoutez un couple (clé + valeurs) dans les dictionnaires,\n",
    "# 1 dictionnaire par état de gravité\\n\",\n",
    "# # Ordre des valeurs dans le dictionnaire : ['Precision', \\\"Recall\\\",  \\\"Specificity\\\", \\\"F1-Score\\\",\\\"Index Balanced Accuracy\\\"]\\n\",\n",
    "\n",
    "r_indemnes = {'catboost' : [0.75, 0.79, 0.81, 0.76, 0.64],\n",
    "             'logreg' : [0.70, 0.82, 0.75, 0.76, 0.62],\n",
    "             'svmnys' : [0.69, 0.84, 0.74, 0.76, 0.62],\n",
    "             'decision_tree' : [0.71, 0.81, 0.76, 0.75, 0.62],\n",
    "             'random_forest' : [0.70, 0.85, 0.74, 0.77, 0.63],\n",
    "             'balanced_random_forest' : [0.72, 0.81, 0.78, 0.76, 0.64],\n",
    "             'KNN' :  [0.70, 0.78, 0.77, 0.74, 0.60],\n",
    "             'xgboost' : [0.71,0.79,0.77,0.75,0.62],\n",
    "             'deep_learning' : [0.75, 0.76, 0.82, 0.75, 0.62]}\n",
    "\n",
    "r_tues = {'catboost' : [0.16, 0.57, 0.91, 0.25, 0.5],\\\n",
    "          'logreg' : [0.16, 0.37, 0.94, 0.22, 0.33],\n",
    "          'svmnys' : [0.13, 0.48, 0.91, 0.21, 0.42],\n",
    "          'decision_tree' : [0.16, 0.38, 0.95, 0.23, 0.34],\n",
    "          'random_forest' : [0.17, 0.49, 0.93, 0.26, 0.44],\n",
    "          'balanced_random_forest' : [0.16, 0.54, 0.92, 0.24, 0.48],\n",
    "          'KNN' : [0.12,  0.58, 0.88, 0.20, 0.50],\n",
    "          'xgboost' : [0.12,0.63,0.88,0.21,0.54],\n",
    "          'deep_learning' : [0.13, 0.64, 0.88, 0.22, 0.55]}\n",
    "\n",
    "r_bgrav = {'catboost' : [0.41, 0.49, 0.87, 0.44, 0.41],\n",
    "           'logreg' : [0.44, 0.36, 0.92, 0.40, 0.31],\n",
    "           'svmnys' : [0.43, 0.32, 0.92, 0.36, 0.27],\n",
    "           'decision_tree' : [0.49, 0.25, 0.95, 0.33, 0.22],\n",
    "           'random_forest' : [0.41, 0.49, 0.87, 0.45, 0.41],\n",
    "           'balanced_random_forest' : [0.40, 0.49, 0.86, 0.44, 0.40],\n",
    "           'KNN' : [0.36, 0.36, 0.88, 0.36, 0.30],\n",
    "           'xgboost' : [0.38,0.41,0.88,0.39,0.34],\n",
    "           'deep_learning' : [0.36, 0.41, 0.87, 0.39, 0.34]}\n",
    "\n",
    "r_bleg = {'catboost' : [0.71, 0.49, 0.86, 0.58, 0.41],\n",
    "          'logreg' : [0.66, 0.54, 0.82, 0.59, 0.43],\n",
    "          'svmnys' : [0.68, 0.49, 0.85, 0.57, 0.40],\n",
    "          'decision_tree' : [0.64, 0.61, 0.77, 0.62, 0.46],\n",
    "          'random_forest' : [0.74, 0.42, 0.90, 0.54, 0.36],\n",
    "          'balanced_random_forest' : [0.72, 0.45, 0.88, 0.55, 0.38], \n",
    "          'KNN' : [0.68, 0.42, 0.86, 0.52, 0.35],\n",
    "          'xgboost' : [0.70,0.41,0.88,0.51,0.34],\n",
    "          'deep_learning' : [0.68, 0.46, 0.86, 0.55, 0.38]}"
   ]
  },
  {
   "cell_type": "code",
   "execution_count": 3,
   "metadata": {},
   "outputs": [],
   "source": [
    "# Ajoutez la dénomination qui devra apparaître dans la légende des graphiques.\\n\",\n",
    "# La clé correspond à la clé dans les dictionnaires précédemment définis\\n\",\n",
    "names = {'catboost' : 'CatBoost',\n",
    "         'logreg' : 'Régression logistique',\n",
    "         'svmnys' : \"SVM + Nystroem\",\n",
    "         'decision_tree' : \"Decision Tree\",\n",
    "        'random_forest' : 'Random Forest',\n",
    "        'balanced_random_forest' : \"Balanced Random Forest\",\n",
    "        'KNN' : 'K-nearest neighbors',\n",
    "        'xgboost' : 'XGBoost',\n",
    "        'deep_learning' : 'Deep Learning'}"
   ]
  },
  {
   "cell_type": "code",
   "execution_count": 6,
   "metadata": {},
   "outputs": [
    {
     "data": {
      "application/vnd.plotly.v1+json": {
       "config": {
        "plotlyServerURL": "https://plot.ly"
       },
       "data": [
        {
         "fill": "toself",
         "line": {
          "color": "rgb(31, 119, 180)"
         },
         "name": "Régression logistique",
         "opacity": 0.8,
         "r": [
          0.7,
          0.82,
          0.75,
          0.76,
          0.62
         ],
         "showlegend": false,
         "subplot": "polar",
         "theta": [
          "Precision",
          "Recall",
          "Specificity",
          "F1-Score",
          "Index Balanced Accuracy"
         ],
         "type": "scatterpolar"
        },
        {
         "fill": "toself",
         "line": {
          "color": "rgb(31, 119, 180)"
         },
         "name": "Régression logistique",
         "opacity": 0.8,
         "r": [
          0.66,
          0.54,
          0.82,
          0.59,
          0.43
         ],
         "showlegend": false,
         "subplot": "polar2",
         "theta": [
          "Precision",
          "Recall",
          "Specificity",
          "F1-Score",
          "Index Balanced Accuracy"
         ],
         "type": "scatterpolar"
        },
        {
         "fill": "toself",
         "line": {
          "color": "rgb(31, 119, 180)"
         },
         "name": "Régression logistique",
         "opacity": 0.8,
         "r": [
          0.44,
          0.36,
          0.92,
          0.4,
          0.31
         ],
         "showlegend": false,
         "subplot": "polar3",
         "theta": [
          "Precision",
          "Recall",
          "Specificity",
          "F1-Score",
          "Index Balanced Accuracy"
         ],
         "type": "scatterpolar"
        },
        {
         "fill": "toself",
         "line": {
          "color": "rgb(31, 119, 180)"
         },
         "name": "Régression logistique",
         "opacity": 0.8,
         "r": [
          0.16,
          0.37,
          0.94,
          0.22,
          0.33
         ],
         "showlegend": true,
         "subplot": "polar4",
         "theta": [
          "Precision",
          "Recall",
          "Specificity",
          "F1-Score",
          "Index Balanced Accuracy"
         ],
         "type": "scatterpolar"
        },
        {
         "fill": "toself",
         "line": {
          "color": "rgb(255, 127, 14)"
         },
         "name": "K-nearest neighbors",
         "opacity": 0.8,
         "r": [
          0.7,
          0.78,
          0.77,
          0.74,
          0.6
         ],
         "showlegend": false,
         "subplot": "polar",
         "theta": [
          "Precision",
          "Recall",
          "Specificity",
          "F1-Score",
          "Index Balanced Accuracy"
         ],
         "type": "scatterpolar"
        },
        {
         "fill": "toself",
         "line": {
          "color": "rgb(255, 127, 14)"
         },
         "name": "K-nearest neighbors",
         "opacity": 0.8,
         "r": [
          0.68,
          0.42,
          0.86,
          0.52,
          0.35
         ],
         "showlegend": false,
         "subplot": "polar2",
         "theta": [
          "Precision",
          "Recall",
          "Specificity",
          "F1-Score",
          "Index Balanced Accuracy"
         ],
         "type": "scatterpolar"
        },
        {
         "fill": "toself",
         "line": {
          "color": "rgb(255, 127, 14)"
         },
         "name": "K-nearest neighbors",
         "opacity": 0.8,
         "r": [
          0.36,
          0.36,
          0.88,
          0.36,
          0.3
         ],
         "showlegend": false,
         "subplot": "polar3",
         "theta": [
          "Precision",
          "Recall",
          "Specificity",
          "F1-Score",
          "Index Balanced Accuracy"
         ],
         "type": "scatterpolar"
        },
        {
         "fill": "toself",
         "line": {
          "color": "rgb(255, 127, 14)"
         },
         "name": "K-nearest neighbors",
         "opacity": 0.8,
         "r": [
          0.12,
          0.58,
          0.88,
          0.2,
          0.5
         ],
         "showlegend": true,
         "subplot": "polar4",
         "theta": [
          "Precision",
          "Recall",
          "Specificity",
          "F1-Score",
          "Index Balanced Accuracy"
         ],
         "type": "scatterpolar"
        },
        {
         "fill": "toself",
         "line": {
          "color": "rgb(44, 160, 44)"
         },
         "name": "SVM + Nystroem",
         "opacity": 0.8,
         "r": [
          0.69,
          0.84,
          0.74,
          0.76,
          0.62
         ],
         "showlegend": false,
         "subplot": "polar",
         "theta": [
          "Precision",
          "Recall",
          "Specificity",
          "F1-Score",
          "Index Balanced Accuracy"
         ],
         "type": "scatterpolar"
        },
        {
         "fill": "toself",
         "line": {
          "color": "rgb(44, 160, 44)"
         },
         "name": "SVM + Nystroem",
         "opacity": 0.8,
         "r": [
          0.68,
          0.49,
          0.85,
          0.57,
          0.4
         ],
         "showlegend": false,
         "subplot": "polar2",
         "theta": [
          "Precision",
          "Recall",
          "Specificity",
          "F1-Score",
          "Index Balanced Accuracy"
         ],
         "type": "scatterpolar"
        },
        {
         "fill": "toself",
         "line": {
          "color": "rgb(44, 160, 44)"
         },
         "name": "SVM + Nystroem",
         "opacity": 0.8,
         "r": [
          0.43,
          0.32,
          0.92,
          0.36,
          0.27
         ],
         "showlegend": false,
         "subplot": "polar3",
         "theta": [
          "Precision",
          "Recall",
          "Specificity",
          "F1-Score",
          "Index Balanced Accuracy"
         ],
         "type": "scatterpolar"
        },
        {
         "fill": "toself",
         "line": {
          "color": "rgb(44, 160, 44)"
         },
         "name": "SVM + Nystroem",
         "opacity": 0.8,
         "r": [
          0.13,
          0.48,
          0.91,
          0.21,
          0.42
         ],
         "showlegend": true,
         "subplot": "polar4",
         "theta": [
          "Precision",
          "Recall",
          "Specificity",
          "F1-Score",
          "Index Balanced Accuracy"
         ],
         "type": "scatterpolar"
        },
        {
         "fill": "toself",
         "line": {
          "color": "rgb(214, 39, 40)"
         },
         "name": "CatBoost",
         "opacity": 0.8,
         "r": [
          0.75,
          0.79,
          0.81,
          0.76,
          0.64
         ],
         "showlegend": false,
         "subplot": "polar",
         "theta": [
          "Precision",
          "Recall",
          "Specificity",
          "F1-Score",
          "Index Balanced Accuracy"
         ],
         "type": "scatterpolar"
        },
        {
         "fill": "toself",
         "line": {
          "color": "rgb(214, 39, 40)"
         },
         "name": "CatBoost",
         "opacity": 0.8,
         "r": [
          0.71,
          0.49,
          0.86,
          0.58,
          0.41
         ],
         "showlegend": false,
         "subplot": "polar2",
         "theta": [
          "Precision",
          "Recall",
          "Specificity",
          "F1-Score",
          "Index Balanced Accuracy"
         ],
         "type": "scatterpolar"
        },
        {
         "fill": "toself",
         "line": {
          "color": "rgb(214, 39, 40)"
         },
         "name": "CatBoost",
         "opacity": 0.8,
         "r": [
          0.41,
          0.49,
          0.87,
          0.44,
          0.41
         ],
         "showlegend": false,
         "subplot": "polar3",
         "theta": [
          "Precision",
          "Recall",
          "Specificity",
          "F1-Score",
          "Index Balanced Accuracy"
         ],
         "type": "scatterpolar"
        },
        {
         "fill": "toself",
         "line": {
          "color": "rgb(214, 39, 40)"
         },
         "name": "CatBoost",
         "opacity": 0.8,
         "r": [
          0.16,
          0.57,
          0.91,
          0.25,
          0.5
         ],
         "showlegend": true,
         "subplot": "polar4",
         "theta": [
          "Precision",
          "Recall",
          "Specificity",
          "F1-Score",
          "Index Balanced Accuracy"
         ],
         "type": "scatterpolar"
        },
        {
         "fill": "toself",
         "line": {
          "color": "rgb(148, 103, 189)"
         },
         "name": "Random Forest",
         "opacity": 0.8,
         "r": [
          0.7,
          0.85,
          0.74,
          0.77,
          0.63
         ],
         "showlegend": false,
         "subplot": "polar",
         "theta": [
          "Precision",
          "Recall",
          "Specificity",
          "F1-Score",
          "Index Balanced Accuracy"
         ],
         "type": "scatterpolar"
        },
        {
         "fill": "toself",
         "line": {
          "color": "rgb(148, 103, 189)"
         },
         "name": "Random Forest",
         "opacity": 0.8,
         "r": [
          0.74,
          0.42,
          0.9,
          0.54,
          0.36
         ],
         "showlegend": false,
         "subplot": "polar2",
         "theta": [
          "Precision",
          "Recall",
          "Specificity",
          "F1-Score",
          "Index Balanced Accuracy"
         ],
         "type": "scatterpolar"
        },
        {
         "fill": "toself",
         "line": {
          "color": "rgb(148, 103, 189)"
         },
         "name": "Random Forest",
         "opacity": 0.8,
         "r": [
          0.41,
          0.49,
          0.87,
          0.45,
          0.41
         ],
         "showlegend": false,
         "subplot": "polar3",
         "theta": [
          "Precision",
          "Recall",
          "Specificity",
          "F1-Score",
          "Index Balanced Accuracy"
         ],
         "type": "scatterpolar"
        },
        {
         "fill": "toself",
         "line": {
          "color": "rgb(148, 103, 189)"
         },
         "name": "Random Forest",
         "opacity": 0.8,
         "r": [
          0.17,
          0.49,
          0.93,
          0.26,
          0.44
         ],
         "showlegend": true,
         "subplot": "polar4",
         "theta": [
          "Precision",
          "Recall",
          "Specificity",
          "F1-Score",
          "Index Balanced Accuracy"
         ],
         "type": "scatterpolar"
        },
        {
         "fill": "toself",
         "line": {
          "color": "rgb(140, 86, 75)"
         },
         "name": "XGBoost",
         "opacity": 0.8,
         "r": [
          0.71,
          0.79,
          0.77,
          0.75,
          0.62
         ],
         "showlegend": false,
         "subplot": "polar",
         "theta": [
          "Precision",
          "Recall",
          "Specificity",
          "F1-Score",
          "Index Balanced Accuracy"
         ],
         "type": "scatterpolar"
        },
        {
         "fill": "toself",
         "line": {
          "color": "rgb(140, 86, 75)"
         },
         "name": "XGBoost",
         "opacity": 0.8,
         "r": [
          0.7,
          0.41,
          0.88,
          0.51,
          0.34
         ],
         "showlegend": false,
         "subplot": "polar2",
         "theta": [
          "Precision",
          "Recall",
          "Specificity",
          "F1-Score",
          "Index Balanced Accuracy"
         ],
         "type": "scatterpolar"
        },
        {
         "fill": "toself",
         "line": {
          "color": "rgb(140, 86, 75)"
         },
         "name": "XGBoost",
         "opacity": 0.8,
         "r": [
          0.38,
          0.41,
          0.88,
          0.39,
          0.34
         ],
         "showlegend": false,
         "subplot": "polar3",
         "theta": [
          "Precision",
          "Recall",
          "Specificity",
          "F1-Score",
          "Index Balanced Accuracy"
         ],
         "type": "scatterpolar"
        },
        {
         "fill": "toself",
         "line": {
          "color": "rgb(140, 86, 75)"
         },
         "name": "XGBoost",
         "opacity": 0.8,
         "r": [
          0.12,
          0.63,
          0.88,
          0.21,
          0.54
         ],
         "showlegend": true,
         "subplot": "polar4",
         "theta": [
          "Precision",
          "Recall",
          "Specificity",
          "F1-Score",
          "Index Balanced Accuracy"
         ],
         "type": "scatterpolar"
        },
        {
         "fill": "toself",
         "line": {
          "color": "rgb(227, 119, 194)"
         },
         "name": "Deep Learning",
         "opacity": 0.8,
         "r": [
          0.75,
          0.76,
          0.82,
          0.75,
          0.62
         ],
         "showlegend": false,
         "subplot": "polar",
         "theta": [
          "Precision",
          "Recall",
          "Specificity",
          "F1-Score",
          "Index Balanced Accuracy"
         ],
         "type": "scatterpolar"
        },
        {
         "fill": "toself",
         "line": {
          "color": "rgb(227, 119, 194)"
         },
         "name": "Deep Learning",
         "opacity": 0.8,
         "r": [
          0.68,
          0.46,
          0.86,
          0.55,
          0.38
         ],
         "showlegend": false,
         "subplot": "polar2",
         "theta": [
          "Precision",
          "Recall",
          "Specificity",
          "F1-Score",
          "Index Balanced Accuracy"
         ],
         "type": "scatterpolar"
        },
        {
         "fill": "toself",
         "line": {
          "color": "rgb(227, 119, 194)"
         },
         "name": "Deep Learning",
         "opacity": 0.8,
         "r": [
          0.36,
          0.41,
          0.87,
          0.39,
          0.34
         ],
         "showlegend": false,
         "subplot": "polar3",
         "theta": [
          "Precision",
          "Recall",
          "Specificity",
          "F1-Score",
          "Index Balanced Accuracy"
         ],
         "type": "scatterpolar"
        },
        {
         "fill": "toself",
         "line": {
          "color": "rgb(227, 119, 194)"
         },
         "name": "Deep Learning",
         "opacity": 0.8,
         "r": [
          0.13,
          0.64,
          0.88,
          0.22,
          0.55
         ],
         "showlegend": true,
         "subplot": "polar4",
         "theta": [
          "Precision",
          "Recall",
          "Specificity",
          "F1-Score",
          "Index Balanced Accuracy"
         ],
         "type": "scatterpolar"
        }
       ],
       "layout": {
        "annotations": [
         {
          "font": {
           "size": 16
          },
          "showarrow": false,
          "text": "Indemnes",
          "x": 0.225,
          "xanchor": "center",
          "xref": "paper",
          "y": 1,
          "yanchor": "bottom",
          "yref": "paper",
          "yshift": 30
         },
         {
          "font": {
           "size": 16
          },
          "showarrow": false,
          "text": "Blessés légers",
          "x": 0.775,
          "xanchor": "center",
          "xref": "paper",
          "y": 1,
          "yanchor": "bottom",
          "yref": "paper",
          "yshift": 30
         },
         {
          "font": {
           "size": 16
          },
          "showarrow": false,
          "text": "Blessés graves",
          "x": 0.225,
          "xanchor": "center",
          "xref": "paper",
          "y": 0.375,
          "yanchor": "bottom",
          "yref": "paper",
          "yshift": 30
         },
         {
          "font": {
           "size": 16
          },
          "showarrow": false,
          "text": "Tués",
          "x": 0.775,
          "xanchor": "center",
          "xref": "paper",
          "y": 0.375,
          "yanchor": "bottom",
          "yref": "paper",
          "yshift": 30
         }
        ],
        "height": 600,
        "polar": {
         "domain": {
          "x": [
           0,
           0.45
          ],
          "y": [
           0.625,
           1
          ]
         },
         "radialaxis": {
          "range": [
           0,
           1
          ],
          "visible": true
         }
        },
        "polar2": {
         "domain": {
          "x": [
           0.55,
           1
          ],
          "y": [
           0.625,
           1
          ]
         }
        },
        "polar3": {
         "domain": {
          "x": [
           0,
           0.45
          ],
          "y": [
           0,
           0.375
          ]
         }
        },
        "polar4": {
         "domain": {
          "x": [
           0.55,
           1
          ],
          "y": [
           0,
           0.375
          ]
         }
        },
        "template": {
         "data": {
          "bar": [
           {
            "error_x": {
             "color": "#2a3f5f"
            },
            "error_y": {
             "color": "#2a3f5f"
            },
            "marker": {
             "line": {
              "color": "#E5ECF6",
              "width": 0.5
             },
             "pattern": {
              "fillmode": "overlay",
              "size": 10,
              "solidity": 0.2
             }
            },
            "type": "bar"
           }
          ],
          "barpolar": [
           {
            "marker": {
             "line": {
              "color": "#E5ECF6",
              "width": 0.5
             },
             "pattern": {
              "fillmode": "overlay",
              "size": 10,
              "solidity": 0.2
             }
            },
            "type": "barpolar"
           }
          ],
          "carpet": [
           {
            "aaxis": {
             "endlinecolor": "#2a3f5f",
             "gridcolor": "white",
             "linecolor": "white",
             "minorgridcolor": "white",
             "startlinecolor": "#2a3f5f"
            },
            "baxis": {
             "endlinecolor": "#2a3f5f",
             "gridcolor": "white",
             "linecolor": "white",
             "minorgridcolor": "white",
             "startlinecolor": "#2a3f5f"
            },
            "type": "carpet"
           }
          ],
          "choropleth": [
           {
            "colorbar": {
             "outlinewidth": 0,
             "ticks": ""
            },
            "type": "choropleth"
           }
          ],
          "contour": [
           {
            "colorbar": {
             "outlinewidth": 0,
             "ticks": ""
            },
            "colorscale": [
             [
              0,
              "#0d0887"
             ],
             [
              0.1111111111111111,
              "#46039f"
             ],
             [
              0.2222222222222222,
              "#7201a8"
             ],
             [
              0.3333333333333333,
              "#9c179e"
             ],
             [
              0.4444444444444444,
              "#bd3786"
             ],
             [
              0.5555555555555556,
              "#d8576b"
             ],
             [
              0.6666666666666666,
              "#ed7953"
             ],
             [
              0.7777777777777778,
              "#fb9f3a"
             ],
             [
              0.8888888888888888,
              "#fdca26"
             ],
             [
              1,
              "#f0f921"
             ]
            ],
            "type": "contour"
           }
          ],
          "contourcarpet": [
           {
            "colorbar": {
             "outlinewidth": 0,
             "ticks": ""
            },
            "type": "contourcarpet"
           }
          ],
          "heatmap": [
           {
            "colorbar": {
             "outlinewidth": 0,
             "ticks": ""
            },
            "colorscale": [
             [
              0,
              "#0d0887"
             ],
             [
              0.1111111111111111,
              "#46039f"
             ],
             [
              0.2222222222222222,
              "#7201a8"
             ],
             [
              0.3333333333333333,
              "#9c179e"
             ],
             [
              0.4444444444444444,
              "#bd3786"
             ],
             [
              0.5555555555555556,
              "#d8576b"
             ],
             [
              0.6666666666666666,
              "#ed7953"
             ],
             [
              0.7777777777777778,
              "#fb9f3a"
             ],
             [
              0.8888888888888888,
              "#fdca26"
             ],
             [
              1,
              "#f0f921"
             ]
            ],
            "type": "heatmap"
           }
          ],
          "heatmapgl": [
           {
            "colorbar": {
             "outlinewidth": 0,
             "ticks": ""
            },
            "colorscale": [
             [
              0,
              "#0d0887"
             ],
             [
              0.1111111111111111,
              "#46039f"
             ],
             [
              0.2222222222222222,
              "#7201a8"
             ],
             [
              0.3333333333333333,
              "#9c179e"
             ],
             [
              0.4444444444444444,
              "#bd3786"
             ],
             [
              0.5555555555555556,
              "#d8576b"
             ],
             [
              0.6666666666666666,
              "#ed7953"
             ],
             [
              0.7777777777777778,
              "#fb9f3a"
             ],
             [
              0.8888888888888888,
              "#fdca26"
             ],
             [
              1,
              "#f0f921"
             ]
            ],
            "type": "heatmapgl"
           }
          ],
          "histogram": [
           {
            "marker": {
             "pattern": {
              "fillmode": "overlay",
              "size": 10,
              "solidity": 0.2
             }
            },
            "type": "histogram"
           }
          ],
          "histogram2d": [
           {
            "colorbar": {
             "outlinewidth": 0,
             "ticks": ""
            },
            "colorscale": [
             [
              0,
              "#0d0887"
             ],
             [
              0.1111111111111111,
              "#46039f"
             ],
             [
              0.2222222222222222,
              "#7201a8"
             ],
             [
              0.3333333333333333,
              "#9c179e"
             ],
             [
              0.4444444444444444,
              "#bd3786"
             ],
             [
              0.5555555555555556,
              "#d8576b"
             ],
             [
              0.6666666666666666,
              "#ed7953"
             ],
             [
              0.7777777777777778,
              "#fb9f3a"
             ],
             [
              0.8888888888888888,
              "#fdca26"
             ],
             [
              1,
              "#f0f921"
             ]
            ],
            "type": "histogram2d"
           }
          ],
          "histogram2dcontour": [
           {
            "colorbar": {
             "outlinewidth": 0,
             "ticks": ""
            },
            "colorscale": [
             [
              0,
              "#0d0887"
             ],
             [
              0.1111111111111111,
              "#46039f"
             ],
             [
              0.2222222222222222,
              "#7201a8"
             ],
             [
              0.3333333333333333,
              "#9c179e"
             ],
             [
              0.4444444444444444,
              "#bd3786"
             ],
             [
              0.5555555555555556,
              "#d8576b"
             ],
             [
              0.6666666666666666,
              "#ed7953"
             ],
             [
              0.7777777777777778,
              "#fb9f3a"
             ],
             [
              0.8888888888888888,
              "#fdca26"
             ],
             [
              1,
              "#f0f921"
             ]
            ],
            "type": "histogram2dcontour"
           }
          ],
          "mesh3d": [
           {
            "colorbar": {
             "outlinewidth": 0,
             "ticks": ""
            },
            "type": "mesh3d"
           }
          ],
          "parcoords": [
           {
            "line": {
             "colorbar": {
              "outlinewidth": 0,
              "ticks": ""
             }
            },
            "type": "parcoords"
           }
          ],
          "pie": [
           {
            "automargin": true,
            "type": "pie"
           }
          ],
          "scatter": [
           {
            "fillpattern": {
             "fillmode": "overlay",
             "size": 10,
             "solidity": 0.2
            },
            "type": "scatter"
           }
          ],
          "scatter3d": [
           {
            "line": {
             "colorbar": {
              "outlinewidth": 0,
              "ticks": ""
             }
            },
            "marker": {
             "colorbar": {
              "outlinewidth": 0,
              "ticks": ""
             }
            },
            "type": "scatter3d"
           }
          ],
          "scattercarpet": [
           {
            "marker": {
             "colorbar": {
              "outlinewidth": 0,
              "ticks": ""
             }
            },
            "type": "scattercarpet"
           }
          ],
          "scattergeo": [
           {
            "marker": {
             "colorbar": {
              "outlinewidth": 0,
              "ticks": ""
             }
            },
            "type": "scattergeo"
           }
          ],
          "scattergl": [
           {
            "marker": {
             "colorbar": {
              "outlinewidth": 0,
              "ticks": ""
             }
            },
            "type": "scattergl"
           }
          ],
          "scattermapbox": [
           {
            "marker": {
             "colorbar": {
              "outlinewidth": 0,
              "ticks": ""
             }
            },
            "type": "scattermapbox"
           }
          ],
          "scatterpolar": [
           {
            "marker": {
             "colorbar": {
              "outlinewidth": 0,
              "ticks": ""
             }
            },
            "type": "scatterpolar"
           }
          ],
          "scatterpolargl": [
           {
            "marker": {
             "colorbar": {
              "outlinewidth": 0,
              "ticks": ""
             }
            },
            "type": "scatterpolargl"
           }
          ],
          "scatterternary": [
           {
            "marker": {
             "colorbar": {
              "outlinewidth": 0,
              "ticks": ""
             }
            },
            "type": "scatterternary"
           }
          ],
          "surface": [
           {
            "colorbar": {
             "outlinewidth": 0,
             "ticks": ""
            },
            "colorscale": [
             [
              0,
              "#0d0887"
             ],
             [
              0.1111111111111111,
              "#46039f"
             ],
             [
              0.2222222222222222,
              "#7201a8"
             ],
             [
              0.3333333333333333,
              "#9c179e"
             ],
             [
              0.4444444444444444,
              "#bd3786"
             ],
             [
              0.5555555555555556,
              "#d8576b"
             ],
             [
              0.6666666666666666,
              "#ed7953"
             ],
             [
              0.7777777777777778,
              "#fb9f3a"
             ],
             [
              0.8888888888888888,
              "#fdca26"
             ],
             [
              1,
              "#f0f921"
             ]
            ],
            "type": "surface"
           }
          ],
          "table": [
           {
            "cells": {
             "fill": {
              "color": "#EBF0F8"
             },
             "line": {
              "color": "white"
             }
            },
            "header": {
             "fill": {
              "color": "#C8D4E3"
             },
             "line": {
              "color": "white"
             }
            },
            "type": "table"
           }
          ]
         },
         "layout": {
          "annotationdefaults": {
           "arrowcolor": "#2a3f5f",
           "arrowhead": 0,
           "arrowwidth": 1
          },
          "autotypenumbers": "strict",
          "coloraxis": {
           "colorbar": {
            "outlinewidth": 0,
            "ticks": ""
           }
          },
          "colorscale": {
           "diverging": [
            [
             0,
             "#8e0152"
            ],
            [
             0.1,
             "#c51b7d"
            ],
            [
             0.2,
             "#de77ae"
            ],
            [
             0.3,
             "#f1b6da"
            ],
            [
             0.4,
             "#fde0ef"
            ],
            [
             0.5,
             "#f7f7f7"
            ],
            [
             0.6,
             "#e6f5d0"
            ],
            [
             0.7,
             "#b8e186"
            ],
            [
             0.8,
             "#7fbc41"
            ],
            [
             0.9,
             "#4d9221"
            ],
            [
             1,
             "#276419"
            ]
           ],
           "sequential": [
            [
             0,
             "#0d0887"
            ],
            [
             0.1111111111111111,
             "#46039f"
            ],
            [
             0.2222222222222222,
             "#7201a8"
            ],
            [
             0.3333333333333333,
             "#9c179e"
            ],
            [
             0.4444444444444444,
             "#bd3786"
            ],
            [
             0.5555555555555556,
             "#d8576b"
            ],
            [
             0.6666666666666666,
             "#ed7953"
            ],
            [
             0.7777777777777778,
             "#fb9f3a"
            ],
            [
             0.8888888888888888,
             "#fdca26"
            ],
            [
             1,
             "#f0f921"
            ]
           ],
           "sequentialminus": [
            [
             0,
             "#0d0887"
            ],
            [
             0.1111111111111111,
             "#46039f"
            ],
            [
             0.2222222222222222,
             "#7201a8"
            ],
            [
             0.3333333333333333,
             "#9c179e"
            ],
            [
             0.4444444444444444,
             "#bd3786"
            ],
            [
             0.5555555555555556,
             "#d8576b"
            ],
            [
             0.6666666666666666,
             "#ed7953"
            ],
            [
             0.7777777777777778,
             "#fb9f3a"
            ],
            [
             0.8888888888888888,
             "#fdca26"
            ],
            [
             1,
             "#f0f921"
            ]
           ]
          },
          "colorway": [
           "#636efa",
           "#EF553B",
           "#00cc96",
           "#ab63fa",
           "#FFA15A",
           "#19d3f3",
           "#FF6692",
           "#B6E880",
           "#FF97FF",
           "#FECB52"
          ],
          "font": {
           "color": "#2a3f5f"
          },
          "geo": {
           "bgcolor": "white",
           "lakecolor": "white",
           "landcolor": "#E5ECF6",
           "showlakes": true,
           "showland": true,
           "subunitcolor": "white"
          },
          "hoverlabel": {
           "align": "left"
          },
          "hovermode": "closest",
          "mapbox": {
           "style": "light"
          },
          "paper_bgcolor": "white",
          "plot_bgcolor": "#E5ECF6",
          "polar": {
           "angularaxis": {
            "gridcolor": "white",
            "linecolor": "white",
            "ticks": ""
           },
           "bgcolor": "#E5ECF6",
           "radialaxis": {
            "gridcolor": "white",
            "linecolor": "white",
            "ticks": ""
           }
          },
          "scene": {
           "xaxis": {
            "backgroundcolor": "#E5ECF6",
            "gridcolor": "white",
            "gridwidth": 2,
            "linecolor": "white",
            "showbackground": true,
            "ticks": "",
            "zerolinecolor": "white"
           },
           "yaxis": {
            "backgroundcolor": "#E5ECF6",
            "gridcolor": "white",
            "gridwidth": 2,
            "linecolor": "white",
            "showbackground": true,
            "ticks": "",
            "zerolinecolor": "white"
           },
           "zaxis": {
            "backgroundcolor": "#E5ECF6",
            "gridcolor": "white",
            "gridwidth": 2,
            "linecolor": "white",
            "showbackground": true,
            "ticks": "",
            "zerolinecolor": "white"
           }
          },
          "shapedefaults": {
           "line": {
            "color": "#2a3f5f"
           }
          },
          "ternary": {
           "aaxis": {
            "gridcolor": "white",
            "linecolor": "white",
            "ticks": ""
           },
           "baxis": {
            "gridcolor": "white",
            "linecolor": "white",
            "ticks": ""
           },
           "bgcolor": "#E5ECF6",
           "caxis": {
            "gridcolor": "white",
            "linecolor": "white",
            "ticks": ""
           }
          },
          "title": {
           "x": 0.05
          },
          "xaxis": {
           "automargin": true,
           "gridcolor": "white",
           "linecolor": "white",
           "ticks": "",
           "title": {
            "standoff": 15
           },
           "zerolinecolor": "white",
           "zerolinewidth": 2
          },
          "yaxis": {
           "automargin": true,
           "gridcolor": "white",
           "linecolor": "white",
           "ticks": "",
           "title": {
            "standoff": 15
           },
           "zerolinecolor": "white",
           "zerolinewidth": 2
          }
         }
        },
        "width": 1000
       }
      }
     },
     "metadata": {},
     "output_type": "display_data"
    }
   ],
   "source": [
    "categories = ['Precision', \"Recall\",  \"Specificity\", \"F1-Score\",\"Index Balanced Accuracy\"]\n",
    "cols = px.colors.DEFAULT_PLOTLY_COLORS\n",
    "\n",
    "fig = make_subplots(rows = 2, cols=2, subplot_titles = ('Indemnes', 'Blessés légers', 'Blessés graves','Tués'),\n",
    "                    specs=[[{\"type\": \"polar\"} for _ in range(2)] for _ in range(2)])\n",
    "fig.update_annotations(yshift=30)\n",
    "opacity=0.8\n",
    "cpt = 0\n",
    "for modele in ['logreg', 'KNN', 'svmnys','catboost','random_forest', 'xgboost', 'deep_learning']:\n",
    "    fig.add_trace(go.Scatterpolar(\n",
    "        line=dict(color=cols[cpt]),\n",
    "        r=r_indemnes[modele],\n",
    "        theta=categories,\n",
    "        fill='toself',\n",
    "        opacity =opacity,\n",
    "        #legendgroup='1',\n",
    "        name=names[modele], showlegend=False), row=1, col=1)\n",
    "    fig.add_trace(go.Scatterpolar(\n",
    "        line=dict(color=cols[cpt]),\n",
    "        r=r_bleg[modele],\n",
    "        theta=categories,\n",
    "        fill='toself',\n",
    "        opacity =opacity,\n",
    "        #legendgroup='2',\n",
    "        name=names[modele], showlegend=False), row=1, col=2)\n",
    "    fig.add_trace(go.Scatterpolar(\n",
    "        line=dict(color=cols[cpt]),\n",
    "        r=r_bgrav[modele],\n",
    "        theta=categories,\n",
    "        fill='toself',\n",
    "        opacity =opacity,\n",
    "        #legendgroup='2',\n",
    "        name=names[modele], showlegend=False), row=2, col=1)\n",
    "    fig.add_trace(go.Scatterpolar(\n",
    "        line=dict(color=cols[cpt]),\n",
    "        r=r_tues[modele],\n",
    "        theta=categories,\n",
    "        fill='toself',\n",
    "        opacity =opacity,\n",
    "        #legendgroup='2',\n",
    "        name=names[modele], showlegend=True), row=2, col=2)\n",
    "    cpt += 1\n",
    "\n",
    "fig.update_layout(\n",
    "    height=600, \n",
    "    width=1000,\n",
    "    polar=dict(\n",
    "        radialaxis=dict(\n",
    "            visible=True,\n",
    "            range=[0, 1]\n",
    "            ))\n",
    "    #legend_tracegroupgap = 10\n",
    "    )\n",
    "fig.show()"
   ]
  },
  {
   "cell_type": "code",
   "execution_count": null,
   "metadata": {},
   "outputs": [],
   "source": []
  }
 ],
 "metadata": {
  "kernelspec": {
   "display_name": "base",
   "language": "python",
   "name": "python3"
  },
  "language_info": {
   "codemirror_mode": {
    "name": "ipython",
    "version": 3
   },
   "file_extension": ".py",
   "mimetype": "text/x-python",
   "name": "python",
   "nbconvert_exporter": "python",
   "pygments_lexer": "ipython3",
   "version": "3.12.3"
  }
 },
 "nbformat": 4,
 "nbformat_minor": 2
}
