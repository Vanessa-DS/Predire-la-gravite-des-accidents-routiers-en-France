{
 "cells": [
  {
   "cell_type": "code",
   "execution_count": 3,
   "metadata": {},
   "outputs": [],
   "source": [
    "import numpy as np\n",
    "import pandas as pd\n",
    "import yaml\n",
    "import zipfile"
   ]
  },
  {
   "cell_type": "code",
   "execution_count": 4,
   "metadata": {},
   "outputs": [],
   "source": [
    "# Les données sont trop volumineuses pour être déposées sur Github.\n",
    "# Solution : chacun de nous définit le chemin vers son répertoire de données dans le fichier\n",
    "# conf/global_conf NON versionné sur github.\n",
    "# Utiliser pour le créer le template global_template.yml.\n",
    "# Le fichier mergé y sera aussi déposé.\n",
    "file = open('../../conf/global_conf.yml', 'r') \n",
    "conf = yaml.safe_load(file)"
   ]
  },
  {
   "cell_type": "code",
   "execution_count": 5,
   "metadata": {},
   "outputs": [
    {
     "name": "stdout",
     "output_type": "stream",
     "text": [
      "../../data/users.csv\n"
     ]
    }
   ],
   "source": [
    "# Définition d'une fonction pointant vers le répertoire des données\n",
    "def datapath(fich):\n",
    "    return conf['data_path'] + fich\n",
    "\n",
    "print(datapath(\"users.csv\"))"
   ]
  },
  {
   "cell_type": "code",
   "execution_count": 6,
   "metadata": {},
   "outputs": [],
   "source": [
    "\"\"\" \n",
    "Changements en 2018 :\n",
    "Avertissement : Les données sur la qualification de blessé hospitalisé depuis l’année 2018 ne peuvent \n",
    "être comparées aux années précédentes suite à des modifications de process de saisie des forces de \n",
    "l’ordre. L’indicateur « blessé hospitalisé » n’est plus labellisé par l’autorité de la statistique publique \n",
    "depuis 2019.\n",
    "A partir des données de 2021, les usagers en fuite ont été rajoutés, cela entraîne des manques\n",
    "d’informations sur ces derniers, notamment le sexe, l’âge, voire la gravité des blessures (indemne, \n",
    "blessé léger ou blessé hospitalisé). \n",
    "\n",
    "Changements en 2019 :\n",
    "Les équipements de sécurité jusqu’en 2018 étaient en 2 variables : existence et utilisation.\n",
    "A partir de 2019, il s’agit de l’utilisation avec jusqu’à 3 équipements possibles pour un même usager \n",
    "(notamment pour les motocyclistes dont le port du casque et des gants est obligatoire).\n",
    "\"\"\"\n",
    "\n",
    "# L'exploration des données montre que les catégories suivantes sont des données manquantes\n",
    "list_na_values = ['#ERREUR', '(1)']\n",
    "\n",
    "#------ Lecture des données des caractéristiques à partir de 2019 ------------\n",
    "#df18 = pd.read_csv(datapath(\"caracteristiques-2018.csv\") )\n",
    "df19 = pd.read_csv(datapath(\"caracteristiques-2019.csv\"), sep = \";\", na_values = list_na_values)\n",
    "df20 = pd.read_csv(datapath(\"caracteristiques-2020.csv\"), sep = \";\", na_values = list_na_values)\n",
    "df21 = pd.read_csv(datapath(\"caracteristiques-2021.csv\"), sep = \";\", na_values = list_na_values)\n",
    "df22 = pd.read_csv(datapath(\"caracteristiques-2022.csv\"), sep = \";\", na_values = list_na_values)\n",
    "\n",
    "# Num_Acc s'appelle Accident_Id en 2022 : renommer avant de concaténer\n",
    "df22.rename(columns = {'Accident_Id': 'Num_Acc'}, inplace=True)\n",
    "\n",
    "# Concaténation des 4 années \n",
    "carac =  pd.concat([df19, df20, df21, df22])\n",
    "\n",
    "# Affichage des caractéristiques du jeu de données\n",
    "#display(carac.head(10))\n",
    "#print(carac.info())\n",
    "#display(carac.describe())"
   ]
  },
  {
   "cell_type": "code",
   "execution_count": 7,
   "metadata": {},
   "outputs": [],
   "source": [
    "#------ Lecture des données des lieux à partir de 2019 ------------\n",
    "df19 = pd.read_csv(datapath(\"lieux-2019.csv\"), sep = \";\", na_values = list_na_values)\n",
    "df20 = pd.read_csv(datapath(\"lieux-2020.csv\"), sep = \";\", na_values = list_na_values)\n",
    "df21 = pd.read_csv(datapath(\"lieux-2021.csv\"), sep = \";\", na_values = list_na_values)\n",
    "df22 = pd.read_csv(datapath(\"lieux-2022.csv\"), sep = \";\", na_values = list_na_values)\n",
    "\n",
    "# Concaténation des 4 années et affichage des caractéristiques\n",
    "lieux =  pd.concat([df19, df20, df21, df22])\n",
    "\n",
    "#display(lieux.head(10))\n",
    "#print(lieux.info())\n",
    "#display(lieux.describe())"
   ]
  },
  {
   "cell_type": "code",
   "execution_count": 8,
   "metadata": {},
   "outputs": [],
   "source": [
    "#------ Lecture des données des usagers à partir de 2019 ------------\n",
    "df19 = pd.read_csv(datapath(\"usagers-2019.csv\"), sep = \";\", na_values = list_na_values)\n",
    "df20 = pd.read_csv(datapath(\"usagers-2020.csv\"), sep = \";\", na_values = list_na_values)\n",
    "df21 = pd.read_csv(datapath(\"usagers-2021.csv\"), sep = \";\", na_values = list_na_values)\n",
    "df22 = pd.read_csv(datapath(\"usagers-2022.csv\"), sep = \";\", na_values = list_na_values)\n",
    "\n",
    "# Concaténation des 4 années et affichage des caractéristiques\n",
    "users =  pd.concat([df19, df20, df21, df22])\n",
    "\n",
    "#display(users.head(10))\n",
    "#print(users.info())\n",
    "#display(users.describe())"
   ]
  },
  {
   "cell_type": "code",
   "execution_count": 9,
   "metadata": {},
   "outputs": [],
   "source": [
    "#------ Lecture des données des véhicules à partir de 2019 ------------\n",
    "df19 = pd.read_csv(datapath(\"vehicules-2019.csv\"), sep = \";\", na_values = list_na_values)\n",
    "df20 = pd.read_csv(datapath(\"vehicules-2020.csv\"), sep = \";\", na_values = list_na_values)\n",
    "df21 = pd.read_csv(datapath(\"vehicules-2021.csv\"), sep = \";\", na_values = list_na_values)\n",
    "df22 = pd.read_csv(datapath(\"vehicules-2022.csv\"), sep = \";\", na_values = list_na_values)\n",
    "\n",
    "# Concaténation des 4 années et affichage des caractéristiques\n",
    "veh =  pd.concat([df19, df20, df21, df22])\n",
    "\n",
    "#display(veh.head(10))\n",
    "#print(veh.info())\n",
    "#display(veh.describe())"
   ]
  },
  {
   "cell_type": "code",
   "execution_count": 10,
   "metadata": {},
   "outputs": [
    {
     "data": {
      "text/plain": [
       "(494182, 55)"
      ]
     },
     "execution_count": 10,
     "metadata": {},
     "output_type": "execute_result"
    }
   ],
   "source": [
    "#--------- Merge des 4 jeux de données (une ligne par utilisateur) --------------\n",
    "how = 'inner'\n",
    "df = pd.merge(users, veh, on = ['Num_Acc', 'id_vehicule', 'num_veh'], how=how) \n",
    "df = pd.merge(lieux, df, how=how, on = \"Num_Acc\")\n",
    "df = pd.merge(carac, df, how=how, on = \"Num_Acc\")\n",
    "df.shape\n"
   ]
  },
  {
   "cell_type": "code",
   "execution_count": 11,
   "metadata": {},
   "outputs": [],
   "source": [
    "#--------------- Remplacement des -1 par des NA -------------------\n",
    "# pour la variable actp la valeur 0 est aussi remplacée par NaN (0 – Non renseigné ou sans objet)\n",
    "df1 = df.replace([-1, \"-1\", \" -1\"], np.NaN)\n",
    "df1[\"actp\"] = df1[\"actp\"].replace(\"0\", np.NaN)\n",
    "#print(df1[\"actp\"].value_counts(dropna=False))\n",
    "#print(df1[\"actp\"].dtype)"
   ]
  },
  {
   "cell_type": "code",
   "execution_count": 12,
   "metadata": {},
   "outputs": [],
   "source": [
    "#df.info()\n",
    "#------------- sauvegarde du jeu de données complet au format csv dans un répertoire local -----------\n",
    "fich = conf['local_data_path'] + \"accidents.csv\"\n",
    "#print(fich)\n",
    "df1.to_csv(fich, sep=';', index=False)"
   ]
  },
  {
   "cell_type": "code",
   "execution_count": 13,
   "metadata": {},
   "outputs": [],
   "source": [
    "fich_zip = conf['local_data_path'] + \"accidents.zip\"\n",
    "myZip = zipfile.ZipFile(fich_zip, 'w', zipfile.ZIP_DEFLATED)\n",
    "myZip.write(fich)\n",
    "myZip.close()"
   ]
  }
 ],
 "metadata": {
  "kernelspec": {
   "display_name": "Python 3 (ipykernel)",
   "language": "python",
   "name": "python3"
  },
  "language_info": {
   "codemirror_mode": {
    "name": "ipython",
    "version": 3
   },
   "file_extension": ".py",
   "mimetype": "text/x-python",
   "name": "python",
   "nbconvert_exporter": "python",
   "pygments_lexer": "ipython3",
   "version": "3.12.1"
  },
  "nbdime-conflicts": {
   "local_diff": [
    {
     "diff": [
      {
       "diff": [
        {
         "key": 0,
         "length": 1,
         "op": "removerange"
        }
       ],
       "key": "version",
       "op": "patch"
      }
     ],
     "key": "language_info",
     "op": "patch"
    }
   ],
   "remote_diff": [
    {
     "diff": [
      {
       "diff": [
        {
         "diff": [
          {
           "key": 3,
           "op": "addrange",
           "valuelist": "2"
          },
          {
           "key": 3,
           "length": 1,
           "op": "removerange"
          },
          {
           "key": 6,
           "length": 1,
           "op": "removerange"
          }
         ],
         "key": 0,
         "op": "patch"
        }
       ],
       "key": "version",
       "op": "patch"
      }
     ],
     "key": "language_info",
     "op": "patch"
    }
   ]
  }
 },
 "nbformat": 4,
 "nbformat_minor": 2
}
