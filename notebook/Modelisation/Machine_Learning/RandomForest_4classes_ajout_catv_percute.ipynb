{
 "cells": [
  {
   "cell_type": "markdown",
   "metadata": {},
   "source": [
    "# Importation des librairies"
   ]
  },
  {
   "cell_type": "code",
   "execution_count": 27,
   "metadata": {},
   "outputs": [],
   "source": [
    "import pandas as pd\n",
    "import numpy as np\n",
    "import matplotlib.pyplot as plt\n",
    "import yaml\n",
    "import warnings\n",
    "\n",
    "from sklearn.model_selection import train_test_split\n",
    "\n",
    "from sklearn.ensemble import RandomForestClassifier\n",
    "from sklearn.model_selection import GridSearchCV\n",
    "\n",
    "from sklearn.metrics import classification_report, accuracy_score, precision_score, recall_score, confusion_matrix, ConfusionMatrixDisplay\n",
    "\n",
    "import joblib\n",
    "\n",
    "#warnings.filterwarnings(\"ignore\")"
   ]
  },
  {
   "cell_type": "markdown",
   "metadata": {},
   "source": [
    "# Lecture du fichier data_cleaned_final_sans_dummies.csv"
   ]
  },
  {
   "cell_type": "code",
   "execution_count": 5,
   "metadata": {},
   "outputs": [],
   "source": [
    "file = open('../../../conf/global_conf.yml', 'r') \n",
    "conf = yaml.safe_load(file)\n",
    "df = pd.read_csv(conf['local_data_path'] + \"data_cleaned_final_sans_dummies.csv\",index_col=0,low_memory=False)"
   ]
  },
  {
   "cell_type": "code",
   "execution_count": 3,
   "metadata": {},
   "outputs": [
    {
     "name": "stdout",
     "output_type": "stream",
     "text": [
      "<class 'pandas.core.frame.DataFrame'>\n",
      "Index: 447136 entries, 0 to 494017\n",
      "Data columns (total 41 columns):\n",
      " #   Column          Non-Null Count   Dtype  \n",
      "---  ------          --------------   -----  \n",
      " 0   jour            447136 non-null  int64  \n",
      " 1   mois            447136 non-null  int64  \n",
      " 2   an              447136 non-null  int64  \n",
      " 3   lum             447136 non-null  float64\n",
      " 4   dep             447136 non-null  object \n",
      " 5   agg             447136 non-null  int64  \n",
      " 6   int             447136 non-null  float64\n",
      " 7   atm             447136 non-null  float64\n",
      " 8   col             447136 non-null  float64\n",
      " 9   lat             447136 non-null  float64\n",
      " 10  long            447136 non-null  float64\n",
      " 11  catr            447136 non-null  int64  \n",
      " 12  circ            447136 non-null  float64\n",
      " 13  prof            447136 non-null  float64\n",
      " 14  plan            447136 non-null  float64\n",
      " 15  surf            447136 non-null  float64\n",
      " 16  infra           447136 non-null  float64\n",
      " 17  situ            447136 non-null  float64\n",
      " 18  grav            447136 non-null  float64\n",
      " 19  sexe            447136 non-null  float64\n",
      " 20  catv            447136 non-null  float64\n",
      " 21  obs             447136 non-null  float64\n",
      " 22  obsm            447136 non-null  float64\n",
      " 23  manv            447136 non-null  float64\n",
      " 24  motor           447136 non-null  float64\n",
      " 25  grav_rec        447136 non-null  object \n",
      " 26  date            447136 non-null  object \n",
      " 27  weekend         447136 non-null  int64  \n",
      " 28  heure           447136 non-null  int64  \n",
      " 29  place_rec       447136 non-null  float64\n",
      " 30  age_usager      447136 non-null  float64\n",
      " 31  eq_ceinture     447136 non-null  int64  \n",
      " 32  eq_casque       447136 non-null  int64  \n",
      " 33  eq_siege        447136 non-null  int64  \n",
      " 34  eq_gilet        447136 non-null  int64  \n",
      " 35  eq_airbag       447136 non-null  int64  \n",
      " 36  eq_gants        447136 non-null  int64  \n",
      " 37  eq_indetermine  447136 non-null  int64  \n",
      " 38  eq_autre        447136 non-null  int64  \n",
      " 39  jour_chome      447136 non-null  int64  \n",
      " 40  prox_pt_choc    447136 non-null  int64  \n",
      "dtypes: float64(21), int64(17), object(3)\n",
      "memory usage: 143.3+ MB\n"
     ]
    }
   ],
   "source": [
    "df.info()"
   ]
  },
  {
   "cell_type": "code",
   "execution_count": 6,
   "metadata": {},
   "outputs": [
    {
     "name": "stdout",
     "output_type": "stream",
     "text": [
      "<class 'pandas.core.frame.DataFrame'>\n",
      "Index: 447136 entries, 0 to 494017\n",
      "Data columns (total 41 columns):\n",
      " #   Column          Non-Null Count   Dtype  \n",
      "---  ------          --------------   -----  \n",
      " 0   jour            447136 non-null  int64  \n",
      " 1   mois            447136 non-null  int64  \n",
      " 2   an              447136 non-null  int64  \n",
      " 3   lum             447136 non-null  int64  \n",
      " 4   dep             447136 non-null  object \n",
      " 5   agg             447136 non-null  int64  \n",
      " 6   int             447136 non-null  int64  \n",
      " 7   atm             447136 non-null  int64  \n",
      " 8   col             447136 non-null  int64  \n",
      " 9   lat             447136 non-null  float64\n",
      " 10  long            447136 non-null  float64\n",
      " 11  catr            447136 non-null  int64  \n",
      " 12  circ            447136 non-null  int64  \n",
      " 13  prof            447136 non-null  int64  \n",
      " 14  plan            447136 non-null  int64  \n",
      " 15  surf            447136 non-null  int64  \n",
      " 16  infra           447136 non-null  int64  \n",
      " 17  situ            447136 non-null  int64  \n",
      " 18  grav            447136 non-null  int64  \n",
      " 19  sexe            447136 non-null  int64  \n",
      " 20  catv            447136 non-null  int64  \n",
      " 21  obs             447136 non-null  int64  \n",
      " 22  obsm            447136 non-null  int64  \n",
      " 23  manv            447136 non-null  int64  \n",
      " 24  motor           447136 non-null  int64  \n",
      " 25  grav_rec        447136 non-null  object \n",
      " 26  date            447136 non-null  object \n",
      " 27  weekend         447136 non-null  int64  \n",
      " 28  heure           447136 non-null  int64  \n",
      " 29  place_rec       447136 non-null  int64  \n",
      " 30  age_usager      447136 non-null  float64\n",
      " 31  eq_ceinture     447136 non-null  int64  \n",
      " 32  eq_casque       447136 non-null  int64  \n",
      " 33  eq_siege        447136 non-null  int64  \n",
      " 34  eq_gilet        447136 non-null  int64  \n",
      " 35  eq_airbag       447136 non-null  int64  \n",
      " 36  eq_gants        447136 non-null  int64  \n",
      " 37  eq_indetermine  447136 non-null  int64  \n",
      " 38  eq_autre        447136 non-null  int64  \n",
      " 39  jour_chome      447136 non-null  int64  \n",
      " 40  prox_pt_choc    447136 non-null  int64  \n",
      "dtypes: float64(3), int64(35), object(3)\n",
      "memory usage: 143.3+ MB\n"
     ]
    }
   ],
   "source": [
    "cat = ['lum', 'agg', 'int', 'atm', 'col', 'catr', 'circ',\n",
    "       'prof', 'plan', 'surf', 'infra', 'situ', 'grav', 'sexe', 'catv', 'obs',\n",
    "       'obsm', 'manv', 'motor', 'weekend', 'place_rec',\n",
    "       'eq_ceinture', 'eq_casque', 'eq_siege', 'eq_gilet', 'eq_airbag',\n",
    "       'eq_gants', 'eq_indetermine', 'eq_autre', 'jour_chome', 'prox_pt_choc']\n",
    "df[cat] = df[cat].astype(int)\n",
    "df.info()"
   ]
  },
  {
   "cell_type": "markdown",
   "metadata": {},
   "source": [
    "# Création de la colonne 'catv_percute\""
   ]
  },
  {
   "cell_type": "code",
   "execution_count": 7,
   "metadata": {},
   "outputs": [],
   "source": [
    "df['catv_percute'] =  df['catv']"
   ]
  },
  {
   "cell_type": "code",
   "execution_count": 8,
   "metadata": {},
   "outputs": [],
   "source": [
    "df['catv'] = df.apply(lambda x : 6 if x['place_rec'] == 4 else x['catv'], axis = 1)"
   ]
  },
  {
   "cell_type": "code",
   "execution_count": 9,
   "metadata": {},
   "outputs": [],
   "source": [
    "df['catv_percute'] = df.apply(lambda x : 6 if x['place_rec'] != 4 else x['catv_percute'], axis = 1)"
   ]
  },
  {
   "cell_type": "code",
   "execution_count": 10,
   "metadata": {},
   "outputs": [],
   "source": [
    "df['obs'] = df.apply(lambda x : 0 if x['place_rec'] == 4 else x['obs'], axis = 1)"
   ]
  },
  {
   "cell_type": "code",
   "execution_count": 11,
   "metadata": {},
   "outputs": [],
   "source": [
    "df['obsm'] = df.apply(lambda x : 0 if x['place_rec'] == 4 else x['obsm'], axis = 1)"
   ]
  },
  {
   "cell_type": "markdown",
   "metadata": {},
   "source": [
    "# Séparation en train et test"
   ]
  },
  {
   "cell_type": "markdown",
   "metadata": {},
   "source": [
    "Suppression des colonnes qui ne serviront pas pour la modélisation"
   ]
  },
  {
   "cell_type": "code",
   "execution_count": 12,
   "metadata": {},
   "outputs": [],
   "source": [
    "df = df.drop(['an', 'jour', 'grav_rec', 'date', 'dep'], axis = 1)"
   ]
  },
  {
   "cell_type": "markdown",
   "metadata": {},
   "source": [
    "Séparation des données de la cible"
   ]
  },
  {
   "cell_type": "code",
   "execution_count": 13,
   "metadata": {},
   "outputs": [
    {
     "data": {
      "text/plain": [
       "grav\n",
       "1    0.412733\n",
       "4    0.403430\n",
       "3    0.156550\n",
       "2    0.027287\n",
       "Name: proportion, dtype: float64"
      ]
     },
     "execution_count": 13,
     "metadata": {},
     "output_type": "execute_result"
    }
   ],
   "source": [
    "X = df.drop('grav', axis = 1)\n",
    "y = df['grav']\n",
    "\n",
    "y.value_counts(normalize = True)"
   ]
  },
  {
   "cell_type": "markdown",
   "metadata": {},
   "source": [
    "Séparation en train et test en gardant la même porportion de chque modalité de la cible dans les jeux d'entraînement et de test."
   ]
  },
  {
   "cell_type": "code",
   "execution_count": 14,
   "metadata": {},
   "outputs": [
    {
     "name": "stdout",
     "output_type": "stream",
     "text": [
      "grav\n",
      "1    0.412733\n",
      "4    0.403430\n",
      "3    0.156549\n",
      "2    0.027288\n",
      "Name: proportion, dtype: float64\n",
      "grav\n",
      "1    0.412733\n",
      "4    0.403430\n",
      "3    0.156552\n",
      "2    0.027285\n",
      "Name: proportion, dtype: float64\n"
     ]
    }
   ],
   "source": [
    "X_train, X_test, y_train, y_test = train_test_split(X, y, test_size = 0.25, random_state = 42, stratify = y)\n",
    "\n",
    "print(y_train.value_counts(normalize = True))\n",
    "print(y_test.value_counts(normalize = True))"
   ]
  },
  {
   "cell_type": "code",
   "execution_count": 15,
   "metadata": {},
   "outputs": [
    {
     "data": {
      "text/plain": [
       "(335352, 36)"
      ]
     },
     "execution_count": 15,
     "metadata": {},
     "output_type": "execute_result"
    }
   ],
   "source": [
    "X_train.shape"
   ]
  },
  {
   "cell_type": "markdown",
   "metadata": {},
   "source": [
    "# Random Forest"
   ]
  },
  {
   "cell_type": "markdown",
   "metadata": {},
   "source": [
    "### Selection des variables"
   ]
  },
  {
   "cell_type": "code",
   "execution_count": 16,
   "metadata": {},
   "outputs": [],
   "source": [
    "rf = RandomForestClassifier(n_jobs = -1, random_state = 42).fit(X_train, y_train)"
   ]
  },
  {
   "cell_type": "code",
   "execution_count": 17,
   "metadata": {},
   "outputs": [
    {
     "name": "stdout",
     "output_type": "stream",
     "text": [
      "Train acuracy : 99.9 %\n",
      "Test acuracy :  66.79 %\n",
      "\n",
      "Matrice de confusion :\n"
     ]
    },
    {
     "data": {
      "text/html": [
       "<div>\n",
       "<style scoped>\n",
       "    .dataframe tbody tr th:only-of-type {\n",
       "        vertical-align: middle;\n",
       "    }\n",
       "\n",
       "    .dataframe tbody tr th {\n",
       "        vertical-align: top;\n",
       "    }\n",
       "\n",
       "    .dataframe thead th {\n",
       "        text-align: right;\n",
       "    }\n",
       "</style>\n",
       "<table border=\"1\" class=\"dataframe\">\n",
       "  <thead>\n",
       "    <tr style=\"text-align: right;\">\n",
       "      <th>Classes prédites</th>\n",
       "      <th>1</th>\n",
       "      <th>2</th>\n",
       "      <th>3</th>\n",
       "      <th>4</th>\n",
       "    </tr>\n",
       "    <tr>\n",
       "      <th>Classes réelles</th>\n",
       "      <th></th>\n",
       "      <th></th>\n",
       "      <th></th>\n",
       "      <th></th>\n",
       "    </tr>\n",
       "  </thead>\n",
       "  <tbody>\n",
       "    <tr>\n",
       "      <th>1</th>\n",
       "      <td>37842</td>\n",
       "      <td>21</td>\n",
       "      <td>1129</td>\n",
       "      <td>7145</td>\n",
       "    </tr>\n",
       "    <tr>\n",
       "      <th>2</th>\n",
       "      <td>402</td>\n",
       "      <td>163</td>\n",
       "      <td>1587</td>\n",
       "      <td>898</td>\n",
       "    </tr>\n",
       "    <tr>\n",
       "      <th>3</th>\n",
       "      <td>2426</td>\n",
       "      <td>150</td>\n",
       "      <td>7126</td>\n",
       "      <td>7798</td>\n",
       "    </tr>\n",
       "    <tr>\n",
       "      <th>4</th>\n",
       "      <td>11662</td>\n",
       "      <td>70</td>\n",
       "      <td>3840</td>\n",
       "      <td>29525</td>\n",
       "    </tr>\n",
       "  </tbody>\n",
       "</table>\n",
       "</div>"
      ],
      "text/plain": [
       "Classes prédites      1    2     3      4\n",
       "Classes réelles                          \n",
       "1                 37842   21  1129   7145\n",
       "2                   402  163  1587    898\n",
       "3                  2426  150  7126   7798\n",
       "4                 11662   70  3840  29525"
      ]
     },
     "metadata": {},
     "output_type": "display_data"
    },
    {
     "name": "stdout",
     "output_type": "stream",
     "text": [
      "\n",
      "Rapport de classification :\n",
      "               precision    recall  f1-score   support\n",
      "\n",
      "           1       0.72      0.82      0.77     46137\n",
      "           2       0.40      0.05      0.09      3050\n",
      "           3       0.52      0.41      0.46     17500\n",
      "           4       0.65      0.65      0.65     45097\n",
      "\n",
      "    accuracy                           0.67    111784\n",
      "   macro avg       0.57      0.48      0.49    111784\n",
      "weighted avg       0.65      0.67      0.65    111784\n",
      "\n"
     ]
    }
   ],
   "source": [
    "print(\"Train acuracy :\", np.round(rf.score(X_train, y_train) * 100, 2), \"%\")\n",
    "print(\"Test acuracy : \", np.round(rf.score(X_test, y_test) * 100, 2), \"%\")\n",
    "print()\n",
    "y_pred = rf.predict(X_test)\n",
    "print(\"Matrice de confusion :\")\n",
    "display(pd.crosstab(y_test, y_pred, rownames = ['Classes réelles'], colnames = ['Classes prédites']))\n",
    "print()\n",
    "print(\"Rapport de classification :\\n\", classification_report(y_test, y_pred))"
   ]
  },
  {
   "cell_type": "markdown",
   "metadata": {},
   "source": [
    "Calcul de l'importance de chaque variable"
   ]
  },
  {
   "cell_type": "code",
   "execution_count": 18,
   "metadata": {},
   "outputs": [
    {
     "data": {
      "text/html": [
       "<div>\n",
       "<style scoped>\n",
       "    .dataframe tbody tr th:only-of-type {\n",
       "        vertical-align: middle;\n",
       "    }\n",
       "\n",
       "    .dataframe tbody tr th {\n",
       "        vertical-align: top;\n",
       "    }\n",
       "\n",
       "    .dataframe thead th {\n",
       "        text-align: right;\n",
       "    }\n",
       "</style>\n",
       "<table border=\"1\" class=\"dataframe\">\n",
       "  <thead>\n",
       "    <tr style=\"text-align: right;\">\n",
       "      <th></th>\n",
       "      <th>importance</th>\n",
       "    </tr>\n",
       "    <tr>\n",
       "      <th>feature</th>\n",
       "      <th></th>\n",
       "    </tr>\n",
       "  </thead>\n",
       "  <tbody>\n",
       "    <tr>\n",
       "      <th>lat</th>\n",
       "      <td>0.111</td>\n",
       "    </tr>\n",
       "    <tr>\n",
       "      <th>long</th>\n",
       "      <td>0.106</td>\n",
       "    </tr>\n",
       "    <tr>\n",
       "      <th>age_usager</th>\n",
       "      <td>0.103</td>\n",
       "    </tr>\n",
       "    <tr>\n",
       "      <th>heure</th>\n",
       "      <td>0.071</td>\n",
       "    </tr>\n",
       "    <tr>\n",
       "      <th>mois</th>\n",
       "      <td>0.060</td>\n",
       "    </tr>\n",
       "    <tr>\n",
       "      <th>col</th>\n",
       "      <td>0.045</td>\n",
       "    </tr>\n",
       "    <tr>\n",
       "      <th>catv</th>\n",
       "      <td>0.044</td>\n",
       "    </tr>\n",
       "    <tr>\n",
       "      <th>obsm</th>\n",
       "      <td>0.044</td>\n",
       "    </tr>\n",
       "    <tr>\n",
       "      <th>eq_ceinture</th>\n",
       "      <td>0.040</td>\n",
       "    </tr>\n",
       "    <tr>\n",
       "      <th>catr</th>\n",
       "      <td>0.028</td>\n",
       "    </tr>\n",
       "    <tr>\n",
       "      <th>place_rec</th>\n",
       "      <td>0.025</td>\n",
       "    </tr>\n",
       "    <tr>\n",
       "      <th>eq_casque</th>\n",
       "      <td>0.021</td>\n",
       "    </tr>\n",
       "    <tr>\n",
       "      <th>manv</th>\n",
       "      <td>0.021</td>\n",
       "    </tr>\n",
       "    <tr>\n",
       "      <th>lum</th>\n",
       "      <td>0.020</td>\n",
       "    </tr>\n",
       "    <tr>\n",
       "      <th>agg</th>\n",
       "      <td>0.019</td>\n",
       "    </tr>\n",
       "    <tr>\n",
       "      <th>motor</th>\n",
       "      <td>0.019</td>\n",
       "    </tr>\n",
       "    <tr>\n",
       "      <th>sexe</th>\n",
       "      <td>0.018</td>\n",
       "    </tr>\n",
       "    <tr>\n",
       "      <th>obs</th>\n",
       "      <td>0.018</td>\n",
       "    </tr>\n",
       "    <tr>\n",
       "      <th>infra</th>\n",
       "      <td>0.017</td>\n",
       "    </tr>\n",
       "    <tr>\n",
       "      <th>weekend</th>\n",
       "      <td>0.016</td>\n",
       "    </tr>\n",
       "    <tr>\n",
       "      <th>prox_pt_choc</th>\n",
       "      <td>0.015</td>\n",
       "    </tr>\n",
       "    <tr>\n",
       "      <th>prof</th>\n",
       "      <td>0.014</td>\n",
       "    </tr>\n",
       "    <tr>\n",
       "      <th>jour_chome</th>\n",
       "      <td>0.014</td>\n",
       "    </tr>\n",
       "    <tr>\n",
       "      <th>situ</th>\n",
       "      <td>0.014</td>\n",
       "    </tr>\n",
       "    <tr>\n",
       "      <th>int</th>\n",
       "      <td>0.013</td>\n",
       "    </tr>\n",
       "    <tr>\n",
       "      <th>circ</th>\n",
       "      <td>0.013</td>\n",
       "    </tr>\n",
       "    <tr>\n",
       "      <th>surf</th>\n",
       "      <td>0.013</td>\n",
       "    </tr>\n",
       "    <tr>\n",
       "      <th>atm</th>\n",
       "      <td>0.012</td>\n",
       "    </tr>\n",
       "    <tr>\n",
       "      <th>eq_indetermine</th>\n",
       "      <td>0.012</td>\n",
       "    </tr>\n",
       "    <tr>\n",
       "      <th>plan</th>\n",
       "      <td>0.012</td>\n",
       "    </tr>\n",
       "    <tr>\n",
       "      <th>catv_percute</th>\n",
       "      <td>0.009</td>\n",
       "    </tr>\n",
       "    <tr>\n",
       "      <th>eq_gants</th>\n",
       "      <td>0.008</td>\n",
       "    </tr>\n",
       "    <tr>\n",
       "      <th>eq_airbag</th>\n",
       "      <td>0.003</td>\n",
       "    </tr>\n",
       "    <tr>\n",
       "      <th>eq_gilet</th>\n",
       "      <td>0.002</td>\n",
       "    </tr>\n",
       "    <tr>\n",
       "      <th>eq_autre</th>\n",
       "      <td>0.002</td>\n",
       "    </tr>\n",
       "    <tr>\n",
       "      <th>eq_siege</th>\n",
       "      <td>0.001</td>\n",
       "    </tr>\n",
       "  </tbody>\n",
       "</table>\n",
       "</div>"
      ],
      "text/plain": [
       "                importance\n",
       "feature                   \n",
       "lat                  0.111\n",
       "long                 0.106\n",
       "age_usager           0.103\n",
       "heure                0.071\n",
       "mois                 0.060\n",
       "col                  0.045\n",
       "catv                 0.044\n",
       "obsm                 0.044\n",
       "eq_ceinture          0.040\n",
       "catr                 0.028\n",
       "place_rec            0.025\n",
       "eq_casque            0.021\n",
       "manv                 0.021\n",
       "lum                  0.020\n",
       "agg                  0.019\n",
       "motor                0.019\n",
       "sexe                 0.018\n",
       "obs                  0.018\n",
       "infra                0.017\n",
       "weekend              0.016\n",
       "prox_pt_choc         0.015\n",
       "prof                 0.014\n",
       "jour_chome           0.014\n",
       "situ                 0.014\n",
       "int                  0.013\n",
       "circ                 0.013\n",
       "surf                 0.013\n",
       "atm                  0.012\n",
       "eq_indetermine       0.012\n",
       "plan                 0.012\n",
       "catv_percute         0.009\n",
       "eq_gants             0.008\n",
       "eq_airbag            0.003\n",
       "eq_gilet             0.002\n",
       "eq_autre             0.002\n",
       "eq_siege             0.001"
      ]
     },
     "execution_count": 18,
     "metadata": {},
     "output_type": "execute_result"
    }
   ],
   "source": [
    "importances_rf = pd.DataFrame({'feature':X_train.columns,'importance':np.round(rf.feature_importances_,3)})\n",
    "importances_rf = importances_rf.sort_values('importance',ascending=False).set_index('feature')\n",
    "importances_rf.head(38)"
   ]
  },
  {
   "cell_type": "markdown",
   "metadata": {},
   "source": [
    "Recherche du nombre de variables permettant d'obtenir la meilleur accuracy"
   ]
  },
  {
   "cell_type": "code",
   "execution_count": 19,
   "metadata": {},
   "outputs": [
    {
     "data": {
      "text/html": [
       "<div>\n",
       "<style scoped>\n",
       "    .dataframe tbody tr th:only-of-type {\n",
       "        vertical-align: middle;\n",
       "    }\n",
       "\n",
       "    .dataframe tbody tr th {\n",
       "        vertical-align: top;\n",
       "    }\n",
       "\n",
       "    .dataframe thead th {\n",
       "        text-align: right;\n",
       "    }\n",
       "</style>\n",
       "<table border=\"1\" class=\"dataframe\">\n",
       "  <thead>\n",
       "    <tr style=\"text-align: right;\">\n",
       "      <th></th>\n",
       "      <th>nombre_variable</th>\n",
       "      <th>scores</th>\n",
       "    </tr>\n",
       "  </thead>\n",
       "  <tbody>\n",
       "    <tr>\n",
       "      <th>30</th>\n",
       "      <td>31</td>\n",
       "      <td>0.668969</td>\n",
       "    </tr>\n",
       "    <tr>\n",
       "      <th>34</th>\n",
       "      <td>35</td>\n",
       "      <td>0.668101</td>\n",
       "    </tr>\n",
       "    <tr>\n",
       "      <th>29</th>\n",
       "      <td>30</td>\n",
       "      <td>0.668029</td>\n",
       "    </tr>\n",
       "    <tr>\n",
       "      <th>33</th>\n",
       "      <td>34</td>\n",
       "      <td>0.667788</td>\n",
       "    </tr>\n",
       "    <tr>\n",
       "      <th>28</th>\n",
       "      <td>29</td>\n",
       "      <td>0.667332</td>\n",
       "    </tr>\n",
       "  </tbody>\n",
       "</table>\n",
       "</div>"
      ],
      "text/plain": [
       "    nombre_variable    scores\n",
       "30               31  0.668969\n",
       "34               35  0.668101\n",
       "29               30  0.668029\n",
       "33               34  0.667788\n",
       "28               29  0.667332"
      ]
     },
     "execution_count": 19,
     "metadata": {},
     "output_type": "execute_result"
    }
   ],
   "source": [
    "nombre_variable = []\n",
    "scores = []\n",
    "\n",
    "for i in np.arange(1, len(importances_rf), 1):\n",
    "    liste_var = importances_rf.index[0 : i]\n",
    "    X_train_2 = X_train[liste_var]\n",
    "    X_test_2 = X_test[liste_var]\n",
    "\n",
    "    rf_2 = RandomForestClassifier(n_jobs = -1, random_state = 42).fit(X_train_2, y_train)\n",
    "\n",
    "    score = rf_2.score(X_test_2, y_test)\n",
    "    \n",
    "    nombre_variable.append(i)\n",
    "    scores.append(score)\n",
    " \n",
    "dico = {'nombre_variable' : nombre_variable,\n",
    "        'scores' : scores}   \n",
    "\n",
    "y_pred_tableau_rf = pd.DataFrame(dico)\n",
    "y_pred_tableau_rf = y_pred_tableau_rf.sort_values(by = 'scores', ascending = False)\n",
    "y_pred_tableau_rf.head(5)"
   ]
  },
  {
   "cell_type": "code",
   "execution_count": 20,
   "metadata": {},
   "outputs": [
    {
     "name": "stdout",
     "output_type": "stream",
     "text": [
      "La meilleur accuracy est obtenue avec 31.0 variables\n"
     ]
    }
   ],
   "source": [
    "nb_variable_rf = y_pred_tableau_rf.iloc[0]['nombre_variable']\n",
    "print(\"La meilleur accuracy est obtenue avec\", nb_variable_rf, 'variables')"
   ]
  },
  {
   "cell_type": "code",
   "execution_count": 21,
   "metadata": {},
   "outputs": [
    {
     "data": {
      "text/plain": [
       "Index(['lat', 'long', 'age_usager', 'heure', 'mois', 'col', 'catv', 'obsm',\n",
       "       'eq_ceinture', 'catr', 'place_rec', 'eq_casque', 'manv', 'lum', 'agg',\n",
       "       'motor', 'sexe', 'obs', 'infra', 'weekend', 'prox_pt_choc', 'prof',\n",
       "       'jour_chome', 'situ', 'int', 'circ', 'surf', 'atm', 'eq_indetermine',\n",
       "       'plan', 'catv_percute'],\n",
       "      dtype='object', name='feature')"
      ]
     },
     "execution_count": 21,
     "metadata": {},
     "output_type": "execute_result"
    }
   ],
   "source": [
    "meilleurs_variables_rf = importances_rf.index[0 : int(nb_variable_rf)]\n",
    "meilleurs_variables_rf"
   ]
  },
  {
   "cell_type": "code",
   "execution_count": 22,
   "metadata": {},
   "outputs": [],
   "source": [
    "liste_var = importances_rf.index[0 : int(nb_variable_rf)]\n",
    "X_train_rf = X_train[liste_var]\n",
    "X_test_rf = X_test[liste_var]\n",
    "\n",
    "rf = RandomForestClassifier(n_jobs = -1, random_state = 42).fit(X_train_rf, y_train)"
   ]
  },
  {
   "cell_type": "code",
   "execution_count": 23,
   "metadata": {},
   "outputs": [
    {
     "name": "stdout",
     "output_type": "stream",
     "text": [
      "Train acuracy : 99.89 %\n",
      "Test acuracy :  66.9 %\n",
      "\n",
      "Matrice de confusion :\n"
     ]
    },
    {
     "data": {
      "text/html": [
       "<div>\n",
       "<style scoped>\n",
       "    .dataframe tbody tr th:only-of-type {\n",
       "        vertical-align: middle;\n",
       "    }\n",
       "\n",
       "    .dataframe tbody tr th {\n",
       "        vertical-align: top;\n",
       "    }\n",
       "\n",
       "    .dataframe thead th {\n",
       "        text-align: right;\n",
       "    }\n",
       "</style>\n",
       "<table border=\"1\" class=\"dataframe\">\n",
       "  <thead>\n",
       "    <tr style=\"text-align: right;\">\n",
       "      <th>Classes prédites</th>\n",
       "      <th>1</th>\n",
       "      <th>2</th>\n",
       "      <th>3</th>\n",
       "      <th>4</th>\n",
       "    </tr>\n",
       "    <tr>\n",
       "      <th>Classes réelles</th>\n",
       "      <th></th>\n",
       "      <th></th>\n",
       "      <th></th>\n",
       "      <th></th>\n",
       "    </tr>\n",
       "  </thead>\n",
       "  <tbody>\n",
       "    <tr>\n",
       "      <th>1</th>\n",
       "      <td>37941</td>\n",
       "      <td>22</td>\n",
       "      <td>1120</td>\n",
       "      <td>7054</td>\n",
       "    </tr>\n",
       "    <tr>\n",
       "      <th>2</th>\n",
       "      <td>407</td>\n",
       "      <td>180</td>\n",
       "      <td>1554</td>\n",
       "      <td>909</td>\n",
       "    </tr>\n",
       "    <tr>\n",
       "      <th>3</th>\n",
       "      <td>2407</td>\n",
       "      <td>153</td>\n",
       "      <td>7199</td>\n",
       "      <td>7741</td>\n",
       "    </tr>\n",
       "    <tr>\n",
       "      <th>4</th>\n",
       "      <td>11705</td>\n",
       "      <td>62</td>\n",
       "      <td>3870</td>\n",
       "      <td>29460</td>\n",
       "    </tr>\n",
       "  </tbody>\n",
       "</table>\n",
       "</div>"
      ],
      "text/plain": [
       "Classes prédites      1    2     3      4\n",
       "Classes réelles                          \n",
       "1                 37941   22  1120   7054\n",
       "2                   407  180  1554    909\n",
       "3                  2407  153  7199   7741\n",
       "4                 11705   62  3870  29460"
      ]
     },
     "metadata": {},
     "output_type": "display_data"
    },
    {
     "name": "stdout",
     "output_type": "stream",
     "text": [
      "\n",
      "Rapport de classification :\n",
      "               precision    recall  f1-score   support\n",
      "\n",
      "           1       0.72      0.82      0.77     46137\n",
      "           2       0.43      0.06      0.10      3050\n",
      "           3       0.52      0.41      0.46     17500\n",
      "           4       0.65      0.65      0.65     45097\n",
      "\n",
      "    accuracy                           0.67    111784\n",
      "   macro avg       0.58      0.49      0.50    111784\n",
      "weighted avg       0.66      0.67      0.66    111784\n",
      "\n"
     ]
    }
   ],
   "source": [
    "print(\"Train acuracy :\", np.round(rf.score(X_train_rf, y_train) * 100, 2), \"%\")\n",
    "print(\"Test acuracy : \", np.round(rf.score(X_test_rf, y_test) * 100, 2), \"%\")\n",
    "print()\n",
    "y_pred = rf.predict(X_test_rf)\n",
    "print(\"Matrice de confusion :\")\n",
    "display(pd.crosstab(y_test, y_pred, rownames = ['Classes réelles'], colnames = ['Classes prédites']))\n",
    "print()\n",
    "print(\"Rapport de classification :\\n\", classification_report(y_test, y_pred))"
   ]
  },
  {
   "cell_type": "markdown",
   "metadata": {},
   "source": [
    "### Hyperparamétrage"
   ]
  },
  {
   "cell_type": "code",
   "execution_count": 24,
   "metadata": {},
   "outputs": [],
   "source": [
    "liste_var_rf = ['lat', 'long', 'age_usager', 'heure', 'mois', 'col', 'catv', 'obsm',\n",
    "       'eq_ceinture', 'catr', 'place_rec', 'eq_casque', 'manv', 'lum', 'agg',\n",
    "       'motor', 'sexe', 'obs', 'infra', 'weekend', 'prox_pt_choc', 'prof',\n",
    "       'jour_chome', 'situ', 'int', 'circ', 'surf', 'atm', 'eq_indetermine',\n",
    "       'plan', 'catv_percute']\n",
    "X_train_rf = X_train[liste_var_rf]\n",
    "X_test_rf = X_test[liste_var_rf]\n",
    "\n",
    "rf = RandomForestClassifier(n_jobs = -1, random_state = 42).fit(X_train_rf, y_train)"
   ]
  },
  {
   "cell_type": "markdown",
   "metadata": {},
   "source": [
    "##### Avec class_weight = None"
   ]
  },
  {
   "cell_type": "code",
   "execution_count": 25,
   "metadata": {},
   "outputs": [],
   "source": [
    "params_rf = {'n_estimators' : [100],\n",
    "             'criterion' : ['gini', 'entropy'],\n",
    "             'max_depth' : [10, 20, None],\n",
    "             'min_samples_split' : [2, 10, 20],\n",
    "             'min_samples_leaf' : [1, 10, 20],\n",
    "             'bootstrap' : [False, True],\n",
    "             'n_jobs' : [-1],\n",
    "             'random_state' : [42],\n",
    "             'class_weight' : [None]}     "
   ]
  },
  {
   "cell_type": "code",
   "execution_count": 26,
   "metadata": {},
   "outputs": [
    {
     "name": "stdout",
     "output_type": "stream",
     "text": [
      "                                                params  mean_test_score\n",
      "0    {'bootstrap': False, 'class_weight': None, 'cr...         0.645754\n",
      "1    {'bootstrap': False, 'class_weight': None, 'cr...         0.645361\n",
      "2    {'bootstrap': False, 'class_weight': None, 'cr...         0.645444\n",
      "3    {'bootstrap': False, 'class_weight': None, 'cr...         0.645391\n",
      "4    {'bootstrap': False, 'class_weight': None, 'cr...         0.645391\n",
      "..                                                 ...              ...\n",
      "103  {'bootstrap': True, 'class_weight': None, 'cri...         0.664183\n",
      "104  {'bootstrap': True, 'class_weight': None, 'cri...         0.664183\n",
      "105  {'bootstrap': True, 'class_weight': None, 'cri...         0.660944\n",
      "106  {'bootstrap': True, 'class_weight': None, 'cri...         0.660944\n",
      "107  {'bootstrap': True, 'class_weight': None, 'cri...         0.660944\n",
      "\n",
      "[108 rows x 2 columns]\n"
     ]
    }
   ],
   "source": [
    "grid_rf = GridSearchCV(estimator = rf, param_grid = params_rf, cv = 5).fit(X_train_rf, y_train)\n",
    "print(pd.DataFrame.from_dict(grid_rf.cv_results_).loc[:, ['params', 'mean_test_score']])"
   ]
  },
  {
   "cell_type": "code",
   "execution_count": 27,
   "metadata": {},
   "outputs": [
    {
     "name": "stdout",
     "output_type": "stream",
     "text": [
      "{'bootstrap': False, 'class_weight': None, 'criterion': 'gini', 'max_depth': 20, 'min_samples_leaf': 1, 'min_samples_split': 10, 'n_estimators': 100, 'n_jobs': -1, 'random_state': 42}\n",
      "0.6697291323530571\n"
     ]
    }
   ],
   "source": [
    "print(grid_rf.best_params_)\n",
    "print(grid_rf.best_score_)"
   ]
  },
  {
   "cell_type": "code",
   "execution_count": 28,
   "metadata": {},
   "outputs": [
    {
     "name": "stdout",
     "output_type": "stream",
     "text": [
      "Train acuracy : 83.21 %\n",
      "Test acuracy :  67.24 %\n",
      "\n",
      "Matrice de confusion :\n"
     ]
    },
    {
     "data": {
      "text/html": [
       "<div>\n",
       "<style scoped>\n",
       "    .dataframe tbody tr th:only-of-type {\n",
       "        vertical-align: middle;\n",
       "    }\n",
       "\n",
       "    .dataframe tbody tr th {\n",
       "        vertical-align: top;\n",
       "    }\n",
       "\n",
       "    .dataframe thead th {\n",
       "        text-align: right;\n",
       "    }\n",
       "</style>\n",
       "<table border=\"1\" class=\"dataframe\">\n",
       "  <thead>\n",
       "    <tr style=\"text-align: right;\">\n",
       "      <th>Classes prédites</th>\n",
       "      <th>1</th>\n",
       "      <th>2</th>\n",
       "      <th>3</th>\n",
       "      <th>4</th>\n",
       "    </tr>\n",
       "    <tr>\n",
       "      <th>Classes réelles</th>\n",
       "      <th></th>\n",
       "      <th></th>\n",
       "      <th></th>\n",
       "      <th></th>\n",
       "    </tr>\n",
       "  </thead>\n",
       "  <tbody>\n",
       "    <tr>\n",
       "      <th>1</th>\n",
       "      <td>38865</td>\n",
       "      <td>7</td>\n",
       "      <td>959</td>\n",
       "      <td>6306</td>\n",
       "    </tr>\n",
       "    <tr>\n",
       "      <th>2</th>\n",
       "      <td>430</td>\n",
       "      <td>108</td>\n",
       "      <td>1607</td>\n",
       "      <td>905</td>\n",
       "    </tr>\n",
       "    <tr>\n",
       "      <th>3</th>\n",
       "      <td>2532</td>\n",
       "      <td>69</td>\n",
       "      <td>6849</td>\n",
       "      <td>8050</td>\n",
       "    </tr>\n",
       "    <tr>\n",
       "      <th>4</th>\n",
       "      <td>12254</td>\n",
       "      <td>20</td>\n",
       "      <td>3484</td>\n",
       "      <td>29339</td>\n",
       "    </tr>\n",
       "  </tbody>\n",
       "</table>\n",
       "</div>"
      ],
      "text/plain": [
       "Classes prédites      1    2     3      4\n",
       "Classes réelles                          \n",
       "1                 38865    7   959   6306\n",
       "2                   430  108  1607    905\n",
       "3                  2532   69  6849   8050\n",
       "4                 12254   20  3484  29339"
      ]
     },
     "metadata": {},
     "output_type": "display_data"
    },
    {
     "name": "stdout",
     "output_type": "stream",
     "text": [
      "\n",
      "Rapport de classification :\n",
      "               precision    recall  f1-score   support\n",
      "\n",
      "           1       0.72      0.84      0.78     46137\n",
      "           2       0.53      0.04      0.07      3050\n",
      "           3       0.53      0.39      0.45     17500\n",
      "           4       0.66      0.65      0.65     45097\n",
      "\n",
      "    accuracy                           0.67    111784\n",
      "   macro avg       0.61      0.48      0.49    111784\n",
      "weighted avg       0.66      0.67      0.66    111784\n",
      "\n"
     ]
    }
   ],
   "source": [
    "print(\"Train acuracy :\", np.round(grid_rf.score(X_train_rf, y_train) * 100, 2), \"%\")\n",
    "print(\"Test acuracy : \", np.round(grid_rf.score(X_test_rf, y_test) * 100, 2), \"%\")\n",
    "print()\n",
    "y_pred = grid_rf.predict(X_test_rf)\n",
    "print(\"Matrice de confusion :\")\n",
    "display(pd.crosstab(y_test, y_pred, rownames = ['Classes réelles'], colnames = ['Classes prédites']))\n",
    "print()\n",
    "print(\"Rapport de classification :\\n\", classification_report(y_test, y_pred))"
   ]
  },
  {
   "cell_type": "markdown",
   "metadata": {},
   "source": [
    "Recherche du meilleur max_depth"
   ]
  },
  {
   "cell_type": "code",
   "execution_count": 58,
   "metadata": {},
   "outputs": [],
   "source": [
    "params_rf = {'n_estimators' : [100],\n",
    "             'criterion' : ['gini'],\n",
    "             'max_depth' : [16],\n",
    "             'min_samples_split' : [10],\n",
    "             'min_samples_leaf' : [1],\n",
    "             'bootstrap' : [False],\n",
    "             'n_jobs' : [-1],\n",
    "             'random_state' : [42],\n",
    "             'class_weight' : [None]}        \n",
    "\n",
    "grid_rf_2 = GridSearchCV(estimator = rf, param_grid = params_rf, cv = 5, scoring = 'f1_macro').fit(X_train_rf, y_train)"
   ]
  },
  {
   "cell_type": "code",
   "execution_count": 59,
   "metadata": {},
   "outputs": [
    {
     "name": "stdout",
     "output_type": "stream",
     "text": [
      "{'bootstrap': False, 'class_weight': None, 'criterion': 'gini', 'max_depth': 16, 'min_samples_leaf': 1, 'min_samples_split': 10, 'n_estimators': 100, 'n_jobs': -1, 'random_state': 42}\n",
      "0.47554196860272235\n"
     ]
    }
   ],
   "source": [
    "print(grid_rf_2.best_params_)\n",
    "print(grid_rf_2.best_score_)"
   ]
  },
  {
   "cell_type": "code",
   "execution_count": 60,
   "metadata": {},
   "outputs": [
    {
     "name": "stdout",
     "output_type": "stream",
     "text": [
      "Train acuracy : 74.99 %\n",
      "Test acuracy :  66.83 %\n",
      "\n",
      "Matrice de confusion :\n"
     ]
    },
    {
     "data": {
      "text/html": [
       "<div>\n",
       "<style scoped>\n",
       "    .dataframe tbody tr th:only-of-type {\n",
       "        vertical-align: middle;\n",
       "    }\n",
       "\n",
       "    .dataframe tbody tr th {\n",
       "        vertical-align: top;\n",
       "    }\n",
       "\n",
       "    .dataframe thead th {\n",
       "        text-align: right;\n",
       "    }\n",
       "</style>\n",
       "<table border=\"1\" class=\"dataframe\">\n",
       "  <thead>\n",
       "    <tr style=\"text-align: right;\">\n",
       "      <th>Classes prédites</th>\n",
       "      <th>1</th>\n",
       "      <th>2</th>\n",
       "      <th>3</th>\n",
       "      <th>4</th>\n",
       "    </tr>\n",
       "    <tr>\n",
       "      <th>Classes réelles</th>\n",
       "      <th></th>\n",
       "      <th></th>\n",
       "      <th></th>\n",
       "      <th></th>\n",
       "    </tr>\n",
       "  </thead>\n",
       "  <tbody>\n",
       "    <tr>\n",
       "      <th>1</th>\n",
       "      <td>39316</td>\n",
       "      <td>6</td>\n",
       "      <td>864</td>\n",
       "      <td>5951</td>\n",
       "    </tr>\n",
       "    <tr>\n",
       "      <th>2</th>\n",
       "      <td>486</td>\n",
       "      <td>70</td>\n",
       "      <td>1557</td>\n",
       "      <td>937</td>\n",
       "    </tr>\n",
       "    <tr>\n",
       "      <th>3</th>\n",
       "      <td>2680</td>\n",
       "      <td>48</td>\n",
       "      <td>6467</td>\n",
       "      <td>8305</td>\n",
       "    </tr>\n",
       "    <tr>\n",
       "      <th>4</th>\n",
       "      <td>13103</td>\n",
       "      <td>15</td>\n",
       "      <td>3124</td>\n",
       "      <td>28855</td>\n",
       "    </tr>\n",
       "  </tbody>\n",
       "</table>\n",
       "</div>"
      ],
      "text/plain": [
       "Classes prédites      1   2     3      4\n",
       "Classes réelles                         \n",
       "1                 39316   6   864   5951\n",
       "2                   486  70  1557    937\n",
       "3                  2680  48  6467   8305\n",
       "4                 13103  15  3124  28855"
      ]
     },
     "metadata": {},
     "output_type": "display_data"
    },
    {
     "name": "stdout",
     "output_type": "stream",
     "text": [
      "\n",
      "Rapport de classification :\n",
      "               precision    recall  f1-score   support\n",
      "\n",
      "           1       0.71      0.85      0.77     46137\n",
      "           2       0.50      0.02      0.04      3050\n",
      "           3       0.54      0.37      0.44     17500\n",
      "           4       0.66      0.64      0.65     45097\n",
      "\n",
      "    accuracy                           0.67    111784\n",
      "   macro avg       0.60      0.47      0.48    111784\n",
      "weighted avg       0.65      0.67      0.65    111784\n",
      "\n"
     ]
    }
   ],
   "source": [
    "y_train_pred = grid_rf_2.predict(X_train_rf)\n",
    "y_test_pred = grid_rf_2.predict(X_test_rf)\n",
    "print(\"Train acuracy :\", np.round(accuracy_score(y_train, y_train_pred) * 100, 2), \"%\")\n",
    "print(\"Test acuracy : \", np.round(accuracy_score(y_test, y_test_pred) * 100, 2), \"%\")\n",
    "print()\n",
    "\n",
    "print(\"Matrice de confusion :\")\n",
    "display(pd.crosstab(y_test, y_test_pred, rownames = ['Classes réelles'], colnames = ['Classes prédites']))\n",
    "print()\n",
    "print(\"Rapport de classification :\\n\", classification_report(y_test, y_test_pred))"
   ]
  },
  {
   "cell_type": "markdown",
   "metadata": {},
   "source": [
    "##### Avec class_weight = 'balanced'"
   ]
  },
  {
   "cell_type": "code",
   "execution_count": 29,
   "metadata": {},
   "outputs": [],
   "source": [
    "params_rf = {'n_estimators' : [100],\n",
    "            'criterion' : ['gini', 'entropy'],\n",
    "            'max_depth' : [10, 20, None],\n",
    "            'min_samples_split' : [2, 10, 20],\n",
    "            'min_samples_leaf' : [1, 10, 20],\n",
    "            'bootstrap' : [False, True],\n",
    "            'n_jobs' : [-1],\n",
    "            'random_state' : [42],\n",
    "            'class_weight' : ['balanced']}    "
   ]
  },
  {
   "cell_type": "code",
   "execution_count": 30,
   "metadata": {},
   "outputs": [
    {
     "name": "stdout",
     "output_type": "stream",
     "text": [
      "                                                params  mean_test_score\n",
      "0    {'bootstrap': False, 'class_weight': 'balanced...         0.580336\n",
      "1    {'bootstrap': False, 'class_weight': 'balanced...         0.580751\n",
      "2    {'bootstrap': False, 'class_weight': 'balanced...         0.580462\n",
      "3    {'bootstrap': False, 'class_weight': 'balanced...         0.579734\n",
      "4    {'bootstrap': False, 'class_weight': 'balanced...         0.579734\n",
      "..                                                 ...              ...\n",
      "103  {'bootstrap': True, 'class_weight': 'balanced'...         0.633683\n",
      "104  {'bootstrap': True, 'class_weight': 'balanced'...         0.633683\n",
      "105  {'bootstrap': True, 'class_weight': 'balanced'...         0.616713\n",
      "106  {'bootstrap': True, 'class_weight': 'balanced'...         0.616713\n",
      "107  {'bootstrap': True, 'class_weight': 'balanced'...         0.616713\n",
      "\n",
      "[108 rows x 2 columns]\n"
     ]
    }
   ],
   "source": [
    "grid_rf = GridSearchCV(estimator = rf, param_grid = params_rf, cv = 5).fit(X_train_rf, y_train)\n",
    "print(pd.DataFrame.from_dict(grid_rf.cv_results_).loc[:, ['params', 'mean_test_score']])"
   ]
  },
  {
   "cell_type": "code",
   "execution_count": 31,
   "metadata": {},
   "outputs": [
    {
     "name": "stdout",
     "output_type": "stream",
     "text": [
      "{'bootstrap': True, 'class_weight': 'balanced', 'criterion': 'entropy', 'max_depth': None, 'min_samples_leaf': 1, 'min_samples_split': 2, 'n_estimators': 100, 'n_jobs': -1, 'random_state': 42}\n",
      "0.6640723842162085\n"
     ]
    }
   ],
   "source": [
    "print(grid_rf.best_params_)\n",
    "print(grid_rf.best_score_)"
   ]
  },
  {
   "cell_type": "code",
   "execution_count": 32,
   "metadata": {},
   "outputs": [
    {
     "name": "stdout",
     "output_type": "stream",
     "text": [
      "Train acuracy : 99.89 %\n",
      "Test acuracy :  66.79 %\n",
      "\n",
      "Matrice de confusion :\n"
     ]
    },
    {
     "data": {
      "text/html": [
       "<div>\n",
       "<style scoped>\n",
       "    .dataframe tbody tr th:only-of-type {\n",
       "        vertical-align: middle;\n",
       "    }\n",
       "\n",
       "    .dataframe tbody tr th {\n",
       "        vertical-align: top;\n",
       "    }\n",
       "\n",
       "    .dataframe thead th {\n",
       "        text-align: right;\n",
       "    }\n",
       "</style>\n",
       "<table border=\"1\" class=\"dataframe\">\n",
       "  <thead>\n",
       "    <tr style=\"text-align: right;\">\n",
       "      <th>Classes prédites</th>\n",
       "      <th>1</th>\n",
       "      <th>2</th>\n",
       "      <th>3</th>\n",
       "      <th>4</th>\n",
       "    </tr>\n",
       "    <tr>\n",
       "      <th>Classes réelles</th>\n",
       "      <th></th>\n",
       "      <th></th>\n",
       "      <th></th>\n",
       "      <th></th>\n",
       "    </tr>\n",
       "  </thead>\n",
       "  <tbody>\n",
       "    <tr>\n",
       "      <th>1</th>\n",
       "      <td>38274</td>\n",
       "      <td>26</td>\n",
       "      <td>1140</td>\n",
       "      <td>6697</td>\n",
       "    </tr>\n",
       "    <tr>\n",
       "      <th>2</th>\n",
       "      <td>407</td>\n",
       "      <td>193</td>\n",
       "      <td>1524</td>\n",
       "      <td>926</td>\n",
       "    </tr>\n",
       "    <tr>\n",
       "      <th>3</th>\n",
       "      <td>2494</td>\n",
       "      <td>185</td>\n",
       "      <td>6919</td>\n",
       "      <td>7902</td>\n",
       "    </tr>\n",
       "    <tr>\n",
       "      <th>4</th>\n",
       "      <td>12118</td>\n",
       "      <td>74</td>\n",
       "      <td>3636</td>\n",
       "      <td>29269</td>\n",
       "    </tr>\n",
       "  </tbody>\n",
       "</table>\n",
       "</div>"
      ],
      "text/plain": [
       "Classes prédites      1    2     3      4\n",
       "Classes réelles                          \n",
       "1                 38274   26  1140   6697\n",
       "2                   407  193  1524    926\n",
       "3                  2494  185  6919   7902\n",
       "4                 12118   74  3636  29269"
      ]
     },
     "metadata": {},
     "output_type": "display_data"
    },
    {
     "name": "stdout",
     "output_type": "stream",
     "text": [
      "\n",
      "Rapport de classification :\n",
      "               precision    recall  f1-score   support\n",
      "\n",
      "           1       0.72      0.83      0.77     46137\n",
      "           2       0.40      0.06      0.11      3050\n",
      "           3       0.52      0.40      0.45     17500\n",
      "           4       0.65      0.65      0.65     45097\n",
      "\n",
      "    accuracy                           0.67    111784\n",
      "   macro avg       0.57      0.48      0.50    111784\n",
      "weighted avg       0.65      0.67      0.65    111784\n",
      "\n"
     ]
    }
   ],
   "source": [
    "print(\"Train acuracy :\", np.round(grid_rf.score(X_train_rf, y_train) * 100, 2), \"%\")\n",
    "print(\"Test acuracy : \", np.round(grid_rf.score(X_test_rf, y_test) * 100, 2), \"%\")\n",
    "print()\n",
    "y_pred = grid_rf.predict(X_test_rf)\n",
    "print(\"Matrice de confusion :\")\n",
    "display(pd.crosstab(y_test, y_pred, rownames = ['Classes réelles'], colnames = ['Classes prédites']))\n",
    "print()\n",
    "print(\"Rapport de classification :\\n\", classification_report(y_test, y_pred))"
   ]
  },
  {
   "cell_type": "markdown",
   "metadata": {},
   "source": [
    "Recherche du meilleur max_depth"
   ]
  },
  {
   "cell_type": "code",
   "execution_count": 67,
   "metadata": {},
   "outputs": [],
   "source": [
    "params_rf = {'n_estimators' : [100],\n",
    "            'criterion' : ['entropy'],\n",
    "            'max_depth' : [14],\n",
    "            'min_samples_split' : [2],\n",
    "            'min_samples_leaf' : [1],\n",
    "            'bootstrap' : [True],\n",
    "            'n_jobs' : [-1],\n",
    "            'random_state' : [42],\n",
    "            'class_weight' : ['balanced']}   \n",
    "\n",
    "grid_rf_2 = GridSearchCV(estimator = rf, param_grid = params_rf, cv = 5, scoring = 'f1_macro').fit(X_train_rf, y_train)"
   ]
  },
  {
   "cell_type": "code",
   "execution_count": 68,
   "metadata": {},
   "outputs": [
    {
     "name": "stdout",
     "output_type": "stream",
     "text": [
      "{'bootstrap': True, 'class_weight': 'balanced', 'criterion': 'entropy', 'max_depth': 14, 'min_samples_leaf': 1, 'min_samples_split': 2, 'n_estimators': 100, 'n_jobs': -1, 'random_state': 42}\n",
      "0.510367084977501\n"
     ]
    }
   ],
   "source": [
    "print(grid_rf_2.best_params_)\n",
    "print(grid_rf_2.best_score_)"
   ]
  },
  {
   "cell_type": "code",
   "execution_count": 69,
   "metadata": {},
   "outputs": [
    {
     "name": "stdout",
     "output_type": "stream",
     "text": [
      "Train acuracy : 68.64 %\n",
      "Test acuracy :  62.41 %\n",
      "\n",
      "Matrice de confusion :\n"
     ]
    },
    {
     "data": {
      "text/html": [
       "<div>\n",
       "<style scoped>\n",
       "    .dataframe tbody tr th:only-of-type {\n",
       "        vertical-align: middle;\n",
       "    }\n",
       "\n",
       "    .dataframe tbody tr th {\n",
       "        vertical-align: top;\n",
       "    }\n",
       "\n",
       "    .dataframe thead th {\n",
       "        text-align: right;\n",
       "    }\n",
       "</style>\n",
       "<table border=\"1\" class=\"dataframe\">\n",
       "  <thead>\n",
       "    <tr style=\"text-align: right;\">\n",
       "      <th>Classes prédites</th>\n",
       "      <th>1</th>\n",
       "      <th>2</th>\n",
       "      <th>3</th>\n",
       "      <th>4</th>\n",
       "    </tr>\n",
       "    <tr>\n",
       "      <th>Classes réelles</th>\n",
       "      <th></th>\n",
       "      <th></th>\n",
       "      <th></th>\n",
       "      <th></th>\n",
       "    </tr>\n",
       "  </thead>\n",
       "  <tbody>\n",
       "    <tr>\n",
       "      <th>1</th>\n",
       "      <td>39088</td>\n",
       "      <td>903</td>\n",
       "      <td>2429</td>\n",
       "      <td>3717</td>\n",
       "    </tr>\n",
       "    <tr>\n",
       "      <th>2</th>\n",
       "      <td>280</td>\n",
       "      <td>1303</td>\n",
       "      <td>1172</td>\n",
       "      <td>295</td>\n",
       "    </tr>\n",
       "    <tr>\n",
       "      <th>3</th>\n",
       "      <td>2177</td>\n",
       "      <td>2966</td>\n",
       "      <td>9081</td>\n",
       "      <td>3276</td>\n",
       "    </tr>\n",
       "    <tr>\n",
       "      <th>4</th>\n",
       "      <td>13953</td>\n",
       "      <td>1706</td>\n",
       "      <td>9147</td>\n",
       "      <td>20291</td>\n",
       "    </tr>\n",
       "  </tbody>\n",
       "</table>\n",
       "</div>"
      ],
      "text/plain": [
       "Classes prédites      1     2     3      4\n",
       "Classes réelles                           \n",
       "1                 39088   903  2429   3717\n",
       "2                   280  1303  1172    295\n",
       "3                  2177  2966  9081   3276\n",
       "4                 13953  1706  9147  20291"
      ]
     },
     "metadata": {},
     "output_type": "display_data"
    },
    {
     "name": "stdout",
     "output_type": "stream",
     "text": [
      "\n",
      "Rapport de classification :\n",
      "               precision    recall  f1-score   support\n",
      "\n",
      "           1       0.70      0.85      0.77     46137\n",
      "           2       0.19      0.43      0.26      3050\n",
      "           3       0.42      0.52      0.46     17500\n",
      "           4       0.74      0.45      0.56     45097\n",
      "\n",
      "    accuracy                           0.62    111784\n",
      "   macro avg       0.51      0.56      0.51    111784\n",
      "weighted avg       0.66      0.62      0.62    111784\n",
      "\n"
     ]
    }
   ],
   "source": [
    "y_train_pred = grid_rf_2.predict(X_train_rf)\n",
    "y_test_pred = grid_rf_2.predict(X_test_rf)\n",
    "print(\"Train acuracy :\", np.round(accuracy_score(y_train, y_train_pred) * 100, 2), \"%\")\n",
    "print(\"Test acuracy : \", np.round(accuracy_score(y_test, y_test_pred) * 100, 2), \"%\")\n",
    "print()\n",
    "\n",
    "print(\"Matrice de confusion :\")\n",
    "display(pd.crosstab(y_test, y_test_pred, rownames = ['Classes réelles'], colnames = ['Classes prédites']))\n",
    "print()\n",
    "print(\"Rapport de classification :\\n\", classification_report(y_test, y_test_pred))"
   ]
  },
  {
   "cell_type": "markdown",
   "metadata": {},
   "source": [
    "##### Recherche du meilleur class_weight"
   ]
  },
  {
   "cell_type": "code",
   "execution_count": 33,
   "metadata": {},
   "outputs": [],
   "source": [
    "params_rf = {'n_estimators' : [100],\n",
    "            'criterion' : ['gini', 'entropy'],\n",
    "            'max_depth' : [10, 20, None],\n",
    "            'min_samples_split' : [2, 10, 20],\n",
    "              'min_samples_leaf' : [1, 10, 20],\n",
    "            'bootstrap' : [False, True],\n",
    "            'n_jobs' : [-1],\n",
    "            'random_state' : [42],\n",
    "            'class_weight' : [{1: 1, 2: 4, 3: 1, 4: 1}]} "
   ]
  },
  {
   "cell_type": "code",
   "execution_count": 34,
   "metadata": {},
   "outputs": [
    {
     "name": "stdout",
     "output_type": "stream",
     "text": [
      "                                                params  mean_test_score\n",
      "0    {'bootstrap': False, 'class_weight': {1: 1, 2:...         0.636000\n",
      "1    {'bootstrap': False, 'class_weight': {1: 1, 2:...         0.636370\n",
      "2    {'bootstrap': False, 'class_weight': {1: 1, 2:...         0.637074\n",
      "3    {'bootstrap': False, 'class_weight': {1: 1, 2:...         0.636138\n",
      "4    {'bootstrap': False, 'class_weight': {1: 1, 2:...         0.636138\n",
      "..                                                 ...              ...\n",
      "103  {'bootstrap': True, 'class_weight': {1: 1, 2: ...         0.657494\n",
      "104  {'bootstrap': True, 'class_weight': {1: 1, 2: ...         0.657494\n",
      "105  {'bootstrap': True, 'class_weight': {1: 1, 2: ...         0.651635\n",
      "106  {'bootstrap': True, 'class_weight': {1: 1, 2: ...         0.651635\n",
      "107  {'bootstrap': True, 'class_weight': {1: 1, 2: ...         0.651635\n",
      "\n",
      "[108 rows x 2 columns]\n"
     ]
    }
   ],
   "source": [
    "grid_rf = GridSearchCV(estimator = rf, param_grid = params_rf, cv = 5).fit(X_train_rf, y_train)\n",
    "print(pd.DataFrame.from_dict(grid_rf.cv_results_).loc[:, ['params', 'mean_test_score']])"
   ]
  },
  {
   "cell_type": "code",
   "execution_count": 35,
   "metadata": {},
   "outputs": [
    {
     "name": "stdout",
     "output_type": "stream",
     "text": [
      "{'bootstrap': True, 'class_weight': {1: 1, 2: 4, 3: 1, 4: 1}, 'criterion': 'gini', 'max_depth': 20, 'min_samples_leaf': 1, 'min_samples_split': 2, 'n_estimators': 100, 'n_jobs': -1, 'random_state': 42}\n",
      "0.6669439959809107\n"
     ]
    }
   ],
   "source": [
    "print(grid_rf.best_params_)\n",
    "print(grid_rf.best_score_)"
   ]
  },
  {
   "cell_type": "code",
   "execution_count": 36,
   "metadata": {},
   "outputs": [
    {
     "name": "stdout",
     "output_type": "stream",
     "text": [
      "Train acuracy : 86.34 %\n",
      "Test acuracy :  66.98 %\n",
      "\n",
      "Matrice de confusion :\n"
     ]
    },
    {
     "data": {
      "text/html": [
       "<div>\n",
       "<style scoped>\n",
       "    .dataframe tbody tr th:only-of-type {\n",
       "        vertical-align: middle;\n",
       "    }\n",
       "\n",
       "    .dataframe tbody tr th {\n",
       "        vertical-align: top;\n",
       "    }\n",
       "\n",
       "    .dataframe thead th {\n",
       "        text-align: right;\n",
       "    }\n",
       "</style>\n",
       "<table border=\"1\" class=\"dataframe\">\n",
       "  <thead>\n",
       "    <tr style=\"text-align: right;\">\n",
       "      <th>Classes prédites</th>\n",
       "      <th>1</th>\n",
       "      <th>2</th>\n",
       "      <th>3</th>\n",
       "      <th>4</th>\n",
       "    </tr>\n",
       "    <tr>\n",
       "      <th>Classes réelles</th>\n",
       "      <th></th>\n",
       "      <th></th>\n",
       "      <th></th>\n",
       "      <th></th>\n",
       "    </tr>\n",
       "  </thead>\n",
       "  <tbody>\n",
       "    <tr>\n",
       "      <th>1</th>\n",
       "      <td>38928</td>\n",
       "      <td>88</td>\n",
       "      <td>917</td>\n",
       "      <td>6204</td>\n",
       "    </tr>\n",
       "    <tr>\n",
       "      <th>2</th>\n",
       "      <td>413</td>\n",
       "      <td>379</td>\n",
       "      <td>1346</td>\n",
       "      <td>912</td>\n",
       "    </tr>\n",
       "    <tr>\n",
       "      <th>3</th>\n",
       "      <td>2510</td>\n",
       "      <td>495</td>\n",
       "      <td>6370</td>\n",
       "      <td>8125</td>\n",
       "    </tr>\n",
       "    <tr>\n",
       "      <th>4</th>\n",
       "      <td>12423</td>\n",
       "      <td>197</td>\n",
       "      <td>3276</td>\n",
       "      <td>29201</td>\n",
       "    </tr>\n",
       "  </tbody>\n",
       "</table>\n",
       "</div>"
      ],
      "text/plain": [
       "Classes prédites      1    2     3      4\n",
       "Classes réelles                          \n",
       "1                 38928   88   917   6204\n",
       "2                   413  379  1346    912\n",
       "3                  2510  495  6370   8125\n",
       "4                 12423  197  3276  29201"
      ]
     },
     "metadata": {},
     "output_type": "display_data"
    },
    {
     "name": "stdout",
     "output_type": "stream",
     "text": [
      "\n",
      "Rapport de classification :\n",
      "               precision    recall  f1-score   support\n",
      "\n",
      "           1       0.72      0.84      0.78     46137\n",
      "           2       0.33      0.12      0.18      3050\n",
      "           3       0.53      0.36      0.43     17500\n",
      "           4       0.66      0.65      0.65     45097\n",
      "\n",
      "    accuracy                           0.67    111784\n",
      "   macro avg       0.56      0.49      0.51    111784\n",
      "weighted avg       0.65      0.67      0.66    111784\n",
      "\n"
     ]
    }
   ],
   "source": [
    "print(\"Train acuracy :\", np.round(grid_rf.score(X_train_rf, y_train) * 100, 2), \"%\")\n",
    "print(\"Test acuracy : \", np.round(grid_rf.score(X_test_rf, y_test) * 100, 2), \"%\")\n",
    "print()\n",
    "y_pred = grid_rf.predict(X_test_rf)\n",
    "print(\"Matrice de confusion :\")\n",
    "display(pd.crosstab(y_test, y_pred, rownames = ['Classes réelles'], colnames = ['Classes prédites']))\n",
    "print()\n",
    "print(\"Rapport de classification :\\n\", classification_report(y_test, y_pred))"
   ]
  },
  {
   "cell_type": "markdown",
   "metadata": {},
   "source": [
    "Recherche du meilleur max_depth"
   ]
  },
  {
   "cell_type": "code",
   "execution_count": 70,
   "metadata": {},
   "outputs": [],
   "source": [
    "params_rf = {'n_estimators' : [100],\n",
    "            'criterion' : ['gini'],\n",
    "            'max_depth' : [14],\n",
    "            'min_samples_split' : [2],\n",
    "              'min_samples_leaf' : [1],\n",
    "            'bootstrap' : [True],\n",
    "            'n_jobs' : [-1],\n",
    "            'random_state' : [42],\n",
    "            'class_weight' : [{1: 1, 2: 4, 3: 1, 4: 1}]} \n",
    "\n",
    "grid_rf_2 = GridSearchCV(estimator = rf, param_grid = params_rf, cv = 5, scoring = 'f1_macro').fit(X_train_rf, y_train)"
   ]
  },
  {
   "cell_type": "code",
   "execution_count": 71,
   "metadata": {},
   "outputs": [
    {
     "name": "stdout",
     "output_type": "stream",
     "text": [
      "{'bootstrap': True, 'class_weight': {1: 1, 2: 4, 3: 1, 4: 1}, 'criterion': 'gini', 'max_depth': 14, 'min_samples_leaf': 1, 'min_samples_split': 2, 'n_estimators': 100, 'n_jobs': -1, 'random_state': 42}\n",
      "0.504257844524413\n"
     ]
    }
   ],
   "source": [
    "print(grid_rf_2.best_params_)\n",
    "print(grid_rf_2.best_score_)"
   ]
  },
  {
   "cell_type": "code",
   "execution_count": 72,
   "metadata": {},
   "outputs": [
    {
     "name": "stdout",
     "output_type": "stream",
     "text": [
      "Train acuracy : 71.32 %\n",
      "Test acuracy :  65.55 %\n",
      "\n",
      "Matrice de confusion :\n"
     ]
    },
    {
     "data": {
      "text/html": [
       "<div>\n",
       "<style scoped>\n",
       "    .dataframe tbody tr th:only-of-type {\n",
       "        vertical-align: middle;\n",
       "    }\n",
       "\n",
       "    .dataframe tbody tr th {\n",
       "        vertical-align: top;\n",
       "    }\n",
       "\n",
       "    .dataframe thead th {\n",
       "        text-align: right;\n",
       "    }\n",
       "</style>\n",
       "<table border=\"1\" class=\"dataframe\">\n",
       "  <thead>\n",
       "    <tr style=\"text-align: right;\">\n",
       "      <th>Classes prédites</th>\n",
       "      <th>1</th>\n",
       "      <th>2</th>\n",
       "      <th>3</th>\n",
       "      <th>4</th>\n",
       "    </tr>\n",
       "    <tr>\n",
       "      <th>Classes réelles</th>\n",
       "      <th></th>\n",
       "      <th></th>\n",
       "      <th></th>\n",
       "      <th></th>\n",
       "    </tr>\n",
       "  </thead>\n",
       "  <tbody>\n",
       "    <tr>\n",
       "      <th>1</th>\n",
       "      <td>39543</td>\n",
       "      <td>227</td>\n",
       "      <td>598</td>\n",
       "      <td>5769</td>\n",
       "    </tr>\n",
       "    <tr>\n",
       "      <th>2</th>\n",
       "      <td>483</td>\n",
       "      <td>760</td>\n",
       "      <td>863</td>\n",
       "      <td>944</td>\n",
       "    </tr>\n",
       "    <tr>\n",
       "      <th>3</th>\n",
       "      <td>2798</td>\n",
       "      <td>1357</td>\n",
       "      <td>4655</td>\n",
       "      <td>8690</td>\n",
       "    </tr>\n",
       "    <tr>\n",
       "      <th>4</th>\n",
       "      <td>13843</td>\n",
       "      <td>526</td>\n",
       "      <td>2414</td>\n",
       "      <td>28314</td>\n",
       "    </tr>\n",
       "  </tbody>\n",
       "</table>\n",
       "</div>"
      ],
      "text/plain": [
       "Classes prédites      1     2     3      4\n",
       "Classes réelles                           \n",
       "1                 39543   227   598   5769\n",
       "2                   483   760   863    944\n",
       "3                  2798  1357  4655   8690\n",
       "4                 13843   526  2414  28314"
      ]
     },
     "metadata": {},
     "output_type": "display_data"
    },
    {
     "name": "stdout",
     "output_type": "stream",
     "text": [
      "\n",
      "Rapport de classification :\n",
      "               precision    recall  f1-score   support\n",
      "\n",
      "           1       0.70      0.86      0.77     46137\n",
      "           2       0.26      0.25      0.26      3050\n",
      "           3       0.55      0.27      0.36     17500\n",
      "           4       0.65      0.63      0.64     45097\n",
      "\n",
      "    accuracy                           0.66    111784\n",
      "   macro avg       0.54      0.50      0.51    111784\n",
      "weighted avg       0.64      0.66      0.64    111784\n",
      "\n"
     ]
    }
   ],
   "source": [
    "y_train_pred = grid_rf_2.predict(X_train_rf)\n",
    "y_test_pred = grid_rf_2.predict(X_test_rf)\n",
    "print(\"Train acuracy :\", np.round(accuracy_score(y_train, y_train_pred) * 100, 2), \"%\")\n",
    "print(\"Test acuracy : \", np.round(accuracy_score(y_test, y_test_pred) * 100, 2), \"%\")\n",
    "print()\n",
    "\n",
    "print(\"Matrice de confusion :\")\n",
    "display(pd.crosstab(y_test, y_test_pred, rownames = ['Classes réelles'], colnames = ['Classes prédites']))\n",
    "print()\n",
    "print(\"Rapport de classification :\\n\", classification_report(y_test, y_test_pred))"
   ]
  },
  {
   "cell_type": "markdown",
   "metadata": {},
   "source": [
    "# Meilleur modèle"
   ]
  },
  {
   "cell_type": "code",
   "execution_count": 16,
   "metadata": {},
   "outputs": [],
   "source": [
    "# Variables retenues lors de l'entraînement du modèle brut\n",
    "liste_var_rf = ['lat', 'long', 'age_usager', 'heure', 'mois', 'col', 'catv', 'obsm',\n",
    "       'eq_ceinture', 'catr', 'place_rec', 'eq_casque', 'manv', 'lum', 'agg',\n",
    "       'motor', 'sexe', 'obs', 'infra', 'weekend', 'prox_pt_choc', 'prof',\n",
    "       'jour_chome', 'situ', 'int', 'circ', 'surf', 'atm', 'eq_indetermine',\n",
    "       'plan', 'catv_percute']\n",
    "X_train_rf = X_train[liste_var_rf]\n",
    "X_test_rf = X_test[liste_var_rf]"
   ]
  },
  {
   "cell_type": "code",
   "execution_count": 17,
   "metadata": {},
   "outputs": [
    {
     "name": "stdout",
     "output_type": "stream",
     "text": [
      "Train acuracy : 65.83 %\n",
      "Test acuracy :  61.39 %\n",
      "\n",
      "Matrice de confusion :\n"
     ]
    },
    {
     "data": {
      "text/html": [
       "<div>\n",
       "<style scoped>\n",
       "    .dataframe tbody tr th:only-of-type {\n",
       "        vertical-align: middle;\n",
       "    }\n",
       "\n",
       "    .dataframe tbody tr th {\n",
       "        vertical-align: top;\n",
       "    }\n",
       "\n",
       "    .dataframe thead th {\n",
       "        text-align: right;\n",
       "    }\n",
       "</style>\n",
       "<table border=\"1\" class=\"dataframe\">\n",
       "  <thead>\n",
       "    <tr style=\"text-align: right;\">\n",
       "      <th>Classes prédites</th>\n",
       "      <th>1</th>\n",
       "      <th>2</th>\n",
       "      <th>3</th>\n",
       "      <th>4</th>\n",
       "    </tr>\n",
       "    <tr>\n",
       "      <th>Classes réelles</th>\n",
       "      <th></th>\n",
       "      <th></th>\n",
       "      <th></th>\n",
       "      <th></th>\n",
       "    </tr>\n",
       "  </thead>\n",
       "  <tbody>\n",
       "    <tr>\n",
       "      <th>1</th>\n",
       "      <td>39227</td>\n",
       "      <td>1108</td>\n",
       "      <td>2415</td>\n",
       "      <td>3387</td>\n",
       "    </tr>\n",
       "    <tr>\n",
       "      <th>2</th>\n",
       "      <td>290</td>\n",
       "      <td>1483</td>\n",
       "      <td>1020</td>\n",
       "      <td>257</td>\n",
       "    </tr>\n",
       "    <tr>\n",
       "      <th>3</th>\n",
       "      <td>2205</td>\n",
       "      <td>3503</td>\n",
       "      <td>8716</td>\n",
       "      <td>3076</td>\n",
       "    </tr>\n",
       "    <tr>\n",
       "      <th>4</th>\n",
       "      <td>14445</td>\n",
       "      <td>2089</td>\n",
       "      <td>9368</td>\n",
       "      <td>19195</td>\n",
       "    </tr>\n",
       "  </tbody>\n",
       "</table>\n",
       "</div>"
      ],
      "text/plain": [
       "Classes prédites      1     2     3      4\n",
       "Classes réelles                           \n",
       "1                 39227  1108  2415   3387\n",
       "2                   290  1483  1020    257\n",
       "3                  2205  3503  8716   3076\n",
       "4                 14445  2089  9368  19195"
      ]
     },
     "metadata": {},
     "output_type": "display_data"
    },
    {
     "name": "stdout",
     "output_type": "stream",
     "text": [
      "\n",
      "Rapport de classification :\n",
      "               precision    recall  f1-score   support\n",
      "\n",
      "           1       0.70      0.85      0.77     46137\n",
      "           2       0.18      0.49      0.26      3050\n",
      "           3       0.41      0.50      0.45     17500\n",
      "           4       0.74      0.43      0.54     45097\n",
      "\n",
      "    accuracy                           0.61    111784\n",
      "   macro avg       0.51      0.57      0.50    111784\n",
      "weighted avg       0.66      0.61      0.61    111784\n",
      "\n"
     ]
    }
   ],
   "source": [
    "best_model = RandomForestClassifier(bootstrap = True, \n",
    "                                    class_weight = 'balanced', \n",
    "                                    criterion = 'entropy', \n",
    "                                    max_depth = 13, \n",
    "                                    min_samples_leaf = 1, \n",
    "                                    min_samples_split = 2, \n",
    "                                    n_estimators = 100, \n",
    "                                    n_jobs = -1, \n",
    "                                    random_state = 42).fit(X_train_rf, y_train)\n",
    "\n",
    "y_train_pred = best_model.predict(X_train_rf)\n",
    "y_test_pred = best_model.predict(X_test_rf)\n",
    "print(\"Train acuracy :\", np.round(accuracy_score(y_train, y_train_pred) * 100, 2), \"%\")\n",
    "print(\"Test acuracy : \", np.round(accuracy_score(y_test, y_test_pred) * 100, 2), \"%\")\n",
    "print()\n",
    "\n",
    "print(\"Matrice de confusion :\")\n",
    "display(pd.crosstab(y_test, y_test_pred, rownames = ['Classes réelles'], colnames = ['Classes prédites']))\n",
    "print()\n",
    "print(\"Rapport de classification :\\n\", classification_report(y_test, y_test_pred))"
   ]
  },
  {
   "cell_type": "code",
   "execution_count": 18,
   "metadata": {},
   "outputs": [
    {
     "data": {
      "text/plain": [
       "array([0.69839942, 0.18122938, 0.40503741, 0.74069072])"
      ]
     },
     "execution_count": 18,
     "metadata": {},
     "output_type": "execute_result"
    }
   ],
   "source": [
    "precision_score(y_test, y_test_pred, average = None)"
   ]
  },
  {
   "cell_type": "code",
   "execution_count": 19,
   "metadata": {},
   "outputs": [
    {
     "data": {
      "text/plain": [
       "array([0.85022867, 0.48622951, 0.49805714, 0.42563807])"
      ]
     },
     "execution_count": 19,
     "metadata": {},
     "output_type": "execute_result"
    }
   ],
   "source": [
    "recall_score(y_test, y_test_pred, average = None)"
   ]
  },
  {
   "cell_type": "markdown",
   "metadata": {},
   "source": [
    "# Réentrainement avec changement de l'ordre des modalités de 'grav' pour l'affichage streamlit"
   ]
  },
  {
   "cell_type": "code",
   "execution_count": 20,
   "metadata": {},
   "outputs": [
    {
     "data": {
      "text/plain": [
       "135492    4\n",
       "61030     4\n",
       "97417     4\n",
       "464936    3\n",
       "256701    4\n",
       "         ..\n",
       "181495    3\n",
       "453088    3\n",
       "164103    4\n",
       "172847    2\n",
       "463162    1\n",
       "Name: grav, Length: 335352, dtype: int64"
      ]
     },
     "execution_count": 20,
     "metadata": {},
     "output_type": "execute_result"
    }
   ],
   "source": [
    "y_train"
   ]
  },
  {
   "cell_type": "code",
   "execution_count": 21,
   "metadata": {},
   "outputs": [],
   "source": [
    "# Modification de l'odre des modalités de 'grav' : 0 - indemenes, 1 - blessés légers, 2 - blessés hospitalisés, 3 - tués\n",
    "y_train = y_train.replace([1, 2, 3, 4], ['ind', 'tue', 'bh', 'bl'])\n",
    "y_train = y_train.replace(['ind', 'tue', 'bh', 'bl'], [0, 3, 2, 1])\n",
    "\n",
    "y_test = y_test.replace([1, 2, 3, 4], ['ind', 'tue', 'bh', 'bl'])\n",
    "y_test = y_test.replace(['ind', 'tue', 'bh', 'bl'], [0, 3, 2, 1])"
   ]
  },
  {
   "cell_type": "code",
   "execution_count": 22,
   "metadata": {},
   "outputs": [
    {
     "data": {
      "text/plain": [
       "135492    1\n",
       "61030     1\n",
       "97417     1\n",
       "464936    2\n",
       "256701    1\n",
       "         ..\n",
       "181495    2\n",
       "453088    2\n",
       "164103    1\n",
       "172847    3\n",
       "463162    0\n",
       "Name: grav, Length: 335352, dtype: int64"
      ]
     },
     "execution_count": 22,
     "metadata": {},
     "output_type": "execute_result"
    }
   ],
   "source": [
    "y_train"
   ]
  },
  {
   "cell_type": "code",
   "execution_count": 23,
   "metadata": {},
   "outputs": [],
   "source": [
    "# Variables retenues lors de l'entraînement du modèle brut\n",
    "liste_var_rf = ['lat', 'long', 'age_usager', 'heure', 'mois', 'col', 'catv', 'obsm',\n",
    "       'eq_ceinture', 'catr', 'place_rec', 'eq_casque', 'manv', 'lum', 'agg',\n",
    "       'motor', 'sexe', 'obs', 'infra', 'weekend', 'prox_pt_choc', 'prof',\n",
    "       'jour_chome', 'situ', 'int', 'circ', 'surf', 'atm', 'eq_indetermine',\n",
    "       'plan', 'catv_percute']\n",
    "X_train_rf = X_train[liste_var_rf]\n",
    "X_test_rf = X_test[liste_var_rf]"
   ]
  },
  {
   "cell_type": "code",
   "execution_count": 24,
   "metadata": {},
   "outputs": [
    {
     "name": "stdout",
     "output_type": "stream",
     "text": [
      "Train acuracy : 65.83 %\n",
      "Test acuracy :  61.36 %\n",
      "\n",
      "Matrice de confusion :\n"
     ]
    },
    {
     "data": {
      "text/html": [
       "<div>\n",
       "<style scoped>\n",
       "    .dataframe tbody tr th:only-of-type {\n",
       "        vertical-align: middle;\n",
       "    }\n",
       "\n",
       "    .dataframe tbody tr th {\n",
       "        vertical-align: top;\n",
       "    }\n",
       "\n",
       "    .dataframe thead th {\n",
       "        text-align: right;\n",
       "    }\n",
       "</style>\n",
       "<table border=\"1\" class=\"dataframe\">\n",
       "  <thead>\n",
       "    <tr style=\"text-align: right;\">\n",
       "      <th>Classes prédites</th>\n",
       "      <th>0</th>\n",
       "      <th>1</th>\n",
       "      <th>2</th>\n",
       "      <th>3</th>\n",
       "    </tr>\n",
       "    <tr>\n",
       "      <th>Classes réelles</th>\n",
       "      <th></th>\n",
       "      <th></th>\n",
       "      <th></th>\n",
       "      <th></th>\n",
       "    </tr>\n",
       "  </thead>\n",
       "  <tbody>\n",
       "    <tr>\n",
       "      <th>0</th>\n",
       "      <td>39254</td>\n",
       "      <td>3330</td>\n",
       "      <td>2447</td>\n",
       "      <td>1106</td>\n",
       "    </tr>\n",
       "    <tr>\n",
       "      <th>1</th>\n",
       "      <td>14474</td>\n",
       "      <td>19022</td>\n",
       "      <td>9518</td>\n",
       "      <td>2083</td>\n",
       "    </tr>\n",
       "    <tr>\n",
       "      <th>2</th>\n",
       "      <td>2178</td>\n",
       "      <td>2995</td>\n",
       "      <td>8846</td>\n",
       "      <td>3481</td>\n",
       "    </tr>\n",
       "    <tr>\n",
       "      <th>3</th>\n",
       "      <td>299</td>\n",
       "      <td>249</td>\n",
       "      <td>1037</td>\n",
       "      <td>1465</td>\n",
       "    </tr>\n",
       "  </tbody>\n",
       "</table>\n",
       "</div>"
      ],
      "text/plain": [
       "Classes prédites      0      1     2     3\n",
       "Classes réelles                           \n",
       "0                 39254   3330  2447  1106\n",
       "1                 14474  19022  9518  2083\n",
       "2                  2178   2995  8846  3481\n",
       "3                   299    249  1037  1465"
      ]
     },
     "metadata": {},
     "output_type": "display_data"
    },
    {
     "name": "stdout",
     "output_type": "stream",
     "text": [
      "\n",
      "Rapport de classification :\n",
      "               precision    recall  f1-score   support\n",
      "\n",
      "           0       0.70      0.85      0.77     46137\n",
      "           1       0.74      0.42      0.54     45097\n",
      "           2       0.40      0.51      0.45     17500\n",
      "           3       0.18      0.48      0.26      3050\n",
      "\n",
      "    accuracy                           0.61    111784\n",
      "   macro avg       0.51      0.56      0.50    111784\n",
      "weighted avg       0.66      0.61      0.61    111784\n",
      "\n"
     ]
    }
   ],
   "source": [
    "best_model = RandomForestClassifier(bootstrap = True, \n",
    "                                    class_weight = 'balanced', \n",
    "                                    criterion = 'entropy', \n",
    "                                    max_depth = 13, \n",
    "                                    min_samples_leaf = 1, \n",
    "                                    min_samples_split = 2, \n",
    "                                    n_estimators = 100, \n",
    "                                    n_jobs = -1, \n",
    "                                    random_state = 42).fit(X_train_rf, y_train)\n",
    "\n",
    "y_train_pred = best_model.predict(X_train_rf)\n",
    "y_test_pred = best_model.predict(X_test_rf)\n",
    "print(\"Train acuracy :\", np.round(accuracy_score(y_train, y_train_pred) * 100, 2), \"%\")\n",
    "print(\"Test acuracy : \", np.round(accuracy_score(y_test, y_test_pred) * 100, 2), \"%\")\n",
    "print()\n",
    "\n",
    "print(\"Matrice de confusion :\")\n",
    "display(pd.crosstab(y_test, y_test_pred, rownames = ['Classes réelles'], colnames = ['Classes prédites']))\n",
    "print()\n",
    "print(\"Rapport de classification :\\n\", classification_report(y_test, y_test_pred))"
   ]
  },
  {
   "cell_type": "code",
   "execution_count": 25,
   "metadata": {},
   "outputs": [
    {
     "data": {
      "text/plain": [
       "['../../../data/saved_models/RandomForest_4classes_catv_percute.joblib']"
      ]
     },
     "execution_count": 25,
     "metadata": {},
     "output_type": "execute_result"
    }
   ],
   "source": [
    "joblib.dump(best_model, \"../../../data/saved_models/RandomForest_4classes_catv_percute.joblib\")"
   ]
  },
  {
   "cell_type": "code",
   "execution_count": 33,
   "metadata": {},
   "outputs": [
    {
     "name": "stdout",
     "output_type": "stream",
     "text": [
      "Le score sur le jeu d'entraînement est de 0.6582814475536153, et de 0.6135672368138553 sur le jeu de test.\n"
     ]
    }
   ],
   "source": [
    "score_train = best_model.score(X_train_rf, y_train)\n",
    "score_test = best_model.score(X_test_rf, y_test)\n",
    "print(f\"Le score sur le jeu d'entraînement est de {score_train}, et de {score_test} sur le jeu de test.\")"
   ]
  },
  {
   "cell_type": "code",
   "execution_count": 35,
   "metadata": {},
   "outputs": [
    {
     "name": "stdout",
     "output_type": "stream",
     "text": [
      "                precision    recall  f1-score        support\n",
      "Indemnes         0.698408  0.850814  0.767114   46137.000000\n",
      "Blessés légers   0.743163  0.421802  0.538158   45097.000000\n",
      "Blessés graves   0.404888  0.505486  0.449629   17500.000000\n",
      "Tués             0.180086  0.480328  0.261958    3050.000000\n",
      "accuracy         0.613567  0.613567  0.613567       0.613567\n",
      "macro avg        0.506636  0.564607  0.504215  111784.000000\n",
      "weighted avg     0.656370  0.613567  0.611260  111784.000000\n"
     ]
    },
    {
     "data": {
      "image/png": "[encoded data removed]",
      "text/plain": [
       "<Figure size 640x480 with 2 Axes>"
      ]
     },
     "metadata": {},
     "output_type": "display_data"
    }
   ],
   "source": [
    "cm = confusion_matrix(y_test, y_test_pred)\n",
    "disp = ConfusionMatrixDisplay.from_estimator(\n",
    "       best_model,\n",
    "       X_test_rf,\n",
    "       y_test,\n",
    "       display_labels=['Indemnes', 'Blessés légers', 'Blessés graves', 'Tués']\n",
    "   )\n",
    "disp.ax_.set(xlabel='Classes prédites', ylabel='Classes réelles')\n",
    "plt.grid(False)\n",
    "plt.savefig(conf['local_data_path'] + 'img/rf_4classes_catv_percute_confusion_matrix' + '.png')\n",
    "\n",
    "\n",
    "cr= classification_report(y_test, y_test_pred,\n",
    "target_names=['Indemnes', 'Blessés légers', 'Blessés graves', 'Tués'],\n",
    "output_dict=True)\n",
    "df_cr = pd.DataFrame(cr).transpose()\n",
    "print(df_cr)\n",
    "df_cr.to_csv(conf['local_data_path'] + 'img/rf_4classes_catv_percute_report' + '.csv')"
   ]
  }
 ],
 "metadata": {
  "kernelspec": {
   "display_name": "Projet",
   "language": "python",
   "name": "python3"
  },
  "language_info": {
   "codemirror_mode": {
    "name": "ipython",
    "version": 3
   },
   "file_extension": ".py",
   "mimetype": "text/x-python",
   "name": "python",
   "nbconvert_exporter": "python",
   "pygments_lexer": "ipython3",
   "version": "3.12.1"
  }
 },
 "nbformat": 4,
 "nbformat_minor": 2
}
