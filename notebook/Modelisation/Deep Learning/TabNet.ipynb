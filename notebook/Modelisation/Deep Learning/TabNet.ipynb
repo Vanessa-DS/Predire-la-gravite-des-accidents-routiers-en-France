{
 "cells": [
  {
   "cell_type": "code",
   "execution_count": 3,
   "metadata": {},
   "outputs": [],
   "source": [
    "#pip install pytorch-tabnet"
   ]
  },
  {
   "cell_type": "code",
   "execution_count": 4,
   "metadata": {},
   "outputs": [],
   "source": [
    "#pip install torch"
   ]
  },
  {
   "cell_type": "code",
   "execution_count": 11,
   "metadata": {},
   "outputs": [],
   "source": [
    "import pandas as pd\n",
    "import numpy as np\n",
    "import yaml\n",
    "import matplotlib.pyplot as plt\n",
    "import seaborn as sns\n",
    "import collections\n",
    "import optuna\n",
    "import pickle\n",
    "\n",
    "from sklearn.base import BaseEstimator,TransformerMixin, ClassifierMixin\n",
    "from sklearn.model_selection import train_test_split, cross_validate, StratifiedKFold, GridSearchCV, RandomizedSearchCV, validation_curve\n",
    "from sklearn.pipeline import make_pipeline, Pipeline\n",
    "from sklearn.compose import ColumnTransformer\n",
    "from sklearn.preprocessing import MinMaxScaler, RobustScaler, OneHotEncoder, PolynomialFeatures, StandardScaler, SplineTransformer, KBinsDiscretizer\n",
    "from sklearn.linear_model import LogisticRegression\n",
    "from sklearn.metrics import classification_report, roc_auc_score, f1_score, roc_curve, auc, recall_score, precision_recall_curve, make_scorer, accuracy_score, confusion_matrix, ConfusionMatrixDisplay\n",
    "from sklearn.kernel_approximation import Nystroem\n",
    "from sklearn.feature_selection import SelectKBest, f_classif, RFE\n",
    "from sklearn.multiclass import OneVsRestClassifier, OneVsOneClassifier\n",
    "from sklearn.decomposition import PCA\n",
    "from sklearn.inspection import permutation_importance\n",
    "from sklearn.ensemble import RandomForestClassifier, StackingClassifier, VotingClassifier\n",
    "\n",
    "from pickle import dump, load\n",
    "\n",
    "# Pytorch modules\n",
    "import torch\n",
    "import torch.nn as nn\n",
    "import torch.optim as optim\n",
    "from torch.utils.data import Dataset, DataLoader\n",
    "import torch.nn.functional as F\n",
    "\n",
    "from torchviz import make_dot, make_dot_from_trace\n",
    "from tqdm.notebook import tqdm\n",
    "import tqdm\n",
    "\n",
    "from pytorch_tabnet.tab_model import TabNetClassifier\n",
    "\n",
    "from optuna.samplers import TPESampler"
   ]
  },
  {
   "cell_type": "code",
   "execution_count": 12,
   "metadata": {},
   "outputs": [],
   "source": [
    "file = open('../../../conf/global_conf.yml', 'r') \n",
    "conf = yaml.safe_load(file)\n",
    "df = pd.read_csv(conf['local_data_path'] + \"data_cleaned_final_sans_dummies.csv\",index_col=0,low_memory=False)\n",
    "\n",
    "# Recodage variable cible grav par ordre croissant : 0 : indemne, 1 : blessé léger, 2 : blessé grave, 3 : décès\n",
    "with pd.option_context(\"future.no_silent_downcasting\", True):\n",
    "    df['grav'] = df['grav'].replace(1,'I')\n",
    "    df['grav'] = df['grav'].replace(2,'T')\n",
    "    df['grav'] = df['grav'].replace(3,'BG')\n",
    "    df['grav'] = df['grav'].replace(4,'BL')\n",
    "    df['grav'] = df['grav'].replace('I',0)\n",
    "    df['grav'] = df['grav'].replace('T',3)\n",
    "    df['grav'] = df['grav'].replace('BG',2)\n",
    "    df['grav'] = df['grav'].replace('BL',1)\n",
    "\n",
    "data = df.drop(['grav_rec', 'an', 'jour', 'date', 'dep', 'grav'], axis=1)\n",
    "y = df.grav.astype('int')\n",
    "\n",
    "numerical_features = ['age_usager', 'mois', 'heure', 'lat', 'long']\n",
    "categorical_features = [col for col in data.columns if col not in numerical_features]\n",
    "for col in categorical_features:\n",
    "    data[col] = data[col].astype('int')\n",
    "data[categorical_features] = data[categorical_features].astype('int')\n"
   ]
  },
  {
   "cell_type": "code",
   "execution_count": 13,
   "metadata": {},
   "outputs": [],
   "source": [
    "class TransfoHour(BaseEstimator, TransformerMixin):\n",
    "    def __init__(self, column_name):\n",
    "        self.column_name = column_name\n",
    "\n",
    "    def fit(self, X, y=None):\n",
    "        return self\n",
    "\n",
    "    def transform(self, X):\n",
    "        X_transfo = X.copy()\n",
    "        X_transfo[f'{self.column_name}_sin'] = np.sin(X_transfo[self.column_name]*(2.*np.pi/24))\n",
    "        X_transfo[f'{self.column_name}_cos'] = np.cos(X_transfo[self.column_name]*(2.*np.pi/24))\n",
    "        X_transfo = X_transfo.drop(self.column_name, axis=1)\n",
    "        return X_transfo\n",
    "\n",
    "    def get_feature_names_out(self):\n",
    "        pass\n",
    "\n",
    "class TransfoMonth(BaseEstimator, TransformerMixin):\n",
    "    def __init__(self, column_name):\n",
    "        self.column_name = column_name\n",
    "\n",
    "    def fit(self, X, y=None):\n",
    "        return self\n",
    "\n",
    "    def transform(self, X):\n",
    "        X_transfo = X.copy()\n",
    "        X_transfo[f'{self.column_name}_sin'] = np.sin((X_transfo[self.column_name]-1)*(2.*np.pi/12))\n",
    "        X_transfo[f'{self.column_name}_cos'] = np.cos((X_transfo[self.column_name]-1)*(2.*np.pi/12))\n",
    "        X_transfo = X_transfo.drop(self.column_name, axis=1)\n",
    "        return X_transfo\n",
    "\n",
    "    def get_feature_names_out(self):\n",
    "        pass\n",
    "\n",
    "\n",
    "preprocessor = ColumnTransformer(transformers=[\n",
    "    (\"transfo_heure\", TransfoHour('heure'), ['heure']),\n",
    "    (\"transfo_mois\", TransfoMonth('mois'), ['mois']),\n",
    "    (\"transfo_lat_long\", RobustScaler(), ['lat', 'long']),\n",
    "    ('transfo_age_usager', StandardScaler(), ['age_usager'])\n",
    "    ],\n",
    "    remainder=\"passthrough\"\n",
    ").set_output(transform=\"pandas\")\n"
   ]
  },
  {
   "cell_type": "code",
   "execution_count": 14,
   "metadata": {},
   "outputs": [
    {
     "data": {
      "text/html": [
       "<div>\n",
       "<style scoped>\n",
       "    .dataframe tbody tr th:only-of-type {\n",
       "        vertical-align: middle;\n",
       "    }\n",
       "\n",
       "    .dataframe tbody tr th {\n",
       "        vertical-align: top;\n",
       "    }\n",
       "\n",
       "    .dataframe thead th {\n",
       "        text-align: right;\n",
       "    }\n",
       "</style>\n",
       "<table border=\"1\" class=\"dataframe\">\n",
       "  <thead>\n",
       "    <tr style=\"text-align: right;\">\n",
       "      <th></th>\n",
       "      <th>transfo_heure__heure_sin</th>\n",
       "      <th>transfo_heure__heure_cos</th>\n",
       "      <th>transfo_mois__mois_sin</th>\n",
       "      <th>transfo_mois__mois_cos</th>\n",
       "      <th>transfo_lat_long__lat</th>\n",
       "      <th>transfo_lat_long__long</th>\n",
       "      <th>transfo_age_usager__age_usager</th>\n",
       "      <th>remainder__lum</th>\n",
       "      <th>remainder__agg</th>\n",
       "      <th>remainder__int</th>\n",
       "      <th>...</th>\n",
       "      <th>remainder__eq_ceinture</th>\n",
       "      <th>remainder__eq_casque</th>\n",
       "      <th>remainder__eq_siege</th>\n",
       "      <th>remainder__eq_gilet</th>\n",
       "      <th>remainder__eq_airbag</th>\n",
       "      <th>remainder__eq_gants</th>\n",
       "      <th>remainder__eq_indetermine</th>\n",
       "      <th>remainder__eq_autre</th>\n",
       "      <th>remainder__jour_chome</th>\n",
       "      <th>remainder__prox_pt_choc</th>\n",
       "    </tr>\n",
       "  </thead>\n",
       "  <tbody>\n",
       "    <tr>\n",
       "      <th>367203</th>\n",
       "      <td>1.224647e-16</td>\n",
       "      <td>-1.000000</td>\n",
       "      <td>0.000000e+00</td>\n",
       "      <td>1.000000e+00</td>\n",
       "      <td>0.291093</td>\n",
       "      <td>0.027916</td>\n",
       "      <td>1.522566</td>\n",
       "      <td>0</td>\n",
       "      <td>1</td>\n",
       "      <td>0</td>\n",
       "      <td>...</td>\n",
       "      <td>0</td>\n",
       "      <td>0</td>\n",
       "      <td>0</td>\n",
       "      <td>0</td>\n",
       "      <td>0</td>\n",
       "      <td>0</td>\n",
       "      <td>1</td>\n",
       "      <td>0</td>\n",
       "      <td>1</td>\n",
       "      <td>0</td>\n",
       "    </tr>\n",
       "    <tr>\n",
       "      <th>165009</th>\n",
       "      <td>-9.659258e-01</td>\n",
       "      <td>-0.258819</td>\n",
       "      <td>8.660254e-01</td>\n",
       "      <td>-5.000000e-01</td>\n",
       "      <td>0.676458</td>\n",
       "      <td>-0.006907</td>\n",
       "      <td>0.193791</td>\n",
       "      <td>0</td>\n",
       "      <td>0</td>\n",
       "      <td>1</td>\n",
       "      <td>...</td>\n",
       "      <td>1</td>\n",
       "      <td>0</td>\n",
       "      <td>0</td>\n",
       "      <td>0</td>\n",
       "      <td>0</td>\n",
       "      <td>0</td>\n",
       "      <td>0</td>\n",
       "      <td>0</td>\n",
       "      <td>1</td>\n",
       "      <td>0</td>\n",
       "    </tr>\n",
       "    <tr>\n",
       "      <th>102923</th>\n",
       "      <td>-5.000000e-01</td>\n",
       "      <td>-0.866025</td>\n",
       "      <td>8.660254e-01</td>\n",
       "      <td>-5.000000e-01</td>\n",
       "      <td>0.271712</td>\n",
       "      <td>-0.046623</td>\n",
       "      <td>0.193791</td>\n",
       "      <td>0</td>\n",
       "      <td>1</td>\n",
       "      <td>1</td>\n",
       "      <td>...</td>\n",
       "      <td>0</td>\n",
       "      <td>1</td>\n",
       "      <td>0</td>\n",
       "      <td>0</td>\n",
       "      <td>0</td>\n",
       "      <td>1</td>\n",
       "      <td>0</td>\n",
       "      <td>0</td>\n",
       "      <td>1</td>\n",
       "      <td>1</td>\n",
       "    </tr>\n",
       "    <tr>\n",
       "      <th>389410</th>\n",
       "      <td>-8.660254e-01</td>\n",
       "      <td>-0.500000</td>\n",
       "      <td>1.000000e+00</td>\n",
       "      <td>6.123234e-17</td>\n",
       "      <td>0.201869</td>\n",
       "      <td>1.542802</td>\n",
       "      <td>-0.816077</td>\n",
       "      <td>0</td>\n",
       "      <td>1</td>\n",
       "      <td>1</td>\n",
       "      <td>...</td>\n",
       "      <td>1</td>\n",
       "      <td>0</td>\n",
       "      <td>0</td>\n",
       "      <td>0</td>\n",
       "      <td>0</td>\n",
       "      <td>0</td>\n",
       "      <td>1</td>\n",
       "      <td>0</td>\n",
       "      <td>0</td>\n",
       "      <td>0</td>\n",
       "    </tr>\n",
       "    <tr>\n",
       "      <th>85702</th>\n",
       "      <td>8.660254e-01</td>\n",
       "      <td>-0.500000</td>\n",
       "      <td>1.224647e-16</td>\n",
       "      <td>-1.000000e+00</td>\n",
       "      <td>-0.047079</td>\n",
       "      <td>-0.248779</td>\n",
       "      <td>0.937905</td>\n",
       "      <td>0</td>\n",
       "      <td>1</td>\n",
       "      <td>1</td>\n",
       "      <td>...</td>\n",
       "      <td>0</td>\n",
       "      <td>0</td>\n",
       "      <td>0</td>\n",
       "      <td>0</td>\n",
       "      <td>0</td>\n",
       "      <td>0</td>\n",
       "      <td>0</td>\n",
       "      <td>0</td>\n",
       "      <td>0</td>\n",
       "      <td>0</td>\n",
       "    </tr>\n",
       "  </tbody>\n",
       "</table>\n",
       "<p>5 rows × 37 columns</p>\n",
       "</div>"
      ],
      "text/plain": [
       "        transfo_heure__heure_sin  transfo_heure__heure_cos  \\\n",
       "367203              1.224647e-16                 -1.000000   \n",
       "165009             -9.659258e-01                 -0.258819   \n",
       "102923             -5.000000e-01                 -0.866025   \n",
       "389410             -8.660254e-01                 -0.500000   \n",
       "85702               8.660254e-01                 -0.500000   \n",
       "\n",
       "        transfo_mois__mois_sin  transfo_mois__mois_cos  transfo_lat_long__lat  \\\n",
       "367203            0.000000e+00            1.000000e+00               0.291093   \n",
       "165009            8.660254e-01           -5.000000e-01               0.676458   \n",
       "102923            8.660254e-01           -5.000000e-01               0.271712   \n",
       "389410            1.000000e+00            6.123234e-17               0.201869   \n",
       "85702             1.224647e-16           -1.000000e+00              -0.047079   \n",
       "\n",
       "        transfo_lat_long__long  transfo_age_usager__age_usager  \\\n",
       "367203                0.027916                        1.522566   \n",
       "165009               -0.006907                        0.193791   \n",
       "102923               -0.046623                        0.193791   \n",
       "389410                1.542802                       -0.816077   \n",
       "85702                -0.248779                        0.937905   \n",
       "\n",
       "        remainder__lum  remainder__agg  remainder__int  ...  \\\n",
       "367203               0               1               0  ...   \n",
       "165009               0               0               1  ...   \n",
       "102923               0               1               1  ...   \n",
       "389410               0               1               1  ...   \n",
       "85702                0               1               1  ...   \n",
       "\n",
       "        remainder__eq_ceinture  remainder__eq_casque  remainder__eq_siege  \\\n",
       "367203                       0                     0                    0   \n",
       "165009                       1                     0                    0   \n",
       "102923                       0                     1                    0   \n",
       "389410                       1                     0                    0   \n",
       "85702                        0                     0                    0   \n",
       "\n",
       "        remainder__eq_gilet  remainder__eq_airbag  remainder__eq_gants  \\\n",
       "367203                    0                     0                    0   \n",
       "165009                    0                     0                    0   \n",
       "102923                    0                     0                    1   \n",
       "389410                    0                     0                    0   \n",
       "85702                     0                     0                    0   \n",
       "\n",
       "        remainder__eq_indetermine  remainder__eq_autre  remainder__jour_chome  \\\n",
       "367203                          1                    0                      1   \n",
       "165009                          0                    0                      1   \n",
       "102923                          0                    0                      1   \n",
       "389410                          1                    0                      0   \n",
       "85702                           0                    0                      0   \n",
       "\n",
       "        remainder__prox_pt_choc  \n",
       "367203                        0  \n",
       "165009                        0  \n",
       "102923                        1  \n",
       "389410                        0  \n",
       "85702                         0  \n",
       "\n",
       "[5 rows x 37 columns]"
      ]
     },
     "execution_count": 14,
     "metadata": {},
     "output_type": "execute_result"
    }
   ],
   "source": [
    "data_train, data_test, y_train, y_test = train_test_split(data, y, test_size=0.3, random_state=42, stratify=y)\n",
    "data_train, data_val, y_train, y_val = train_test_split(data_train, y_train, test_size=0.1, random_state=42, stratify=y_train)\n",
    "\n",
    "data_process_train = preprocessor.fit_transform(data_train)\n",
    "data_process_val = preprocessor.transform(data_val)\n",
    "data_process_test = preprocessor.transform(data_test)\n",
    "\n",
    "data_process_train.head()"
   ]
  },
  {
   "cell_type": "code",
   "execution_count": 6,
   "metadata": {},
   "outputs": [],
   "source": [
    "dump(preprocessor,open('../../../data/saved_models/' + 'preprocessor_tabnet.pkl','wb'))"
   ]
  },
  {
   "cell_type": "code",
   "execution_count": 9,
   "metadata": {},
   "outputs": [
    {
     "data": {
      "text/html": [
       "<div>\n",
       "<style scoped>\n",
       "    .dataframe tbody tr th:only-of-type {\n",
       "        vertical-align: middle;\n",
       "    }\n",
       "\n",
       "    .dataframe tbody tr th {\n",
       "        vertical-align: top;\n",
       "    }\n",
       "\n",
       "    .dataframe thead th {\n",
       "        text-align: right;\n",
       "    }\n",
       "</style>\n",
       "<table border=\"1\" class=\"dataframe\">\n",
       "  <thead>\n",
       "    <tr style=\"text-align: right;\">\n",
       "      <th></th>\n",
       "      <th>transfo_heure__heure_sin</th>\n",
       "      <th>transfo_heure__heure_cos</th>\n",
       "      <th>transfo_mois__mois_sin</th>\n",
       "      <th>transfo_mois__mois_cos</th>\n",
       "      <th>transfo_lat_long__lat</th>\n",
       "      <th>transfo_lat_long__long</th>\n",
       "      <th>transfo_age_usager__age_usager</th>\n",
       "      <th>remainder__lum</th>\n",
       "      <th>remainder__agg</th>\n",
       "      <th>remainder__int</th>\n",
       "      <th>...</th>\n",
       "      <th>remainder__eq_ceinture</th>\n",
       "      <th>remainder__eq_casque</th>\n",
       "      <th>remainder__eq_siege</th>\n",
       "      <th>remainder__eq_gilet</th>\n",
       "      <th>remainder__eq_airbag</th>\n",
       "      <th>remainder__eq_gants</th>\n",
       "      <th>remainder__eq_indetermine</th>\n",
       "      <th>remainder__eq_autre</th>\n",
       "      <th>remainder__jour_chome</th>\n",
       "      <th>remainder__prox_pt_choc</th>\n",
       "    </tr>\n",
       "  </thead>\n",
       "  <tbody>\n",
       "    <tr>\n",
       "      <th>1250</th>\n",
       "      <td>-5.000000e-01</td>\n",
       "      <td>-0.866025</td>\n",
       "      <td>-0.866025</td>\n",
       "      <td>5.000000e-01</td>\n",
       "      <td>0.269534</td>\n",
       "      <td>-0.031134</td>\n",
       "      <td>-0.178266</td>\n",
       "      <td>0</td>\n",
       "      <td>1</td>\n",
       "      <td>0</td>\n",
       "      <td>...</td>\n",
       "      <td>1</td>\n",
       "      <td>0</td>\n",
       "      <td>0</td>\n",
       "      <td>0</td>\n",
       "      <td>0</td>\n",
       "      <td>0</td>\n",
       "      <td>0</td>\n",
       "      <td>0</td>\n",
       "      <td>1</td>\n",
       "      <td>1</td>\n",
       "    </tr>\n",
       "    <tr>\n",
       "      <th>198605</th>\n",
       "      <td>1.224647e-16</td>\n",
       "      <td>-1.000000</td>\n",
       "      <td>-0.500000</td>\n",
       "      <td>8.660254e-01</td>\n",
       "      <td>0.003887</td>\n",
       "      <td>-1.665390</td>\n",
       "      <td>-1.134983</td>\n",
       "      <td>0</td>\n",
       "      <td>1</td>\n",
       "      <td>1</td>\n",
       "      <td>...</td>\n",
       "      <td>0</td>\n",
       "      <td>1</td>\n",
       "      <td>0</td>\n",
       "      <td>0</td>\n",
       "      <td>0</td>\n",
       "      <td>0</td>\n",
       "      <td>1</td>\n",
       "      <td>0</td>\n",
       "      <td>0</td>\n",
       "      <td>1</td>\n",
       "    </tr>\n",
       "    <tr>\n",
       "      <th>125556</th>\n",
       "      <td>8.660254e-01</td>\n",
       "      <td>0.500000</td>\n",
       "      <td>0.000000</td>\n",
       "      <td>1.000000e+00</td>\n",
       "      <td>-1.256697</td>\n",
       "      <td>2.055111</td>\n",
       "      <td>-0.709775</td>\n",
       "      <td>2</td>\n",
       "      <td>0</td>\n",
       "      <td>0</td>\n",
       "      <td>...</td>\n",
       "      <td>1</td>\n",
       "      <td>0</td>\n",
       "      <td>0</td>\n",
       "      <td>0</td>\n",
       "      <td>0</td>\n",
       "      <td>0</td>\n",
       "      <td>0</td>\n",
       "      <td>0</td>\n",
       "      <td>1</td>\n",
       "      <td>1</td>\n",
       "    </tr>\n",
       "    <tr>\n",
       "      <th>267349</th>\n",
       "      <td>-9.659258e-01</td>\n",
       "      <td>0.258819</td>\n",
       "      <td>1.000000</td>\n",
       "      <td>6.123234e-17</td>\n",
       "      <td>0.399773</td>\n",
       "      <td>-0.093836</td>\n",
       "      <td>-0.869228</td>\n",
       "      <td>0</td>\n",
       "      <td>1</td>\n",
       "      <td>1</td>\n",
       "      <td>...</td>\n",
       "      <td>1</td>\n",
       "      <td>0</td>\n",
       "      <td>0</td>\n",
       "      <td>0</td>\n",
       "      <td>0</td>\n",
       "      <td>0</td>\n",
       "      <td>0</td>\n",
       "      <td>0</td>\n",
       "      <td>0</td>\n",
       "      <td>0</td>\n",
       "    </tr>\n",
       "    <tr>\n",
       "      <th>383250</th>\n",
       "      <td>2.588190e-01</td>\n",
       "      <td>-0.965926</td>\n",
       "      <td>-0.866025</td>\n",
       "      <td>5.000000e-01</td>\n",
       "      <td>-0.688581</td>\n",
       "      <td>-0.885088</td>\n",
       "      <td>-1.719644</td>\n",
       "      <td>0</td>\n",
       "      <td>1</td>\n",
       "      <td>1</td>\n",
       "      <td>...</td>\n",
       "      <td>0</td>\n",
       "      <td>0</td>\n",
       "      <td>1</td>\n",
       "      <td>0</td>\n",
       "      <td>0</td>\n",
       "      <td>0</td>\n",
       "      <td>0</td>\n",
       "      <td>0</td>\n",
       "      <td>1</td>\n",
       "      <td>0</td>\n",
       "    </tr>\n",
       "  </tbody>\n",
       "</table>\n",
       "<p>5 rows × 37 columns</p>\n",
       "</div>"
      ],
      "text/plain": [
       "        transfo_heure__heure_sin  transfo_heure__heure_cos  \\\n",
       "1250               -5.000000e-01                 -0.866025   \n",
       "198605              1.224647e-16                 -1.000000   \n",
       "125556              8.660254e-01                  0.500000   \n",
       "267349             -9.659258e-01                  0.258819   \n",
       "383250              2.588190e-01                 -0.965926   \n",
       "\n",
       "        transfo_mois__mois_sin  transfo_mois__mois_cos  transfo_lat_long__lat  \\\n",
       "1250                 -0.866025            5.000000e-01               0.269534   \n",
       "198605               -0.500000            8.660254e-01               0.003887   \n",
       "125556                0.000000            1.000000e+00              -1.256697   \n",
       "267349                1.000000            6.123234e-17               0.399773   \n",
       "383250               -0.866025            5.000000e-01              -0.688581   \n",
       "\n",
       "        transfo_lat_long__long  transfo_age_usager__age_usager  \\\n",
       "1250                 -0.031134                       -0.178266   \n",
       "198605               -1.665390                       -1.134983   \n",
       "125556                2.055111                       -0.709775   \n",
       "267349               -0.093836                       -0.869228   \n",
       "383250               -0.885088                       -1.719644   \n",
       "\n",
       "        remainder__lum  remainder__agg  remainder__int  ...  \\\n",
       "1250                 0               1               0  ...   \n",
       "198605               0               1               1  ...   \n",
       "125556               2               0               0  ...   \n",
       "267349               0               1               1  ...   \n",
       "383250               0               1               1  ...   \n",
       "\n",
       "        remainder__eq_ceinture  remainder__eq_casque  remainder__eq_siege  \\\n",
       "1250                         1                     0                    0   \n",
       "198605                       0                     1                    0   \n",
       "125556                       1                     0                    0   \n",
       "267349                       1                     0                    0   \n",
       "383250                       0                     0                    1   \n",
       "\n",
       "        remainder__eq_gilet  remainder__eq_airbag  remainder__eq_gants  \\\n",
       "1250                      0                     0                    0   \n",
       "198605                    0                     0                    0   \n",
       "125556                    0                     0                    0   \n",
       "267349                    0                     0                    0   \n",
       "383250                    0                     0                    0   \n",
       "\n",
       "        remainder__eq_indetermine  remainder__eq_autre  remainder__jour_chome  \\\n",
       "1250                            0                    0                      1   \n",
       "198605                          1                    0                      0   \n",
       "125556                          0                    0                      1   \n",
       "267349                          0                    0                      0   \n",
       "383250                          0                    0                      1   \n",
       "\n",
       "        remainder__prox_pt_choc  \n",
       "1250                          1  \n",
       "198605                        1  \n",
       "125556                        1  \n",
       "267349                        0  \n",
       "383250                        0  \n",
       "\n",
       "[5 rows x 37 columns]"
      ]
     },
     "execution_count": 9,
     "metadata": {},
     "output_type": "execute_result"
    }
   ],
   "source": [
    "scaler = load(open('../../../data/saved_models/' + 'preprocessor_tabnet.pkl','rb'))\n",
    "data_process_val_verif = scaler.transform(data_val)\n",
    "data_process_val_verif.head()"
   ]
  },
  {
   "cell_type": "code",
   "execution_count": 9,
   "metadata": {},
   "outputs": [
    {
     "name": "stderr",
     "output_type": "stream",
     "text": [
      "c:\\Users\\dcons\\AppData\\Local\\Programs\\Python\\Python311\\Lib\\site-packages\\pytorch_tabnet\\abstract_model.py:82: UserWarning: Device used : cpu\n",
      "  warnings.warn(f\"Device used : {self.device}\")\n"
     ]
    }
   ],
   "source": [
    "clf = TabNetClassifier(\n",
    "    n_d=64, n_a=64, n_steps=10,\n",
    "    optimizer_fn=torch.optim.Adam,\n",
    "    optimizer_params=dict(lr=0.1),\n",
    "    scheduler_params = {\"gamma\": 0.95,\n",
    "                     \"step_size\": 20},\n",
    "    scheduler_fn=torch.optim.lr_scheduler.StepLR, \n",
    "    epsilon=1e-15\n",
    ")"
   ]
  },
  {
   "cell_type": "code",
   "execution_count": 10,
   "metadata": {},
   "outputs": [
    {
     "data": {
      "text/plain": [
       "{0: 0.6057227516686162,\n",
       " 1: 0.6196819041752827,\n",
       " 2: 1.5969466427810155,\n",
       " 3: 9.161408872121765}"
      ]
     },
     "execution_count": 10,
     "metadata": {},
     "output_type": "execute_result"
    }
   ],
   "source": [
    "class_weights = []\n",
    "for i in range(4):\n",
    "  Nb_class = y_train[y_train == i].shape[0]\n",
    "  class_weights.append(y_train.shape[0] / (4*Nb_class))\n",
    "class_weights = [class_weights[i] for i in range(len(class_weights))]\n",
    "dict_weights = {0:class_weights[0], 1:class_weights[1], 2:class_weights[2], 3:class_weights[3]}\n",
    "dict_weights"
   ]
  },
  {
   "cell_type": "markdown",
   "metadata": {},
   "source": [
    "**OPtimisation des hyperparamètres avec Optuna**"
   ]
  },
  {
   "cell_type": "code",
   "execution_count": 11,
   "metadata": {},
   "outputs": [
    {
     "name": "stderr",
     "output_type": "stream",
     "text": [
      "c:\\Users\\dcons\\AppData\\Local\\Programs\\Python\\Python311\\Lib\\site-packages\\optuna\\samplers\\_tpe\\sampler.py:319: ExperimentalWarning: ``multivariate`` option is an experimental feature. The interface can change in the future.\n",
      "  warnings.warn(\n",
      "c:\\Users\\dcons\\AppData\\Local\\Programs\\Python\\Python311\\Lib\\site-packages\\optuna\\samplers\\_tpe\\sampler.py:330: ExperimentalWarning: ``group`` option is an experimental feature. The interface can change in the future.\n",
      "  warnings.warn(\n",
      "[I 2024-06-10 16:48:55,676] A new study created in memory with name: no-name-21c550be-3dda-4d91-962e-21114e5d354e\n"
     ]
    },
    {
     "name": "stdout",
     "output_type": "stream",
     "text": [
      "Stop training because you reached max_epochs = 7 with best_epoch = 6 and best_valid_balanced_accuracy = 0.49806\n"
     ]
    },
    {
     "name": "stderr",
     "output_type": "stream",
     "text": [
      "c:\\Users\\dcons\\AppData\\Local\\Programs\\Python\\Python311\\Lib\\site-packages\\pytorch_tabnet\\callbacks.py:172: UserWarning: Best weights from best epoch are automatically used!\n",
      "  warnings.warn(wrn_msg)\n",
      "[I 2024-06-10 17:16:04,375] Trial 4 finished with value: 0.4970607028753994 and parameters: {'mask_type': 'entmax', 'n_d': 60, 'n_steps': 4, 'gamma': 1.4, 'n_shared': 1, 'lambda_sparse': 9.527793179935937e-05, 'patienceScheduler': 3, 'epochs': 7, 'patience': 21, 'virtual_batch_size': 256}. Best is trial 4 with value: 0.4970607028753994.\n"
     ]
    },
    {
     "name": "stdout",
     "output_type": "stream",
     "text": [
      "Stop training because you reached max_epochs = 28 with best_epoch = 25 and best_valid_balanced_accuracy = 0.55536\n"
     ]
    },
    {
     "name": "stderr",
     "output_type": "stream",
     "text": [
      "c:\\Users\\dcons\\AppData\\Local\\Programs\\Python\\Python311\\Lib\\site-packages\\pytorch_tabnet\\callbacks.py:172: UserWarning: Best weights from best epoch are automatically used!\n",
      "  warnings.warn(wrn_msg)\n",
      "[I 2024-06-10 20:16:25,075] Trial 6 finished with value: 0.568594249201278 and parameters: {'mask_type': 'sparsemax', 'n_d': 60, 'n_steps': 7, 'gamma': 1.0, 'n_shared': 2, 'lambda_sparse': 1.9230207284052763e-06, 'patienceScheduler': 5, 'epochs': 28, 'patience': 23, 'virtual_batch_size': 256}. Best is trial 6 with value: 0.568594249201278.\n"
     ]
    },
    {
     "name": "stdout",
     "output_type": "stream",
     "text": [
      "Stop training because you reached max_epochs = 14 with best_epoch = 13 and best_valid_balanced_accuracy = 0.55966\n"
     ]
    },
    {
     "name": "stderr",
     "output_type": "stream",
     "text": [
      "c:\\Users\\dcons\\AppData\\Local\\Programs\\Python\\Python311\\Lib\\site-packages\\pytorch_tabnet\\callbacks.py:172: UserWarning: Best weights from best epoch are automatically used!\n",
      "  warnings.warn(wrn_msg)\n",
      "[I 2024-06-10 20:23:29,307] Trial 0 finished with value: 0.5828115015974441 and parameters: {'mask_type': 'entmax', 'n_d': 60, 'n_steps': 10, 'gamma': 1.0, 'n_shared': 2, 'lambda_sparse': 0.00024061480056217896, 'patienceScheduler': 6, 'epochs': 14, 'patience': 25, 'virtual_batch_size': 128}. Best is trial 0 with value: 0.5828115015974441.\n"
     ]
    },
    {
     "name": "stdout",
     "output_type": "stream",
     "text": [
      "Stop training because you reached max_epochs = 36 with best_epoch = 27 and best_valid_balanced_accuracy = 0.55961\n"
     ]
    },
    {
     "name": "stderr",
     "output_type": "stream",
     "text": [
      "c:\\Users\\dcons\\AppData\\Local\\Programs\\Python\\Python311\\Lib\\site-packages\\pytorch_tabnet\\callbacks.py:172: UserWarning: Best weights from best epoch are automatically used!\n",
      "  warnings.warn(wrn_msg)\n",
      "[I 2024-06-10 20:54:35,936] Trial 1 finished with value: 0.5754952076677317 and parameters: {'mask_type': 'sparsemax', 'n_d': 60, 'n_steps': 4, 'gamma': 1.2, 'n_shared': 3, 'lambda_sparse': 0.00019732815617074526, 'patienceScheduler': 5, 'epochs': 36, 'patience': 26, 'virtual_batch_size': 192}. Best is trial 0 with value: 0.5828115015974441.\n"
     ]
    },
    {
     "name": "stdout",
     "output_type": "stream",
     "text": [
      "Stop training because you reached max_epochs = 4 with best_epoch = 1 and best_valid_balanced_accuracy = 0.3737\n"
     ]
    },
    {
     "name": "stderr",
     "output_type": "stream",
     "text": [
      "c:\\Users\\dcons\\AppData\\Local\\Programs\\Python\\Python311\\Lib\\site-packages\\pytorch_tabnet\\callbacks.py:172: UserWarning: Best weights from best epoch are automatically used!\n",
      "  warnings.warn(wrn_msg)\n",
      "[I 2024-06-10 21:09:46,093] Trial 10 finished with value: 0.47527156549520766 and parameters: {'mask_type': 'sparsemax', 'n_d': 60, 'n_steps': 10, 'gamma': 1.0, 'n_shared': 1, 'lambda_sparse': 1.3920219139614885e-05, 'patienceScheduler': 6, 'epochs': 4, 'patience': 16, 'virtual_batch_size': 128}. Best is trial 0 with value: 0.5828115015974441.\n"
     ]
    },
    {
     "name": "stdout",
     "output_type": "stream",
     "text": [
      "Stop training because you reached max_epochs = 12 with best_epoch = 10 and best_valid_balanced_accuracy = 0.51916\n"
     ]
    },
    {
     "name": "stderr",
     "output_type": "stream",
     "text": [
      "c:\\Users\\dcons\\AppData\\Local\\Programs\\Python\\Python311\\Lib\\site-packages\\pytorch_tabnet\\callbacks.py:172: UserWarning: Best weights from best epoch are automatically used!\n",
      "  warnings.warn(wrn_msg)\n",
      "[I 2024-06-10 21:48:13,026] Trial 9 finished with value: 0.5400958466453674 and parameters: {'mask_type': 'sparsemax', 'n_d': 60, 'n_steps': 4, 'gamma': 1.4, 'n_shared': 3, 'lambda_sparse': 5.996651392879352e-06, 'patienceScheduler': 4, 'epochs': 12, 'patience': 19, 'virtual_batch_size': 128}. Best is trial 0 with value: 0.5828115015974441.\n"
     ]
    },
    {
     "name": "stdout",
     "output_type": "stream",
     "text": [
      "Stop training because you reached max_epochs = 32 with best_epoch = 20 and best_valid_balanced_accuracy = 0.48029\n"
     ]
    },
    {
     "name": "stderr",
     "output_type": "stream",
     "text": [
      "c:\\Users\\dcons\\AppData\\Local\\Programs\\Python\\Python311\\Lib\\site-packages\\pytorch_tabnet\\callbacks.py:172: UserWarning: Best weights from best epoch are automatically used!\n",
      "  warnings.warn(wrn_msg)\n",
      "[I 2024-06-10 21:51:37,379] Trial 2 finished with value: 0.49492012779552713 and parameters: {'mask_type': 'sparsemax', 'n_d': 56, 'n_steps': 10, 'gamma': 1.4, 'n_shared': 1, 'lambda_sparse': 0.0001380776602170474, 'patienceScheduler': 4, 'epochs': 32, 'patience': 28, 'virtual_batch_size': 192}. Best is trial 0 with value: 0.5828115015974441.\n"
     ]
    },
    {
     "name": "stdout",
     "output_type": "stream",
     "text": [
      "Stop training because you reached max_epochs = 5 with best_epoch = 4 and best_valid_balanced_accuracy = 0.47125\n"
     ]
    },
    {
     "name": "stderr",
     "output_type": "stream",
     "text": [
      "c:\\Users\\dcons\\AppData\\Local\\Programs\\Python\\Python311\\Lib\\site-packages\\pytorch_tabnet\\callbacks.py:172: UserWarning: Best weights from best epoch are automatically used!\n",
      "  warnings.warn(wrn_msg)\n",
      "[I 2024-06-10 22:28:03,760] Trial 14 finished with value: 0.5054632587859424 and parameters: {'mask_type': 'entmax', 'n_d': 60, 'n_steps': 4, 'gamma': 1.2, 'n_shared': 3, 'lambda_sparse': 0.0004964303188119987, 'patienceScheduler': 4, 'epochs': 5, 'patience': 26, 'virtual_batch_size': 128}. Best is trial 0 with value: 0.5828115015974441.\n"
     ]
    },
    {
     "name": "stdout",
     "output_type": "stream",
     "text": [
      "Stop training because you reached max_epochs = 11 with best_epoch = 10 and best_valid_balanced_accuracy = 0.49823\n"
     ]
    },
    {
     "name": "stderr",
     "output_type": "stream",
     "text": [
      "c:\\Users\\dcons\\AppData\\Local\\Programs\\Python\\Python311\\Lib\\site-packages\\pytorch_tabnet\\callbacks.py:172: UserWarning: Best weights from best epoch are automatically used!\n",
      "  warnings.warn(wrn_msg)\n",
      "[I 2024-06-10 22:56:44,726] Trial 12 finished with value: 0.5275079872204473 and parameters: {'mask_type': 'sparsemax', 'n_d': 56, 'n_steps': 7, 'gamma': 1.2, 'n_shared': 2, 'lambda_sparse': 8.711858662845637e-05, 'patienceScheduler': 7, 'epochs': 11, 'patience': 17, 'virtual_batch_size': 128}. Best is trial 0 with value: 0.5828115015974441.\n"
     ]
    },
    {
     "name": "stdout",
     "output_type": "stream",
     "text": [
      "Stop training because you reached max_epochs = 27 with best_epoch = 17 and best_valid_balanced_accuracy = 0.55009\n"
     ]
    },
    {
     "name": "stderr",
     "output_type": "stream",
     "text": [
      "c:\\Users\\dcons\\AppData\\Local\\Programs\\Python\\Python311\\Lib\\site-packages\\pytorch_tabnet\\callbacks.py:172: UserWarning: Best weights from best epoch are automatically used!\n",
      "  warnings.warn(wrn_msg)\n",
      "[I 2024-06-10 23:25:37,672] Trial 15 finished with value: 0.5777316293929713 and parameters: {'mask_type': 'sparsemax', 'n_d': 64, 'n_steps': 1, 'gamma': 1.0, 'n_shared': 2, 'lambda_sparse': 1.0526552923686196e-06, 'patienceScheduler': 10, 'epochs': 27, 'patience': 17, 'virtual_batch_size': 192}. Best is trial 0 with value: 0.5828115015974441.\n"
     ]
    },
    {
     "name": "stdout",
     "output_type": "stream",
     "text": [
      "Stop training because you reached max_epochs = 40 with best_epoch = 37 and best_valid_balanced_accuracy = 0.55376\n"
     ]
    },
    {
     "name": "stderr",
     "output_type": "stream",
     "text": [
      "c:\\Users\\dcons\\AppData\\Local\\Programs\\Python\\Python311\\Lib\\site-packages\\pytorch_tabnet\\callbacks.py:172: UserWarning: Best weights from best epoch are automatically used!\n",
      "  warnings.warn(wrn_msg)\n",
      "[I 2024-06-11 01:00:34,330] Trial 3 finished with value: 0.5724281150159745 and parameters: {'mask_type': 'entmax', 'n_d': 60, 'n_steps': 7, 'gamma': 1.2, 'n_shared': 3, 'lambda_sparse': 2.8379999332854737e-06, 'patienceScheduler': 5, 'epochs': 40, 'patience': 16, 'virtual_batch_size': 128}. Best is trial 0 with value: 0.5828115015974441.\n"
     ]
    },
    {
     "name": "stdout",
     "output_type": "stream",
     "text": [
      "Stop training because you reached max_epochs = 33 with best_epoch = 30 and best_valid_balanced_accuracy = 0.53292\n"
     ]
    },
    {
     "name": "stderr",
     "output_type": "stream",
     "text": [
      "c:\\Users\\dcons\\AppData\\Local\\Programs\\Python\\Python311\\Lib\\site-packages\\pytorch_tabnet\\callbacks.py:172: UserWarning: Best weights from best epoch are automatically used!\n",
      "  warnings.warn(wrn_msg)\n",
      "[I 2024-06-11 02:07:48,455] Trial 13 finished with value: 0.5529712460063898 and parameters: {'mask_type': 'sparsemax', 'n_d': 64, 'n_steps': 7, 'gamma': 1.2, 'n_shared': 1, 'lambda_sparse': 2.3182365635270526e-06, 'patienceScheduler': 8, 'epochs': 33, 'patience': 25, 'virtual_batch_size': 128}. Best is trial 0 with value: 0.5828115015974441.\n"
     ]
    },
    {
     "name": "stdout",
     "output_type": "stream",
     "text": [
      "Stop training because you reached max_epochs = 39 with best_epoch = 36 and best_valid_balanced_accuracy = 0.48855\n"
     ]
    },
    {
     "name": "stderr",
     "output_type": "stream",
     "text": [
      "c:\\Users\\dcons\\AppData\\Local\\Programs\\Python\\Python311\\Lib\\site-packages\\pytorch_tabnet\\callbacks.py:172: UserWarning: Best weights from best epoch are automatically used!\n",
      "  warnings.warn(wrn_msg)\n",
      "[I 2024-06-11 02:15:27,807] Trial 16 finished with value: 0.5117571884984026 and parameters: {'mask_type': 'sparsemax', 'n_d': 56, 'n_steps': 7, 'gamma': 1.4, 'n_shared': 1, 'lambda_sparse': 6.566748019798654e-06, 'patienceScheduler': 9, 'epochs': 39, 'patience': 23, 'virtual_batch_size': 256}. Best is trial 0 with value: 0.5828115015974441.\n"
     ]
    },
    {
     "name": "stdout",
     "output_type": "stream",
     "text": [
      "Stop training because you reached max_epochs = 34 with best_epoch = 18 and best_valid_balanced_accuracy = 0.54721\n"
     ]
    },
    {
     "name": "stderr",
     "output_type": "stream",
     "text": [
      "c:\\Users\\dcons\\AppData\\Local\\Programs\\Python\\Python311\\Lib\\site-packages\\pytorch_tabnet\\callbacks.py:172: UserWarning: Best weights from best epoch are automatically used!\n",
      "  warnings.warn(wrn_msg)\n",
      "[I 2024-06-11 03:07:44,416] Trial 19 finished with value: 0.5871246006389776 and parameters: {'mask_type': 'sparsemax', 'n_d': 64, 'n_steps': 1, 'gamma': 1.0, 'n_shared': 2, 'lambda_sparse': 2.039967147993132e-06, 'patienceScheduler': 10, 'epochs': 34, 'patience': 21, 'virtual_batch_size': 192}. Best is trial 19 with value: 0.5871246006389776.\n"
     ]
    },
    {
     "name": "stdout",
     "output_type": "stream",
     "text": [
      "Stop training because you reached max_epochs = 31 with best_epoch = 28 and best_valid_balanced_accuracy = 0.5416\n"
     ]
    },
    {
     "name": "stderr",
     "output_type": "stream",
     "text": [
      "c:\\Users\\dcons\\AppData\\Local\\Programs\\Python\\Python311\\Lib\\site-packages\\pytorch_tabnet\\callbacks.py:172: UserWarning: Best weights from best epoch are automatically used!\n",
      "  warnings.warn(wrn_msg)\n"
     ]
    },
    {
     "name": "stdout",
     "output_type": "stream",
     "text": [
      "Stop training because you reached max_epochs = 36 with best_epoch = 26 and best_valid_balanced_accuracy = 0.55789\n"
     ]
    },
    {
     "name": "stderr",
     "output_type": "stream",
     "text": [
      "c:\\Users\\dcons\\AppData\\Local\\Programs\\Python\\Python311\\Lib\\site-packages\\pytorch_tabnet\\callbacks.py:172: UserWarning: Best weights from best epoch are automatically used!\n",
      "  warnings.warn(wrn_msg)\n",
      "[I 2024-06-11 03:31:25,024] Trial 18 finished with value: 0.570926517571885 and parameters: {'mask_type': 'sparsemax', 'n_d': 60, 'n_steps': 4, 'gamma': 1.0, 'n_shared': 2, 'lambda_sparse': 2.611852337589114e-06, 'patienceScheduler': 9, 'epochs': 36, 'patience': 16, 'virtual_batch_size': 192}. Best is trial 19 with value: 0.5871246006389776.\n",
      "[I 2024-06-11 03:32:50,303] Trial 8 finished with value: 0.5618210862619808 and parameters: {'mask_type': 'entmax', 'n_d': 56, 'n_steps': 7, 'gamma': 1.2, 'n_shared': 3, 'lambda_sparse': 0.00032487339657501343, 'patienceScheduler': 7, 'epochs': 31, 'patience': 21, 'virtual_batch_size': 64}. Best is trial 19 with value: 0.5871246006389776.\n"
     ]
    },
    {
     "name": "stdout",
     "output_type": "stream",
     "text": [
      "Stop training because you reached max_epochs = 25 with best_epoch = 22 and best_valid_balanced_accuracy = 0.46848\n"
     ]
    },
    {
     "name": "stderr",
     "output_type": "stream",
     "text": [
      "c:\\Users\\dcons\\AppData\\Local\\Programs\\Python\\Python311\\Lib\\site-packages\\pytorch_tabnet\\callbacks.py:172: UserWarning: Best weights from best epoch are automatically used!\n",
      "  warnings.warn(wrn_msg)\n",
      "[I 2024-06-11 03:55:02,582] Trial 5 finished with value: 0.4740894568690096 and parameters: {'mask_type': 'entmax', 'n_d': 60, 'n_steps': 10, 'gamma': 1.4, 'n_shared': 3, 'lambda_sparse': 8.967929835856829e-06, 'patienceScheduler': 3, 'epochs': 25, 'patience': 23, 'virtual_batch_size': 64}. Best is trial 19 with value: 0.5871246006389776.\n"
     ]
    },
    {
     "name": "stdout",
     "output_type": "stream",
     "text": [
      "Stop training because you reached max_epochs = 24 with best_epoch = 19 and best_valid_balanced_accuracy = 0.53467\n"
     ]
    },
    {
     "name": "stderr",
     "output_type": "stream",
     "text": [
      "c:\\Users\\dcons\\AppData\\Local\\Programs\\Python\\Python311\\Lib\\site-packages\\pytorch_tabnet\\callbacks.py:172: UserWarning: Best weights from best epoch are automatically used!\n",
      "  warnings.warn(wrn_msg)\n",
      "[I 2024-06-11 04:08:08,034] Trial 17 finished with value: 0.569552715654952 and parameters: {'mask_type': 'entmax', 'n_d': 60, 'n_steps': 7, 'gamma': 1.2, 'n_shared': 2, 'lambda_sparse': 0.00026780022953582655, 'patienceScheduler': 7, 'epochs': 24, 'patience': 26, 'virtual_batch_size': 64}. Best is trial 19 with value: 0.5871246006389776.\n"
     ]
    },
    {
     "name": "stdout",
     "output_type": "stream",
     "text": [
      "Stop training because you reached max_epochs = 36 with best_epoch = 30 and best_valid_balanced_accuracy = 0.56453\n"
     ]
    },
    {
     "name": "stderr",
     "output_type": "stream",
     "text": [
      "c:\\Users\\dcons\\AppData\\Local\\Programs\\Python\\Python311\\Lib\\site-packages\\pytorch_tabnet\\callbacks.py:172: UserWarning: Best weights from best epoch are automatically used!\n",
      "  warnings.warn(wrn_msg)\n",
      "[I 2024-06-11 04:36:58,350] Trial 11 finished with value: 0.5804153354632587 and parameters: {'mask_type': 'entmax', 'n_d': 56, 'n_steps': 7, 'gamma': 1.0, 'n_shared': 3, 'lambda_sparse': 6.952399023914924e-06, 'patienceScheduler': 5, 'epochs': 36, 'patience': 21, 'virtual_batch_size': 64}. Best is trial 19 with value: 0.5871246006389776.\n"
     ]
    },
    {
     "name": "stdout",
     "output_type": "stream",
     "text": [
      "Stop training because you reached max_epochs = 37 with best_epoch = 21 and best_valid_balanced_accuracy = 0.48345\n"
     ]
    },
    {
     "name": "stderr",
     "output_type": "stream",
     "text": [
      "c:\\Users\\dcons\\AppData\\Local\\Programs\\Python\\Python311\\Lib\\site-packages\\pytorch_tabnet\\callbacks.py:172: UserWarning: Best weights from best epoch are automatically used!\n",
      "  warnings.warn(wrn_msg)\n",
      "[I 2024-06-11 04:45:56,081] Trial 7 finished with value: 0.492332268370607 and parameters: {'mask_type': 'entmax', 'n_d': 56, 'n_steps': 10, 'gamma': 1.4, 'n_shared': 3, 'lambda_sparse': 9.63344725015354e-05, 'patienceScheduler': 5, 'epochs': 37, 'patience': 18, 'virtual_batch_size': 64}. Best is trial 19 with value: 0.5871246006389776.\n"
     ]
    }
   ],
   "source": [
    "def objective(trial):\n",
    "    mask_type = trial.suggest_categorical('mask_type', [\"entmax\", \"sparsemax\"]) #masking function to use for selecting features\n",
    "    n_da = trial.suggest_int(\"n_d\", 56, 64, step=4) #Bigger values gives more capacity to the model with the risk of overfitting (between 8 and 64)\n",
    "    n_steps = trial.suggest_int(\"n_steps\", 1, 10, step=3) #nb of steps in the architecture\n",
    "    gamma = trial.suggest_float(\"gamma\", 1., 1.4, step=0.2) #gamma : coeff for feature reusage in the masks\n",
    "    n_shared = trial.suggest_int(\"n_shared\", 1, 3) # between 1 and 5, nb of shared GLU at each steps\n",
    "    lambda_sparse = trial.suggest_float(\"lambda_sparse\", 1e-6, 1e-3, log=True) #extra sparsity loss coefficient\n",
    "    tabnet_params = dict(n_d=n_da, n_a=n_da, n_steps=n_steps, gamma=gamma,\n",
    "                     lambda_sparse=lambda_sparse, optimizer_fn=torch.optim.Adam,\n",
    "                     optimizer_params=dict(lr=0.1, weight_decay=1e-5),\n",
    "                     mask_type=mask_type, \n",
    "                     n_shared=n_shared,\n",
    "                     scheduler_params=dict(mode=\"min\",\n",
    "                                           patience=trial.suggest_int(\"patienceScheduler\",low=3,high=10),\n",
    "                                           min_lr=1e-5,\n",
    "                                           factor=0.5,),\n",
    "                     scheduler_fn=torch.optim.lr_scheduler.ReduceLROnPlateau,\n",
    "                     verbose=0,\n",
    "                     )\n",
    " \n",
    "\n",
    "    model = TabNetClassifier(**tabnet_params)\n",
    "    model.fit(\n",
    "        X_train=data_process_train.to_numpy(), y_train=y_train.values,\n",
    "        eval_set=[(data_process_train.to_numpy(), y_train.values), (data_process_val.to_numpy(), y_val.values)],\n",
    "        eval_name=['train', 'valid'],\n",
    "        eval_metric = ['balanced_accuracy'],\n",
    "        max_epochs=trial.suggest_int('epochs', 1, 40), \n",
    "        patience=trial.suggest_int(\"patience\",low=15,high=30),\n",
    "        weights = dict_weights,\n",
    "        batch_size=16384, \n",
    "        virtual_batch_size=trial.suggest_int(\"virtual_batch_size\", 64,256,step=64)\n",
    ") \n",
    "    preds = model.predict(data_process_val.to_numpy())\n",
    "    cat_f1 = f1_score(preds, y_val, average = 'micro')\n",
    "    return cat_f1\n",
    "\n",
    "sampler = TPESampler(seed=123, multivariate=True, group=True)\n",
    "study = optuna.create_study(direction='maximize', sampler=sampler)\n",
    "study.optimize(objective, n_trials=20, n_jobs=-1)"
   ]
  },
  {
   "cell_type": "code",
   "execution_count": 12,
   "metadata": {},
   "outputs": [
    {
     "data": {
      "application/vnd.plotly.v1+json": {
       "config": {
        "plotlyServerURL": "https://plot.ly"
       },
       "data": [
        {
         "dimensions": [
          {
           "label": "Objective Value",
           "range": [
            0.4740894568690096,
            0.5871246006389776
           ],
           "values": [
            0.5828115015974441,
            0.5754952076677317,
            0.49492012779552713,
            0.5724281150159745,
            0.4970607028753994,
            0.4740894568690096,
            0.568594249201278,
            0.492332268370607,
            0.5618210862619808,
            0.5400958466453674,
            0.47527156549520766,
            0.5804153354632587,
            0.5275079872204473,
            0.5529712460063898,
            0.5054632587859424,
            0.5777316293929713,
            0.5117571884984026,
            0.569552715654952,
            0.570926517571885,
            0.5871246006389776
           ]
          },
          {
           "label": "epochs",
           "range": [
            4,
            40
           ],
           "values": [
            14,
            36,
            32,
            40,
            7,
            25,
            28,
            37,
            31,
            12,
            4,
            36,
            11,
            33,
            5,
            27,
            39,
            24,
            36,
            34
           ]
          },
          {
           "label": "gamma",
           "range": [
            1,
            1.4
           ],
           "values": [
            1,
            1.2,
            1.4,
            1.2,
            1.4,
            1.4,
            1,
            1.4,
            1.2,
            1.4,
            1,
            1,
            1.2,
            1.2,
            1.2,
            1,
            1.4,
            1.2,
            1,
            1
           ]
          },
          {
           "label": "lambda_sparse",
           "range": [
            -5.977713821721451,
            -3.304141702413732
           ],
           "ticktext": [
            "1.05e-06",
            "1e-05",
            "0.0001",
            "0.000496"
           ],
           "tickvals": [
            -5.977713821721451,
            -5,
            -4,
            -3.304141702413732
           ],
           "values": [
            -3.618677662096807,
            -3.704810942131736,
            -3.8598765808657913,
            -5.546987619087759,
            -4.021007678665018,
            -5.047307798274302,
            -5.716016034438841,
            -4.016218276341603,
            -3.48828585096255,
            -5.222091197543649,
            -4.85635392777313,
            -5.157865310076175,
            -4.059889178987376,
            -5.634842248703614,
            -3.304141702413732,
            -5.977713821721451,
            -5.182649648203127,
            -3.572189055083158,
            -5.5830513797641075,
            -5.690376826476152
           ]
          },
          {
           "label": "mask_type",
           "range": [
            0,
            1
           ],
           "ticktext": [
            "entmax",
            "sparsemax"
           ],
           "tickvals": [
            0,
            1
           ],
           "values": [
            0,
            1,
            1,
            0,
            0,
            0,
            1,
            0,
            0,
            1,
            1,
            0,
            1,
            1,
            0,
            1,
            1,
            0,
            1,
            1
           ]
          },
          {
           "label": "n_d",
           "range": [
            56,
            64
           ],
           "values": [
            60,
            60,
            56,
            60,
            60,
            60,
            60,
            56,
            56,
            60,
            60,
            56,
            56,
            64,
            60,
            64,
            56,
            60,
            60,
            64
           ]
          },
          {
           "label": "n_shared",
           "range": [
            1,
            3
           ],
           "values": [
            2,
            3,
            1,
            3,
            1,
            3,
            2,
            3,
            3,
            3,
            1,
            3,
            2,
            1,
            3,
            2,
            1,
            2,
            2,
            2
           ]
          },
          {
           "label": "n_steps",
           "range": [
            1,
            10
           ],
           "values": [
            10,
            4,
            10,
            7,
            4,
            10,
            7,
            10,
            7,
            4,
            10,
            7,
            7,
            7,
            4,
            1,
            7,
            7,
            4,
            1
           ]
          },
          {
           "label": "patience",
           "range": [
            16,
            28
           ],
           "values": [
            25,
            26,
            28,
            16,
            21,
            23,
            23,
            18,
            21,
            19,
            16,
            21,
            17,
            25,
            26,
            17,
            23,
            26,
            16,
            21
           ]
          },
          {
           "label": "patienceScheduler",
           "range": [
            3,
            10
           ],
           "values": [
            6,
            5,
            4,
            5,
            3,
            3,
            5,
            5,
            7,
            4,
            6,
            5,
            7,
            8,
            4,
            10,
            9,
            7,
            9,
            10
           ]
          },
          {
           "label": "virtual_batch_size",
           "range": [
            64,
            256
           ],
           "values": [
            128,
            192,
            192,
            128,
            256,
            64,
            256,
            64,
            64,
            128,
            128,
            64,
            128,
            128,
            128,
            192,
            256,
            64,
            192,
            192
           ]
          }
         ],
         "labelangle": 30,
         "labelside": "bottom",
         "line": {
          "color": [
           0.5828115015974441,
           0.5754952076677317,
           0.49492012779552713,
           0.5724281150159745,
           0.4970607028753994,
           0.4740894568690096,
           0.568594249201278,
           0.492332268370607,
           0.5618210862619808,
           0.5400958466453674,
           0.47527156549520766,
           0.5804153354632587,
           0.5275079872204473,
           0.5529712460063898,
           0.5054632587859424,
           0.5777316293929713,
           0.5117571884984026,
           0.569552715654952,
           0.570926517571885,
           0.5871246006389776
          ],
          "colorbar": {
           "title": {
            "text": "Objective Value"
           }
          },
          "colorscale": [
           [
            0,
            "rgb(247,251,255)"
           ],
           [
            0.125,
            "rgb(222,235,247)"
           ],
           [
            0.25,
            "rgb(198,219,239)"
           ],
           [
            0.375,
            "rgb(158,202,225)"
           ],
           [
            0.5,
            "rgb(107,174,214)"
           ],
           [
            0.625,
            "rgb(66,146,198)"
           ],
           [
            0.75,
            "rgb(33,113,181)"
           ],
           [
            0.875,
            "rgb(8,81,156)"
           ],
           [
            1,
            "rgb(8,48,107)"
           ]
          ],
          "reversescale": false,
          "showscale": true
         },
         "type": "parcoords"
        }
       ],
       "layout": {
        "template": {
         "data": {
          "bar": [
           {
            "error_x": {
             "color": "#2a3f5f"
            },
            "error_y": {
             "color": "#2a3f5f"
            },
            "marker": {
             "line": {
              "color": "#E5ECF6",
              "width": 0.5
             },
             "pattern": {
              "fillmode": "overlay",
              "size": 10,
              "solidity": 0.2
             }
            },
            "type": "bar"
           }
          ],
          "barpolar": [
           {
            "marker": {
             "line": {
              "color": "#E5ECF6",
              "width": 0.5
             },
             "pattern": {
              "fillmode": "overlay",
              "size": 10,
              "solidity": 0.2
             }
            },
            "type": "barpolar"
           }
          ],
          "carpet": [
           {
            "aaxis": {
             "endlinecolor": "#2a3f5f",
             "gridcolor": "white",
             "linecolor": "white",
             "minorgridcolor": "white",
             "startlinecolor": "#2a3f5f"
            },
            "baxis": {
             "endlinecolor": "#2a3f5f",
             "gridcolor": "white",
             "linecolor": "white",
             "minorgridcolor": "white",
             "startlinecolor": "#2a3f5f"
            },
            "type": "carpet"
           }
          ],
          "choropleth": [
           {
            "colorbar": {
             "outlinewidth": 0,
             "ticks": ""
            },
            "type": "choropleth"
           }
          ],
          "contour": [
           {
            "colorbar": {
             "outlinewidth": 0,
             "ticks": ""
            },
            "colorscale": [
             [
              0,
              "#0d0887"
             ],
             [
              0.1111111111111111,
              "#46039f"
             ],
             [
              0.2222222222222222,
              "#7201a8"
             ],
             [
              0.3333333333333333,
              "#9c179e"
             ],
             [
              0.4444444444444444,
              "#bd3786"
             ],
             [
              0.5555555555555556,
              "#d8576b"
             ],
             [
              0.6666666666666666,
              "#ed7953"
             ],
             [
              0.7777777777777778,
              "#fb9f3a"
             ],
             [
              0.8888888888888888,
              "#fdca26"
             ],
             [
              1,
              "#f0f921"
             ]
            ],
            "type": "contour"
           }
          ],
          "contourcarpet": [
           {
            "colorbar": {
             "outlinewidth": 0,
             "ticks": ""
            },
            "type": "contourcarpet"
           }
          ],
          "heatmap": [
           {
            "colorbar": {
             "outlinewidth": 0,
             "ticks": ""
            },
            "colorscale": [
             [
              0,
              "#0d0887"
             ],
             [
              0.1111111111111111,
              "#46039f"
             ],
             [
              0.2222222222222222,
              "#7201a8"
             ],
             [
              0.3333333333333333,
              "#9c179e"
             ],
             [
              0.4444444444444444,
              "#bd3786"
             ],
             [
              0.5555555555555556,
              "#d8576b"
             ],
             [
              0.6666666666666666,
              "#ed7953"
             ],
             [
              0.7777777777777778,
              "#fb9f3a"
             ],
             [
              0.8888888888888888,
              "#fdca26"
             ],
             [
              1,
              "#f0f921"
             ]
            ],
            "type": "heatmap"
           }
          ],
          "heatmapgl": [
           {
            "colorbar": {
             "outlinewidth": 0,
             "ticks": ""
            },
            "colorscale": [
             [
              0,
              "#0d0887"
             ],
             [
              0.1111111111111111,
              "#46039f"
             ],
             [
              0.2222222222222222,
              "#7201a8"
             ],
             [
              0.3333333333333333,
              "#9c179e"
             ],
             [
              0.4444444444444444,
              "#bd3786"
             ],
             [
              0.5555555555555556,
              "#d8576b"
             ],
             [
              0.6666666666666666,
              "#ed7953"
             ],
             [
              0.7777777777777778,
              "#fb9f3a"
             ],
             [
              0.8888888888888888,
              "#fdca26"
             ],
             [
              1,
              "#f0f921"
             ]
            ],
            "type": "heatmapgl"
           }
          ],
          "histogram": [
           {
            "marker": {
             "pattern": {
              "fillmode": "overlay",
              "size": 10,
              "solidity": 0.2
             }
            },
            "type": "histogram"
           }
          ],
          "histogram2d": [
           {
            "colorbar": {
             "outlinewidth": 0,
             "ticks": ""
            },
            "colorscale": [
             [
              0,
              "#0d0887"
             ],
             [
              0.1111111111111111,
              "#46039f"
             ],
             [
              0.2222222222222222,
              "#7201a8"
             ],
             [
              0.3333333333333333,
              "#9c179e"
             ],
             [
              0.4444444444444444,
              "#bd3786"
             ],
             [
              0.5555555555555556,
              "#d8576b"
             ],
             [
              0.6666666666666666,
              "#ed7953"
             ],
             [
              0.7777777777777778,
              "#fb9f3a"
             ],
             [
              0.8888888888888888,
              "#fdca26"
             ],
             [
              1,
              "#f0f921"
             ]
            ],
            "type": "histogram2d"
           }
          ],
          "histogram2dcontour": [
           {
            "colorbar": {
             "outlinewidth": 0,
             "ticks": ""
            },
            "colorscale": [
             [
              0,
              "#0d0887"
             ],
             [
              0.1111111111111111,
              "#46039f"
             ],
             [
              0.2222222222222222,
              "#7201a8"
             ],
             [
              0.3333333333333333,
              "#9c179e"
             ],
             [
              0.4444444444444444,
              "#bd3786"
             ],
             [
              0.5555555555555556,
              "#d8576b"
             ],
             [
              0.6666666666666666,
              "#ed7953"
             ],
             [
              0.7777777777777778,
              "#fb9f3a"
             ],
             [
              0.8888888888888888,
              "#fdca26"
             ],
             [
              1,
              "#f0f921"
             ]
            ],
            "type": "histogram2dcontour"
           }
          ],
          "mesh3d": [
           {
            "colorbar": {
             "outlinewidth": 0,
             "ticks": ""
            },
            "type": "mesh3d"
           }
          ],
          "parcoords": [
           {
            "line": {
             "colorbar": {
              "outlinewidth": 0,
              "ticks": ""
             }
            },
            "type": "parcoords"
           }
          ],
          "pie": [
           {
            "automargin": true,
            "type": "pie"
           }
          ],
          "scatter": [
           {
            "fillpattern": {
             "fillmode": "overlay",
             "size": 10,
             "solidity": 0.2
            },
            "type": "scatter"
           }
          ],
          "scatter3d": [
           {
            "line": {
             "colorbar": {
              "outlinewidth": 0,
              "ticks": ""
             }
            },
            "marker": {
             "colorbar": {
              "outlinewidth": 0,
              "ticks": ""
             }
            },
            "type": "scatter3d"
           }
          ],
          "scattercarpet": [
           {
            "marker": {
             "colorbar": {
              "outlinewidth": 0,
              "ticks": ""
             }
            },
            "type": "scattercarpet"
           }
          ],
          "scattergeo": [
           {
            "marker": {
             "colorbar": {
              "outlinewidth": 0,
              "ticks": ""
             }
            },
            "type": "scattergeo"
           }
          ],
          "scattergl": [
           {
            "marker": {
             "colorbar": {
              "outlinewidth": 0,
              "ticks": ""
             }
            },
            "type": "scattergl"
           }
          ],
          "scattermapbox": [
           {
            "marker": {
             "colorbar": {
              "outlinewidth": 0,
              "ticks": ""
             }
            },
            "type": "scattermapbox"
           }
          ],
          "scatterpolar": [
           {
            "marker": {
             "colorbar": {
              "outlinewidth": 0,
              "ticks": ""
             }
            },
            "type": "scatterpolar"
           }
          ],
          "scatterpolargl": [
           {
            "marker": {
             "colorbar": {
              "outlinewidth": 0,
              "ticks": ""
             }
            },
            "type": "scatterpolargl"
           }
          ],
          "scatterternary": [
           {
            "marker": {
             "colorbar": {
              "outlinewidth": 0,
              "ticks": ""
             }
            },
            "type": "scatterternary"
           }
          ],
          "surface": [
           {
            "colorbar": {
             "outlinewidth": 0,
             "ticks": ""
            },
            "colorscale": [
             [
              0,
              "#0d0887"
             ],
             [
              0.1111111111111111,
              "#46039f"
             ],
             [
              0.2222222222222222,
              "#7201a8"
             ],
             [
              0.3333333333333333,
              "#9c179e"
             ],
             [
              0.4444444444444444,
              "#bd3786"
             ],
             [
              0.5555555555555556,
              "#d8576b"
             ],
             [
              0.6666666666666666,
              "#ed7953"
             ],
             [
              0.7777777777777778,
              "#fb9f3a"
             ],
             [
              0.8888888888888888,
              "#fdca26"
             ],
             [
              1,
              "#f0f921"
             ]
            ],
            "type": "surface"
           }
          ],
          "table": [
           {
            "cells": {
             "fill": {
              "color": "#EBF0F8"
             },
             "line": {
              "color": "white"
             }
            },
            "header": {
             "fill": {
              "color": "#C8D4E3"
             },
             "line": {
              "color": "white"
             }
            },
            "type": "table"
           }
          ]
         },
         "layout": {
          "annotationdefaults": {
           "arrowcolor": "#2a3f5f",
           "arrowhead": 0,
           "arrowwidth": 1
          },
          "autotypenumbers": "strict",
          "coloraxis": {
           "colorbar": {
            "outlinewidth": 0,
            "ticks": ""
           }
          },
          "colorscale": {
           "diverging": [
            [
             0,
             "#8e0152"
            ],
            [
             0.1,
             "#c51b7d"
            ],
            [
             0.2,
             "#de77ae"
            ],
            [
             0.3,
             "#f1b6da"
            ],
            [
             0.4,
             "#fde0ef"
            ],
            [
             0.5,
             "#f7f7f7"
            ],
            [
             0.6,
             "#e6f5d0"
            ],
            [
             0.7,
             "#b8e186"
            ],
            [
             0.8,
             "#7fbc41"
            ],
            [
             0.9,
             "#4d9221"
            ],
            [
             1,
             "#276419"
            ]
           ],
           "sequential": [
            [
             0,
             "#0d0887"
            ],
            [
             0.1111111111111111,
             "#46039f"
            ],
            [
             0.2222222222222222,
             "#7201a8"
            ],
            [
             0.3333333333333333,
             "#9c179e"
            ],
            [
             0.4444444444444444,
             "#bd3786"
            ],
            [
             0.5555555555555556,
             "#d8576b"
            ],
            [
             0.6666666666666666,
             "#ed7953"
            ],
            [
             0.7777777777777778,
             "#fb9f3a"
            ],
            [
             0.8888888888888888,
             "#fdca26"
            ],
            [
             1,
             "#f0f921"
            ]
           ],
           "sequentialminus": [
            [
             0,
             "#0d0887"
            ],
            [
             0.1111111111111111,
             "#46039f"
            ],
            [
             0.2222222222222222,
             "#7201a8"
            ],
            [
             0.3333333333333333,
             "#9c179e"
            ],
            [
             0.4444444444444444,
             "#bd3786"
            ],
            [
             0.5555555555555556,
             "#d8576b"
            ],
            [
             0.6666666666666666,
             "#ed7953"
            ],
            [
             0.7777777777777778,
             "#fb9f3a"
            ],
            [
             0.8888888888888888,
             "#fdca26"
            ],
            [
             1,
             "#f0f921"
            ]
           ]
          },
          "colorway": [
           "#636efa",
           "#EF553B",
           "#00cc96",
           "#ab63fa",
           "#FFA15A",
           "#19d3f3",
           "#FF6692",
           "#B6E880",
           "#FF97FF",
           "#FECB52"
          ],
          "font": {
           "color": "#2a3f5f"
          },
          "geo": {
           "bgcolor": "white",
           "lakecolor": "white",
           "landcolor": "#E5ECF6",
           "showlakes": true,
           "showland": true,
           "subunitcolor": "white"
          },
          "hoverlabel": {
           "align": "left"
          },
          "hovermode": "closest",
          "mapbox": {
           "style": "light"
          },
          "paper_bgcolor": "white",
          "plot_bgcolor": "#E5ECF6",
          "polar": {
           "angularaxis": {
            "gridcolor": "white",
            "linecolor": "white",
            "ticks": ""
           },
           "bgcolor": "#E5ECF6",
           "radialaxis": {
            "gridcolor": "white",
            "linecolor": "white",
            "ticks": ""
           }
          },
          "scene": {
           "xaxis": {
            "backgroundcolor": "#E5ECF6",
            "gridcolor": "white",
            "gridwidth": 2,
            "linecolor": "white",
            "showbackground": true,
            "ticks": "",
            "zerolinecolor": "white"
           },
           "yaxis": {
            "backgroundcolor": "#E5ECF6",
            "gridcolor": "white",
            "gridwidth": 2,
            "linecolor": "white",
            "showbackground": true,
            "ticks": "",
            "zerolinecolor": "white"
           },
           "zaxis": {
            "backgroundcolor": "#E5ECF6",
            "gridcolor": "white",
            "gridwidth": 2,
            "linecolor": "white",
            "showbackground": true,
            "ticks": "",
            "zerolinecolor": "white"
           }
          },
          "shapedefaults": {
           "line": {
            "color": "#2a3f5f"
           }
          },
          "ternary": {
           "aaxis": {
            "gridcolor": "white",
            "linecolor": "white",
            "ticks": ""
           },
           "baxis": {
            "gridcolor": "white",
            "linecolor": "white",
            "ticks": ""
           },
           "bgcolor": "#E5ECF6",
           "caxis": {
            "gridcolor": "white",
            "linecolor": "white",
            "ticks": ""
           }
          },
          "title": {
           "x": 0.05
          },
          "xaxis": {
           "automargin": true,
           "gridcolor": "white",
           "linecolor": "white",
           "ticks": "",
           "title": {
            "standoff": 15
           },
           "zerolinecolor": "white",
           "zerolinewidth": 2
          },
          "yaxis": {
           "automargin": true,
           "gridcolor": "white",
           "linecolor": "white",
           "ticks": "",
           "title": {
            "standoff": 15
           },
           "zerolinecolor": "white",
           "zerolinewidth": 2
          }
         }
        },
        "title": {
         "text": "Parallel Coordinate Plot"
        }
       }
      }
     },
     "metadata": {},
     "output_type": "display_data"
    }
   ],
   "source": [
    "optuna.visualization.plot_parallel_coordinate(study)"
   ]
  },
  {
   "cell_type": "code",
   "execution_count": 13,
   "metadata": {},
   "outputs": [
    {
     "data": {
      "application/vnd.plotly.v1+json": {
       "config": {
        "plotlyServerURL": "https://plot.ly"
       },
       "data": [
        {
         "cliponaxis": false,
         "hovertemplate": [
          "virtual_batch_size (IntDistribution): 0.0036810612122500077<extra></extra>",
          "mask_type (CategoricalDistribution): 0.006056946101199491<extra></extra>",
          "n_d (IntDistribution): 0.014388552972665882<extra></extra>",
          "patience (IntDistribution): 0.021394076460542703<extra></extra>",
          "lambda_sparse (FloatDistribution): 0.06344677691158868<extra></extra>",
          "n_steps (IntDistribution): 0.09053080559261223<extra></extra>",
          "patienceScheduler (IntDistribution): 0.12347508980075247<extra></extra>",
          "n_shared (IntDistribution): 0.13043019393775857<extra></extra>",
          "gamma (FloatDistribution): 0.25344464896345814<extra></extra>",
          "epochs (IntDistribution): 0.29315184804717204<extra></extra>"
         ],
         "name": "Objective Value",
         "orientation": "h",
         "text": [
          "<0.01",
          "<0.01",
          "0.01",
          "0.02",
          "0.06",
          "0.09",
          "0.12",
          "0.13",
          "0.25",
          "0.29"
         ],
         "textposition": "outside",
         "type": "bar",
         "x": [
          0.0036810612122500077,
          0.006056946101199491,
          0.014388552972665882,
          0.021394076460542703,
          0.06344677691158868,
          0.09053080559261223,
          0.12347508980075247,
          0.13043019393775857,
          0.25344464896345814,
          0.29315184804717204
         ],
         "y": [
          "virtual_batch_size",
          "mask_type",
          "n_d",
          "patience",
          "lambda_sparse",
          "n_steps",
          "patienceScheduler",
          "n_shared",
          "gamma",
          "epochs"
         ]
        }
       ],
       "layout": {
        "template": {
         "data": {
          "bar": [
           {
            "error_x": {
             "color": "#2a3f5f"
            },
            "error_y": {
             "color": "#2a3f5f"
            },
            "marker": {
             "line": {
              "color": "#E5ECF6",
              "width": 0.5
             },
             "pattern": {
              "fillmode": "overlay",
              "size": 10,
              "solidity": 0.2
             }
            },
            "type": "bar"
           }
          ],
          "barpolar": [
           {
            "marker": {
             "line": {
              "color": "#E5ECF6",
              "width": 0.5
             },
             "pattern": {
              "fillmode": "overlay",
              "size": 10,
              "solidity": 0.2
             }
            },
            "type": "barpolar"
           }
          ],
          "carpet": [
           {
            "aaxis": {
             "endlinecolor": "#2a3f5f",
             "gridcolor": "white",
             "linecolor": "white",
             "minorgridcolor": "white",
             "startlinecolor": "#2a3f5f"
            },
            "baxis": {
             "endlinecolor": "#2a3f5f",
             "gridcolor": "white",
             "linecolor": "white",
             "minorgridcolor": "white",
             "startlinecolor": "#2a3f5f"
            },
            "type": "carpet"
           }
          ],
          "choropleth": [
           {
            "colorbar": {
             "outlinewidth": 0,
             "ticks": ""
            },
            "type": "choropleth"
           }
          ],
          "contour": [
           {
            "colorbar": {
             "outlinewidth": 0,
             "ticks": ""
            },
            "colorscale": [
             [
              0,
              "#0d0887"
             ],
             [
              0.1111111111111111,
              "#46039f"
             ],
             [
              0.2222222222222222,
              "#7201a8"
             ],
             [
              0.3333333333333333,
              "#9c179e"
             ],
             [
              0.4444444444444444,
              "#bd3786"
             ],
             [
              0.5555555555555556,
              "#d8576b"
             ],
             [
              0.6666666666666666,
              "#ed7953"
             ],
             [
              0.7777777777777778,
              "#fb9f3a"
             ],
             [
              0.8888888888888888,
              "#fdca26"
             ],
             [
              1,
              "#f0f921"
             ]
            ],
            "type": "contour"
           }
          ],
          "contourcarpet": [
           {
            "colorbar": {
             "outlinewidth": 0,
             "ticks": ""
            },
            "type": "contourcarpet"
           }
          ],
          "heatmap": [
           {
            "colorbar": {
             "outlinewidth": 0,
             "ticks": ""
            },
            "colorscale": [
             [
              0,
              "#0d0887"
             ],
             [
              0.1111111111111111,
              "#46039f"
             ],
             [
              0.2222222222222222,
              "#7201a8"
             ],
             [
              0.3333333333333333,
              "#9c179e"
             ],
             [
              0.4444444444444444,
              "#bd3786"
             ],
             [
              0.5555555555555556,
              "#d8576b"
             ],
             [
              0.6666666666666666,
              "#ed7953"
             ],
             [
              0.7777777777777778,
              "#fb9f3a"
             ],
             [
              0.8888888888888888,
              "#fdca26"
             ],
             [
              1,
              "#f0f921"
             ]
            ],
            "type": "heatmap"
           }
          ],
          "heatmapgl": [
           {
            "colorbar": {
             "outlinewidth": 0,
             "ticks": ""
            },
            "colorscale": [
             [
              0,
              "#0d0887"
             ],
             [
              0.1111111111111111,
              "#46039f"
             ],
             [
              0.2222222222222222,
              "#7201a8"
             ],
             [
              0.3333333333333333,
              "#9c179e"
             ],
             [
              0.4444444444444444,
              "#bd3786"
             ],
             [
              0.5555555555555556,
              "#d8576b"
             ],
             [
              0.6666666666666666,
              "#ed7953"
             ],
             [
              0.7777777777777778,
              "#fb9f3a"
             ],
             [
              0.8888888888888888,
              "#fdca26"
             ],
             [
              1,
              "#f0f921"
             ]
            ],
            "type": "heatmapgl"
           }
          ],
          "histogram": [
           {
            "marker": {
             "pattern": {
              "fillmode": "overlay",
              "size": 10,
              "solidity": 0.2
             }
            },
            "type": "histogram"
           }
          ],
          "histogram2d": [
           {
            "colorbar": {
             "outlinewidth": 0,
             "ticks": ""
            },
            "colorscale": [
             [
              0,
              "#0d0887"
             ],
             [
              0.1111111111111111,
              "#46039f"
             ],
             [
              0.2222222222222222,
              "#7201a8"
             ],
             [
              0.3333333333333333,
              "#9c179e"
             ],
             [
              0.4444444444444444,
              "#bd3786"
             ],
             [
              0.5555555555555556,
              "#d8576b"
             ],
             [
              0.6666666666666666,
              "#ed7953"
             ],
             [
              0.7777777777777778,
              "#fb9f3a"
             ],
             [
              0.8888888888888888,
              "#fdca26"
             ],
             [
              1,
              "#f0f921"
             ]
            ],
            "type": "histogram2d"
           }
          ],
          "histogram2dcontour": [
           {
            "colorbar": {
             "outlinewidth": 0,
             "ticks": ""
            },
            "colorscale": [
             [
              0,
              "#0d0887"
             ],
             [
              0.1111111111111111,
              "#46039f"
             ],
             [
              0.2222222222222222,
              "#7201a8"
             ],
             [
              0.3333333333333333,
              "#9c179e"
             ],
             [
              0.4444444444444444,
              "#bd3786"
             ],
             [
              0.5555555555555556,
              "#d8576b"
             ],
             [
              0.6666666666666666,
              "#ed7953"
             ],
             [
              0.7777777777777778,
              "#fb9f3a"
             ],
             [
              0.8888888888888888,
              "#fdca26"
             ],
             [
              1,
              "#f0f921"
             ]
            ],
            "type": "histogram2dcontour"
           }
          ],
          "mesh3d": [
           {
            "colorbar": {
             "outlinewidth": 0,
             "ticks": ""
            },
            "type": "mesh3d"
           }
          ],
          "parcoords": [
           {
            "line": {
             "colorbar": {
              "outlinewidth": 0,
              "ticks": ""
             }
            },
            "type": "parcoords"
           }
          ],
          "pie": [
           {
            "automargin": true,
            "type": "pie"
           }
          ],
          "scatter": [
           {
            "fillpattern": {
             "fillmode": "overlay",
             "size": 10,
             "solidity": 0.2
            },
            "type": "scatter"
           }
          ],
          "scatter3d": [
           {
            "line": {
             "colorbar": {
              "outlinewidth": 0,
              "ticks": ""
             }
            },
            "marker": {
             "colorbar": {
              "outlinewidth": 0,
              "ticks": ""
             }
            },
            "type": "scatter3d"
           }
          ],
          "scattercarpet": [
           {
            "marker": {
             "colorbar": {
              "outlinewidth": 0,
              "ticks": ""
             }
            },
            "type": "scattercarpet"
           }
          ],
          "scattergeo": [
           {
            "marker": {
             "colorbar": {
              "outlinewidth": 0,
              "ticks": ""
             }
            },
            "type": "scattergeo"
           }
          ],
          "scattergl": [
           {
            "marker": {
             "colorbar": {
              "outlinewidth": 0,
              "ticks": ""
             }
            },
            "type": "scattergl"
           }
          ],
          "scattermapbox": [
           {
            "marker": {
             "colorbar": {
              "outlinewidth": 0,
              "ticks": ""
             }
            },
            "type": "scattermapbox"
           }
          ],
          "scatterpolar": [
           {
            "marker": {
             "colorbar": {
              "outlinewidth": 0,
              "ticks": ""
             }
            },
            "type": "scatterpolar"
           }
          ],
          "scatterpolargl": [
           {
            "marker": {
             "colorbar": {
              "outlinewidth": 0,
              "ticks": ""
             }
            },
            "type": "scatterpolargl"
           }
          ],
          "scatterternary": [
           {
            "marker": {
             "colorbar": {
              "outlinewidth": 0,
              "ticks": ""
             }
            },
            "type": "scatterternary"
           }
          ],
          "surface": [
           {
            "colorbar": {
             "outlinewidth": 0,
             "ticks": ""
            },
            "colorscale": [
             [
              0,
              "#0d0887"
             ],
             [
              0.1111111111111111,
              "#46039f"
             ],
             [
              0.2222222222222222,
              "#7201a8"
             ],
             [
              0.3333333333333333,
              "#9c179e"
             ],
             [
              0.4444444444444444,
              "#bd3786"
             ],
             [
              0.5555555555555556,
              "#d8576b"
             ],
             [
              0.6666666666666666,
              "#ed7953"
             ],
             [
              0.7777777777777778,
              "#fb9f3a"
             ],
             [
              0.8888888888888888,
              "#fdca26"
             ],
             [
              1,
              "#f0f921"
             ]
            ],
            "type": "surface"
           }
          ],
          "table": [
           {
            "cells": {
             "fill": {
              "color": "#EBF0F8"
             },
             "line": {
              "color": "white"
             }
            },
            "header": {
             "fill": {
              "color": "#C8D4E3"
             },
             "line": {
              "color": "white"
             }
            },
            "type": "table"
           }
          ]
         },
         "layout": {
          "annotationdefaults": {
           "arrowcolor": "#2a3f5f",
           "arrowhead": 0,
           "arrowwidth": 1
          },
          "autotypenumbers": "strict",
          "coloraxis": {
           "colorbar": {
            "outlinewidth": 0,
            "ticks": ""
           }
          },
          "colorscale": {
           "diverging": [
            [
             0,
             "#8e0152"
            ],
            [
             0.1,
             "#c51b7d"
            ],
            [
             0.2,
             "#de77ae"
            ],
            [
             0.3,
             "#f1b6da"
            ],
            [
             0.4,
             "#fde0ef"
            ],
            [
             0.5,
             "#f7f7f7"
            ],
            [
             0.6,
             "#e6f5d0"
            ],
            [
             0.7,
             "#b8e186"
            ],
            [
             0.8,
             "#7fbc41"
            ],
            [
             0.9,
             "#4d9221"
            ],
            [
             1,
             "#276419"
            ]
           ],
           "sequential": [
            [
             0,
             "#0d0887"
            ],
            [
             0.1111111111111111,
             "#46039f"
            ],
            [
             0.2222222222222222,
             "#7201a8"
            ],
            [
             0.3333333333333333,
             "#9c179e"
            ],
            [
             0.4444444444444444,
             "#bd3786"
            ],
            [
             0.5555555555555556,
             "#d8576b"
            ],
            [
             0.6666666666666666,
             "#ed7953"
            ],
            [
             0.7777777777777778,
             "#fb9f3a"
            ],
            [
             0.8888888888888888,
             "#fdca26"
            ],
            [
             1,
             "#f0f921"
            ]
           ],
           "sequentialminus": [
            [
             0,
             "#0d0887"
            ],
            [
             0.1111111111111111,
             "#46039f"
            ],
            [
             0.2222222222222222,
             "#7201a8"
            ],
            [
             0.3333333333333333,
             "#9c179e"
            ],
            [
             0.4444444444444444,
             "#bd3786"
            ],
            [
             0.5555555555555556,
             "#d8576b"
            ],
            [
             0.6666666666666666,
             "#ed7953"
            ],
            [
             0.7777777777777778,
             "#fb9f3a"
            ],
            [
             0.8888888888888888,
             "#fdca26"
            ],
            [
             1,
             "#f0f921"
            ]
           ]
          },
          "colorway": [
           "#636efa",
           "#EF553B",
           "#00cc96",
           "#ab63fa",
           "#FFA15A",
           "#19d3f3",
           "#FF6692",
           "#B6E880",
           "#FF97FF",
           "#FECB52"
          ],
          "font": {
           "color": "#2a3f5f"
          },
          "geo": {
           "bgcolor": "white",
           "lakecolor": "white",
           "landcolor": "#E5ECF6",
           "showlakes": true,
           "showland": true,
           "subunitcolor": "white"
          },
          "hoverlabel": {
           "align": "left"
          },
          "hovermode": "closest",
          "mapbox": {
           "style": "light"
          },
          "paper_bgcolor": "white",
          "plot_bgcolor": "#E5ECF6",
          "polar": {
           "angularaxis": {
            "gridcolor": "white",
            "linecolor": "white",
            "ticks": ""
           },
           "bgcolor": "#E5ECF6",
           "radialaxis": {
            "gridcolor": "white",
            "linecolor": "white",
            "ticks": ""
           }
          },
          "scene": {
           "xaxis": {
            "backgroundcolor": "#E5ECF6",
            "gridcolor": "white",
            "gridwidth": 2,
            "linecolor": "white",
            "showbackground": true,
            "ticks": "",
            "zerolinecolor": "white"
           },
           "yaxis": {
            "backgroundcolor": "#E5ECF6",
            "gridcolor": "white",
            "gridwidth": 2,
            "linecolor": "white",
            "showbackground": true,
            "ticks": "",
            "zerolinecolor": "white"
           },
           "zaxis": {
            "backgroundcolor": "#E5ECF6",
            "gridcolor": "white",
            "gridwidth": 2,
            "linecolor": "white",
            "showbackground": true,
            "ticks": "",
            "zerolinecolor": "white"
           }
          },
          "shapedefaults": {
           "line": {
            "color": "#2a3f5f"
           }
          },
          "ternary": {
           "aaxis": {
            "gridcolor": "white",
            "linecolor": "white",
            "ticks": ""
           },
           "baxis": {
            "gridcolor": "white",
            "linecolor": "white",
            "ticks": ""
           },
           "bgcolor": "#E5ECF6",
           "caxis": {
            "gridcolor": "white",
            "linecolor": "white",
            "ticks": ""
           }
          },
          "title": {
           "x": 0.05
          },
          "xaxis": {
           "automargin": true,
           "gridcolor": "white",
           "linecolor": "white",
           "ticks": "",
           "title": {
            "standoff": 15
           },
           "zerolinecolor": "white",
           "zerolinewidth": 2
          },
          "yaxis": {
           "automargin": true,
           "gridcolor": "white",
           "linecolor": "white",
           "ticks": "",
           "title": {
            "standoff": 15
           },
           "zerolinecolor": "white",
           "zerolinewidth": 2
          }
         }
        },
        "title": {
         "text": "Hyperparameter Importances"
        },
        "xaxis": {
         "title": {
          "text": "Hyperparameter Importance"
         }
        },
        "yaxis": {
         "title": {
          "text": "Hyperparameter"
         }
        }
       }
      }
     },
     "metadata": {},
     "output_type": "display_data"
    }
   ],
   "source": [
    "optuna.visualization.plot_param_importances(study)"
   ]
  },
  {
   "cell_type": "code",
   "execution_count": 14,
   "metadata": {},
   "outputs": [
    {
     "data": {
      "text/plain": [
       "{'mask_type': 'sparsemax',\n",
       " 'n_d': 64,\n",
       " 'n_steps': 1,\n",
       " 'gamma': 1.0,\n",
       " 'n_shared': 2,\n",
       " 'lambda_sparse': 2.039967147993132e-06,\n",
       " 'patienceScheduler': 10,\n",
       " 'epochs': 34,\n",
       " 'patience': 21,\n",
       " 'virtual_batch_size': 192}"
      ]
     },
     "execution_count": 14,
     "metadata": {},
     "output_type": "execute_result"
    }
   ],
   "source": [
    "study.best_params"
   ]
  },
  {
   "cell_type": "code",
   "execution_count": 17,
   "metadata": {},
   "outputs": [
    {
     "data": {
      "text/plain": [
       "FrozenTrial(number=19, state=1, values=[0.5871246006389776], datetime_start=datetime.datetime(2024, 6, 11, 2, 7, 48, 485466), datetime_complete=datetime.datetime(2024, 6, 11, 3, 7, 44, 413792), params={'mask_type': 'sparsemax', 'n_d': 64, 'n_steps': 1, 'gamma': 1.0, 'n_shared': 2, 'lambda_sparse': 2.039967147993132e-06, 'patienceScheduler': 10, 'epochs': 34, 'patience': 21, 'virtual_batch_size': 192}, user_attrs={}, system_attrs={}, intermediate_values={}, distributions={'mask_type': CategoricalDistribution(choices=('entmax', 'sparsemax')), 'n_d': IntDistribution(high=64, log=False, low=56, step=4), 'n_steps': IntDistribution(high=10, log=False, low=1, step=3), 'gamma': FloatDistribution(high=1.4, log=False, low=1.0, step=0.2), 'n_shared': IntDistribution(high=3, log=False, low=1, step=1), 'lambda_sparse': FloatDistribution(high=0.001, log=True, low=1e-06, step=None), 'patienceScheduler': IntDistribution(high=10, log=False, low=3, step=1), 'epochs': IntDistribution(high=40, log=False, low=1, step=1), 'patience': IntDistribution(high=30, log=False, low=15, step=1), 'virtual_batch_size': IntDistribution(high=256, log=False, low=64, step=64)}, trial_id=19, value=None)"
      ]
     },
     "execution_count": 17,
     "metadata": {},
     "output_type": "execute_result"
    }
   ],
   "source": [
    "best_model = study.best_trial\n",
    "best_model"
   ]
  },
  {
   "cell_type": "markdown",
   "metadata": {},
   "source": [
    "**Entraînement du meilleur modèle**"
   ]
  },
  {
   "cell_type": "code",
   "execution_count": 21,
   "metadata": {},
   "outputs": [
    {
     "name": "stderr",
     "output_type": "stream",
     "text": [
      "c:\\Users\\dcons\\AppData\\Local\\Programs\\Python\\Python311\\Lib\\site-packages\\pytorch_tabnet\\abstract_model.py:82: UserWarning:\n",
      "\n",
      "Device used : cpu\n",
      "\n"
     ]
    },
    {
     "name": "stdout",
     "output_type": "stream",
     "text": [
      "epoch 0  | loss: 1.3987  | train_balanced_accuracy: 0.37282 | valid_balanced_accuracy: 0.37348 |  0:00:22s\n",
      "epoch 1  | loss: 1.10687 | train_balanced_accuracy: 0.3654  | valid_balanced_accuracy: 0.37009 |  0:00:44s\n",
      "epoch 2  | loss: 1.05781 | train_balanced_accuracy: 0.41543 | valid_balanced_accuracy: 0.41518 |  0:01:06s\n",
      "epoch 3  | loss: 1.03241 | train_balanced_accuracy: 0.41393 | valid_balanced_accuracy: 0.4163  |  0:01:27s\n",
      "epoch 4  | loss: 1.01925 | train_balanced_accuracy: 0.42525 | valid_balanced_accuracy: 0.42499 |  0:01:48s\n",
      "epoch 5  | loss: 1.00351 | train_balanced_accuracy: 0.44573 | valid_balanced_accuracy: 0.44515 |  0:02:08s\n",
      "epoch 6  | loss: 0.99601 | train_balanced_accuracy: 0.47136 | valid_balanced_accuracy: 0.46877 |  0:02:29s\n",
      "epoch 7  | loss: 0.98186 | train_balanced_accuracy: 0.50558 | valid_balanced_accuracy: 0.50196 |  0:02:51s\n",
      "epoch 8  | loss: 0.97608 | train_balanced_accuracy: 0.50883 | valid_balanced_accuracy: 0.50443 |  0:03:11s\n",
      "epoch 9  | loss: 0.9722  | train_balanced_accuracy: 0.53313 | valid_balanced_accuracy: 0.51974 |  0:03:33s\n",
      "epoch 10 | loss: 0.96524 | train_balanced_accuracy: 0.54821 | valid_balanced_accuracy: 0.53796 |  0:03:53s\n",
      "epoch 11 | loss: 0.95448 | train_balanced_accuracy: 0.55662 | valid_balanced_accuracy: 0.53769 |  0:04:14s\n",
      "epoch 12 | loss: 0.94698 | train_balanced_accuracy: 0.54888 | valid_balanced_accuracy: 0.52976 |  0:04:35s\n",
      "epoch 13 | loss: 0.93223 | train_balanced_accuracy: 0.57949 | valid_balanced_accuracy: 0.54122 |  0:04:56s\n",
      "epoch 14 | loss: 0.9172  | train_balanced_accuracy: 0.58926 | valid_balanced_accuracy: 0.54258 |  0:05:18s\n",
      "epoch 15 | loss: 0.90762 | train_balanced_accuracy: 0.59221 | valid_balanced_accuracy: 0.54341 |  0:05:40s\n",
      "epoch 16 | loss: 0.90091 | train_balanced_accuracy: 0.60356 | valid_balanced_accuracy: 0.54091 |  0:06:01s\n",
      "epoch 17 | loss: 0.8903  | train_balanced_accuracy: 0.60505 | valid_balanced_accuracy: 0.5394  |  0:06:22s\n",
      "epoch 18 | loss: 0.87867 | train_balanced_accuracy: 0.62021 | valid_balanced_accuracy: 0.53735 |  0:06:43s\n",
      "epoch 19 | loss: 0.87046 | train_balanced_accuracy: 0.62225 | valid_balanced_accuracy: 0.53836 |  0:07:05s\n",
      "epoch 20 | loss: 0.86206 | train_balanced_accuracy: 0.62583 | valid_balanced_accuracy: 0.53219 |  0:07:27s\n",
      "epoch 21 | loss: 0.85323 | train_balanced_accuracy: 0.63409 | valid_balanced_accuracy: 0.53469 |  0:07:49s\n",
      "epoch 22 | loss: 0.8421  | train_balanced_accuracy: 0.63993 | valid_balanced_accuracy: 0.53369 |  0:08:11s\n",
      "epoch 23 | loss: 0.83151 | train_balanced_accuracy: 0.64533 | valid_balanced_accuracy: 0.52741 |  0:08:32s\n",
      "epoch 24 | loss: 0.80285 | train_balanced_accuracy: 0.67076 | valid_balanced_accuracy: 0.53015 |  0:08:53s\n",
      "epoch 25 | loss: 0.7833  | train_balanced_accuracy: 0.67827 | valid_balanced_accuracy: 0.53174 |  0:09:14s\n",
      "epoch 26 | loss: 0.77283 | train_balanced_accuracy: 0.67873 | valid_balanced_accuracy: 0.52474 |  0:09:36s\n",
      "epoch 27 | loss: 0.76652 | train_balanced_accuracy: 0.684   | valid_balanced_accuracy: 0.52338 |  0:09:57s\n",
      "epoch 28 | loss: 0.76325 | train_balanced_accuracy: 0.68565 | valid_balanced_accuracy: 0.52831 |  0:10:18s\n",
      "epoch 29 | loss: 0.75746 | train_balanced_accuracy: 0.69016 | valid_balanced_accuracy: 0.52141 |  0:10:39s\n",
      "epoch 30 | loss: 0.74917 | train_balanced_accuracy: 0.69094 | valid_balanced_accuracy: 0.52463 |  0:11:01s\n",
      "epoch 31 | loss: 0.74601 | train_balanced_accuracy: 0.69474 | valid_balanced_accuracy: 0.51935 |  0:11:22s\n",
      "epoch 32 | loss: 0.73935 | train_balanced_accuracy: 0.69869 | valid_balanced_accuracy: 0.51986 |  0:11:43s\n",
      "epoch 33 | loss: 0.73404 | train_balanced_accuracy: 0.69872 | valid_balanced_accuracy: 0.52041 |  0:12:04s\n",
      "Stop training because you reached max_epochs = 34 with best_epoch = 15 and best_valid_balanced_accuracy = 0.54341\n"
     ]
    },
    {
     "name": "stderr",
     "output_type": "stream",
     "text": [
      "c:\\Users\\dcons\\AppData\\Local\\Programs\\Python\\Python311\\Lib\\site-packages\\pytorch_tabnet\\callbacks.py:172: UserWarning:\n",
      "\n",
      "Best weights from best epoch are automatically used!\n",
      "\n"
     ]
    }
   ],
   "source": [
    "max_epochs = 34\n",
    "\n",
    "best_model = TabNetClassifier(\n",
    "    n_d=64, n_a=64, n_steps=1, n_shared=2,\n",
    "    gamma=1.0,\n",
    "    lambda_sparse=2.039967147993132e-06,\n",
    "    optimizer_fn=torch.optim.Adam,\n",
    "    optimizer_params=dict(lr=0.1, weight_decay=1e-5),\n",
    "    mask_type='sparsemax', \n",
    "    scheduler_params = dict(mode=\"min\", patience=10, min_lr=1e-5, factor=0.5),\n",
    "    scheduler_fn=torch.optim.lr_scheduler.ReduceLROnPlateau, \n",
    "    epsilon=1e-15\n",
    ")\n",
    "\n",
    "best_model.fit(\n",
    "    X_train=data_process_train.to_numpy(), y_train=y_train.values,\n",
    "    eval_set=[(data_process_train.to_numpy(), y_train.values), (data_process_val.to_numpy(), y_val.values)],\n",
    "    eval_name=['train', 'valid'],\n",
    "    eval_metric = ['balanced_accuracy'],\n",
    "    max_epochs=max_epochs, \n",
    "    patience=21,\n",
    "    weights = dict_weights,\n",
    "    batch_size=16384, virtual_batch_size=192\n",
    ") "
   ]
  },
  {
   "cell_type": "markdown",
   "metadata": {},
   "source": [
    "**Sauvegarde du modèle**"
   ]
  },
  {
   "cell_type": "code",
   "execution_count": 38,
   "metadata": {},
   "outputs": [
    {
     "name": "stdout",
     "output_type": "stream",
     "text": [
      "Successfully saved model at C:/Users/dcons/Documents/NADEGE/DATASCIENTEST/Projet/data/tabnet_model.zip\n"
     ]
    },
    {
     "data": {
      "text/plain": [
       "'C:/Users/dcons/Documents/NADEGE/DATASCIENTEST/Projet/data/tabnet_model.zip'"
      ]
     },
     "execution_count": 38,
     "metadata": {},
     "output_type": "execute_result"
    }
   ],
   "source": [
    "filename = conf['local_data_path'] + 'tabnet_model'\n",
    "best_model.save_model(filename)  #extension non nécessaire\n"
   ]
  },
  {
   "cell_type": "code",
   "execution_count": 5,
   "metadata": {},
   "outputs": [
    {
     "name": "stderr",
     "output_type": "stream",
     "text": [
      "c:\\Users\\dcons\\AppData\\Local\\Programs\\Python\\Python311\\Lib\\site-packages\\pytorch_tabnet\\abstract_model.py:82: UserWarning: Device used : cpu\n",
      "  warnings.warn(f\"Device used : {self.device}\")\n"
     ]
    }
   ],
   "source": [
    "## Pour recharger le modèle\n",
    "#filename = conf['local_data_path'] + 'tabnet_model.zip'\n",
    "#loaded_model = TabNetClassifier()\n",
    "#loaded_model.load_model(filename)"
   ]
  },
  {
   "cell_type": "code",
   "execution_count": null,
   "metadata": {},
   "outputs": [],
   "source": []
  },
  {
   "cell_type": "markdown",
   "metadata": {},
   "source": [
    "**Prédictions et performances**"
   ]
  },
  {
   "cell_type": "code",
   "execution_count": 22,
   "metadata": {},
   "outputs": [],
   "source": [
    "y_pred = best_model.predict(data_process_test.to_numpy())"
   ]
  },
  {
   "cell_type": "code",
   "execution_count": 8,
   "metadata": {},
   "outputs": [],
   "source": [
    "#y_pred = loaded_model.predict(data_process_test.to_numpy())"
   ]
  },
  {
   "cell_type": "code",
   "execution_count": 16,
   "metadata": {},
   "outputs": [
    {
     "name": "stdout",
     "output_type": "stream",
     "text": [
      "accuracy - train : 0.6076430181579368\n",
      "accuracy - test : 0.5956866282493793\n"
     ]
    }
   ],
   "source": [
    "print(\"accuracy - train :\", accuracy_score(loaded_model.predict(data_process_train.to_numpy()), y_train))\n",
    "print(\"accuracy - test :\", accuracy_score(y_pred, y_test))\n"
   ]
  },
  {
   "cell_type": "code",
   "execution_count": 70,
   "metadata": {},
   "outputs": [
    {
     "name": "stdout",
     "output_type": "stream",
     "text": [
      "                precision    recall  f1-score   support\n",
      "\n",
      "      Indemnes       0.72      0.78      0.75     55365\n",
      "Blessés légers       0.67      0.46      0.55     54116\n",
      "Blessés graves       0.38      0.46      0.42     21000\n",
      "          Tués       0.15      0.45      0.22      3660\n",
      "\n",
      "      accuracy                           0.60    134141\n",
      "     macro avg       0.48      0.54      0.49    134141\n",
      "  weighted avg       0.63      0.60      0.60    134141\n",
      "\n"
     ]
    }
   ],
   "source": [
    "print(classification_report(y_test, y_pred,target_names=['Indemnes', 'Blessés légers', 'Blessés graves', 'Tués']))"
   ]
  },
  {
   "cell_type": "code",
   "execution_count": 37,
   "metadata": {},
   "outputs": [
    {
     "name": "stdout",
     "output_type": "stream",
     "text": [
      "                precision    recall  f1-score        support\n",
      "Indemnes         0.723836  0.784250  0.752833   55365.000000\n",
      "Blessés légers   0.667588  0.464188  0.547611   54116.000000\n",
      "Blessés graves   0.379593  0.463429  0.417342   21000.000000\n",
      "Tués             0.150060  0.446448  0.224620    3660.000000\n",
      "accuracy         0.595687  0.595687  0.595687       0.595687\n",
      "macro avg        0.480269  0.539579  0.485601  134141.000000\n",
      "weighted avg     0.631597  0.595687  0.603107  134141.000000\n"
     ]
    }
   ],
   "source": [
    "cr= classification_report(y_test, y_pred, target_names=['Indemnes', 'Blessés légers', 'Blessés graves', 'Tués'],output_dict=True)\n",
    "df_cr = pd.DataFrame(cr).transpose()\n",
    "print(df_cr)\n",
    "df_cr.to_csv('../../../data/img/' + 'tabnet_report' + '.csv')"
   ]
  },
  {
   "cell_type": "code",
   "execution_count": 36,
   "metadata": {},
   "outputs": [
    {
     "data": {
      "image/png": "[encoded data removed]",
      "text/plain": [
       "<Figure size 1000x800 with 2 Axes>"
      ]
     },
     "metadata": {},
     "output_type": "display_data"
    }
   ],
   "source": [
    "cm = confusion_matrix(y_test, y_pred) \n",
    "disp = ConfusionMatrixDisplay(\n",
    "        confusion_matrix=cm,\n",
    "        display_labels=['Indemnes', 'Blessés légers', 'Blessés graves', 'Tués']\n",
    "    )\n",
    "\n",
    "#disp.ax_.set(xlabel='Classes prédites', ylabel='Classes réelles')\n",
    "disp.plot()\n",
    "plt.xlabel('Classes prédites')\n",
    "plt.ylabel('Classes réelles')\n",
    "plt.tick_params(left = False, bottom = False) \n",
    "plt.rcParams[\"figure.figsize\"] = (12, 8)\n",
    "plt.savefig('../../../data/img/' + f'tabnet_confusion_matrix' + '.jpg')"
   ]
  },
  {
   "cell_type": "code",
   "execution_count": 71,
   "metadata": {},
   "outputs": [
    {
     "data": {
      "text/html": [
       "<div>\n",
       "<style scoped>\n",
       "    .dataframe tbody tr th:only-of-type {\n",
       "        vertical-align: middle;\n",
       "    }\n",
       "\n",
       "    .dataframe tbody tr th {\n",
       "        vertical-align: top;\n",
       "    }\n",
       "\n",
       "    .dataframe thead th {\n",
       "        text-align: right;\n",
       "    }\n",
       "</style>\n",
       "<table border=\"1\" class=\"dataframe\">\n",
       "  <thead>\n",
       "    <tr style=\"text-align: right;\">\n",
       "      <th>Classe prédite</th>\n",
       "      <th>0</th>\n",
       "      <th>1</th>\n",
       "      <th>2</th>\n",
       "      <th>3</th>\n",
       "    </tr>\n",
       "    <tr>\n",
       "      <th>Classe réelle</th>\n",
       "      <th></th>\n",
       "      <th></th>\n",
       "      <th></th>\n",
       "      <th></th>\n",
       "    </tr>\n",
       "  </thead>\n",
       "  <tbody>\n",
       "    <tr>\n",
       "      <th>0</th>\n",
       "      <td>43420</td>\n",
       "      <td>7080</td>\n",
       "      <td>3156</td>\n",
       "      <td>1709</td>\n",
       "    </tr>\n",
       "    <tr>\n",
       "      <th>1</th>\n",
       "      <td>14329</td>\n",
       "      <td>25120</td>\n",
       "      <td>11400</td>\n",
       "      <td>3267</td>\n",
       "    </tr>\n",
       "    <tr>\n",
       "      <th>2</th>\n",
       "      <td>1991</td>\n",
       "      <td>4998</td>\n",
       "      <td>9732</td>\n",
       "      <td>4279</td>\n",
       "    </tr>\n",
       "    <tr>\n",
       "      <th>3</th>\n",
       "      <td>246</td>\n",
       "      <td>430</td>\n",
       "      <td>1350</td>\n",
       "      <td>1634</td>\n",
       "    </tr>\n",
       "  </tbody>\n",
       "</table>\n",
       "</div>"
      ],
      "text/plain": [
       "Classe prédite      0      1      2     3\n",
       "Classe réelle                            \n",
       "0               43420   7080   3156  1709\n",
       "1               14329  25120  11400  3267\n",
       "2                1991   4998   9732  4279\n",
       "3                 246    430   1350  1634"
      ]
     },
     "execution_count": 71,
     "metadata": {},
     "output_type": "execute_result"
    }
   ],
   "source": [
    "cm2 = pd.crosstab(y_test, y_pred, rownames = ['Classe réelle'], colnames = ['Classe prédite'])\n",
    "cm2"
   ]
  },
  {
   "cell_type": "markdown",
   "metadata": {},
   "source": [
    "**Interprétabilité du modèle**"
   ]
  },
  {
   "cell_type": "code",
   "execution_count": 32,
   "metadata": {},
   "outputs": [
    {
     "data": {
      "image/png": "[encoded data removed]",
      "text/plain": [
       "<Figure size 1200x800 with 1 Axes>"
      ]
     },
     "metadata": {},
     "output_type": "display_data"
    }
   ],
   "source": [
    "importances = best_model.feature_importances_\n",
    "feature_importances = pd.Series(importances, index=data_process_test.columns).sort_values()\n",
    "plt.figure(figsize=(12, 8))\n",
    "plt.barh(feature_importances.index, feature_importances.values)\n",
    "plt.title('TabNet Feature Importance')\n",
    "plt.xlabel('Importance')\n",
    "plt.ylabel('Features')\n",
    "plt.savefig('../../../data/img/' + f'tabnet_feature_importance' + '.jpg')"
   ]
  },
  {
   "cell_type": "code",
   "execution_count": 53,
   "metadata": {},
   "outputs": [],
   "source": [
    "explain_matrix, masks = best_model.explain(data_process_test.to_numpy())"
   ]
  },
  {
   "cell_type": "code",
   "execution_count": 54,
   "metadata": {},
   "outputs": [
    {
     "data": {
      "text/plain": [
       "array([[0., 0., 0., ..., 0., 0., 0.],\n",
       "       [0., 0., 0., ..., 0., 0., 0.],\n",
       "       [0., 0., 0., ..., 0., 0., 0.],\n",
       "       ...,\n",
       "       [0., 0., 0., ..., 0., 0., 0.],\n",
       "       [0., 0., 0., ..., 0., 0., 0.],\n",
       "       [0., 0., 0., ..., 0., 0., 0.]])"
      ]
     },
     "execution_count": 54,
     "metadata": {},
     "output_type": "execute_result"
    }
   ],
   "source": [
    "masks[0] #n_steps = 1 => 1 seule profondeur"
   ]
  },
  {
   "cell_type": "code",
   "execution_count": 58,
   "metadata": {},
   "outputs": [
    {
     "name": "stdout",
     "output_type": "stream",
     "text": [
      "nb d'échantillons : 134141\n",
      "nb de variables : 37\n"
     ]
    }
   ],
   "source": [
    "print(\"nb d'échantillons :\", len(masks[0]))\n",
    "print(\"nb de variables :\", len(masks[0][0]))"
   ]
  },
  {
   "cell_type": "code",
   "execution_count": 67,
   "metadata": {},
   "outputs": [
    {
     "data": {
      "text/plain": [
       "<matplotlib.image.AxesImage at 0x197dba9a2d0>"
      ]
     },
     "execution_count": 67,
     "metadata": {},
     "output_type": "execute_result"
    },
    {
     "data": {
      "image/png": "[encoded data removed]",
      "text/plain": [
       "<Figure size 500x4000 with 1 Axes>"
      ]
     },
     "metadata": {},
     "output_type": "display_data"
    }
   ],
   "source": [
    "n_samples = 50\n",
    "\n",
    "fig = plt.figure(figsize=(5,40))\n",
    "ax = fig.add_axes([0.1, 0.1, 0.8, 0.8])\n",
    "plt.yticks(np.arange(0, n_samples, 1.0))\n",
    "plt.xticks(np.arange(0, len(masks[0][0]), 1.0))\n",
    "ax.set_xticklabels(data_process_test.columns, rotation=90)\n",
    "plt.ylabel('Sample Number')\n",
    "plt.xlabel('Variable')\n",
    "plt.imshow(masks[0][:n_samples])"
   ]
  },
  {
   "cell_type": "code",
   "execution_count": null,
   "metadata": {},
   "outputs": [],
   "source": []
  }
 ],
 "metadata": {
  "kernelspec": {
   "display_name": "Python 3",
   "language": "python",
   "name": "python3"
  },
  "language_info": {
   "codemirror_mode": {
    "name": "ipython",
    "version": 3
   },
   "file_extension": ".py",
   "mimetype": "text/x-python",
   "name": "python",
   "nbconvert_exporter": "python",
   "pygments_lexer": "ipython3",
   "version": "3.11.5"
  }
 },
 "nbformat": 4,
 "nbformat_minor": 2
}
