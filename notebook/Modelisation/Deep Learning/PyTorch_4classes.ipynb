{
 "cells": [
  {
   "cell_type": "code",
   "execution_count": 2,
   "metadata": {},
   "outputs": [],
   "source": [
    "import pandas as pd\n",
    "import numpy as np\n",
    "import yaml\n",
    "import matplotlib.pyplot as plt\n",
    "import seaborn as sns\n",
    "import collections\n",
    "\n",
    "from sklearn.base import BaseEstimator,TransformerMixin, ClassifierMixin\n",
    "from sklearn.model_selection import train_test_split, cross_validate, StratifiedKFold, GridSearchCV, RandomizedSearchCV, validation_curve\n",
    "from sklearn.pipeline import make_pipeline, Pipeline\n",
    "from sklearn.compose import ColumnTransformer\n",
    "from sklearn.preprocessing import MinMaxScaler, RobustScaler, OneHotEncoder, PolynomialFeatures, StandardScaler, SplineTransformer, KBinsDiscretizer\n",
    "from sklearn.linear_model import LogisticRegression\n",
    "from sklearn.metrics import classification_report, roc_auc_score, f1_score, roc_curve, auc, recall_score, precision_recall_curve, make_scorer, accuracy_score, confusion_matrix,ConfusionMatrixDisplay\n",
    "from sklearn.kernel_approximation import Nystroem\n",
    "from sklearn.feature_selection import SelectKBest, f_classif, RFE\n",
    "from sklearn.multiclass import OneVsRestClassifier, OneVsOneClassifier\n",
    "from sklearn.decomposition import PCA\n",
    "from sklearn.inspection import permutation_importance\n",
    "from sklearn.ensemble import RandomForestClassifier, StackingClassifier, VotingClassifier\n",
    "\n",
    "\n",
    "# Pytorch modules\n",
    "import torch\n",
    "import torch.nn as nn\n",
    "import torch.optim as optim\n",
    "from torch.utils.data import Dataset, DataLoader\n",
    "import torch.nn.functional as F\n",
    "\n",
    "import torchviz\n",
    "from torchviz import make_dot, make_dot_from_trace\n",
    "from tqdm.notebook import tqdm\n",
    "import tqdm\n",
    "\n",
    "import skorch\n",
    "from skorch import NeuralNetClassifier"
   ]
  },
  {
   "cell_type": "code",
   "execution_count": 3,
   "metadata": {},
   "outputs": [
    {
     "name": "stdout",
     "output_type": "stream",
     "text": [
      "The torch version is 2.2.2+cpu.\n",
      "The tqdm is 4.66.2.\n",
      "The skorch is 1.0.0.\n"
     ]
    }
   ],
   "source": [
    "print('The torch version is {}.'.format(torch.__version__))\n",
    "print('The tqdm is {}.'.format(tqdm.__version__))\n",
    "print('The skorch is {}.'.format(skorch.__version__))"
   ]
  },
  {
   "cell_type": "code",
   "execution_count": 21,
   "metadata": {},
   "outputs": [],
   "source": [
    "file = open('../../../conf/global_conf.yml', 'r') \n",
    "conf = yaml.safe_load(file)\n",
    "df = pd.read_csv(conf['local_data_path'] + \"data_cleaned_final_sans_dummies.csv\",index_col=0,low_memory=False)"
   ]
  },
  {
   "cell_type": "code",
   "execution_count": 22,
   "metadata": {},
   "outputs": [],
   "source": [
    "# Recodage variable cible grav par ordre croissant : 0 : indemne, 1 : blessé léger, 2 : blessé grave, 3 : décès\n",
    "with pd.option_context(\"future.no_silent_downcasting\", True):\n",
    "    df['grav'] = df['grav'].replace(1,'I')\n",
    "    df['grav'] = df['grav'].replace(2,'T')\n",
    "    df['grav'] = df['grav'].replace(3,'BG')\n",
    "    df['grav'] = df['grav'].replace(4,'BL')\n",
    "    df['grav'] = df['grav'].replace('I',0)\n",
    "    df['grav'] = df['grav'].replace('T',3)\n",
    "    df['grav'] = df['grav'].replace('BG',2)\n",
    "    df['grav'] = df['grav'].replace('BL',1)"
   ]
  },
  {
   "cell_type": "code",
   "execution_count": 23,
   "metadata": {},
   "outputs": [],
   "source": [
    "data = df.drop(['grav_rec', 'an', 'jour', 'date', 'dep', 'grav'], axis=1)\n",
    "y = df.grav\n",
    "\n",
    "numerical_features = ['age_usager', 'mois', 'heure', 'lat', 'long']\n",
    "categorical_features = [col for col in data.columns if col not in numerical_features]\n",
    "for col in categorical_features:\n",
    "    data[col] = data[col].astype('int')\n",
    "data[categorical_features] = data[categorical_features].astype('int')\n"
   ]
  },
  {
   "cell_type": "code",
   "execution_count": 24,
   "metadata": {},
   "outputs": [],
   "source": [
    "class TransfoHour(BaseEstimator, TransformerMixin):\n",
    "    def __init__(self, column_name):\n",
    "        self.column_name = column_name\n",
    "\n",
    "    def fit(self, X, y=None):\n",
    "        return self\n",
    "\n",
    "    def transform(self, X):\n",
    "        X_transfo = X.copy()\n",
    "        X_transfo[f'{self.column_name}_sin'] = np.sin(X_transfo[self.column_name]*(2.*np.pi/24))\n",
    "        X_transfo[f'{self.column_name}_cos'] = np.cos(X_transfo[self.column_name]*(2.*np.pi/24))\n",
    "        X_transfo = X_transfo.drop(self.column_name, axis=1)\n",
    "        return X_transfo\n",
    "\n",
    "    def get_feature_names_out(self):\n",
    "        pass\n",
    "\n",
    "class TransfoMonth(BaseEstimator, TransformerMixin):\n",
    "    def __init__(self, column_name):\n",
    "        self.column_name = column_name\n",
    "\n",
    "    def fit(self, X, y=None):\n",
    "        return self\n",
    "\n",
    "    def transform(self, X):\n",
    "        X_transfo = X.copy()\n",
    "        X_transfo[f'{self.column_name}_sin'] = np.sin((X_transfo[self.column_name]-1)*(2.*np.pi/12))\n",
    "        X_transfo[f'{self.column_name}_cos'] = np.cos((X_transfo[self.column_name]-1)*(2.*np.pi/12))\n",
    "        X_transfo = X_transfo.drop(self.column_name, axis=1)\n",
    "        return X_transfo\n",
    "\n",
    "    def get_feature_names_out(self):\n",
    "        pass\n",
    "\n",
    "\n",
    "preprocessor = ColumnTransformer(transformers=[\n",
    "    (\"transfo_heure\", TransfoHour('heure'), ['heure']),\n",
    "    (\"transfo_mois\", TransfoMonth('mois'), ['mois']),\n",
    "    (\"transfo_lat_long\", RobustScaler(), ['lat', 'long']),\n",
    "    ('transfo_age_usager', MinMaxScaler(), ['age_usager'])\n",
    "    ],\n",
    "    remainder=\"passthrough\"\n",
    ").set_output(transform=\"pandas\")"
   ]
  },
  {
   "cell_type": "code",
   "execution_count": 25,
   "metadata": {},
   "outputs": [
    {
     "name": "stdout",
     "output_type": "stream",
     "text": [
      "cpu\n"
     ]
    }
   ],
   "source": [
    "device = torch.device(\"cuda:0\" if torch.cuda.is_available() else \"cpu\")\n",
    "print(device)"
   ]
  },
  {
   "cell_type": "code",
   "execution_count": 26,
   "metadata": {},
   "outputs": [
    {
     "data": {
      "text/html": [
       "<div>\n",
       "<style scoped>\n",
       "    .dataframe tbody tr th:only-of-type {\n",
       "        vertical-align: middle;\n",
       "    }\n",
       "\n",
       "    .dataframe tbody tr th {\n",
       "        vertical-align: top;\n",
       "    }\n",
       "\n",
       "    .dataframe thead th {\n",
       "        text-align: right;\n",
       "    }\n",
       "</style>\n",
       "<table border=\"1\" class=\"dataframe\">\n",
       "  <thead>\n",
       "    <tr style=\"text-align: right;\">\n",
       "      <th></th>\n",
       "      <th>transfo_heure__heure_sin</th>\n",
       "      <th>transfo_heure__heure_cos</th>\n",
       "      <th>transfo_mois__mois_sin</th>\n",
       "      <th>transfo_mois__mois_cos</th>\n",
       "      <th>transfo_lat_long__lat</th>\n",
       "      <th>transfo_lat_long__long</th>\n",
       "      <th>transfo_age_usager__age_usager</th>\n",
       "      <th>remainder__lum</th>\n",
       "      <th>remainder__agg</th>\n",
       "      <th>remainder__int</th>\n",
       "      <th>...</th>\n",
       "      <th>remainder__eq_ceinture</th>\n",
       "      <th>remainder__eq_casque</th>\n",
       "      <th>remainder__eq_siege</th>\n",
       "      <th>remainder__eq_gilet</th>\n",
       "      <th>remainder__eq_airbag</th>\n",
       "      <th>remainder__eq_gants</th>\n",
       "      <th>remainder__eq_indetermine</th>\n",
       "      <th>remainder__eq_autre</th>\n",
       "      <th>remainder__jour_chome</th>\n",
       "      <th>remainder__prox_pt_choc</th>\n",
       "    </tr>\n",
       "  </thead>\n",
       "  <tbody>\n",
       "    <tr>\n",
       "      <th>367203</th>\n",
       "      <td>1.224647e-16</td>\n",
       "      <td>-1.000000</td>\n",
       "      <td>0.000000e+00</td>\n",
       "      <td>1.000000e+00</td>\n",
       "      <td>0.291093</td>\n",
       "      <td>0.027916</td>\n",
       "      <td>0.609091</td>\n",
       "      <td>0</td>\n",
       "      <td>1</td>\n",
       "      <td>0</td>\n",
       "      <td>...</td>\n",
       "      <td>0</td>\n",
       "      <td>0</td>\n",
       "      <td>0</td>\n",
       "      <td>0</td>\n",
       "      <td>0</td>\n",
       "      <td>0</td>\n",
       "      <td>1</td>\n",
       "      <td>0</td>\n",
       "      <td>1</td>\n",
       "      <td>0</td>\n",
       "    </tr>\n",
       "    <tr>\n",
       "      <th>165009</th>\n",
       "      <td>-9.659258e-01</td>\n",
       "      <td>-0.258819</td>\n",
       "      <td>8.660254e-01</td>\n",
       "      <td>-5.000000e-01</td>\n",
       "      <td>0.676458</td>\n",
       "      <td>-0.006907</td>\n",
       "      <td>0.381818</td>\n",
       "      <td>0</td>\n",
       "      <td>0</td>\n",
       "      <td>1</td>\n",
       "      <td>...</td>\n",
       "      <td>1</td>\n",
       "      <td>0</td>\n",
       "      <td>0</td>\n",
       "      <td>0</td>\n",
       "      <td>0</td>\n",
       "      <td>0</td>\n",
       "      <td>0</td>\n",
       "      <td>0</td>\n",
       "      <td>1</td>\n",
       "      <td>0</td>\n",
       "    </tr>\n",
       "    <tr>\n",
       "      <th>102923</th>\n",
       "      <td>-5.000000e-01</td>\n",
       "      <td>-0.866025</td>\n",
       "      <td>8.660254e-01</td>\n",
       "      <td>-5.000000e-01</td>\n",
       "      <td>0.271712</td>\n",
       "      <td>-0.046623</td>\n",
       "      <td>0.381818</td>\n",
       "      <td>0</td>\n",
       "      <td>1</td>\n",
       "      <td>1</td>\n",
       "      <td>...</td>\n",
       "      <td>0</td>\n",
       "      <td>1</td>\n",
       "      <td>0</td>\n",
       "      <td>0</td>\n",
       "      <td>0</td>\n",
       "      <td>1</td>\n",
       "      <td>0</td>\n",
       "      <td>0</td>\n",
       "      <td>1</td>\n",
       "      <td>1</td>\n",
       "    </tr>\n",
       "    <tr>\n",
       "      <th>389410</th>\n",
       "      <td>-8.660254e-01</td>\n",
       "      <td>-0.500000</td>\n",
       "      <td>1.000000e+00</td>\n",
       "      <td>6.123234e-17</td>\n",
       "      <td>0.201869</td>\n",
       "      <td>1.542802</td>\n",
       "      <td>0.209091</td>\n",
       "      <td>0</td>\n",
       "      <td>1</td>\n",
       "      <td>1</td>\n",
       "      <td>...</td>\n",
       "      <td>1</td>\n",
       "      <td>0</td>\n",
       "      <td>0</td>\n",
       "      <td>0</td>\n",
       "      <td>0</td>\n",
       "      <td>0</td>\n",
       "      <td>1</td>\n",
       "      <td>0</td>\n",
       "      <td>0</td>\n",
       "      <td>0</td>\n",
       "    </tr>\n",
       "    <tr>\n",
       "      <th>85702</th>\n",
       "      <td>8.660254e-01</td>\n",
       "      <td>-0.500000</td>\n",
       "      <td>1.224647e-16</td>\n",
       "      <td>-1.000000e+00</td>\n",
       "      <td>-0.047079</td>\n",
       "      <td>-0.248779</td>\n",
       "      <td>0.509091</td>\n",
       "      <td>0</td>\n",
       "      <td>1</td>\n",
       "      <td>1</td>\n",
       "      <td>...</td>\n",
       "      <td>0</td>\n",
       "      <td>0</td>\n",
       "      <td>0</td>\n",
       "      <td>0</td>\n",
       "      <td>0</td>\n",
       "      <td>0</td>\n",
       "      <td>0</td>\n",
       "      <td>0</td>\n",
       "      <td>0</td>\n",
       "      <td>0</td>\n",
       "    </tr>\n",
       "  </tbody>\n",
       "</table>\n",
       "<p>5 rows × 37 columns</p>\n",
       "</div>"
      ],
      "text/plain": [
       "        transfo_heure__heure_sin  transfo_heure__heure_cos  \\\n",
       "367203              1.224647e-16                 -1.000000   \n",
       "165009             -9.659258e-01                 -0.258819   \n",
       "102923             -5.000000e-01                 -0.866025   \n",
       "389410             -8.660254e-01                 -0.500000   \n",
       "85702               8.660254e-01                 -0.500000   \n",
       "\n",
       "        transfo_mois__mois_sin  transfo_mois__mois_cos  transfo_lat_long__lat  \\\n",
       "367203            0.000000e+00            1.000000e+00               0.291093   \n",
       "165009            8.660254e-01           -5.000000e-01               0.676458   \n",
       "102923            8.660254e-01           -5.000000e-01               0.271712   \n",
       "389410            1.000000e+00            6.123234e-17               0.201869   \n",
       "85702             1.224647e-16           -1.000000e+00              -0.047079   \n",
       "\n",
       "        transfo_lat_long__long  transfo_age_usager__age_usager  \\\n",
       "367203                0.027916                        0.609091   \n",
       "165009               -0.006907                        0.381818   \n",
       "102923               -0.046623                        0.381818   \n",
       "389410                1.542802                        0.209091   \n",
       "85702                -0.248779                        0.509091   \n",
       "\n",
       "        remainder__lum  remainder__agg  remainder__int  ...  \\\n",
       "367203               0               1               0  ...   \n",
       "165009               0               0               1  ...   \n",
       "102923               0               1               1  ...   \n",
       "389410               0               1               1  ...   \n",
       "85702                0               1               1  ...   \n",
       "\n",
       "        remainder__eq_ceinture  remainder__eq_casque  remainder__eq_siege  \\\n",
       "367203                       0                     0                    0   \n",
       "165009                       1                     0                    0   \n",
       "102923                       0                     1                    0   \n",
       "389410                       1                     0                    0   \n",
       "85702                        0                     0                    0   \n",
       "\n",
       "        remainder__eq_gilet  remainder__eq_airbag  remainder__eq_gants  \\\n",
       "367203                    0                     0                    0   \n",
       "165009                    0                     0                    0   \n",
       "102923                    0                     0                    1   \n",
       "389410                    0                     0                    0   \n",
       "85702                     0                     0                    0   \n",
       "\n",
       "        remainder__eq_indetermine  remainder__eq_autre  remainder__jour_chome  \\\n",
       "367203                          1                    0                      1   \n",
       "165009                          0                    0                      1   \n",
       "102923                          0                    0                      1   \n",
       "389410                          1                    0                      0   \n",
       "85702                           0                    0                      0   \n",
       "\n",
       "        remainder__prox_pt_choc  \n",
       "367203                        0  \n",
       "165009                        0  \n",
       "102923                        1  \n",
       "389410                        0  \n",
       "85702                         0  \n",
       "\n",
       "[5 rows x 37 columns]"
      ]
     },
     "metadata": {},
     "output_type": "display_data"
    },
    {
     "name": "stdout",
     "output_type": "stream",
     "text": [
      "Batch size : 64, Nb features : 36,  Nb classes : 4\n"
     ]
    }
   ],
   "source": [
    "data_train, data_test, y_train, y_test = train_test_split(data, y, test_size=0.3, random_state=42, stratify=y)\n",
    "data_train, data_val, y_train, y_val = train_test_split(data_train, y_train, test_size=0.1, random_state=42, stratify=y_train)\n",
    "\n",
    "data_process_train = preprocessor.fit_transform(data_train)\n",
    "data_process_val = preprocessor.transform(data_val)\n",
    "data_process_test = preprocessor.transform(data_test)\n",
    "\n",
    "display(data_process_train.head())\n",
    "\n",
    "BATCH_SIZE = 64\n",
    "NUM_FEATURES = len(data_process_train.columns)\n",
    "NUM_CLASSES = 4\n",
    "print((f\"Batch size : {BATCH_SIZE}, Nb features : {NUM_FEATURES},  Nb classes : {NUM_CLASSES}\"))\n",
    "\n",
    "data_process_train = torch.tensor(data_process_train.values, dtype=torch.float32).to(device)\n",
    "data_process_val = torch.tensor(data_process_val.values, dtype=torch.float32).to(device)\n",
    "data_process_test = torch.tensor(data_process_test.values, dtype=torch.float32).to(device)\n",
    "y_train = torch.tensor(y_train, dtype=torch.float32).to(device)\n",
    "y_test = torch.tensor(y_test.astype('int').values, dtype=torch.float32).to(device)\n",
    "y_val = torch.tensor(y_val.astype('int').values, dtype=torch.float32).to(device)"
   ]
  },
  {
   "cell_type": "code",
   "execution_count": 27,
   "metadata": {},
   "outputs": [
    {
     "name": "stdout",
     "output_type": "stream",
     "text": [
      "train:  torch.Size([281695, 37])\n",
      "test: torch.Size([134141, 37])\n",
      "val: torch.Size([31300, 37])\n"
     ]
    }
   ],
   "source": [
    "print(\"train: \", data_process_train.shape)\n",
    "print(\"test:\", data_process_test.shape)\n",
    "print(\"val:\", data_process_val.shape)"
   ]
  },
  {
   "cell_type": "code",
   "execution_count": 84,
   "metadata": {},
   "outputs": [],
   "source": [
    "class TabularDataset(Dataset):\n",
    "    def __init__(self, data, labels=None):\n",
    "        \"\"\"\n",
    "        Characterizes a Dataset for PyTorch\n",
    "        \"\"\"\n",
    "        self.n = data.shape[0]\n",
    "        self.data = data\n",
    "        self.y = labels\n",
    "\n",
    "    def __len__(self):\n",
    "        \"\"\"\n",
    "        Denotes the total number of samples.\n",
    "        \"\"\"\n",
    "        return self.n\n",
    "\n",
    "    def __getitem__(self, idx):\n",
    "        \"\"\"\n",
    "        Generates one sample of data.\n",
    "        \"\"\"\n",
    "        return [self.data[idx], self.y[idx].long()]"
   ]
  },
  {
   "cell_type": "code",
   "execution_count": 29,
   "metadata": {},
   "outputs": [],
   "source": [
    "train = TabularDataset(data=data_process_train, labels=y_train)\n",
    "val = TabularDataset(data=data_process_val, labels=y_val)\n",
    "test = TabularDataset(data=data_process_test, labels=y_test)\n"
   ]
  },
  {
   "cell_type": "code",
   "execution_count": 30,
   "metadata": {},
   "outputs": [],
   "source": [
    "train_dl = DataLoader(train, BATCH_SIZE, shuffle = True)\n",
    "val_dl = DataLoader(val, 1, shuffle = False)\n",
    "test_dl = DataLoader(test, 1, shuffle = False)"
   ]
  },
  {
   "cell_type": "code",
   "execution_count": 33,
   "metadata": {},
   "outputs": [],
   "source": [
    "class Multiclass(nn.Module):\n",
    "    def __init__(self, activation=nn.ReLU):\n",
    "        super().__init__()\n",
    "        self.layer1 = nn.Linear(37, 70)\n",
    "        self.layer2 = activation()\n",
    "        self.layer3 = nn.Linear(70, 140)\n",
    "        self.layer4 = activation()\n",
    "        self.layer5 = nn.Dropout(p=0.2)\n",
    "        self.layer6 = nn.Linear(140, 70)\n",
    "        self.layer7 = activation()\n",
    "        self.layer8 = nn.Linear(70, 35)\n",
    "        self.layer9 = activation()\n",
    "        self.layer10 = nn.Dropout(p=0.2)\n",
    "        self.layer11= nn.Linear(35, 14)\n",
    "        self.layer12= activation()\n",
    "        self.layer13= nn.Linear(14, 4)\n",
    "\n",
    "    def forward(self, x):\n",
    "        x = self.layer1(x)\n",
    "        x = self.layer2(x)\n",
    "        x = self.layer3(x)\n",
    "        x = self.layer4(x)\n",
    "        x = self.layer5(x)\n",
    "        x = self.layer6(x)\n",
    "        x = self.layer7(x)\n",
    "        x = self.layer8(x)\n",
    "        x = self.layer9(x)\n",
    "        x = self.layer10(x)\n",
    "        x = self.layer11(x)\n",
    "        x = self.layer12(x)\n",
    "        x = self.layer13(x)\n",
    "        return F.softmax(x, dim=1)"
   ]
  },
  {
   "cell_type": "code",
   "execution_count": 34,
   "metadata": {},
   "outputs": [
    {
     "name": "stdout",
     "output_type": "stream",
     "text": [
      "class_weights: tensor([0.6057, 0.6197, 1.5969, 9.1614])\n"
     ]
    }
   ],
   "source": [
    "# loss metric and optimizer\n",
    "LEARNING_RATE = 0.1\n",
    "model = Multiclass().to(device)\n",
    "class_weights = []\n",
    "for i in range(4):\n",
    "  Nb_class = y_train[y_train == i].shape[0]\n",
    "  class_weights.append(y_train.shape[0] / (4*Nb_class))\n",
    "class_weights = [class_weights[i] for i in range(len(class_weights))]\n",
    "class_weights = torch.FloatTensor(class_weights).to(device)\n",
    "print(\"class_weights:\", class_weights)\n",
    "loss_fn = nn.CrossEntropyLoss(weight=class_weights, reduction='mean').to(device)\n",
    "\n",
    "#loss_fn = nn.CrossEntropyLoss().to(device)\n",
    "optimizer = optim.SGD(model.parameters(), lr=LEARNING_RATE)\n",
    "scheduler = torch.optim.lr_scheduler.ReduceLROnPlateau(optimizer, mode='max', factor=0.25, patience=2, threshold=0.001, min_lr=1e-4)"
   ]
  },
  {
   "cell_type": "code",
   "execution_count": 35,
   "metadata": {},
   "outputs": [
    {
     "name": "stdout",
     "output_type": "stream",
     "text": [
      "logits: tensor([[0.2122, 0.2307, 0.2926, 0.2645],\n",
      "        [0.2078, 0.2356, 0.2930, 0.2636],\n",
      "        [0.2119, 0.2304, 0.2912, 0.2665],\n",
      "        [0.2122, 0.2299, 0.2936, 0.2643],\n",
      "        [0.2109, 0.2314, 0.2951, 0.2625]], grad_fn=<SliceBackward0>)\n"
     ]
    }
   ],
   "source": [
    "# Forward pass\n",
    "logits = model(data_process_train)\n",
    "print('logits:', logits[:5])"
   ]
  },
  {
   "cell_type": "code",
   "execution_count": 130,
   "metadata": {},
   "outputs": [],
   "source": [
    "def train(data_loader, model, criterion, optimizer, device):\n",
    "    model.train()\n",
    "    epoch_losses = []\n",
    "    epoch_accs = []\n",
    "    epoch_f1 = []\n",
    "    for i, batch in enumerate(tqdm.tqdm(data_loader, desc=\"training...\")):\n",
    "        data, labels = batch\n",
    "        data, labels = data.to(device), labels.to(device)\n",
    "        prediction = model(data)\n",
    "        loss = criterion(prediction, labels)\n",
    "        accuracy = get_accuracy(prediction, labels)\n",
    "        optimizer.zero_grad()\n",
    "        loss.backward()\n",
    "        optimizer.step()\n",
    "        epoch_losses.append(loss.item())\n",
    "        epoch_accs.append(accuracy.item())\n",
    "        f1 = f1_score(labels, prediction.argmax(dim=-1), average='weighted')\n",
    "        epoch_f1.append(f1)\n",
    "\n",
    "    return np.mean(epoch_losses), np.mean(epoch_accs), np.mean(epoch_f1)"
   ]
  },
  {
   "cell_type": "code",
   "execution_count": 37,
   "metadata": {},
   "outputs": [],
   "source": [
    "def evaluate(data_loader, model, criterion, device):\n",
    "    model.eval()\n",
    "    epoch_losses = []\n",
    "    epoch_accs = []\n",
    "    epoch_f1 = []\n",
    "    with torch.no_grad():\n",
    "        for i, batch in enumerate(tqdm.tqdm(data_loader, desc=\"evaluating...\")):\n",
    "            data, labels = batch\n",
    "            data, labels = data.to(device), labels.to(device)\n",
    "            prediction = model(data)\n",
    "            loss = criterion(prediction, labels)\n",
    "            accuracy = get_accuracy(prediction, labels)\n",
    "            epoch_losses.append(loss.item())\n",
    "            epoch_accs.append(accuracy.item())\n",
    "            f1 = f1_score(labels, prediction.argmax(dim=-1), average='weighted')\n",
    "            epoch_f1.append(f1)\n",
    "        scheduler.step(np.mean(epoch_f1))\n",
    "        print(\"lr :\", optimizer.param_groups[0]['lr'])\n",
    "    return np.mean(epoch_losses), np.mean(epoch_accs), np.mean(epoch_f1)"
   ]
  },
  {
   "cell_type": "code",
   "execution_count": 38,
   "metadata": {},
   "outputs": [],
   "source": [
    "def get_accuracy(prediction, label):\n",
    "    batch_size, _ = prediction.shape\n",
    "    predicted_classes = prediction.argmax(dim=-1)\n",
    "    correct_predictions = predicted_classes.eq(label).sum()\n",
    "    accuracy = correct_predictions / batch_size\n",
    "    return accuracy"
   ]
  },
  {
   "cell_type": "code",
   "execution_count": 39,
   "metadata": {},
   "outputs": [
    {
     "name": "stderr",
     "output_type": "stream",
     "text": [
      "training...: 100%|██████████| 4402/4402 [00:20<00:00, 210.21it/s]\n",
      "evaluating...: 100%|██████████| 31300/31300 [01:22<00:00, 381.36it/s]\n"
     ]
    },
    {
     "name": "stdout",
     "output_type": "stream",
     "text": [
      "lr : 0.1\n",
      "epoch: 0\n",
      "train_loss: 1.326, train_acc: 0.371, train_f1: 0.316\n",
      "valid_loss: 1.233, valid_acc: 0.482, valid_f1: 0.482\n"
     ]
    },
    {
     "name": "stderr",
     "output_type": "stream",
     "text": [
      "training...: 100%|██████████| 4402/4402 [00:26<00:00, 166.27it/s]\n",
      "evaluating...: 100%|██████████| 31300/31300 [01:06<00:00, 470.94it/s]\n"
     ]
    },
    {
     "name": "stdout",
     "output_type": "stream",
     "text": [
      "lr : 0.1\n",
      "epoch: 1\n",
      "train_loss: 1.233, train_acc: 0.527, train_f1: 0.539\n",
      "valid_loss: 1.197, valid_acc: 0.525, valid_f1: 0.525\n"
     ]
    },
    {
     "name": "stderr",
     "output_type": "stream",
     "text": [
      "training...: 100%|██████████| 4402/4402 [00:23<00:00, 187.18it/s]\n",
      "evaluating...: 100%|██████████| 31300/31300 [01:06<00:00, 472.06it/s]\n"
     ]
    },
    {
     "name": "stdout",
     "output_type": "stream",
     "text": [
      "lr : 0.1\n",
      "epoch: 2\n",
      "train_loss: 1.215, train_acc: 0.542, train_f1: 0.556\n",
      "valid_loss: 1.164, valid_acc: 0.566, valid_f1: 0.566\n"
     ]
    },
    {
     "name": "stderr",
     "output_type": "stream",
     "text": [
      "training...: 100%|██████████| 4402/4402 [00:22<00:00, 191.44it/s]\n",
      "evaluating...: 100%|██████████| 31300/31300 [01:08<00:00, 456.02it/s]\n"
     ]
    },
    {
     "name": "stdout",
     "output_type": "stream",
     "text": [
      "lr : 0.1\n",
      "epoch: 3\n",
      "train_loss: 1.208, train_acc: 0.550, train_f1: 0.564\n",
      "valid_loss: 1.172, valid_acc: 0.553, valid_f1: 0.553\n"
     ]
    },
    {
     "name": "stderr",
     "output_type": "stream",
     "text": [
      "training...: 100%|██████████| 4402/4402 [00:23<00:00, 190.08it/s]\n",
      "evaluating...: 100%|██████████| 31300/31300 [01:06<00:00, 473.99it/s]\n"
     ]
    },
    {
     "name": "stdout",
     "output_type": "stream",
     "text": [
      "lr : 0.1\n",
      "epoch: 4\n",
      "train_loss: 1.203, train_acc: 0.551, train_f1: 0.565\n",
      "valid_loss: 1.173, valid_acc: 0.551, valid_f1: 0.551\n"
     ]
    },
    {
     "name": "stderr",
     "output_type": "stream",
     "text": [
      "training...: 100%|██████████| 4402/4402 [00:23<00:00, 188.40it/s]\n",
      "evaluating...: 100%|██████████| 31300/31300 [01:01<00:00, 505.23it/s]\n"
     ]
    },
    {
     "name": "stdout",
     "output_type": "stream",
     "text": [
      "lr : 0.025\n",
      "epoch: 5\n",
      "train_loss: 1.198, train_acc: 0.556, train_f1: 0.569\n",
      "valid_loss: 1.200, valid_acc: 0.521, valid_f1: 0.521\n"
     ]
    },
    {
     "name": "stderr",
     "output_type": "stream",
     "text": [
      "training...: 100%|██████████| 4402/4402 [00:23<00:00, 188.37it/s]\n",
      "evaluating...: 100%|██████████| 31300/31300 [01:05<00:00, 480.50it/s]\n"
     ]
    },
    {
     "name": "stdout",
     "output_type": "stream",
     "text": [
      "lr : 0.025\n",
      "epoch: 6\n",
      "train_loss: 1.185, train_acc: 0.569, train_f1: 0.584\n",
      "valid_loss: 1.173, valid_acc: 0.550, valid_f1: 0.550\n"
     ]
    },
    {
     "name": "stderr",
     "output_type": "stream",
     "text": [
      "training...: 100%|██████████| 4402/4402 [00:24<00:00, 179.42it/s]\n",
      "evaluating...: 100%|██████████| 31300/31300 [01:13<00:00, 424.12it/s]\n"
     ]
    },
    {
     "name": "stdout",
     "output_type": "stream",
     "text": [
      "lr : 0.025\n",
      "epoch: 7\n",
      "train_loss: 1.182, train_acc: 0.573, train_f1: 0.588\n",
      "valid_loss: 1.159, valid_acc: 0.568, valid_f1: 0.568\n"
     ]
    },
    {
     "name": "stderr",
     "output_type": "stream",
     "text": [
      "training...: 100%|██████████| 4402/4402 [00:24<00:00, 176.47it/s]\n",
      "evaluating...: 100%|██████████| 31300/31300 [01:24<00:00, 372.02it/s]\n"
     ]
    },
    {
     "name": "stdout",
     "output_type": "stream",
     "text": [
      "lr : 0.025\n",
      "epoch: 8\n",
      "train_loss: 1.181, train_acc: 0.574, train_f1: 0.588\n",
      "valid_loss: 1.189, valid_acc: 0.537, valid_f1: 0.537\n"
     ]
    },
    {
     "name": "stderr",
     "output_type": "stream",
     "text": [
      "training...: 100%|██████████| 4402/4402 [00:38<00:00, 113.45it/s]\n",
      "evaluating...: 100%|██████████| 31300/31300 [01:30<00:00, 345.76it/s]\n"
     ]
    },
    {
     "name": "stdout",
     "output_type": "stream",
     "text": [
      "lr : 0.025\n",
      "epoch: 9\n",
      "train_loss: 1.181, train_acc: 0.571, train_f1: 0.586\n",
      "valid_loss: 1.151, valid_acc: 0.577, valid_f1: 0.577\n"
     ]
    },
    {
     "name": "stderr",
     "output_type": "stream",
     "text": [
      "training...: 100%|██████████| 4402/4402 [00:20<00:00, 210.18it/s]\n",
      "evaluating...: 100%|██████████| 31300/31300 [01:16<00:00, 408.06it/s]\n"
     ]
    },
    {
     "name": "stdout",
     "output_type": "stream",
     "text": [
      "lr : 0.025\n",
      "epoch: 10\n",
      "train_loss: 1.179, train_acc: 0.574, train_f1: 0.588\n",
      "valid_loss: 1.138, valid_acc: 0.591, valid_f1: 0.591\n"
     ]
    },
    {
     "name": "stderr",
     "output_type": "stream",
     "text": [
      "training...: 100%|██████████| 4402/4402 [00:37<00:00, 118.49it/s]\n",
      "evaluating...: 100%|██████████| 31300/31300 [01:37<00:00, 321.74it/s]\n"
     ]
    },
    {
     "name": "stdout",
     "output_type": "stream",
     "text": [
      "lr : 0.025\n",
      "epoch: 11\n",
      "train_loss: 1.177, train_acc: 0.578, train_f1: 0.592\n",
      "valid_loss: 1.150, valid_acc: 0.580, valid_f1: 0.580\n"
     ]
    },
    {
     "name": "stderr",
     "output_type": "stream",
     "text": [
      "training...: 100%|██████████| 4402/4402 [00:38<00:00, 113.50it/s]\n",
      "evaluating...: 100%|██████████| 31300/31300 [01:21<00:00, 386.37it/s]\n"
     ]
    },
    {
     "name": "stdout",
     "output_type": "stream",
     "text": [
      "lr : 0.025\n",
      "epoch: 12\n",
      "train_loss: 1.177, train_acc: 0.579, train_f1: 0.592\n",
      "valid_loss: 1.182, valid_acc: 0.541, valid_f1: 0.541\n"
     ]
    },
    {
     "name": "stderr",
     "output_type": "stream",
     "text": [
      "training...: 100%|██████████| 4402/4402 [00:28<00:00, 155.68it/s]\n",
      "evaluating...: 100%|██████████| 31300/31300 [01:18<00:00, 399.04it/s]\n"
     ]
    },
    {
     "name": "stdout",
     "output_type": "stream",
     "text": [
      "lr : 0.00625\n",
      "epoch: 13\n",
      "train_loss: 1.176, train_acc: 0.576, train_f1: 0.590\n",
      "valid_loss: 1.153, valid_acc: 0.572, valid_f1: 0.572\n"
     ]
    },
    {
     "name": "stderr",
     "output_type": "stream",
     "text": [
      "training...: 100%|██████████| 4402/4402 [00:26<00:00, 166.28it/s]\n",
      "evaluating...: 100%|██████████| 31300/31300 [01:22<00:00, 381.24it/s]\n"
     ]
    },
    {
     "name": "stdout",
     "output_type": "stream",
     "text": [
      "lr : 0.00625\n",
      "epoch: 14\n",
      "train_loss: 1.171, train_acc: 0.582, train_f1: 0.596\n",
      "valid_loss: 1.155, valid_acc: 0.571, valid_f1: 0.571\n"
     ]
    },
    {
     "name": "stderr",
     "output_type": "stream",
     "text": [
      "training...: 100%|██████████| 4402/4402 [00:26<00:00, 167.72it/s]\n",
      "evaluating...: 100%|██████████| 31300/31300 [01:36<00:00, 325.43it/s]\n"
     ]
    },
    {
     "name": "stdout",
     "output_type": "stream",
     "text": [
      "lr : 0.00625\n",
      "epoch: 15\n",
      "train_loss: 1.170, train_acc: 0.584, train_f1: 0.598\n",
      "valid_loss: 1.145, valid_acc: 0.583, valid_f1: 0.583\n"
     ]
    },
    {
     "name": "stderr",
     "output_type": "stream",
     "text": [
      "training...: 100%|██████████| 4402/4402 [00:38<00:00, 112.93it/s]\n",
      "evaluating...: 100%|██████████| 31300/31300 [01:46<00:00, 294.72it/s]\n"
     ]
    },
    {
     "name": "stdout",
     "output_type": "stream",
     "text": [
      "lr : 0.0015625\n",
      "epoch: 16\n",
      "train_loss: 1.169, train_acc: 0.585, train_f1: 0.598\n",
      "valid_loss: 1.161, valid_acc: 0.566, valid_f1: 0.566\n"
     ]
    },
    {
     "name": "stderr",
     "output_type": "stream",
     "text": [
      "training...: 100%|██████████| 4402/4402 [00:39<00:00, 110.87it/s]\n",
      "evaluating...: 100%|██████████| 31300/31300 [01:45<00:00, 296.50it/s]\n"
     ]
    },
    {
     "name": "stdout",
     "output_type": "stream",
     "text": [
      "lr : 0.0015625\n",
      "epoch: 17\n",
      "train_loss: 1.167, train_acc: 0.585, train_f1: 0.599\n",
      "valid_loss: 1.148, valid_acc: 0.581, valid_f1: 0.581\n"
     ]
    },
    {
     "name": "stderr",
     "output_type": "stream",
     "text": [
      "training...: 100%|██████████| 4402/4402 [00:39<00:00, 112.69it/s]\n",
      "evaluating...: 100%|██████████| 31300/31300 [01:35<00:00, 328.66it/s]\n"
     ]
    },
    {
     "name": "stdout",
     "output_type": "stream",
     "text": [
      "lr : 0.0015625\n",
      "epoch: 18\n",
      "train_loss: 1.167, train_acc: 0.586, train_f1: 0.600\n",
      "valid_loss: 1.145, valid_acc: 0.584, valid_f1: 0.584\n"
     ]
    },
    {
     "name": "stderr",
     "output_type": "stream",
     "text": [
      "training...: 100%|██████████| 4402/4402 [00:25<00:00, 173.60it/s]\n",
      "evaluating...: 100%|██████████| 31300/31300 [01:17<00:00, 405.98it/s]\n"
     ]
    },
    {
     "name": "stdout",
     "output_type": "stream",
     "text": [
      "lr : 0.000390625\n",
      "epoch: 19\n",
      "train_loss: 1.167, train_acc: 0.588, train_f1: 0.601\n",
      "valid_loss: 1.147, valid_acc: 0.582, valid_f1: 0.582\n"
     ]
    },
    {
     "name": "stderr",
     "output_type": "stream",
     "text": [
      "training...: 100%|██████████| 4402/4402 [00:26<00:00, 165.52it/s]\n",
      "evaluating...: 100%|██████████| 31300/31300 [01:11<00:00, 437.59it/s]\n"
     ]
    },
    {
     "name": "stdout",
     "output_type": "stream",
     "text": [
      "lr : 0.000390625\n",
      "epoch: 20\n",
      "train_loss: 1.167, train_acc: 0.587, train_f1: 0.600\n",
      "valid_loss: 1.148, valid_acc: 0.582, valid_f1: 0.582\n"
     ]
    },
    {
     "name": "stderr",
     "output_type": "stream",
     "text": [
      "training...: 100%|██████████| 4402/4402 [00:23<00:00, 187.61it/s]\n",
      "evaluating...: 100%|██████████| 31300/31300 [01:19<00:00, 395.79it/s]\n"
     ]
    },
    {
     "name": "stdout",
     "output_type": "stream",
     "text": [
      "lr : 0.000390625\n",
      "epoch: 21\n",
      "train_loss: 1.166, train_acc: 0.588, train_f1: 0.601\n",
      "valid_loss: 1.150, valid_acc: 0.580, valid_f1: 0.580\n"
     ]
    },
    {
     "name": "stderr",
     "output_type": "stream",
     "text": [
      "training...: 100%|██████████| 4402/4402 [00:25<00:00, 175.14it/s]\n",
      "evaluating...: 100%|██████████| 31300/31300 [01:08<00:00, 455.58it/s]\n"
     ]
    },
    {
     "name": "stdout",
     "output_type": "stream",
     "text": [
      "lr : 0.0001\n",
      "epoch: 22\n",
      "train_loss: 1.166, train_acc: 0.586, train_f1: 0.600\n",
      "valid_loss: 1.148, valid_acc: 0.581, valid_f1: 0.581\n"
     ]
    },
    {
     "name": "stderr",
     "output_type": "stream",
     "text": [
      "training...: 100%|██████████| 4402/4402 [00:24<00:00, 179.60it/s]\n",
      "evaluating...: 100%|██████████| 31300/31300 [01:13<00:00, 427.04it/s]\n"
     ]
    },
    {
     "name": "stdout",
     "output_type": "stream",
     "text": [
      "lr : 0.0001\n",
      "epoch: 23\n",
      "train_loss: 1.166, train_acc: 0.588, train_f1: 0.601\n",
      "valid_loss: 1.148, valid_acc: 0.581, valid_f1: 0.581\n"
     ]
    },
    {
     "name": "stderr",
     "output_type": "stream",
     "text": [
      "training...: 100%|██████████| 4402/4402 [00:24<00:00, 177.89it/s]\n",
      "evaluating...: 100%|██████████| 31300/31300 [01:10<00:00, 445.31it/s]\n"
     ]
    },
    {
     "name": "stdout",
     "output_type": "stream",
     "text": [
      "lr : 0.0001\n",
      "epoch: 24\n",
      "train_loss: 1.166, train_acc: 0.588, train_f1: 0.601\n",
      "valid_loss: 1.148, valid_acc: 0.581, valid_f1: 0.581\n"
     ]
    },
    {
     "name": "stderr",
     "output_type": "stream",
     "text": [
      "training...: 100%|██████████| 4402/4402 [00:24<00:00, 179.54it/s]\n",
      "evaluating...: 100%|██████████| 31300/31300 [01:06<00:00, 474.07it/s]\n"
     ]
    },
    {
     "name": "stdout",
     "output_type": "stream",
     "text": [
      "lr : 0.0001\n",
      "epoch: 25\n",
      "train_loss: 1.166, train_acc: 0.588, train_f1: 0.601\n",
      "valid_loss: 1.148, valid_acc: 0.581, valid_f1: 0.581\n"
     ]
    },
    {
     "name": "stderr",
     "output_type": "stream",
     "text": [
      "training...: 100%|██████████| 4402/4402 [00:25<00:00, 172.16it/s]\n",
      "evaluating...: 100%|██████████| 31300/31300 [01:16<00:00, 407.57it/s]\n"
     ]
    },
    {
     "name": "stdout",
     "output_type": "stream",
     "text": [
      "lr : 0.0001\n",
      "epoch: 26\n",
      "train_loss: 1.166, train_acc: 0.587, train_f1: 0.601\n",
      "valid_loss: 1.148, valid_acc: 0.581, valid_f1: 0.581\n"
     ]
    },
    {
     "name": "stderr",
     "output_type": "stream",
     "text": [
      "training...: 100%|██████████| 4402/4402 [00:26<00:00, 168.72it/s]\n",
      "evaluating...: 100%|██████████| 31300/31300 [01:25<00:00, 365.05it/s]\n"
     ]
    },
    {
     "name": "stdout",
     "output_type": "stream",
     "text": [
      "lr : 0.0001\n",
      "epoch: 27\n",
      "train_loss: 1.166, train_acc: 0.588, train_f1: 0.601\n",
      "valid_loss: 1.149, valid_acc: 0.581, valid_f1: 0.581\n"
     ]
    },
    {
     "name": "stderr",
     "output_type": "stream",
     "text": [
      "training...: 100%|██████████| 4402/4402 [00:26<00:00, 167.76it/s]\n",
      "evaluating...: 100%|██████████| 31300/31300 [01:22<00:00, 378.36it/s]\n"
     ]
    },
    {
     "name": "stdout",
     "output_type": "stream",
     "text": [
      "lr : 0.0001\n",
      "epoch: 28\n",
      "train_loss: 1.166, train_acc: 0.587, train_f1: 0.601\n",
      "valid_loss: 1.149, valid_acc: 0.580, valid_f1: 0.580\n"
     ]
    },
    {
     "name": "stderr",
     "output_type": "stream",
     "text": [
      "training...: 100%|██████████| 4402/4402 [00:25<00:00, 175.66it/s]\n",
      "evaluating...: 100%|██████████| 31300/31300 [01:14<00:00, 417.70it/s]\n"
     ]
    },
    {
     "name": "stdout",
     "output_type": "stream",
     "text": [
      "lr : 0.0001\n",
      "epoch: 29\n",
      "train_loss: 1.166, train_acc: 0.587, train_f1: 0.600\n",
      "valid_loss: 1.149, valid_acc: 0.580, valid_f1: 0.580\n"
     ]
    },
    {
     "name": "stderr",
     "output_type": "stream",
     "text": [
      "training...: 100%|██████████| 4402/4402 [00:25<00:00, 173.04it/s]\n",
      "evaluating...: 100%|██████████| 31300/31300 [01:13<00:00, 424.88it/s]\n"
     ]
    },
    {
     "name": "stdout",
     "output_type": "stream",
     "text": [
      "lr : 0.0001\n",
      "epoch: 30\n",
      "train_loss: 1.166, train_acc: 0.587, train_f1: 0.600\n",
      "valid_loss: 1.149, valid_acc: 0.580, valid_f1: 0.580\n"
     ]
    },
    {
     "name": "stderr",
     "output_type": "stream",
     "text": [
      "training...: 100%|██████████| 4402/4402 [00:24<00:00, 178.09it/s]\n",
      "evaluating...: 100%|██████████| 31300/31300 [01:13<00:00, 423.63it/s]\n"
     ]
    },
    {
     "name": "stdout",
     "output_type": "stream",
     "text": [
      "lr : 0.0001\n",
      "epoch: 31\n",
      "train_loss: 1.166, train_acc: 0.587, train_f1: 0.600\n",
      "valid_loss: 1.149, valid_acc: 0.581, valid_f1: 0.581\n"
     ]
    },
    {
     "name": "stderr",
     "output_type": "stream",
     "text": [
      "training...: 100%|██████████| 4402/4402 [00:26<00:00, 169.21it/s]\n",
      "evaluating...:  83%|████████▎ | 25945/31300 [01:02<00:12, 416.27it/s]\n"
     ]
    },
    {
     "ename": "KeyboardInterrupt",
     "evalue": "",
     "output_type": "error",
     "traceback": [
      "\u001b[1;31m---------------------------------------------------------------------------\u001b[0m",
      "\u001b[1;31mKeyboardInterrupt\u001b[0m                         Traceback (most recent call last)",
      "Cell \u001b[1;32mIn[39], line 8\u001b[0m\n\u001b[0;32m      6\u001b[0m \u001b[38;5;28;01mfor\u001b[39;00m epoch \u001b[38;5;129;01min\u001b[39;00m \u001b[38;5;28mrange\u001b[39m(n_epochs):\n\u001b[0;32m      7\u001b[0m     train_loss, train_acc, train_f1 \u001b[38;5;241m=\u001b[39m train(train_dl, model, loss_fn, optimizer, device)\n\u001b[1;32m----> 8\u001b[0m     valid_loss, valid_acc, valid_f1 \u001b[38;5;241m=\u001b[39m \u001b[43mevaluate\u001b[49m\u001b[43m(\u001b[49m\u001b[43mval_dl\u001b[49m\u001b[43m,\u001b[49m\u001b[43m \u001b[49m\u001b[43mmodel\u001b[49m\u001b[43m,\u001b[49m\u001b[43m \u001b[49m\u001b[43mloss_fn\u001b[49m\u001b[43m,\u001b[49m\u001b[43m \u001b[49m\u001b[43mdevice\u001b[49m\u001b[43m)\u001b[49m\n\u001b[0;32m      9\u001b[0m     metrics[\u001b[38;5;124m\"\u001b[39m\u001b[38;5;124mtrain_losses\u001b[39m\u001b[38;5;124m\"\u001b[39m]\u001b[38;5;241m.\u001b[39mappend(train_loss)\n\u001b[0;32m     10\u001b[0m     metrics[\u001b[38;5;124m\"\u001b[39m\u001b[38;5;124mtrain_accs\u001b[39m\u001b[38;5;124m\"\u001b[39m]\u001b[38;5;241m.\u001b[39mappend(train_acc)\n",
      "Cell \u001b[1;32mIn[37], line 10\u001b[0m, in \u001b[0;36mevaluate\u001b[1;34m(data_loader, model, criterion, device)\u001b[0m\n\u001b[0;32m      8\u001b[0m data, labels \u001b[38;5;241m=\u001b[39m batch\n\u001b[0;32m      9\u001b[0m data, labels \u001b[38;5;241m=\u001b[39m data\u001b[38;5;241m.\u001b[39mto(device), labels\u001b[38;5;241m.\u001b[39mto(device)\n\u001b[1;32m---> 10\u001b[0m prediction \u001b[38;5;241m=\u001b[39m \u001b[43mmodel\u001b[49m\u001b[43m(\u001b[49m\u001b[43mdata\u001b[49m\u001b[43m)\u001b[49m\n\u001b[0;32m     11\u001b[0m loss \u001b[38;5;241m=\u001b[39m criterion(prediction, labels)\n\u001b[0;32m     12\u001b[0m accuracy \u001b[38;5;241m=\u001b[39m get_accuracy(prediction, labels)\n",
      "File \u001b[1;32mc:\\Users\\dcons\\AppData\\Local\\Programs\\Python\\Python311\\Lib\\site-packages\\torch\\nn\\modules\\module.py:1511\u001b[0m, in \u001b[0;36mModule._wrapped_call_impl\u001b[1;34m(self, *args, **kwargs)\u001b[0m\n\u001b[0;32m   1509\u001b[0m     \u001b[38;5;28;01mreturn\u001b[39;00m \u001b[38;5;28mself\u001b[39m\u001b[38;5;241m.\u001b[39m_compiled_call_impl(\u001b[38;5;241m*\u001b[39margs, \u001b[38;5;241m*\u001b[39m\u001b[38;5;241m*\u001b[39mkwargs)  \u001b[38;5;66;03m# type: ignore[misc]\u001b[39;00m\n\u001b[0;32m   1510\u001b[0m \u001b[38;5;28;01melse\u001b[39;00m:\n\u001b[1;32m-> 1511\u001b[0m     \u001b[38;5;28;01mreturn\u001b[39;00m \u001b[38;5;28;43mself\u001b[39;49m\u001b[38;5;241;43m.\u001b[39;49m\u001b[43m_call_impl\u001b[49m\u001b[43m(\u001b[49m\u001b[38;5;241;43m*\u001b[39;49m\u001b[43margs\u001b[49m\u001b[43m,\u001b[49m\u001b[43m \u001b[49m\u001b[38;5;241;43m*\u001b[39;49m\u001b[38;5;241;43m*\u001b[39;49m\u001b[43mkwargs\u001b[49m\u001b[43m)\u001b[49m\n",
      "File \u001b[1;32mc:\\Users\\dcons\\AppData\\Local\\Programs\\Python\\Python311\\Lib\\site-packages\\torch\\nn\\modules\\module.py:1520\u001b[0m, in \u001b[0;36mModule._call_impl\u001b[1;34m(self, *args, **kwargs)\u001b[0m\n\u001b[0;32m   1515\u001b[0m \u001b[38;5;66;03m# If we don't have any hooks, we want to skip the rest of the logic in\u001b[39;00m\n\u001b[0;32m   1516\u001b[0m \u001b[38;5;66;03m# this function, and just call forward.\u001b[39;00m\n\u001b[0;32m   1517\u001b[0m \u001b[38;5;28;01mif\u001b[39;00m \u001b[38;5;129;01mnot\u001b[39;00m (\u001b[38;5;28mself\u001b[39m\u001b[38;5;241m.\u001b[39m_backward_hooks \u001b[38;5;129;01mor\u001b[39;00m \u001b[38;5;28mself\u001b[39m\u001b[38;5;241m.\u001b[39m_backward_pre_hooks \u001b[38;5;129;01mor\u001b[39;00m \u001b[38;5;28mself\u001b[39m\u001b[38;5;241m.\u001b[39m_forward_hooks \u001b[38;5;129;01mor\u001b[39;00m \u001b[38;5;28mself\u001b[39m\u001b[38;5;241m.\u001b[39m_forward_pre_hooks\n\u001b[0;32m   1518\u001b[0m         \u001b[38;5;129;01mor\u001b[39;00m _global_backward_pre_hooks \u001b[38;5;129;01mor\u001b[39;00m _global_backward_hooks\n\u001b[0;32m   1519\u001b[0m         \u001b[38;5;129;01mor\u001b[39;00m _global_forward_hooks \u001b[38;5;129;01mor\u001b[39;00m _global_forward_pre_hooks):\n\u001b[1;32m-> 1520\u001b[0m     \u001b[38;5;28;01mreturn\u001b[39;00m \u001b[43mforward_call\u001b[49m\u001b[43m(\u001b[49m\u001b[38;5;241;43m*\u001b[39;49m\u001b[43margs\u001b[49m\u001b[43m,\u001b[49m\u001b[43m \u001b[49m\u001b[38;5;241;43m*\u001b[39;49m\u001b[38;5;241;43m*\u001b[39;49m\u001b[43mkwargs\u001b[49m\u001b[43m)\u001b[49m\n\u001b[0;32m   1522\u001b[0m \u001b[38;5;28;01mtry\u001b[39;00m:\n\u001b[0;32m   1523\u001b[0m     result \u001b[38;5;241m=\u001b[39m \u001b[38;5;28;01mNone\u001b[39;00m\n",
      "Cell \u001b[1;32mIn[33], line 21\u001b[0m, in \u001b[0;36mMulticlass.forward\u001b[1;34m(self, x)\u001b[0m\n\u001b[0;32m     19\u001b[0m x \u001b[38;5;241m=\u001b[39m \u001b[38;5;28mself\u001b[39m\u001b[38;5;241m.\u001b[39mlayer1(x)\n\u001b[0;32m     20\u001b[0m x \u001b[38;5;241m=\u001b[39m \u001b[38;5;28mself\u001b[39m\u001b[38;5;241m.\u001b[39mlayer2(x)\n\u001b[1;32m---> 21\u001b[0m x \u001b[38;5;241m=\u001b[39m \u001b[38;5;28;43mself\u001b[39;49m\u001b[38;5;241;43m.\u001b[39;49m\u001b[43mlayer3\u001b[49m\u001b[43m(\u001b[49m\u001b[43mx\u001b[49m\u001b[43m)\u001b[49m\n\u001b[0;32m     22\u001b[0m x \u001b[38;5;241m=\u001b[39m \u001b[38;5;28mself\u001b[39m\u001b[38;5;241m.\u001b[39mlayer4(x)\n\u001b[0;32m     23\u001b[0m x \u001b[38;5;241m=\u001b[39m \u001b[38;5;28mself\u001b[39m\u001b[38;5;241m.\u001b[39mlayer5(x)\n",
      "File \u001b[1;32mc:\\Users\\dcons\\AppData\\Local\\Programs\\Python\\Python311\\Lib\\site-packages\\torch\\nn\\modules\\module.py:1511\u001b[0m, in \u001b[0;36mModule._wrapped_call_impl\u001b[1;34m(self, *args, **kwargs)\u001b[0m\n\u001b[0;32m   1509\u001b[0m     \u001b[38;5;28;01mreturn\u001b[39;00m \u001b[38;5;28mself\u001b[39m\u001b[38;5;241m.\u001b[39m_compiled_call_impl(\u001b[38;5;241m*\u001b[39margs, \u001b[38;5;241m*\u001b[39m\u001b[38;5;241m*\u001b[39mkwargs)  \u001b[38;5;66;03m# type: ignore[misc]\u001b[39;00m\n\u001b[0;32m   1510\u001b[0m \u001b[38;5;28;01melse\u001b[39;00m:\n\u001b[1;32m-> 1511\u001b[0m     \u001b[38;5;28;01mreturn\u001b[39;00m \u001b[38;5;28;43mself\u001b[39;49m\u001b[38;5;241;43m.\u001b[39;49m\u001b[43m_call_impl\u001b[49m\u001b[43m(\u001b[49m\u001b[38;5;241;43m*\u001b[39;49m\u001b[43margs\u001b[49m\u001b[43m,\u001b[49m\u001b[43m \u001b[49m\u001b[38;5;241;43m*\u001b[39;49m\u001b[38;5;241;43m*\u001b[39;49m\u001b[43mkwargs\u001b[49m\u001b[43m)\u001b[49m\n",
      "File \u001b[1;32mc:\\Users\\dcons\\AppData\\Local\\Programs\\Python\\Python311\\Lib\\site-packages\\torch\\nn\\modules\\module.py:1520\u001b[0m, in \u001b[0;36mModule._call_impl\u001b[1;34m(self, *args, **kwargs)\u001b[0m\n\u001b[0;32m   1515\u001b[0m \u001b[38;5;66;03m# If we don't have any hooks, we want to skip the rest of the logic in\u001b[39;00m\n\u001b[0;32m   1516\u001b[0m \u001b[38;5;66;03m# this function, and just call forward.\u001b[39;00m\n\u001b[0;32m   1517\u001b[0m \u001b[38;5;28;01mif\u001b[39;00m \u001b[38;5;129;01mnot\u001b[39;00m (\u001b[38;5;28mself\u001b[39m\u001b[38;5;241m.\u001b[39m_backward_hooks \u001b[38;5;129;01mor\u001b[39;00m \u001b[38;5;28mself\u001b[39m\u001b[38;5;241m.\u001b[39m_backward_pre_hooks \u001b[38;5;129;01mor\u001b[39;00m \u001b[38;5;28mself\u001b[39m\u001b[38;5;241m.\u001b[39m_forward_hooks \u001b[38;5;129;01mor\u001b[39;00m \u001b[38;5;28mself\u001b[39m\u001b[38;5;241m.\u001b[39m_forward_pre_hooks\n\u001b[0;32m   1518\u001b[0m         \u001b[38;5;129;01mor\u001b[39;00m _global_backward_pre_hooks \u001b[38;5;129;01mor\u001b[39;00m _global_backward_hooks\n\u001b[0;32m   1519\u001b[0m         \u001b[38;5;129;01mor\u001b[39;00m _global_forward_hooks \u001b[38;5;129;01mor\u001b[39;00m _global_forward_pre_hooks):\n\u001b[1;32m-> 1520\u001b[0m     \u001b[38;5;28;01mreturn\u001b[39;00m \u001b[43mforward_call\u001b[49m\u001b[43m(\u001b[49m\u001b[38;5;241;43m*\u001b[39;49m\u001b[43margs\u001b[49m\u001b[43m,\u001b[49m\u001b[43m \u001b[49m\u001b[38;5;241;43m*\u001b[39;49m\u001b[38;5;241;43m*\u001b[39;49m\u001b[43mkwargs\u001b[49m\u001b[43m)\u001b[49m\n\u001b[0;32m   1522\u001b[0m \u001b[38;5;28;01mtry\u001b[39;00m:\n\u001b[0;32m   1523\u001b[0m     result \u001b[38;5;241m=\u001b[39m \u001b[38;5;28;01mNone\u001b[39;00m\n",
      "File \u001b[1;32mc:\\Users\\dcons\\AppData\\Local\\Programs\\Python\\Python311\\Lib\\site-packages\\torch\\nn\\modules\\linear.py:116\u001b[0m, in \u001b[0;36mLinear.forward\u001b[1;34m(self, input)\u001b[0m\n\u001b[0;32m    115\u001b[0m \u001b[38;5;28;01mdef\u001b[39;00m \u001b[38;5;21mforward\u001b[39m(\u001b[38;5;28mself\u001b[39m, \u001b[38;5;28minput\u001b[39m: Tensor) \u001b[38;5;241m-\u001b[39m\u001b[38;5;241m>\u001b[39m Tensor:\n\u001b[1;32m--> 116\u001b[0m     \u001b[38;5;28;01mreturn\u001b[39;00m \u001b[43mF\u001b[49m\u001b[38;5;241;43m.\u001b[39;49m\u001b[43mlinear\u001b[49m\u001b[43m(\u001b[49m\u001b[38;5;28;43minput\u001b[39;49m\u001b[43m,\u001b[49m\u001b[43m \u001b[49m\u001b[38;5;28;43mself\u001b[39;49m\u001b[38;5;241;43m.\u001b[39;49m\u001b[43mweight\u001b[49m\u001b[43m,\u001b[49m\u001b[43m \u001b[49m\u001b[38;5;28;43mself\u001b[39;49m\u001b[38;5;241;43m.\u001b[39;49m\u001b[43mbias\u001b[49m\u001b[43m)\u001b[49m\n",
      "\u001b[1;31mKeyboardInterrupt\u001b[0m: "
     ]
    }
   ],
   "source": [
    "n_epochs = 50\n",
    "best_valid_loss = float(\"inf\")\n",
    "\n",
    "metrics = collections.defaultdict(list)\n",
    "\n",
    "for epoch in range(n_epochs):\n",
    "    train_loss, train_acc, train_f1 = train(train_dl, model, loss_fn, optimizer, device)\n",
    "    valid_loss, valid_acc, valid_f1 = evaluate(val_dl, model, loss_fn, device)\n",
    "    metrics[\"train_losses\"].append(train_loss)\n",
    "    metrics[\"train_accs\"].append(train_acc)\n",
    "    metrics[\"valid_losses\"].append(valid_loss)\n",
    "    metrics[\"valid_accs\"].append(valid_acc)\n",
    "    if valid_loss < best_valid_loss:\n",
    "        best_valid_loss = valid_loss\n",
    "        torch.save(model.state_dict(), \"nn.pt\")\n",
    "    print(f\"epoch: {epoch}\")\n",
    "    print(f\"train_loss: {train_loss:.3f}, train_acc: {train_acc:.3f}, train_f1: {train_f1:.3f}\")\n",
    "    print(f\"valid_loss: {valid_loss:.3f}, valid_acc: {valid_acc:.3f}, valid_f1: {valid_f1:.3f}\")"
   ]
  },
  {
   "cell_type": "code",
   "execution_count": 40,
   "metadata": {},
   "outputs": [
    {
     "data": {
      "image/png": "[encoded data removed]",
      "text/plain": [
       "<Figure size 1600x600 with 1 Axes>"
      ]
     },
     "metadata": {},
     "output_type": "display_data"
    }
   ],
   "source": [
    "plt.figure(figsize=(16,6))\n",
    "plt.plot(metrics['train_accs'], label='train');\n",
    "plt.plot(metrics['valid_accs'], label='val');\n",
    "plt.ylabel('Accuracy');\n",
    "plt.xlabel('epoch');\n",
    "plt.legend();"
   ]
  },
  {
   "cell_type": "code",
   "execution_count": 42,
   "metadata": {},
   "outputs": [
    {
     "data": {
      "image/png": "[encoded data removed]",
      "text/plain": [
       "<Figure size 1600x600 with 1 Axes>"
      ]
     },
     "metadata": {},
     "output_type": "display_data"
    }
   ],
   "source": [
    "plt.figure(figsize=(16,6))\n",
    "plt.plot(metrics['train_losses'], label='train');\n",
    "plt.plot(metrics['valid_losses'], label='val');\n",
    "plt.ylabel('Loss');\n",
    "plt.xlabel('epoch');\n",
    "plt.legend();"
   ]
  },
  {
   "cell_type": "code",
   "execution_count": 43,
   "metadata": {},
   "outputs": [],
   "source": [
    "predictions = model(data_process_test)"
   ]
  },
  {
   "cell_type": "code",
   "execution_count": 44,
   "metadata": {},
   "outputs": [
    {
     "data": {
      "text/plain": [
       "0\n",
       "0    58162\n",
       "1    37939\n",
       "2    23676\n",
       "3    14364\n",
       "Name: count, dtype: int64"
      ]
     },
     "execution_count": 44,
     "metadata": {},
     "output_type": "execute_result"
    }
   ],
   "source": [
    "y_pred = torch.argmax(torch.sigmoid(predictions),dim=1)\n",
    "y_pred_df = pd.DataFrame(y_pred.numpy())\n",
    "y_pred_df.value_counts()"
   ]
  },
  {
   "cell_type": "code",
   "execution_count": 45,
   "metadata": {},
   "outputs": [
    {
     "name": "stdout",
     "output_type": "stream",
     "text": [
      "Accuracy de l'ensemble d'entraînement : tensor(0.5906)\n",
      "Accuracy de l'ensemble de test : tensor(0.5872)\n"
     ]
    }
   ],
   "source": [
    "print(\"Accuracy de l'ensemble d'entraînement :\", get_accuracy(model(data_process_train), y_train))\n",
    "print(\"Accuracy de l'ensemble de test :\", get_accuracy(model(data_process_test), y_test))"
   ]
  },
  {
   "cell_type": "code",
   "execution_count": 46,
   "metadata": {},
   "outputs": [
    {
     "name": "stdout",
     "output_type": "stream",
     "text": [
      "                precision    recall  f1-score   support\n",
      "\n",
      "      Indemnes       0.73      0.77      0.75     55365\n",
      "Blessés légers       0.67      0.47      0.55     54116\n",
      "Blessés graves       0.37      0.42      0.39     21000\n",
      "          Tués       0.14      0.56      0.23      3660\n",
      "\n",
      "      accuracy                           0.59    134141\n",
      "     macro avg       0.48      0.55      0.48    134141\n",
      "  weighted avg       0.63      0.59      0.60    134141\n",
      "\n"
     ]
    }
   ],
   "source": [
    "cr= classification_report(y_test, y_pred, target_names=['Indemnes', 'Blessés légers', 'Blessés graves', 'Tués'])\n",
    "print(cr)"
   ]
  },
  {
   "cell_type": "code",
   "execution_count": 47,
   "metadata": {},
   "outputs": [
    {
     "name": "stdout",
     "output_type": "stream",
     "text": [
      "                precision    recall  f1-score        support\n",
      "Indemnes         0.729428  0.766278  0.747399   55365.000000\n",
      "Blessés légers   0.672237  0.471284  0.554104   54116.000000\n",
      "Blessés graves   0.370755  0.418000  0.392963   21000.000000\n",
      "Tués             0.143484  0.563115  0.228695    3660.000000\n",
      "accuracy         0.587203  0.587203  0.587203       0.587203\n",
      "macro avg        0.478976  0.554669  0.480790  134141.000000\n",
      "weighted avg     0.634218  0.587203  0.599778  134141.000000\n"
     ]
    }
   ],
   "source": [
    "cr= classification_report(y_test, y_pred, target_names=['Indemnes', 'Blessés légers', 'Blessés graves', 'Tués'],output_dict=True)\n",
    "df_cr = pd.DataFrame(cr).transpose()\n",
    "print(df_cr)\n",
    "df_cr.to_csv('../../../data/img/' + 'dnn_pytorch_report' + '.csv')"
   ]
  },
  {
   "cell_type": "code",
   "execution_count": 48,
   "metadata": {},
   "outputs": [
    {
     "data": {
      "image/png": "[encoded data removed]",
      "text/plain": [
       "<Figure size 640x480 with 2 Axes>"
      ]
     },
     "metadata": {},
     "output_type": "display_data"
    }
   ],
   "source": [
    "cm = confusion_matrix(y_test, y_pred) \n",
    "disp = ConfusionMatrixDisplay(\n",
    "        confusion_matrix=cm,\n",
    "        display_labels=['Indemnes', 'Blessés légers', 'Blessés graves', 'Tués']\n",
    "    )\n",
    "\n",
    "#disp.ax_.set(xlabel='Classes prédites', ylabel='Classes réelles')\n",
    "disp.plot()\n",
    "plt.xlabel('Classes prédites')\n",
    "plt.ylabel('Classes réelles')\n",
    "plt.tick_params(left = False, bottom = False) \n",
    "plt.rcParams[\"figure.figsize\"] = (12, 8)\n",
    "plt.savefig('../../../data/img/' + f'dnn_pytorch_confusion_matrix' + '.jpg')"
   ]
  },
  {
   "cell_type": "markdown",
   "metadata": {},
   "source": [
    "**Suppression des variables présentant un V de Cramer faible**"
   ]
  },
  {
   "cell_type": "markdown",
   "metadata": {},
   "source": [
    "Il semblerait que les variables faiblement informatives puissent pénaliser les performances des réseaux de neurones. Il s'agit donc ici de regarder comment se comporte le réseau en supprimant certaines d'entre elles. "
   ]
  },
  {
   "cell_type": "code",
   "execution_count": 108,
   "metadata": {},
   "outputs": [],
   "source": [
    "file = open('../../../conf/global_conf.yml', 'r') \n",
    "conf = yaml.safe_load(file)\n",
    "df = pd.read_csv(conf['local_data_path'] + \"data_cleaned_final_sans_dummies.csv\",index_col=0,low_memory=False)"
   ]
  },
  {
   "cell_type": "code",
   "execution_count": 109,
   "metadata": {},
   "outputs": [],
   "source": [
    "# Recodage variable cible grav par ordre croissant : 0 : indemne, 1 : blessé léger, 2 : blessé grave, 3 : décès\n",
    "with pd.option_context(\"future.no_silent_downcasting\", True):\n",
    "    df['grav'] = df['grav'].replace(1,'I')\n",
    "    df['grav'] = df['grav'].replace(2,'T')\n",
    "    df['grav'] = df['grav'].replace(3,'BG')\n",
    "    df['grav'] = df['grav'].replace(4,'BL')\n",
    "    df['grav'] = df['grav'].replace('I',0)\n",
    "    df['grav'] = df['grav'].replace('T',3)\n",
    "    df['grav'] = df['grav'].replace('BG',2)\n",
    "    df['grav'] = df['grav'].replace('BL',1)"
   ]
  },
  {
   "cell_type": "code",
   "execution_count": 110,
   "metadata": {},
   "outputs": [],
   "source": [
    "data = df.drop(['grav_rec', 'an', 'jour', 'date', 'dep', 'grav', 'eq_gilet', 'eq_autre', 'eq_airbag', 'jour_chome', 'atm','prof','surf', 'mois', 'weekend','eq_indetermine','eq_siege'], axis=1)\n",
    "y = df.grav\n",
    "\n",
    "numerical_features = ['age_usager', 'heure', 'lat', 'long']\n",
    "categorical_features = [col for col in data.columns if col not in numerical_features]\n",
    "for col in categorical_features:\n",
    "    data[col] = data[col].astype('int')\n",
    "data[categorical_features] = data[categorical_features].astype('int')"
   ]
  },
  {
   "cell_type": "code",
   "execution_count": 111,
   "metadata": {},
   "outputs": [],
   "source": [
    "class TransfoHour(BaseEstimator, TransformerMixin):\n",
    "    def __init__(self, column_name):\n",
    "        self.column_name = column_name\n",
    "\n",
    "    def fit(self, X, y=None):\n",
    "        return self\n",
    "\n",
    "    def transform(self, X):\n",
    "        X_transfo = X.copy()\n",
    "        X_transfo[f'{self.column_name}_sin'] = np.sin(X_transfo[self.column_name]*(2.*np.pi/24))\n",
    "        X_transfo[f'{self.column_name}_cos'] = np.cos(X_transfo[self.column_name]*(2.*np.pi/24))\n",
    "        X_transfo = X_transfo.drop(self.column_name, axis=1)\n",
    "        return X_transfo\n",
    "\n",
    "    def get_feature_names_out(self):\n",
    "        pass\n",
    "\n",
    "class TransfoMonth(BaseEstimator, TransformerMixin):\n",
    "    def __init__(self, column_name):\n",
    "        self.column_name = column_name\n",
    "\n",
    "    def fit(self, X, y=None):\n",
    "        return self\n",
    "\n",
    "    def transform(self, X):\n",
    "        X_transfo = X.copy()\n",
    "        X_transfo[f'{self.column_name}_sin'] = np.sin((X_transfo[self.column_name]-1)*(2.*np.pi/12))\n",
    "        X_transfo[f'{self.column_name}_cos'] = np.cos((X_transfo[self.column_name]-1)*(2.*np.pi/12))\n",
    "        X_transfo = X_transfo.drop(self.column_name, axis=1)\n",
    "        return X_transfo\n",
    "\n",
    "    def get_feature_names_out(self):\n",
    "        pass\n",
    "\n",
    "\n",
    "preprocessor = ColumnTransformer(transformers=[\n",
    "    (\"transfo_heure\", TransfoHour('heure'), ['heure']),\n",
    "    (\"transfo_lat_long\", RobustScaler(), ['lat', 'long']),\n",
    "    ('transfo_age_usager', MinMaxScaler(), ['age_usager'])\n",
    "    ],\n",
    "    remainder=\"passthrough\"\n",
    ").set_output(transform=\"pandas\")"
   ]
  },
  {
   "cell_type": "code",
   "execution_count": 112,
   "metadata": {},
   "outputs": [
    {
     "data": {
      "text/html": [
       "<div>\n",
       "<style scoped>\n",
       "    .dataframe tbody tr th:only-of-type {\n",
       "        vertical-align: middle;\n",
       "    }\n",
       "\n",
       "    .dataframe tbody tr th {\n",
       "        vertical-align: top;\n",
       "    }\n",
       "\n",
       "    .dataframe thead th {\n",
       "        text-align: right;\n",
       "    }\n",
       "</style>\n",
       "<table border=\"1\" class=\"dataframe\">\n",
       "  <thead>\n",
       "    <tr style=\"text-align: right;\">\n",
       "      <th></th>\n",
       "      <th>transfo_heure__heure_sin</th>\n",
       "      <th>transfo_heure__heure_cos</th>\n",
       "      <th>transfo_lat_long__lat</th>\n",
       "      <th>transfo_lat_long__long</th>\n",
       "      <th>transfo_age_usager__age_usager</th>\n",
       "      <th>remainder__lum</th>\n",
       "      <th>remainder__agg</th>\n",
       "      <th>remainder__int</th>\n",
       "      <th>remainder__col</th>\n",
       "      <th>remainder__catr</th>\n",
       "      <th>...</th>\n",
       "      <th>remainder__catv</th>\n",
       "      <th>remainder__obs</th>\n",
       "      <th>remainder__obsm</th>\n",
       "      <th>remainder__manv</th>\n",
       "      <th>remainder__motor</th>\n",
       "      <th>remainder__place_rec</th>\n",
       "      <th>remainder__eq_ceinture</th>\n",
       "      <th>remainder__eq_casque</th>\n",
       "      <th>remainder__eq_gants</th>\n",
       "      <th>remainder__prox_pt_choc</th>\n",
       "    </tr>\n",
       "  </thead>\n",
       "  <tbody>\n",
       "    <tr>\n",
       "      <th>367203</th>\n",
       "      <td>1.224647e-16</td>\n",
       "      <td>-1.000000</td>\n",
       "      <td>0.291093</td>\n",
       "      <td>0.027916</td>\n",
       "      <td>0.609091</td>\n",
       "      <td>0</td>\n",
       "      <td>1</td>\n",
       "      <td>0</td>\n",
       "      <td>6</td>\n",
       "      <td>4</td>\n",
       "      <td>...</td>\n",
       "      <td>0</td>\n",
       "      <td>1</td>\n",
       "      <td>0</td>\n",
       "      <td>3</td>\n",
       "      <td>2</td>\n",
       "      <td>1</td>\n",
       "      <td>0</td>\n",
       "      <td>0</td>\n",
       "      <td>0</td>\n",
       "      <td>0</td>\n",
       "    </tr>\n",
       "    <tr>\n",
       "      <th>165009</th>\n",
       "      <td>-9.659258e-01</td>\n",
       "      <td>-0.258819</td>\n",
       "      <td>0.676458</td>\n",
       "      <td>-0.006907</td>\n",
       "      <td>0.381818</td>\n",
       "      <td>0</td>\n",
       "      <td>0</td>\n",
       "      <td>1</td>\n",
       "      <td>3</td>\n",
       "      <td>3</td>\n",
       "      <td>...</td>\n",
       "      <td>0</td>\n",
       "      <td>0</td>\n",
       "      <td>2</td>\n",
       "      <td>0</td>\n",
       "      <td>1</td>\n",
       "      <td>3</td>\n",
       "      <td>1</td>\n",
       "      <td>0</td>\n",
       "      <td>0</td>\n",
       "      <td>0</td>\n",
       "    </tr>\n",
       "    <tr>\n",
       "      <th>102923</th>\n",
       "      <td>-5.000000e-01</td>\n",
       "      <td>-0.866025</td>\n",
       "      <td>0.271712</td>\n",
       "      <td>-0.046623</td>\n",
       "      <td>0.381818</td>\n",
       "      <td>0</td>\n",
       "      <td>1</td>\n",
       "      <td>1</td>\n",
       "      <td>3</td>\n",
       "      <td>3</td>\n",
       "      <td>...</td>\n",
       "      <td>1</td>\n",
       "      <td>0</td>\n",
       "      <td>2</td>\n",
       "      <td>3</td>\n",
       "      <td>1</td>\n",
       "      <td>1</td>\n",
       "      <td>0</td>\n",
       "      <td>1</td>\n",
       "      <td>1</td>\n",
       "      <td>1</td>\n",
       "    </tr>\n",
       "    <tr>\n",
       "      <th>389410</th>\n",
       "      <td>-8.660254e-01</td>\n",
       "      <td>-0.500000</td>\n",
       "      <td>0.201869</td>\n",
       "      <td>1.542802</td>\n",
       "      <td>0.209091</td>\n",
       "      <td>0</td>\n",
       "      <td>1</td>\n",
       "      <td>1</td>\n",
       "      <td>3</td>\n",
       "      <td>7</td>\n",
       "      <td>...</td>\n",
       "      <td>0</td>\n",
       "      <td>0</td>\n",
       "      <td>2</td>\n",
       "      <td>0</td>\n",
       "      <td>1</td>\n",
       "      <td>1</td>\n",
       "      <td>1</td>\n",
       "      <td>0</td>\n",
       "      <td>0</td>\n",
       "      <td>0</td>\n",
       "    </tr>\n",
       "    <tr>\n",
       "      <th>85702</th>\n",
       "      <td>8.660254e-01</td>\n",
       "      <td>-0.500000</td>\n",
       "      <td>-0.047079</td>\n",
       "      <td>-0.248779</td>\n",
       "      <td>0.509091</td>\n",
       "      <td>0</td>\n",
       "      <td>1</td>\n",
       "      <td>1</td>\n",
       "      <td>6</td>\n",
       "      <td>3</td>\n",
       "      <td>...</td>\n",
       "      <td>0</td>\n",
       "      <td>0</td>\n",
       "      <td>1</td>\n",
       "      <td>0</td>\n",
       "      <td>1</td>\n",
       "      <td>4</td>\n",
       "      <td>0</td>\n",
       "      <td>0</td>\n",
       "      <td>0</td>\n",
       "      <td>0</td>\n",
       "    </tr>\n",
       "  </tbody>\n",
       "</table>\n",
       "<p>5 rows × 25 columns</p>\n",
       "</div>"
      ],
      "text/plain": [
       "        transfo_heure__heure_sin  transfo_heure__heure_cos  \\\n",
       "367203              1.224647e-16                 -1.000000   \n",
       "165009             -9.659258e-01                 -0.258819   \n",
       "102923             -5.000000e-01                 -0.866025   \n",
       "389410             -8.660254e-01                 -0.500000   \n",
       "85702               8.660254e-01                 -0.500000   \n",
       "\n",
       "        transfo_lat_long__lat  transfo_lat_long__long  \\\n",
       "367203               0.291093                0.027916   \n",
       "165009               0.676458               -0.006907   \n",
       "102923               0.271712               -0.046623   \n",
       "389410               0.201869                1.542802   \n",
       "85702               -0.047079               -0.248779   \n",
       "\n",
       "        transfo_age_usager__age_usager  remainder__lum  remainder__agg  \\\n",
       "367203                        0.609091               0               1   \n",
       "165009                        0.381818               0               0   \n",
       "102923                        0.381818               0               1   \n",
       "389410                        0.209091               0               1   \n",
       "85702                         0.509091               0               1   \n",
       "\n",
       "        remainder__int  remainder__col  remainder__catr  ...  remainder__catv  \\\n",
       "367203               0               6                4  ...                0   \n",
       "165009               1               3                3  ...                0   \n",
       "102923               1               3                3  ...                1   \n",
       "389410               1               3                7  ...                0   \n",
       "85702                1               6                3  ...                0   \n",
       "\n",
       "        remainder__obs  remainder__obsm  remainder__manv  remainder__motor  \\\n",
       "367203               1                0                3                 2   \n",
       "165009               0                2                0                 1   \n",
       "102923               0                2                3                 1   \n",
       "389410               0                2                0                 1   \n",
       "85702                0                1                0                 1   \n",
       "\n",
       "        remainder__place_rec  remainder__eq_ceinture  remainder__eq_casque  \\\n",
       "367203                     1                       0                     0   \n",
       "165009                     3                       1                     0   \n",
       "102923                     1                       0                     1   \n",
       "389410                     1                       1                     0   \n",
       "85702                      4                       0                     0   \n",
       "\n",
       "        remainder__eq_gants  remainder__prox_pt_choc  \n",
       "367203                    0                        0  \n",
       "165009                    0                        0  \n",
       "102923                    1                        1  \n",
       "389410                    0                        0  \n",
       "85702                     0                        0  \n",
       "\n",
       "[5 rows x 25 columns]"
      ]
     },
     "metadata": {},
     "output_type": "display_data"
    },
    {
     "name": "stdout",
     "output_type": "stream",
     "text": [
      "Batch size : 64, Nb features : 25,  Nb classes : 4\n"
     ]
    }
   ],
   "source": [
    "data_train, data_test, y_train, y_test = train_test_split(data, y, test_size=0.3, random_state=42, stratify=y)\n",
    "data_train, data_val, y_train, y_val = train_test_split(data_train, y_train, test_size=0.1, random_state=42, stratify=y_train)\n",
    "\n",
    "data_process_train = preprocessor.fit_transform(data_train)\n",
    "data_process_val = preprocessor.transform(data_val)\n",
    "data_process_test = preprocessor.transform(data_test)\n",
    "\n",
    "display(data_process_train.head())\n",
    "\n",
    "BATCH_SIZE = 64\n",
    "NUM_FEATURES = len(data_process_train.columns)\n",
    "NUM_CLASSES = 4\n",
    "print((f\"Batch size : {BATCH_SIZE}, Nb features : {NUM_FEATURES},  Nb classes : {NUM_CLASSES}\"))\n",
    "\n",
    "data_process_train = torch.tensor(data_process_train.values, dtype=torch.float32).to(device)\n",
    "data_process_val = torch.tensor(data_process_val.values, dtype=torch.float32).to(device)\n",
    "data_process_test = torch.tensor(data_process_test.values, dtype=torch.float32).to(device)\n",
    "y_train = torch.tensor(y_train, dtype=torch.float32).to(device)\n",
    "y_test = torch.tensor(y_test.astype('int').values, dtype=torch.float32).to(device)\n",
    "y_val = torch.tensor(y_val.astype('int').values, dtype=torch.float32).to(device)"
   ]
  },
  {
   "cell_type": "code",
   "execution_count": 113,
   "metadata": {},
   "outputs": [
    {
     "name": "stdout",
     "output_type": "stream",
     "text": [
      "train:  torch.Size([281695, 25])\n",
      "test: torch.Size([134141, 25])\n",
      "val: torch.Size([31300, 25])\n"
     ]
    }
   ],
   "source": [
    "print(\"train: \", data_process_train.shape)\n",
    "print(\"test:\", data_process_test.shape)\n",
    "print(\"val:\", data_process_val.shape)"
   ]
  },
  {
   "cell_type": "code",
   "execution_count": 114,
   "metadata": {},
   "outputs": [],
   "source": [
    "class TabularDataset(Dataset):\n",
    "    def __init__(self, data, labels=None):\n",
    "        \"\"\"\n",
    "        Characterizes a Dataset for PyTorch\n",
    "        \"\"\"\n",
    "        self.n = data.shape[0]\n",
    "        self.data = data\n",
    "        self.y = labels\n",
    "\n",
    "    def __len__(self):\n",
    "        \"\"\"\n",
    "        Denotes the total number of samples.\n",
    "        \"\"\"\n",
    "        return self.n\n",
    "\n",
    "    def __getitem__(self, idx):\n",
    "        \"\"\"\n",
    "        Generates one sample of data.\n",
    "        \"\"\"\n",
    "        return [self.data[idx], self.y[idx].long()]"
   ]
  },
  {
   "cell_type": "code",
   "execution_count": 131,
   "metadata": {},
   "outputs": [],
   "source": [
    "train_td = TabularDataset(data=data_process_train, labels=y_train)\n",
    "val_td = TabularDataset(data=data_process_val, labels=y_val)\n",
    "test_td = TabularDataset(data=data_process_test, labels=y_test)"
   ]
  },
  {
   "cell_type": "code",
   "execution_count": 132,
   "metadata": {},
   "outputs": [],
   "source": [
    "train_dl = DataLoader(train_td, BATCH_SIZE, shuffle = True)\n",
    "val_dl = DataLoader(val_td, 1, shuffle = False)\n",
    "test_dl = DataLoader(test_td, 1, shuffle = False)"
   ]
  },
  {
   "cell_type": "code",
   "execution_count": 133,
   "metadata": {},
   "outputs": [],
   "source": [
    "class Multiclass(nn.Module):\n",
    "    def __init__(self, activation=nn.ReLU):\n",
    "        super().__init__()\n",
    "        self.layer1 = nn.Linear(25, 70)\n",
    "        self.layer2 = activation()\n",
    "        self.layer3 = nn.Linear(70, 140)\n",
    "        self.layer4 = activation()\n",
    "        self.layer5 = nn.Dropout(p=0.2)\n",
    "        self.layer6 = nn.Linear(140, 70)\n",
    "        self.layer7 = activation()\n",
    "        self.layer8 = nn.Linear(70, 35)\n",
    "        self.layer9 = activation()\n",
    "        self.layer10 = nn.Dropout(p=0.2)\n",
    "        self.layer11= nn.Linear(35, 14)\n",
    "        self.layer12= activation()\n",
    "        self.layer13= nn.Linear(14, 4)\n",
    "\n",
    "    def forward(self, x):\n",
    "        x = self.layer1(x)\n",
    "        x = self.layer2(x)\n",
    "        x = self.layer3(x)\n",
    "        x = self.layer4(x)\n",
    "        x = self.layer5(x)\n",
    "        x = self.layer6(x)\n",
    "        x = self.layer7(x)\n",
    "        x = self.layer8(x)\n",
    "        x = self.layer9(x)\n",
    "        x = self.layer10(x)\n",
    "        x = self.layer11(x)\n",
    "        x = self.layer12(x)\n",
    "        x = self.layer13(x)\n",
    "        return F.softmax(x, dim=1)"
   ]
  },
  {
   "cell_type": "code",
   "execution_count": 134,
   "metadata": {},
   "outputs": [
    {
     "name": "stdout",
     "output_type": "stream",
     "text": [
      "cpu\n"
     ]
    }
   ],
   "source": [
    "device = torch.device(\"cuda:0\" if torch.cuda.is_available() else \"cpu\")\n",
    "print(device)"
   ]
  },
  {
   "cell_type": "code",
   "execution_count": 135,
   "metadata": {},
   "outputs": [
    {
     "name": "stdout",
     "output_type": "stream",
     "text": [
      "class_weights: tensor([0.6057, 0.6197, 1.5969, 9.1614])\n"
     ]
    }
   ],
   "source": [
    "# loss metric and optimizer\n",
    "LEARNING_RATE = 0.1\n",
    "model = Multiclass().to(device)\n",
    "class_weights = []\n",
    "for i in range(4):\n",
    "  Nb_class = y_train[y_train == i].shape[0]\n",
    "  class_weights.append(y_train.shape[0] / (4*Nb_class))\n",
    "class_weights = [class_weights[i] for i in range(len(class_weights))]\n",
    "class_weights = torch.FloatTensor(class_weights).to(device)\n",
    "print(\"class_weights:\", class_weights)\n",
    "loss_fn = nn.CrossEntropyLoss(weight=class_weights, reduction='mean').to(device)\n",
    "\n",
    "#loss_fn = nn.CrossEntropyLoss().to(device)\n",
    "optimizer = optim.SGD(model.parameters(), lr=LEARNING_RATE)\n",
    "scheduler = torch.optim.lr_scheduler.ReduceLROnPlateau(optimizer, mode='max', factor=0.25, patience=2, threshold=0.001, min_lr=1e-4)"
   ]
  },
  {
   "cell_type": "code",
   "execution_count": 136,
   "metadata": {},
   "outputs": [
    {
     "name": "stderr",
     "output_type": "stream",
     "text": [
      "training...: 100%|██████████| 4402/4402 [00:21<00:00, 208.31it/s]\n",
      "evaluating...: 100%|██████████| 31300/31300 [01:13<00:00, 423.03it/s]\n"
     ]
    },
    {
     "name": "stdout",
     "output_type": "stream",
     "text": [
      "lr : 0.1\n",
      "epoch: 0\n",
      "train_loss: 1.304, train_acc: 0.442, train_f1: 0.414\n",
      "valid_loss: 1.226, valid_acc: 0.487, valid_f1: 0.487\n"
     ]
    },
    {
     "name": "stderr",
     "output_type": "stream",
     "text": [
      "training...: 100%|██████████| 4402/4402 [00:25<00:00, 171.28it/s]\n",
      "evaluating...: 100%|██████████| 31300/31300 [01:17<00:00, 402.25it/s]\n"
     ]
    },
    {
     "name": "stdout",
     "output_type": "stream",
     "text": [
      "lr : 0.1\n",
      "epoch: 1\n",
      "train_loss: 1.229, train_acc: 0.523, train_f1: 0.537\n",
      "valid_loss: 1.176, valid_acc: 0.548, valid_f1: 0.548\n"
     ]
    },
    {
     "name": "stderr",
     "output_type": "stream",
     "text": [
      "training...: 100%|██████████| 4402/4402 [00:25<00:00, 170.71it/s]\n",
      "evaluating...: 100%|██████████| 31300/31300 [01:20<00:00, 386.61it/s]\n"
     ]
    },
    {
     "name": "stdout",
     "output_type": "stream",
     "text": [
      "lr : 0.1\n",
      "epoch: 2\n",
      "train_loss: 1.215, train_acc: 0.541, train_f1: 0.555\n",
      "valid_loss: 1.223, valid_acc: 0.488, valid_f1: 0.488\n"
     ]
    },
    {
     "name": "stderr",
     "output_type": "stream",
     "text": [
      "training...: 100%|██████████| 4402/4402 [00:25<00:00, 173.70it/s]\n",
      "evaluating...: 100%|██████████| 31300/31300 [01:14<00:00, 417.96it/s]\n"
     ]
    },
    {
     "name": "stdout",
     "output_type": "stream",
     "text": [
      "lr : 0.1\n",
      "epoch: 3\n",
      "train_loss: 1.208, train_acc: 0.546, train_f1: 0.559\n",
      "valid_loss: 1.206, valid_acc: 0.506, valid_f1: 0.506\n"
     ]
    },
    {
     "name": "stderr",
     "output_type": "stream",
     "text": [
      "training...: 100%|██████████| 4402/4402 [00:26<00:00, 168.80it/s]\n",
      "evaluating...: 100%|██████████| 31300/31300 [01:14<00:00, 421.17it/s]\n"
     ]
    },
    {
     "name": "stdout",
     "output_type": "stream",
     "text": [
      "lr : 0.1\n",
      "epoch: 4\n",
      "train_loss: 1.204, train_acc: 0.549, train_f1: 0.564\n",
      "valid_loss: 1.161, valid_acc: 0.562, valid_f1: 0.562\n"
     ]
    },
    {
     "name": "stderr",
     "output_type": "stream",
     "text": [
      "training...: 100%|██████████| 4402/4402 [00:27<00:00, 161.33it/s]\n",
      "evaluating...: 100%|██████████| 31300/31300 [01:18<00:00, 398.29it/s]\n"
     ]
    },
    {
     "name": "stdout",
     "output_type": "stream",
     "text": [
      "lr : 0.1\n",
      "epoch: 5\n",
      "train_loss: 1.200, train_acc: 0.551, train_f1: 0.566\n",
      "valid_loss: 1.198, valid_acc: 0.516, valid_f1: 0.516\n"
     ]
    },
    {
     "name": "stderr",
     "output_type": "stream",
     "text": [
      "training...: 100%|██████████| 4402/4402 [00:28<00:00, 156.28it/s]\n",
      "evaluating...: 100%|██████████| 31300/31300 [01:14<00:00, 422.19it/s]\n"
     ]
    },
    {
     "name": "stdout",
     "output_type": "stream",
     "text": [
      "lr : 0.1\n",
      "epoch: 6\n",
      "train_loss: 1.196, train_acc: 0.554, train_f1: 0.569\n",
      "valid_loss: 1.148, valid_acc: 0.579, valid_f1: 0.579\n"
     ]
    },
    {
     "name": "stderr",
     "output_type": "stream",
     "text": [
      "training...: 100%|██████████| 4402/4402 [00:24<00:00, 182.83it/s]\n",
      "evaluating...: 100%|██████████| 31300/31300 [01:10<00:00, 444.25it/s]\n"
     ]
    },
    {
     "name": "stdout",
     "output_type": "stream",
     "text": [
      "lr : 0.1\n",
      "epoch: 7\n",
      "train_loss: 1.195, train_acc: 0.551, train_f1: 0.568\n",
      "valid_loss: 1.152, valid_acc: 0.579, valid_f1: 0.579\n"
     ]
    },
    {
     "name": "stderr",
     "output_type": "stream",
     "text": [
      "training...: 100%|██████████| 4402/4402 [00:42<00:00, 104.70it/s]\n",
      "evaluating...: 100%|██████████| 31300/31300 [01:59<00:00, 261.78it/s]\n"
     ]
    },
    {
     "name": "stdout",
     "output_type": "stream",
     "text": [
      "lr : 0.1\n",
      "epoch: 8\n",
      "train_loss: 1.192, train_acc: 0.556, train_f1: 0.572\n",
      "valid_loss: 1.193, valid_acc: 0.530, valid_f1: 0.530\n"
     ]
    },
    {
     "name": "stderr",
     "output_type": "stream",
     "text": [
      "training...: 100%|██████████| 4402/4402 [00:39<00:00, 110.74it/s]\n",
      "evaluating...: 100%|██████████| 31300/31300 [01:49<00:00, 285.97it/s]\n"
     ]
    },
    {
     "name": "stdout",
     "output_type": "stream",
     "text": [
      "lr : 0.025\n",
      "epoch: 9\n",
      "train_loss: 1.190, train_acc: 0.559, train_f1: 0.575\n",
      "valid_loss: 1.154, valid_acc: 0.567, valid_f1: 0.567\n"
     ]
    },
    {
     "name": "stderr",
     "output_type": "stream",
     "text": [
      "training...: 100%|██████████| 4402/4402 [00:38<00:00, 114.35it/s]\n",
      "evaluating...: 100%|██████████| 31300/31300 [01:49<00:00, 286.75it/s]\n"
     ]
    },
    {
     "name": "stdout",
     "output_type": "stream",
     "text": [
      "lr : 0.025\n",
      "epoch: 10\n",
      "train_loss: 1.178, train_acc: 0.570, train_f1: 0.586\n",
      "valid_loss: 1.152, valid_acc: 0.570, valid_f1: 0.570\n"
     ]
    },
    {
     "name": "stderr",
     "output_type": "stream",
     "text": [
      "training...: 100%|██████████| 4402/4402 [00:21<00:00, 204.48it/s]\n",
      "evaluating...: 100%|██████████| 31300/31300 [00:54<00:00, 576.62it/s]\n"
     ]
    },
    {
     "name": "stdout",
     "output_type": "stream",
     "text": [
      "lr : 0.025\n",
      "epoch: 11\n",
      "train_loss: 1.176, train_acc: 0.569, train_f1: 0.586\n",
      "valid_loss: 1.163, valid_acc: 0.561, valid_f1: 0.561\n"
     ]
    },
    {
     "name": "stderr",
     "output_type": "stream",
     "text": [
      "training...: 100%|██████████| 4402/4402 [00:20<00:00, 217.47it/s]\n",
      "evaluating...: 100%|██████████| 31300/31300 [00:55<00:00, 563.01it/s]\n"
     ]
    },
    {
     "name": "stdout",
     "output_type": "stream",
     "text": [
      "lr : 0.00625\n",
      "epoch: 12\n",
      "train_loss: 1.174, train_acc: 0.572, train_f1: 0.588\n",
      "valid_loss: 1.162, valid_acc: 0.557, valid_f1: 0.557\n"
     ]
    },
    {
     "name": "stderr",
     "output_type": "stream",
     "text": [
      "training...: 100%|██████████| 4402/4402 [00:20<00:00, 212.86it/s]\n",
      "evaluating...: 100%|██████████| 31300/31300 [01:20<00:00, 390.28it/s]\n"
     ]
    },
    {
     "name": "stdout",
     "output_type": "stream",
     "text": [
      "lr : 0.00625\n",
      "epoch: 13\n",
      "train_loss: 1.171, train_acc: 0.577, train_f1: 0.591\n",
      "valid_loss: 1.144, valid_acc: 0.578, valid_f1: 0.578\n"
     ]
    },
    {
     "name": "stderr",
     "output_type": "stream",
     "text": [
      "training...: 100%|██████████| 4402/4402 [00:22<00:00, 192.09it/s]\n",
      "evaluating...: 100%|██████████| 31300/31300 [01:24<00:00, 369.79it/s]\n"
     ]
    },
    {
     "name": "stdout",
     "output_type": "stream",
     "text": [
      "lr : 0.00625\n",
      "epoch: 14\n",
      "train_loss: 1.169, train_acc: 0.576, train_f1: 0.591\n",
      "valid_loss: 1.153, valid_acc: 0.569, valid_f1: 0.569\n"
     ]
    },
    {
     "name": "stderr",
     "output_type": "stream",
     "text": [
      "training...: 100%|██████████| 4402/4402 [00:23<00:00, 190.65it/s]\n",
      "evaluating...: 100%|██████████| 31300/31300 [01:24<00:00, 368.81it/s]\n"
     ]
    },
    {
     "name": "stdout",
     "output_type": "stream",
     "text": [
      "lr : 0.0015625\n",
      "epoch: 15\n",
      "train_loss: 1.170, train_acc: 0.578, train_f1: 0.593\n",
      "valid_loss: 1.151, valid_acc: 0.571, valid_f1: 0.571\n"
     ]
    },
    {
     "name": "stderr",
     "output_type": "stream",
     "text": [
      "training...: 100%|██████████| 4402/4402 [00:22<00:00, 195.99it/s]\n",
      "evaluating...: 100%|██████████| 31300/31300 [01:23<00:00, 373.35it/s]\n"
     ]
    },
    {
     "name": "stdout",
     "output_type": "stream",
     "text": [
      "lr : 0.0015625\n",
      "epoch: 16\n",
      "train_loss: 1.168, train_acc: 0.577, train_f1: 0.593\n",
      "valid_loss: 1.149, valid_acc: 0.572, valid_f1: 0.572\n"
     ]
    },
    {
     "name": "stderr",
     "output_type": "stream",
     "text": [
      "training...: 100%|██████████| 4402/4402 [00:22<00:00, 193.59it/s]\n",
      "evaluating...: 100%|██████████| 31300/31300 [01:19<00:00, 392.22it/s]\n"
     ]
    },
    {
     "name": "stdout",
     "output_type": "stream",
     "text": [
      "lr : 0.0015625\n",
      "epoch: 17\n",
      "train_loss: 1.168, train_acc: 0.578, train_f1: 0.593\n",
      "valid_loss: 1.149, valid_acc: 0.573, valid_f1: 0.573\n"
     ]
    },
    {
     "name": "stderr",
     "output_type": "stream",
     "text": [
      "training...: 100%|██████████| 4402/4402 [00:22<00:00, 195.01it/s]\n",
      "evaluating...: 100%|██████████| 31300/31300 [01:17<00:00, 405.72it/s]\n"
     ]
    },
    {
     "name": "stdout",
     "output_type": "stream",
     "text": [
      "lr : 0.000390625\n",
      "epoch: 18\n",
      "train_loss: 1.168, train_acc: 0.578, train_f1: 0.593\n",
      "valid_loss: 1.146, valid_acc: 0.576, valid_f1: 0.576\n"
     ]
    },
    {
     "name": "stderr",
     "output_type": "stream",
     "text": [
      "training...: 100%|██████████| 4402/4402 [00:22<00:00, 193.68it/s]\n",
      "evaluating...: 100%|██████████| 31300/31300 [01:38<00:00, 318.16it/s]\n"
     ]
    },
    {
     "name": "stdout",
     "output_type": "stream",
     "text": [
      "lr : 0.000390625\n",
      "epoch: 19\n",
      "train_loss: 1.167, train_acc: 0.581, train_f1: 0.596\n",
      "valid_loss: 1.149, valid_acc: 0.574, valid_f1: 0.574\n"
     ]
    },
    {
     "name": "stderr",
     "output_type": "stream",
     "text": [
      "training...: 100%|██████████| 4402/4402 [00:23<00:00, 185.05it/s]\n",
      "evaluating...: 100%|██████████| 31300/31300 [01:09<00:00, 449.33it/s]\n"
     ]
    },
    {
     "name": "stdout",
     "output_type": "stream",
     "text": [
      "lr : 0.000390625\n",
      "epoch: 20\n",
      "train_loss: 1.167, train_acc: 0.580, train_f1: 0.595\n",
      "valid_loss: 1.147, valid_acc: 0.575, valid_f1: 0.575\n"
     ]
    },
    {
     "name": "stderr",
     "output_type": "stream",
     "text": [
      "training...: 100%|██████████| 4402/4402 [00:21<00:00, 209.57it/s]\n",
      "evaluating...: 100%|██████████| 31300/31300 [00:54<00:00, 572.87it/s]\n"
     ]
    },
    {
     "name": "stdout",
     "output_type": "stream",
     "text": [
      "lr : 0.0001\n",
      "epoch: 21\n",
      "train_loss: 1.167, train_acc: 0.579, train_f1: 0.594\n",
      "valid_loss: 1.149, valid_acc: 0.573, valid_f1: 0.573\n"
     ]
    },
    {
     "name": "stderr",
     "output_type": "stream",
     "text": [
      "training...: 100%|██████████| 4402/4402 [00:22<00:00, 198.40it/s]\n",
      "evaluating...: 100%|██████████| 31300/31300 [01:25<00:00, 365.85it/s]\n"
     ]
    },
    {
     "name": "stdout",
     "output_type": "stream",
     "text": [
      "lr : 0.0001\n",
      "epoch: 22\n",
      "train_loss: 1.167, train_acc: 0.580, train_f1: 0.595\n",
      "valid_loss: 1.149, valid_acc: 0.573, valid_f1: 0.573\n"
     ]
    },
    {
     "name": "stderr",
     "output_type": "stream",
     "text": [
      "training...: 100%|██████████| 4402/4402 [00:27<00:00, 163.01it/s]\n",
      "evaluating...: 100%|██████████| 31300/31300 [01:23<00:00, 376.84it/s]\n"
     ]
    },
    {
     "name": "stdout",
     "output_type": "stream",
     "text": [
      "lr : 0.0001\n",
      "epoch: 23\n",
      "train_loss: 1.167, train_acc: 0.580, train_f1: 0.595\n",
      "valid_loss: 1.148, valid_acc: 0.574, valid_f1: 0.574\n"
     ]
    },
    {
     "name": "stderr",
     "output_type": "stream",
     "text": [
      "training...: 100%|██████████| 4402/4402 [00:27<00:00, 157.22it/s]\n",
      "evaluating...: 100%|██████████| 31300/31300 [01:24<00:00, 368.67it/s]\n"
     ]
    },
    {
     "name": "stdout",
     "output_type": "stream",
     "text": [
      "lr : 0.0001\n",
      "epoch: 24\n",
      "train_loss: 1.167, train_acc: 0.580, train_f1: 0.595\n",
      "valid_loss: 1.148, valid_acc: 0.574, valid_f1: 0.574\n"
     ]
    },
    {
     "name": "stderr",
     "output_type": "stream",
     "text": [
      "training...: 100%|██████████| 4402/4402 [00:26<00:00, 166.66it/s]\n",
      "evaluating...: 100%|██████████| 31300/31300 [01:23<00:00, 373.26it/s]\n"
     ]
    },
    {
     "name": "stdout",
     "output_type": "stream",
     "text": [
      "lr : 0.0001\n",
      "epoch: 25\n",
      "train_loss: 1.167, train_acc: 0.580, train_f1: 0.595\n",
      "valid_loss: 1.148, valid_acc: 0.574, valid_f1: 0.574\n"
     ]
    },
    {
     "name": "stderr",
     "output_type": "stream",
     "text": [
      "training...: 100%|██████████| 4402/4402 [00:26<00:00, 163.12it/s]\n",
      "evaluating...:  32%|███▏      | 9890/31300 [00:23<00:49, 429.57it/s]\n"
     ]
    },
    {
     "ename": "KeyboardInterrupt",
     "evalue": "",
     "output_type": "error",
     "traceback": [
      "\u001b[1;31m---------------------------------------------------------------------------\u001b[0m",
      "\u001b[1;31mKeyboardInterrupt\u001b[0m                         Traceback (most recent call last)",
      "Cell \u001b[1;32mIn[136], line 8\u001b[0m\n\u001b[0;32m      6\u001b[0m \u001b[38;5;28;01mfor\u001b[39;00m epoch \u001b[38;5;129;01min\u001b[39;00m \u001b[38;5;28mrange\u001b[39m(n_epochs):\n\u001b[0;32m      7\u001b[0m     train_loss, train_acc, train_f1 \u001b[38;5;241m=\u001b[39m train(train_dl, model, loss_fn, optimizer, device)\n\u001b[1;32m----> 8\u001b[0m     valid_loss, valid_acc, valid_f1 \u001b[38;5;241m=\u001b[39m \u001b[43mevaluate\u001b[49m\u001b[43m(\u001b[49m\u001b[43mval_dl\u001b[49m\u001b[43m,\u001b[49m\u001b[43m \u001b[49m\u001b[43mmodel\u001b[49m\u001b[43m,\u001b[49m\u001b[43m \u001b[49m\u001b[43mloss_fn\u001b[49m\u001b[43m,\u001b[49m\u001b[43m \u001b[49m\u001b[43mdevice\u001b[49m\u001b[43m)\u001b[49m\n\u001b[0;32m      9\u001b[0m     metrics[\u001b[38;5;124m\"\u001b[39m\u001b[38;5;124mtrain_losses\u001b[39m\u001b[38;5;124m\"\u001b[39m]\u001b[38;5;241m.\u001b[39mappend(train_loss)\n\u001b[0;32m     10\u001b[0m     metrics[\u001b[38;5;124m\"\u001b[39m\u001b[38;5;124mtrain_accs\u001b[39m\u001b[38;5;124m\"\u001b[39m]\u001b[38;5;241m.\u001b[39mappend(train_acc)\n",
      "Cell \u001b[1;32mIn[37], line 7\u001b[0m, in \u001b[0;36mevaluate\u001b[1;34m(data_loader, model, criterion, device)\u001b[0m\n\u001b[0;32m      5\u001b[0m epoch_f1 \u001b[38;5;241m=\u001b[39m []\n\u001b[0;32m      6\u001b[0m \u001b[38;5;28;01mwith\u001b[39;00m torch\u001b[38;5;241m.\u001b[39mno_grad():\n\u001b[1;32m----> 7\u001b[0m     \u001b[38;5;28;01mfor\u001b[39;00m i, batch \u001b[38;5;129;01min\u001b[39;00m \u001b[38;5;28menumerate\u001b[39m(tqdm\u001b[38;5;241m.\u001b[39mtqdm(data_loader, desc\u001b[38;5;241m=\u001b[39m\u001b[38;5;124m\"\u001b[39m\u001b[38;5;124mevaluating...\u001b[39m\u001b[38;5;124m\"\u001b[39m)):\n\u001b[0;32m      8\u001b[0m         data, labels \u001b[38;5;241m=\u001b[39m batch\n\u001b[0;32m      9\u001b[0m         data, labels \u001b[38;5;241m=\u001b[39m data\u001b[38;5;241m.\u001b[39mto(device), labels\u001b[38;5;241m.\u001b[39mto(device)\n",
      "File \u001b[1;32mc:\\Users\\dcons\\AppData\\Local\\Programs\\Python\\Python311\\Lib\\site-packages\\tqdm\\std.py:1181\u001b[0m, in \u001b[0;36mtqdm.__iter__\u001b[1;34m(self)\u001b[0m\n\u001b[0;32m   1178\u001b[0m time \u001b[38;5;241m=\u001b[39m \u001b[38;5;28mself\u001b[39m\u001b[38;5;241m.\u001b[39m_time\n\u001b[0;32m   1180\u001b[0m \u001b[38;5;28;01mtry\u001b[39;00m:\n\u001b[1;32m-> 1181\u001b[0m     \u001b[38;5;28;01mfor\u001b[39;00m obj \u001b[38;5;129;01min\u001b[39;00m iterable:\n\u001b[0;32m   1182\u001b[0m         \u001b[38;5;28;01myield\u001b[39;00m obj\n\u001b[0;32m   1183\u001b[0m         \u001b[38;5;66;03m# Update and possibly print the progressbar.\u001b[39;00m\n\u001b[0;32m   1184\u001b[0m         \u001b[38;5;66;03m# Note: does not call self.update(1) for speed optimisation.\u001b[39;00m\n",
      "File \u001b[1;32mc:\\Users\\dcons\\AppData\\Local\\Programs\\Python\\Python311\\Lib\\site-packages\\torch\\utils\\data\\dataloader.py:631\u001b[0m, in \u001b[0;36m_BaseDataLoaderIter.__next__\u001b[1;34m(self)\u001b[0m\n\u001b[0;32m    628\u001b[0m \u001b[38;5;28;01mif\u001b[39;00m \u001b[38;5;28mself\u001b[39m\u001b[38;5;241m.\u001b[39m_sampler_iter \u001b[38;5;129;01mis\u001b[39;00m \u001b[38;5;28;01mNone\u001b[39;00m:\n\u001b[0;32m    629\u001b[0m     \u001b[38;5;66;03m# TODO(https://github.com/pytorch/pytorch/issues/76750)\u001b[39;00m\n\u001b[0;32m    630\u001b[0m     \u001b[38;5;28mself\u001b[39m\u001b[38;5;241m.\u001b[39m_reset()  \u001b[38;5;66;03m# type: ignore[call-arg]\u001b[39;00m\n\u001b[1;32m--> 631\u001b[0m data \u001b[38;5;241m=\u001b[39m \u001b[38;5;28;43mself\u001b[39;49m\u001b[38;5;241;43m.\u001b[39;49m\u001b[43m_next_data\u001b[49m\u001b[43m(\u001b[49m\u001b[43m)\u001b[49m\n\u001b[0;32m    632\u001b[0m \u001b[38;5;28mself\u001b[39m\u001b[38;5;241m.\u001b[39m_num_yielded \u001b[38;5;241m+\u001b[39m\u001b[38;5;241m=\u001b[39m \u001b[38;5;241m1\u001b[39m\n\u001b[0;32m    633\u001b[0m \u001b[38;5;28;01mif\u001b[39;00m \u001b[38;5;28mself\u001b[39m\u001b[38;5;241m.\u001b[39m_dataset_kind \u001b[38;5;241m==\u001b[39m _DatasetKind\u001b[38;5;241m.\u001b[39mIterable \u001b[38;5;129;01mand\u001b[39;00m \\\n\u001b[0;32m    634\u001b[0m         \u001b[38;5;28mself\u001b[39m\u001b[38;5;241m.\u001b[39m_IterableDataset_len_called \u001b[38;5;129;01mis\u001b[39;00m \u001b[38;5;129;01mnot\u001b[39;00m \u001b[38;5;28;01mNone\u001b[39;00m \u001b[38;5;129;01mand\u001b[39;00m \\\n\u001b[0;32m    635\u001b[0m         \u001b[38;5;28mself\u001b[39m\u001b[38;5;241m.\u001b[39m_num_yielded \u001b[38;5;241m>\u001b[39m \u001b[38;5;28mself\u001b[39m\u001b[38;5;241m.\u001b[39m_IterableDataset_len_called:\n",
      "File \u001b[1;32mc:\\Users\\dcons\\AppData\\Local\\Programs\\Python\\Python311\\Lib\\site-packages\\torch\\utils\\data\\dataloader.py:675\u001b[0m, in \u001b[0;36m_SingleProcessDataLoaderIter._next_data\u001b[1;34m(self)\u001b[0m\n\u001b[0;32m    673\u001b[0m \u001b[38;5;28;01mdef\u001b[39;00m \u001b[38;5;21m_next_data\u001b[39m(\u001b[38;5;28mself\u001b[39m):\n\u001b[0;32m    674\u001b[0m     index \u001b[38;5;241m=\u001b[39m \u001b[38;5;28mself\u001b[39m\u001b[38;5;241m.\u001b[39m_next_index()  \u001b[38;5;66;03m# may raise StopIteration\u001b[39;00m\n\u001b[1;32m--> 675\u001b[0m     data \u001b[38;5;241m=\u001b[39m \u001b[38;5;28;43mself\u001b[39;49m\u001b[38;5;241;43m.\u001b[39;49m\u001b[43m_dataset_fetcher\u001b[49m\u001b[38;5;241;43m.\u001b[39;49m\u001b[43mfetch\u001b[49m\u001b[43m(\u001b[49m\u001b[43mindex\u001b[49m\u001b[43m)\u001b[49m  \u001b[38;5;66;03m# may raise StopIteration\u001b[39;00m\n\u001b[0;32m    676\u001b[0m     \u001b[38;5;28;01mif\u001b[39;00m \u001b[38;5;28mself\u001b[39m\u001b[38;5;241m.\u001b[39m_pin_memory:\n\u001b[0;32m    677\u001b[0m         data \u001b[38;5;241m=\u001b[39m _utils\u001b[38;5;241m.\u001b[39mpin_memory\u001b[38;5;241m.\u001b[39mpin_memory(data, \u001b[38;5;28mself\u001b[39m\u001b[38;5;241m.\u001b[39m_pin_memory_device)\n",
      "File \u001b[1;32mc:\\Users\\dcons\\AppData\\Local\\Programs\\Python\\Python311\\Lib\\site-packages\\torch\\utils\\data\\_utils\\fetch.py:51\u001b[0m, in \u001b[0;36m_MapDatasetFetcher.fetch\u001b[1;34m(self, possibly_batched_index)\u001b[0m\n\u001b[0;32m     49\u001b[0m         data \u001b[38;5;241m=\u001b[39m \u001b[38;5;28mself\u001b[39m\u001b[38;5;241m.\u001b[39mdataset\u001b[38;5;241m.\u001b[39m__getitems__(possibly_batched_index)\n\u001b[0;32m     50\u001b[0m     \u001b[38;5;28;01melse\u001b[39;00m:\n\u001b[1;32m---> 51\u001b[0m         data \u001b[38;5;241m=\u001b[39m \u001b[43m[\u001b[49m\u001b[38;5;28;43mself\u001b[39;49m\u001b[38;5;241;43m.\u001b[39;49m\u001b[43mdataset\u001b[49m\u001b[43m[\u001b[49m\u001b[43midx\u001b[49m\u001b[43m]\u001b[49m\u001b[43m \u001b[49m\u001b[38;5;28;43;01mfor\u001b[39;49;00m\u001b[43m \u001b[49m\u001b[43midx\u001b[49m\u001b[43m \u001b[49m\u001b[38;5;129;43;01min\u001b[39;49;00m\u001b[43m \u001b[49m\u001b[43mpossibly_batched_index\u001b[49m\u001b[43m]\u001b[49m\n\u001b[0;32m     52\u001b[0m \u001b[38;5;28;01melse\u001b[39;00m:\n\u001b[0;32m     53\u001b[0m     data \u001b[38;5;241m=\u001b[39m \u001b[38;5;28mself\u001b[39m\u001b[38;5;241m.\u001b[39mdataset[possibly_batched_index]\n",
      "File \u001b[1;32mc:\\Users\\dcons\\AppData\\Local\\Programs\\Python\\Python311\\Lib\\site-packages\\torch\\utils\\data\\_utils\\fetch.py:51\u001b[0m, in \u001b[0;36m<listcomp>\u001b[1;34m(.0)\u001b[0m\n\u001b[0;32m     49\u001b[0m         data \u001b[38;5;241m=\u001b[39m \u001b[38;5;28mself\u001b[39m\u001b[38;5;241m.\u001b[39mdataset\u001b[38;5;241m.\u001b[39m__getitems__(possibly_batched_index)\n\u001b[0;32m     50\u001b[0m     \u001b[38;5;28;01melse\u001b[39;00m:\n\u001b[1;32m---> 51\u001b[0m         data \u001b[38;5;241m=\u001b[39m [\u001b[38;5;28;43mself\u001b[39;49m\u001b[38;5;241;43m.\u001b[39;49m\u001b[43mdataset\u001b[49m\u001b[43m[\u001b[49m\u001b[43midx\u001b[49m\u001b[43m]\u001b[49m \u001b[38;5;28;01mfor\u001b[39;00m idx \u001b[38;5;129;01min\u001b[39;00m possibly_batched_index]\n\u001b[0;32m     52\u001b[0m \u001b[38;5;28;01melse\u001b[39;00m:\n\u001b[0;32m     53\u001b[0m     data \u001b[38;5;241m=\u001b[39m \u001b[38;5;28mself\u001b[39m\u001b[38;5;241m.\u001b[39mdataset[possibly_batched_index]\n",
      "Cell \u001b[1;32mIn[114], line 20\u001b[0m, in \u001b[0;36mTabularDataset.__getitem__\u001b[1;34m(self, idx)\u001b[0m\n\u001b[0;32m     16\u001b[0m \u001b[38;5;28;01mdef\u001b[39;00m \u001b[38;5;21m__getitem__\u001b[39m(\u001b[38;5;28mself\u001b[39m, idx):\n\u001b[0;32m     17\u001b[0m \u001b[38;5;250m    \u001b[39m\u001b[38;5;124;03m\"\"\"\u001b[39;00m\n\u001b[0;32m     18\u001b[0m \u001b[38;5;124;03m    Generates one sample of data.\u001b[39;00m\n\u001b[0;32m     19\u001b[0m \u001b[38;5;124;03m    \"\"\"\u001b[39;00m\n\u001b[1;32m---> 20\u001b[0m     \u001b[38;5;28;01mreturn\u001b[39;00m [\u001b[38;5;28mself\u001b[39m\u001b[38;5;241m.\u001b[39mdata[idx], \u001b[38;5;28;43mself\u001b[39;49m\u001b[38;5;241;43m.\u001b[39;49m\u001b[43my\u001b[49m\u001b[43m[\u001b[49m\u001b[43midx\u001b[49m\u001b[43m]\u001b[49m\u001b[38;5;241;43m.\u001b[39;49m\u001b[43mlong\u001b[49m\u001b[43m(\u001b[49m\u001b[43m)\u001b[49m]\n",
      "\u001b[1;31mKeyboardInterrupt\u001b[0m: "
     ]
    }
   ],
   "source": [
    "n_epochs = 50\n",
    "best_valid_loss = float(\"inf\")\n",
    "\n",
    "metrics = collections.defaultdict(list)\n",
    "\n",
    "for epoch in range(n_epochs):\n",
    "    train_loss, train_acc, train_f1 = train(train_dl, model, loss_fn, optimizer, device)\n",
    "    valid_loss, valid_acc, valid_f1 = evaluate(val_dl, model, loss_fn, device)\n",
    "    metrics[\"train_losses\"].append(train_loss)\n",
    "    metrics[\"train_accs\"].append(train_acc)\n",
    "    metrics[\"valid_losses\"].append(valid_loss)\n",
    "    metrics[\"valid_accs\"].append(valid_acc)\n",
    "    if valid_loss < best_valid_loss:\n",
    "        best_valid_loss = valid_loss\n",
    "        torch.save(model.state_dict(), \"nn.pt\")\n",
    "    print(f\"epoch: {epoch}\")\n",
    "    print(f\"train_loss: {train_loss:.3f}, train_acc: {train_acc:.3f}, train_f1: {train_f1:.3f}\")\n",
    "    print(f\"valid_loss: {valid_loss:.3f}, valid_acc: {valid_acc:.3f}, valid_f1: {valid_f1:.3f}\")"
   ]
  },
  {
   "cell_type": "code",
   "execution_count": 137,
   "metadata": {},
   "outputs": [
    {
     "data": {
      "image/png": "[encoded data removed]",
      "text/plain": [
       "<Figure size 1600x600 with 1 Axes>"
      ]
     },
     "metadata": {},
     "output_type": "display_data"
    }
   ],
   "source": [
    "plt.figure(figsize=(16,6))\n",
    "plt.plot(metrics['train_accs'], label='train');\n",
    "plt.plot(metrics['valid_accs'], label='val');\n",
    "plt.ylabel('Accuracy');\n",
    "plt.xlabel('epoch');\n",
    "plt.legend();"
   ]
  },
  {
   "cell_type": "code",
   "execution_count": 138,
   "metadata": {},
   "outputs": [
    {
     "name": "stdout",
     "output_type": "stream",
     "text": [
      "Accuracy de l'ensemble d'entraînement : tensor(0.5826)\n",
      "Accuracy de l'ensemble de test : tensor(0.5796)\n"
     ]
    }
   ],
   "source": [
    "print(\"Accuracy de l'ensemble d'entraînement :\", get_accuracy(model(data_process_train), y_train))\n",
    "print(\"Accuracy de l'ensemble de test :\", get_accuracy(model(data_process_test), y_test))"
   ]
  },
  {
   "cell_type": "markdown",
   "metadata": {},
   "source": [
    "Pas d'amélioration des résultats"
   ]
  },
  {
   "cell_type": "markdown",
   "metadata": {},
   "source": [
    "**Analyse de la fonction d'activation, avec la totalité des variables**"
   ]
  },
  {
   "cell_type": "code",
   "execution_count": 141,
   "metadata": {},
   "outputs": [],
   "source": [
    "data = df.drop(['grav_rec', 'an', 'jour', 'date', 'dep', 'grav'], axis=1)\n",
    "y = df.grav\n",
    "\n",
    "numerical_features = ['age_usager', 'mois', 'heure', 'lat', 'long']\n",
    "categorical_features = [col for col in data.columns if col not in numerical_features]\n",
    "for col in categorical_features:\n",
    "    data[col] = data[col].astype('int')\n",
    "data[categorical_features] = data[categorical_features].astype('int')"
   ]
  },
  {
   "cell_type": "code",
   "execution_count": 142,
   "metadata": {},
   "outputs": [],
   "source": [
    "class TransfoHour(BaseEstimator, TransformerMixin):\n",
    "    def __init__(self, column_name):\n",
    "        self.column_name = column_name\n",
    "\n",
    "    def fit(self, X, y=None):\n",
    "        return self\n",
    "\n",
    "    def transform(self, X):\n",
    "        X_transfo = X.copy()\n",
    "        X_transfo[f'{self.column_name}_sin'] = np.sin(X_transfo[self.column_name]*(2.*np.pi/24))\n",
    "        X_transfo[f'{self.column_name}_cos'] = np.cos(X_transfo[self.column_name]*(2.*np.pi/24))\n",
    "        X_transfo = X_transfo.drop(self.column_name, axis=1)\n",
    "        return X_transfo\n",
    "\n",
    "    def get_feature_names_out(self):\n",
    "        pass\n",
    "\n",
    "class TransfoMonth(BaseEstimator, TransformerMixin):\n",
    "    def __init__(self, column_name):\n",
    "        self.column_name = column_name\n",
    "\n",
    "    def fit(self, X, y=None):\n",
    "        return self\n",
    "\n",
    "    def transform(self, X):\n",
    "        X_transfo = X.copy()\n",
    "        X_transfo[f'{self.column_name}_sin'] = np.sin((X_transfo[self.column_name]-1)*(2.*np.pi/12))\n",
    "        X_transfo[f'{self.column_name}_cos'] = np.cos((X_transfo[self.column_name]-1)*(2.*np.pi/12))\n",
    "        X_transfo = X_transfo.drop(self.column_name, axis=1)\n",
    "        return X_transfo\n",
    "\n",
    "    def get_feature_names_out(self):\n",
    "        pass\n",
    "\n",
    "\n",
    "preprocessor = ColumnTransformer(transformers=[\n",
    "    (\"transfo_heure\", TransfoHour('heure'), ['heure']),\n",
    "    (\"transfo_mois\", TransfoMonth('mois'), ['mois']),\n",
    "    (\"transfo_lat_long\", RobustScaler(), ['lat', 'long']),\n",
    "    ('transfo_age_usager', MinMaxScaler(), ['age_usager'])\n",
    "    ],\n",
    "    remainder=\"passthrough\"\n",
    ").set_output(transform=\"pandas\")"
   ]
  },
  {
   "cell_type": "code",
   "execution_count": 143,
   "metadata": {},
   "outputs": [
    {
     "data": {
      "text/html": [
       "<div>\n",
       "<style scoped>\n",
       "    .dataframe tbody tr th:only-of-type {\n",
       "        vertical-align: middle;\n",
       "    }\n",
       "\n",
       "    .dataframe tbody tr th {\n",
       "        vertical-align: top;\n",
       "    }\n",
       "\n",
       "    .dataframe thead th {\n",
       "        text-align: right;\n",
       "    }\n",
       "</style>\n",
       "<table border=\"1\" class=\"dataframe\">\n",
       "  <thead>\n",
       "    <tr style=\"text-align: right;\">\n",
       "      <th></th>\n",
       "      <th>transfo_heure__heure_sin</th>\n",
       "      <th>transfo_heure__heure_cos</th>\n",
       "      <th>transfo_mois__mois_sin</th>\n",
       "      <th>transfo_mois__mois_cos</th>\n",
       "      <th>transfo_lat_long__lat</th>\n",
       "      <th>transfo_lat_long__long</th>\n",
       "      <th>transfo_age_usager__age_usager</th>\n",
       "      <th>remainder__lum</th>\n",
       "      <th>remainder__agg</th>\n",
       "      <th>remainder__int</th>\n",
       "      <th>...</th>\n",
       "      <th>remainder__eq_ceinture</th>\n",
       "      <th>remainder__eq_casque</th>\n",
       "      <th>remainder__eq_siege</th>\n",
       "      <th>remainder__eq_gilet</th>\n",
       "      <th>remainder__eq_airbag</th>\n",
       "      <th>remainder__eq_gants</th>\n",
       "      <th>remainder__eq_indetermine</th>\n",
       "      <th>remainder__eq_autre</th>\n",
       "      <th>remainder__jour_chome</th>\n",
       "      <th>remainder__prox_pt_choc</th>\n",
       "    </tr>\n",
       "  </thead>\n",
       "  <tbody>\n",
       "    <tr>\n",
       "      <th>367203</th>\n",
       "      <td>1.224647e-16</td>\n",
       "      <td>-1.000000</td>\n",
       "      <td>0.000000e+00</td>\n",
       "      <td>1.000000e+00</td>\n",
       "      <td>0.291093</td>\n",
       "      <td>0.027916</td>\n",
       "      <td>0.609091</td>\n",
       "      <td>0</td>\n",
       "      <td>1</td>\n",
       "      <td>0</td>\n",
       "      <td>...</td>\n",
       "      <td>0</td>\n",
       "      <td>0</td>\n",
       "      <td>0</td>\n",
       "      <td>0</td>\n",
       "      <td>0</td>\n",
       "      <td>0</td>\n",
       "      <td>1</td>\n",
       "      <td>0</td>\n",
       "      <td>1</td>\n",
       "      <td>0</td>\n",
       "    </tr>\n",
       "    <tr>\n",
       "      <th>165009</th>\n",
       "      <td>-9.659258e-01</td>\n",
       "      <td>-0.258819</td>\n",
       "      <td>8.660254e-01</td>\n",
       "      <td>-5.000000e-01</td>\n",
       "      <td>0.676458</td>\n",
       "      <td>-0.006907</td>\n",
       "      <td>0.381818</td>\n",
       "      <td>0</td>\n",
       "      <td>0</td>\n",
       "      <td>1</td>\n",
       "      <td>...</td>\n",
       "      <td>1</td>\n",
       "      <td>0</td>\n",
       "      <td>0</td>\n",
       "      <td>0</td>\n",
       "      <td>0</td>\n",
       "      <td>0</td>\n",
       "      <td>0</td>\n",
       "      <td>0</td>\n",
       "      <td>1</td>\n",
       "      <td>0</td>\n",
       "    </tr>\n",
       "    <tr>\n",
       "      <th>102923</th>\n",
       "      <td>-5.000000e-01</td>\n",
       "      <td>-0.866025</td>\n",
       "      <td>8.660254e-01</td>\n",
       "      <td>-5.000000e-01</td>\n",
       "      <td>0.271712</td>\n",
       "      <td>-0.046623</td>\n",
       "      <td>0.381818</td>\n",
       "      <td>0</td>\n",
       "      <td>1</td>\n",
       "      <td>1</td>\n",
       "      <td>...</td>\n",
       "      <td>0</td>\n",
       "      <td>1</td>\n",
       "      <td>0</td>\n",
       "      <td>0</td>\n",
       "      <td>0</td>\n",
       "      <td>1</td>\n",
       "      <td>0</td>\n",
       "      <td>0</td>\n",
       "      <td>1</td>\n",
       "      <td>1</td>\n",
       "    </tr>\n",
       "    <tr>\n",
       "      <th>389410</th>\n",
       "      <td>-8.660254e-01</td>\n",
       "      <td>-0.500000</td>\n",
       "      <td>1.000000e+00</td>\n",
       "      <td>6.123234e-17</td>\n",
       "      <td>0.201869</td>\n",
       "      <td>1.542802</td>\n",
       "      <td>0.209091</td>\n",
       "      <td>0</td>\n",
       "      <td>1</td>\n",
       "      <td>1</td>\n",
       "      <td>...</td>\n",
       "      <td>1</td>\n",
       "      <td>0</td>\n",
       "      <td>0</td>\n",
       "      <td>0</td>\n",
       "      <td>0</td>\n",
       "      <td>0</td>\n",
       "      <td>1</td>\n",
       "      <td>0</td>\n",
       "      <td>0</td>\n",
       "      <td>0</td>\n",
       "    </tr>\n",
       "    <tr>\n",
       "      <th>85702</th>\n",
       "      <td>8.660254e-01</td>\n",
       "      <td>-0.500000</td>\n",
       "      <td>1.224647e-16</td>\n",
       "      <td>-1.000000e+00</td>\n",
       "      <td>-0.047079</td>\n",
       "      <td>-0.248779</td>\n",
       "      <td>0.509091</td>\n",
       "      <td>0</td>\n",
       "      <td>1</td>\n",
       "      <td>1</td>\n",
       "      <td>...</td>\n",
       "      <td>0</td>\n",
       "      <td>0</td>\n",
       "      <td>0</td>\n",
       "      <td>0</td>\n",
       "      <td>0</td>\n",
       "      <td>0</td>\n",
       "      <td>0</td>\n",
       "      <td>0</td>\n",
       "      <td>0</td>\n",
       "      <td>0</td>\n",
       "    </tr>\n",
       "  </tbody>\n",
       "</table>\n",
       "<p>5 rows × 37 columns</p>\n",
       "</div>"
      ],
      "text/plain": [
       "        transfo_heure__heure_sin  transfo_heure__heure_cos  \\\n",
       "367203              1.224647e-16                 -1.000000   \n",
       "165009             -9.659258e-01                 -0.258819   \n",
       "102923             -5.000000e-01                 -0.866025   \n",
       "389410             -8.660254e-01                 -0.500000   \n",
       "85702               8.660254e-01                 -0.500000   \n",
       "\n",
       "        transfo_mois__mois_sin  transfo_mois__mois_cos  transfo_lat_long__lat  \\\n",
       "367203            0.000000e+00            1.000000e+00               0.291093   \n",
       "165009            8.660254e-01           -5.000000e-01               0.676458   \n",
       "102923            8.660254e-01           -5.000000e-01               0.271712   \n",
       "389410            1.000000e+00            6.123234e-17               0.201869   \n",
       "85702             1.224647e-16           -1.000000e+00              -0.047079   \n",
       "\n",
       "        transfo_lat_long__long  transfo_age_usager__age_usager  \\\n",
       "367203                0.027916                        0.609091   \n",
       "165009               -0.006907                        0.381818   \n",
       "102923               -0.046623                        0.381818   \n",
       "389410                1.542802                        0.209091   \n",
       "85702                -0.248779                        0.509091   \n",
       "\n",
       "        remainder__lum  remainder__agg  remainder__int  ...  \\\n",
       "367203               0               1               0  ...   \n",
       "165009               0               0               1  ...   \n",
       "102923               0               1               1  ...   \n",
       "389410               0               1               1  ...   \n",
       "85702                0               1               1  ...   \n",
       "\n",
       "        remainder__eq_ceinture  remainder__eq_casque  remainder__eq_siege  \\\n",
       "367203                       0                     0                    0   \n",
       "165009                       1                     0                    0   \n",
       "102923                       0                     1                    0   \n",
       "389410                       1                     0                    0   \n",
       "85702                        0                     0                    0   \n",
       "\n",
       "        remainder__eq_gilet  remainder__eq_airbag  remainder__eq_gants  \\\n",
       "367203                    0                     0                    0   \n",
       "165009                    0                     0                    0   \n",
       "102923                    0                     0                    1   \n",
       "389410                    0                     0                    0   \n",
       "85702                     0                     0                    0   \n",
       "\n",
       "        remainder__eq_indetermine  remainder__eq_autre  remainder__jour_chome  \\\n",
       "367203                          1                    0                      1   \n",
       "165009                          0                    0                      1   \n",
       "102923                          0                    0                      1   \n",
       "389410                          1                    0                      0   \n",
       "85702                           0                    0                      0   \n",
       "\n",
       "        remainder__prox_pt_choc  \n",
       "367203                        0  \n",
       "165009                        0  \n",
       "102923                        1  \n",
       "389410                        0  \n",
       "85702                         0  \n",
       "\n",
       "[5 rows x 37 columns]"
      ]
     },
     "metadata": {},
     "output_type": "display_data"
    },
    {
     "name": "stdout",
     "output_type": "stream",
     "text": [
      "Batch size : 64, Nb features : 37,  Nb classes : 4\n"
     ]
    }
   ],
   "source": [
    "data_train, data_test, y_train, y_test = train_test_split(data, y, test_size=0.3, random_state=42, stratify=y)\n",
    "data_train, data_val, y_train, y_val = train_test_split(data_train, y_train, test_size=0.1, random_state=42, stratify=y_train)\n",
    "\n",
    "data_process_train = preprocessor.fit_transform(data_train)\n",
    "data_process_val = preprocessor.transform(data_val)\n",
    "data_process_test = preprocessor.transform(data_test)\n",
    "\n",
    "display(data_process_train.head())\n",
    "\n",
    "BATCH_SIZE = 64\n",
    "NUM_FEATURES = len(data_process_train.columns)\n",
    "NUM_CLASSES = 4\n",
    "print((f\"Batch size : {BATCH_SIZE}, Nb features : {NUM_FEATURES},  Nb classes : {NUM_CLASSES}\"))\n",
    "\n",
    "data_process_train = torch.tensor(data_process_train.values, dtype=torch.float32).to(device)\n",
    "data_process_val = torch.tensor(data_process_val.values, dtype=torch.float32).to(device)\n",
    "data_process_test = torch.tensor(data_process_test.values, dtype=torch.float32).to(device)\n",
    "y_train = torch.tensor(y_train, dtype=torch.float32).to(device)\n",
    "y_test = torch.tensor(y_test.astype('int').values, dtype=torch.float32).to(device)\n",
    "y_val = torch.tensor(y_val.astype('int').values, dtype=torch.float32).to(device)\n",
    "\n",
    "train_dt = TabularDataset(data=data_process_train, labels=y_train)\n",
    "val_dt = TabularDataset(data=data_process_val, labels=y_val)\n",
    "test_dt = TabularDataset(data=data_process_test, labels=y_test)\n",
    "train_dl = DataLoader(train_dt, BATCH_SIZE, shuffle = True)\n",
    "val_dl = DataLoader(val_dt, 1, shuffle = False)\n",
    "test_dl = DataLoader(test_dt, 1, shuffle = False)"
   ]
  },
  {
   "cell_type": "code",
   "execution_count": 144,
   "metadata": {},
   "outputs": [],
   "source": [
    "model = NeuralNetClassifier(\n",
    "    module=Multiclass,\n",
    "    criterion=nn.CrossEntropyLoss(weight=class_weights, reduction='mean'),\n",
    "    optimizer=optim.SGD,\n",
    "    max_epochs=20,\n",
    "    batch_size=64,\n",
    "    verbose=True\n",
    ")"
   ]
  },
  {
   "cell_type": "code",
   "execution_count": 145,
   "metadata": {},
   "outputs": [
    {
     "name": "stdout",
     "output_type": "stream",
     "text": [
      "<class 'skorch.classifier.NeuralNetClassifier'>[initialized](\n",
      "  module_=Multiclass(\n",
      "    (layer1): Linear(in_features=25, out_features=70, bias=True)\n",
      "    (layer2): ReLU()\n",
      "    (layer3): Linear(in_features=70, out_features=140, bias=True)\n",
      "    (layer4): ReLU()\n",
      "    (layer5): Dropout(p=0.2, inplace=False)\n",
      "    (layer6): Linear(in_features=140, out_features=70, bias=True)\n",
      "    (layer7): ReLU()\n",
      "    (layer8): Linear(in_features=70, out_features=35, bias=True)\n",
      "    (layer9): ReLU()\n",
      "    (layer10): Dropout(p=0.2, inplace=False)\n",
      "    (layer11): Linear(in_features=35, out_features=14, bias=True)\n",
      "    (layer12): ReLU()\n",
      "    (layer13): Linear(in_features=14, out_features=4, bias=True)\n",
      "  ),\n",
      ")\n"
     ]
    }
   ],
   "source": [
    "print(model.initialize())"
   ]
  },
  {
   "cell_type": "code",
   "execution_count": 130,
   "metadata": {},
   "outputs": [
    {
     "name": "stdout",
     "output_type": "stream",
     "text": [
      "  epoch    train_loss    valid_acc    valid_loss     dur\n",
      "-------  ------------  -----------  ------------  ------\n",
      "      1        \u001b[36m1.3853\u001b[0m       \u001b[32m0.4034\u001b[0m        \u001b[35m1.3846\u001b[0m  7.0984\n",
      "      2        \u001b[36m1.3847\u001b[0m       \u001b[32m0.4038\u001b[0m        \u001b[35m1.3839\u001b[0m  6.8615\n",
      "      3        \u001b[36m1.3838\u001b[0m       \u001b[32m0.4486\u001b[0m        \u001b[35m1.3826\u001b[0m  7.0193\n",
      "      4        \u001b[36m1.3814\u001b[0m       0.4094        \u001b[35m1.3776\u001b[0m  8.9727\n",
      "      5        \u001b[36m1.3675\u001b[0m       0.3938        \u001b[35m1.3526\u001b[0m  7.8935\n",
      "      6        \u001b[36m1.3354\u001b[0m       0.4209        \u001b[35m1.3169\u001b[0m  7.7136\n",
      "      7        \u001b[36m1.2973\u001b[0m       \u001b[32m0.4584\u001b[0m        \u001b[35m1.2771\u001b[0m  7.7621\n",
      "      8        \u001b[36m1.2700\u001b[0m       \u001b[32m0.4740\u001b[0m        \u001b[35m1.2598\u001b[0m  7.9333\n",
      "      9        \u001b[36m1.2578\u001b[0m       \u001b[32m0.4924\u001b[0m        \u001b[35m1.2494\u001b[0m  7.8175\n",
      "     10        \u001b[36m1.2484\u001b[0m       0.4835        \u001b[35m1.2444\u001b[0m  8.3864\n",
      "     11        \u001b[36m1.2427\u001b[0m       \u001b[32m0.5001\u001b[0m        \u001b[35m1.2372\u001b[0m  7.9651\n",
      "     12        \u001b[36m1.2383\u001b[0m       \u001b[32m0.5142\u001b[0m        \u001b[35m1.2316\u001b[0m  7.6284\n",
      "     13        \u001b[36m1.2334\u001b[0m       0.4936        \u001b[35m1.2307\u001b[0m  7.9805\n",
      "     14        \u001b[36m1.2300\u001b[0m       0.5132        \u001b[35m1.2259\u001b[0m  7.7640\n",
      "     15        \u001b[36m1.2268\u001b[0m       0.5130        \u001b[35m1.2219\u001b[0m  8.0013\n",
      "     16        \u001b[36m1.2231\u001b[0m       0.5095        \u001b[35m1.2208\u001b[0m  7.6580\n",
      "     17        \u001b[36m1.2196\u001b[0m       \u001b[32m0.5175\u001b[0m        \u001b[35m1.2191\u001b[0m  7.9602\n",
      "     18        \u001b[36m1.2164\u001b[0m       0.5089        \u001b[35m1.2154\u001b[0m  7.5790\n",
      "     19        \u001b[36m1.2141\u001b[0m       \u001b[32m0.5234\u001b[0m        \u001b[35m1.2107\u001b[0m  7.6849\n",
      "     20        \u001b[36m1.2115\u001b[0m       \u001b[32m0.5299\u001b[0m        \u001b[35m1.2071\u001b[0m  7.7794\n",
      "  epoch    train_loss    valid_acc    valid_loss     dur\n",
      "-------  ------------  -----------  ------------  ------\n",
      "      1        \u001b[36m1.3859\u001b[0m       \u001b[32m0.4034\u001b[0m        \u001b[35m1.3856\u001b[0m  8.0371\n",
      "      2        \u001b[36m1.3853\u001b[0m       0.4034        \u001b[35m1.3851\u001b[0m  7.4867\n",
      "      3        \u001b[36m1.3850\u001b[0m       \u001b[32m0.4039\u001b[0m        \u001b[35m1.3849\u001b[0m  7.5469\n",
      "      4        \u001b[36m1.3848\u001b[0m       \u001b[32m0.4041\u001b[0m        \u001b[35m1.3847\u001b[0m  7.8013\n",
      "      5        \u001b[36m1.3847\u001b[0m       \u001b[32m0.4132\u001b[0m        \u001b[35m1.3846\u001b[0m  7.9708\n",
      "      6        \u001b[36m1.3846\u001b[0m       \u001b[32m0.4846\u001b[0m        \u001b[35m1.3845\u001b[0m  8.2407\n",
      "      7        \u001b[36m1.3845\u001b[0m       0.4837        \u001b[35m1.3844\u001b[0m  7.6957\n",
      "      8        \u001b[36m1.3844\u001b[0m       0.4518        \u001b[35m1.3842\u001b[0m  7.8677\n",
      "      9        \u001b[36m1.3841\u001b[0m       0.4437        \u001b[35m1.3839\u001b[0m  8.0348\n",
      "     10        \u001b[36m1.3836\u001b[0m       0.4450        \u001b[35m1.3830\u001b[0m  7.8361\n",
      "     11        \u001b[36m1.3819\u001b[0m       0.4543        \u001b[35m1.3796\u001b[0m  8.3451\n",
      "     12        \u001b[36m1.3678\u001b[0m       0.4567        \u001b[35m1.3359\u001b[0m  7.9128\n",
      "     13        \u001b[36m1.3017\u001b[0m       0.4485        \u001b[35m1.2765\u001b[0m  7.7503\n",
      "     14        \u001b[36m1.2729\u001b[0m       0.4459        \u001b[35m1.2660\u001b[0m  7.5566\n",
      "     15        \u001b[36m1.2662\u001b[0m       0.4395        \u001b[35m1.2614\u001b[0m  7.8803\n",
      "     16        \u001b[36m1.2611\u001b[0m       0.4526        \u001b[35m1.2565\u001b[0m  7.8495\n",
      "     17        \u001b[36m1.2567\u001b[0m       0.4448        \u001b[35m1.2554\u001b[0m  7.3127\n",
      "     18        \u001b[36m1.2504\u001b[0m       0.4757        \u001b[35m1.2463\u001b[0m  7.9272\n",
      "     19        \u001b[36m1.2450\u001b[0m       \u001b[32m0.4874\u001b[0m        \u001b[35m1.2415\u001b[0m  7.7658\n",
      "     20        \u001b[36m1.2406\u001b[0m       \u001b[32m0.5051\u001b[0m        \u001b[35m1.2357\u001b[0m  8.1708\n",
      "  epoch    train_loss    valid_acc    valid_loss     dur\n",
      "-------  ------------  -----------  ------------  ------\n",
      "      1        \u001b[36m1.3858\u001b[0m       \u001b[32m0.4040\u001b[0m        \u001b[35m1.3853\u001b[0m  7.9302\n",
      "      2        \u001b[36m1.3850\u001b[0m       \u001b[32m0.4522\u001b[0m        \u001b[35m1.3845\u001b[0m  7.7304\n",
      "      3        \u001b[36m1.3843\u001b[0m       \u001b[32m0.4822\u001b[0m        \u001b[35m1.3838\u001b[0m  7.6425\n",
      "      4        \u001b[36m1.3833\u001b[0m       0.4454        \u001b[35m1.3824\u001b[0m  7.9909\n",
      "      5        \u001b[36m1.3807\u001b[0m       0.4171        \u001b[35m1.3770\u001b[0m  7.5268\n",
      "      6        \u001b[36m1.3673\u001b[0m       0.3654        \u001b[35m1.3498\u001b[0m  7.4120\n",
      "      7        \u001b[36m1.3247\u001b[0m       0.3995        \u001b[35m1.2883\u001b[0m  7.7981\n",
      "      8        \u001b[36m1.2779\u001b[0m       0.4084        \u001b[35m1.2641\u001b[0m  7.5152\n",
      "      9        \u001b[36m1.2588\u001b[0m       0.4062        \u001b[35m1.2598\u001b[0m  7.9433\n",
      "     10        \u001b[36m1.2503\u001b[0m       0.4353        \u001b[35m1.2498\u001b[0m  8.0443\n",
      "     11        \u001b[36m1.2427\u001b[0m       0.4285        \u001b[35m1.2490\u001b[0m  7.4488\n",
      "     12        \u001b[36m1.2377\u001b[0m       0.4366        \u001b[35m1.2453\u001b[0m  7.5702\n",
      "     13        \u001b[36m1.2323\u001b[0m       0.4272        1.2473  7.6438\n",
      "     14        \u001b[36m1.2279\u001b[0m       0.4436        \u001b[35m1.2387\u001b[0m  7.8785\n",
      "     15        \u001b[36m1.2235\u001b[0m       0.4379        1.2400  8.0704\n",
      "     16        \u001b[36m1.2202\u001b[0m       0.4547        \u001b[35m1.2322\u001b[0m  8.2135\n",
      "     17        \u001b[36m1.2163\u001b[0m       0.4667        \u001b[35m1.2268\u001b[0m  8.2521\n",
      "     18        \u001b[36m1.2145\u001b[0m       0.4469        1.2340  7.6278\n",
      "     19        \u001b[36m1.2117\u001b[0m       0.4714        \u001b[35m1.2233\u001b[0m  7.9956\n",
      "     20        \u001b[36m1.2096\u001b[0m       \u001b[32m0.4839\u001b[0m        \u001b[35m1.2202\u001b[0m  7.6291\n",
      "  epoch    train_loss    valid_acc    valid_loss     dur\n",
      "-------  ------------  -----------  ------------  ------\n",
      "      1        \u001b[36m1.3860\u001b[0m       \u001b[32m0.4034\u001b[0m        \u001b[35m1.3851\u001b[0m  8.9608\n",
      "      2        \u001b[36m1.3854\u001b[0m       0.4034        \u001b[35m1.3847\u001b[0m  8.5962\n",
      "      3        \u001b[36m1.3852\u001b[0m       0.4034        \u001b[35m1.3845\u001b[0m  8.4307\n",
      "      4        \u001b[36m1.3850\u001b[0m       0.4034        \u001b[35m1.3844\u001b[0m  8.6390\n",
      "      5        \u001b[36m1.3850\u001b[0m       \u001b[32m0.4039\u001b[0m        \u001b[35m1.3843\u001b[0m  7.8422\n",
      "      6        \u001b[36m1.3849\u001b[0m       0.4036        \u001b[35m1.3842\u001b[0m  7.3935\n",
      "      7        \u001b[36m1.3849\u001b[0m       \u001b[32m0.4055\u001b[0m        \u001b[35m1.3842\u001b[0m  6.6826\n",
      "      8        \u001b[36m1.3849\u001b[0m       \u001b[32m0.4079\u001b[0m        \u001b[35m1.3842\u001b[0m  6.7678\n",
      "      9        \u001b[36m1.3848\u001b[0m       \u001b[32m0.4108\u001b[0m        \u001b[35m1.3841\u001b[0m  6.8371\n",
      "     10        \u001b[36m1.3848\u001b[0m       \u001b[32m0.4125\u001b[0m        \u001b[35m1.3841\u001b[0m  6.8292\n",
      "     11        \u001b[36m1.3848\u001b[0m       \u001b[32m0.4142\u001b[0m        \u001b[35m1.3841\u001b[0m  6.8452\n",
      "     12        \u001b[36m1.3848\u001b[0m       \u001b[32m0.4160\u001b[0m        \u001b[35m1.3840\u001b[0m  6.7281\n",
      "     13        \u001b[36m1.3847\u001b[0m       \u001b[32m0.4173\u001b[0m        \u001b[35m1.3840\u001b[0m  6.8207\n",
      "     14        \u001b[36m1.3847\u001b[0m       \u001b[32m0.4182\u001b[0m        \u001b[35m1.3840\u001b[0m  6.8534\n",
      "     15        \u001b[36m1.3847\u001b[0m       \u001b[32m0.4218\u001b[0m        \u001b[35m1.3839\u001b[0m  6.7712\n",
      "     16        \u001b[36m1.3846\u001b[0m       \u001b[32m0.4247\u001b[0m        \u001b[35m1.3839\u001b[0m  6.9492\n",
      "     17        \u001b[36m1.3846\u001b[0m       \u001b[32m0.4295\u001b[0m        \u001b[35m1.3838\u001b[0m  6.8328\n",
      "     18        \u001b[36m1.3845\u001b[0m       \u001b[32m0.4337\u001b[0m        \u001b[35m1.3837\u001b[0m  6.8373\n",
      "     19        \u001b[36m1.3843\u001b[0m       \u001b[32m0.4411\u001b[0m        \u001b[35m1.3836\u001b[0m  6.6673\n",
      "     20        \u001b[36m1.3840\u001b[0m       \u001b[32m0.4496\u001b[0m        \u001b[35m1.3833\u001b[0m  6.7373\n",
      "  epoch    train_loss    valid_acc    valid_loss     dur\n",
      "-------  ------------  -----------  ------------  ------\n",
      "      1        \u001b[36m1.3871\u001b[0m       \u001b[32m0.4037\u001b[0m        \u001b[35m1.3862\u001b[0m  6.8016\n",
      "      2        \u001b[36m1.3857\u001b[0m       \u001b[32m0.4037\u001b[0m        \u001b[35m1.3854\u001b[0m  6.7576\n",
      "      3        \u001b[36m1.3852\u001b[0m       \u001b[32m0.4038\u001b[0m        \u001b[35m1.3850\u001b[0m  6.6578\n",
      "      4        \u001b[36m1.3849\u001b[0m       \u001b[32m0.4184\u001b[0m        \u001b[35m1.3848\u001b[0m  6.7082\n",
      "      5        \u001b[36m1.3847\u001b[0m       \u001b[32m0.5011\u001b[0m        \u001b[35m1.3847\u001b[0m  6.6475\n",
      "      6        \u001b[36m1.3846\u001b[0m       0.4812        \u001b[35m1.3845\u001b[0m  6.9223\n",
      "      7        \u001b[36m1.3845\u001b[0m       0.4713        \u001b[35m1.3844\u001b[0m  6.7310\n",
      "      8        \u001b[36m1.3844\u001b[0m       0.4709        \u001b[35m1.3843\u001b[0m  6.7242\n",
      "      9        \u001b[36m1.3842\u001b[0m       0.4778        \u001b[35m1.3841\u001b[0m  6.7293\n",
      "     10        \u001b[36m1.3839\u001b[0m       0.4883        \u001b[35m1.3836\u001b[0m  6.6441\n",
      "     11        \u001b[36m1.3831\u001b[0m       0.4807        \u001b[35m1.3824\u001b[0m  7.0664\n",
      "     12        \u001b[36m1.3805\u001b[0m       0.3738        \u001b[35m1.3767\u001b[0m  6.8420\n",
      "     13        \u001b[36m1.3670\u001b[0m       0.3711        \u001b[35m1.3526\u001b[0m  6.7893\n",
      "     14        \u001b[36m1.3383\u001b[0m       0.4060        \u001b[35m1.3192\u001b[0m  6.7289\n",
      "     15        \u001b[36m1.2987\u001b[0m       0.4298        \u001b[35m1.2771\u001b[0m  6.7531\n",
      "     16        \u001b[36m1.2739\u001b[0m       0.4560        \u001b[35m1.2616\u001b[0m  6.8728\n",
      "     17        \u001b[36m1.2622\u001b[0m       0.4756        \u001b[35m1.2525\u001b[0m  6.6511\n",
      "     18        \u001b[36m1.2539\u001b[0m       0.4900        \u001b[35m1.2458\u001b[0m  6.8260\n",
      "     19        \u001b[36m1.2485\u001b[0m       0.4829        \u001b[35m1.2432\u001b[0m  6.7771\n",
      "     20        \u001b[36m1.2434\u001b[0m       0.4687        \u001b[35m1.2419\u001b[0m  6.6121\n",
      "  epoch    train_loss    valid_acc    valid_loss     dur\n",
      "-------  ------------  -----------  ------------  ------\n",
      "      1        \u001b[36m1.3871\u001b[0m       \u001b[32m0.4127\u001b[0m        \u001b[35m1.3864\u001b[0m  7.0805\n",
      "      2        \u001b[36m1.3860\u001b[0m       0.4127        \u001b[35m1.3856\u001b[0m  6.6094\n",
      "      3        \u001b[36m1.3854\u001b[0m       0.4127        \u001b[35m1.3851\u001b[0m  6.8058\n",
      "      4        \u001b[36m1.3851\u001b[0m       0.4127        \u001b[35m1.3849\u001b[0m  7.3502\n",
      "      5        \u001b[36m1.3849\u001b[0m       0.4127        \u001b[35m1.3848\u001b[0m  7.4613\n",
      "      6        \u001b[36m1.3848\u001b[0m       0.4126        \u001b[35m1.3847\u001b[0m  7.3986\n",
      "      7        \u001b[36m1.3847\u001b[0m       0.4119        \u001b[35m1.3846\u001b[0m  7.3303\n",
      "      8        \u001b[36m1.3846\u001b[0m       0.4120        \u001b[35m1.3845\u001b[0m  7.9073\n",
      "      9        \u001b[36m1.3846\u001b[0m       0.4124        \u001b[35m1.3844\u001b[0m  7.1984\n",
      "     10        \u001b[36m1.3845\u001b[0m       \u001b[32m0.4137\u001b[0m        \u001b[35m1.3843\u001b[0m  7.3350\n",
      "     11        \u001b[36m1.3843\u001b[0m       \u001b[32m0.4191\u001b[0m        \u001b[35m1.3842\u001b[0m  7.6996\n",
      "     12        \u001b[36m1.3842\u001b[0m       \u001b[32m0.4256\u001b[0m        \u001b[35m1.3840\u001b[0m  8.2708\n",
      "     13        \u001b[36m1.3838\u001b[0m       \u001b[32m0.4393\u001b[0m        \u001b[35m1.3834\u001b[0m  7.1755\n",
      "     14        \u001b[36m1.3829\u001b[0m       0.3774        \u001b[35m1.3818\u001b[0m  7.4378\n",
      "     15        \u001b[36m1.3790\u001b[0m       0.3475        \u001b[35m1.3739\u001b[0m  7.1496\n",
      "     16        \u001b[36m1.3634\u001b[0m       0.3598        \u001b[35m1.3485\u001b[0m  7.6075\n",
      "     17        \u001b[36m1.3348\u001b[0m       0.3928        \u001b[35m1.3156\u001b[0m  7.0978\n",
      "     18        \u001b[36m1.2938\u001b[0m       0.3865        \u001b[35m1.2786\u001b[0m  7.0838\n",
      "     19        \u001b[36m1.2717\u001b[0m       0.4163        \u001b[35m1.2666\u001b[0m  7.2521\n",
      "     20        \u001b[36m1.2606\u001b[0m       0.4333        \u001b[35m1.2603\u001b[0m  7.2398\n",
      "  epoch    train_loss    valid_acc    valid_loss     dur\n",
      "-------  ------------  -----------  ------------  ------\n",
      "      1        \u001b[36m1.3876\u001b[0m       \u001b[32m0.4123\u001b[0m        \u001b[35m1.3843\u001b[0m  8.2982\n",
      "      2        \u001b[36m1.3851\u001b[0m       0.4122        \u001b[35m1.3842\u001b[0m  7.7686\n",
      "      3        \u001b[36m1.3850\u001b[0m       \u001b[32m0.4127\u001b[0m        \u001b[35m1.3841\u001b[0m  7.5845\n",
      "      4        \u001b[36m1.3850\u001b[0m       0.4127        \u001b[35m1.3841\u001b[0m  7.5948\n",
      "      5        \u001b[36m1.3849\u001b[0m       \u001b[32m0.4127\u001b[0m        \u001b[35m1.3841\u001b[0m  7.9077\n",
      "      6        1.3849       \u001b[32m0.4127\u001b[0m        \u001b[35m1.3841\u001b[0m  7.6824\n",
      "      7        \u001b[36m1.3849\u001b[0m       0.4127        \u001b[35m1.3841\u001b[0m  7.7886\n",
      "      8        1.3849       0.4125        \u001b[35m1.3841\u001b[0m  7.6811\n",
      "      9        \u001b[36m1.3849\u001b[0m       0.4124        \u001b[35m1.3840\u001b[0m  7.6431\n",
      "     10        \u001b[36m1.3848\u001b[0m       \u001b[32m0.4128\u001b[0m        \u001b[35m1.3840\u001b[0m  7.9528\n",
      "     11        1.3848       \u001b[32m0.4132\u001b[0m        \u001b[35m1.3840\u001b[0m  7.7539\n",
      "     12        1.3849       0.4127        \u001b[35m1.3840\u001b[0m  7.7863\n",
      "     13        1.3848       0.4121        \u001b[35m1.3839\u001b[0m  7.6868\n",
      "     14        \u001b[36m1.3846\u001b[0m       0.4124        \u001b[35m1.3839\u001b[0m  7.7939\n",
      "     15        1.3847       0.4123        \u001b[35m1.3839\u001b[0m  7.7967\n",
      "     16        1.3846       0.4129        \u001b[35m1.3838\u001b[0m  7.9447\n",
      "     17        \u001b[36m1.3846\u001b[0m       0.4090        \u001b[35m1.3837\u001b[0m  7.7248\n",
      "     18        \u001b[36m1.3845\u001b[0m       0.4079        \u001b[35m1.3836\u001b[0m  7.7400\n",
      "     19        \u001b[36m1.3844\u001b[0m       0.4083        \u001b[35m1.3834\u001b[0m  8.2163\n",
      "     20        \u001b[36m1.3840\u001b[0m       0.4053        \u001b[35m1.3830\u001b[0m  7.6794\n",
      "  epoch    train_loss    valid_acc    valid_loss     dur\n",
      "-------  ------------  -----------  ------------  ------\n",
      "      1        \u001b[36m1.3855\u001b[0m       \u001b[32m0.4118\u001b[0m        \u001b[35m1.3847\u001b[0m  7.8857\n",
      "      2        \u001b[36m1.3849\u001b[0m       \u001b[32m0.4120\u001b[0m        \u001b[35m1.3847\u001b[0m  9.0400\n",
      "      3        \u001b[36m1.3848\u001b[0m       0.4120        \u001b[35m1.3847\u001b[0m  7.9920\n",
      "      4        \u001b[36m1.3848\u001b[0m       0.4120        \u001b[35m1.3847\u001b[0m  7.8880\n",
      "      5        1.3848       \u001b[32m0.4126\u001b[0m        \u001b[35m1.3847\u001b[0m  8.8185\n",
      "      6        1.3848       0.4118        \u001b[35m1.3846\u001b[0m  8.8081\n",
      "      7        1.3848       0.4122        \u001b[35m1.3846\u001b[0m  7.8789\n",
      "      8        \u001b[36m1.3848\u001b[0m       0.4120        \u001b[35m1.3846\u001b[0m  7.8542\n",
      "      9        \u001b[36m1.3848\u001b[0m       0.4126        \u001b[35m1.3846\u001b[0m  8.5293\n",
      "     10        1.3848       0.4121        \u001b[35m1.3846\u001b[0m  7.7915\n",
      "     11        \u001b[36m1.3847\u001b[0m       0.4122        \u001b[35m1.3846\u001b[0m  7.8440\n",
      "     12        1.3848       0.4123        \u001b[35m1.3846\u001b[0m  7.7458\n",
      "     13        \u001b[36m1.3847\u001b[0m       0.4124        \u001b[35m1.3846\u001b[0m  7.6451\n",
      "     14        \u001b[36m1.3846\u001b[0m       0.4123        \u001b[35m1.3845\u001b[0m  7.7665\n",
      "     15        \u001b[36m1.3846\u001b[0m       0.4124        \u001b[35m1.3845\u001b[0m  7.7395\n",
      "     16        1.3847       \u001b[32m0.4133\u001b[0m        \u001b[35m1.3845\u001b[0m  7.6879\n",
      "     17        1.3847       \u001b[32m0.4141\u001b[0m        \u001b[35m1.3845\u001b[0m  7.7047\n",
      "     18        \u001b[36m1.3846\u001b[0m       0.4130        \u001b[35m1.3844\u001b[0m  7.7462\n",
      "     19        \u001b[36m1.3845\u001b[0m       \u001b[32m0.4143\u001b[0m        \u001b[35m1.3844\u001b[0m  7.7764\n",
      "     20        \u001b[36m1.3845\u001b[0m       0.4142        \u001b[35m1.3843\u001b[0m  7.9328\n",
      "  epoch    train_loss    valid_acc    valid_loss     dur\n",
      "-------  ------------  -----------  ------------  ------\n",
      "      1        \u001b[36m1.3856\u001b[0m       \u001b[32m0.4127\u001b[0m        \u001b[35m1.3848\u001b[0m  8.2624\n",
      "      2        \u001b[36m1.3849\u001b[0m       0.4127        \u001b[35m1.3847\u001b[0m  7.7815\n",
      "      3        \u001b[36m1.3848\u001b[0m       0.4127        \u001b[35m1.3847\u001b[0m  7.6983\n",
      "      4        1.3849       0.4127        \u001b[35m1.3847\u001b[0m  7.6977\n",
      "      5        1.3849       0.4127        \u001b[35m1.3847\u001b[0m  7.8026\n",
      "      6        1.3848       0.4127        \u001b[35m1.3846\u001b[0m  7.7909\n",
      "      7        \u001b[36m1.3848\u001b[0m       0.4127        \u001b[35m1.3846\u001b[0m  7.8118\n",
      "      8        1.3848       0.4127        \u001b[35m1.3846\u001b[0m  7.9285\n",
      "      9        \u001b[36m1.3847\u001b[0m       0.4127        \u001b[35m1.3846\u001b[0m  7.8197\n",
      "     10        1.3848       0.4127        \u001b[35m1.3846\u001b[0m  7.6345\n",
      "     11        1.3847       0.4127        \u001b[35m1.3846\u001b[0m  7.7605\n",
      "     12        1.3847       0.4127        \u001b[35m1.3845\u001b[0m  7.6372\n",
      "     13        \u001b[36m1.3847\u001b[0m       0.4127        \u001b[35m1.3845\u001b[0m  7.8813\n",
      "     14        \u001b[36m1.3846\u001b[0m       0.4127        \u001b[35m1.3845\u001b[0m  7.6274\n",
      "     15        \u001b[36m1.3845\u001b[0m       0.4127        \u001b[35m1.3844\u001b[0m  7.9772\n",
      "     16        \u001b[36m1.3845\u001b[0m       0.4127        \u001b[35m1.3843\u001b[0m  7.7050\n",
      "     17        1.3845       \u001b[32m0.4128\u001b[0m        \u001b[35m1.3843\u001b[0m  7.6965\n",
      "     18        \u001b[36m1.3844\u001b[0m       \u001b[32m0.4131\u001b[0m        \u001b[35m1.3841\u001b[0m  8.6164\n",
      "     19        \u001b[36m1.3842\u001b[0m       \u001b[32m0.4131\u001b[0m        \u001b[35m1.3839\u001b[0m  8.1779\n",
      "     20        \u001b[36m1.3840\u001b[0m       0.4131        \u001b[35m1.3836\u001b[0m  7.9749\n",
      "  epoch    train_loss    valid_acc    valid_loss     dur\n",
      "-------  ------------  -----------  ------------  ------\n",
      "      1        \u001b[36m1.3856\u001b[0m       \u001b[32m0.4034\u001b[0m        \u001b[35m1.3846\u001b[0m  8.6198\n",
      "      2        \u001b[36m1.3846\u001b[0m       0.4034        \u001b[35m1.3837\u001b[0m  9.3746\n",
      "      3        \u001b[36m1.3837\u001b[0m       \u001b[32m0.4733\u001b[0m        \u001b[35m1.3826\u001b[0m  8.8212\n",
      "      4        \u001b[36m1.3819\u001b[0m       0.4645        \u001b[35m1.3795\u001b[0m  8.9941\n",
      "      5        \u001b[36m1.3752\u001b[0m       0.4358        \u001b[35m1.3669\u001b[0m  8.8469\n",
      "      6        \u001b[36m1.3468\u001b[0m       0.4271        \u001b[35m1.3198\u001b[0m  8.6245\n",
      "      7        \u001b[36m1.2977\u001b[0m       0.4363        \u001b[35m1.2841\u001b[0m  8.6898\n",
      "      8        \u001b[36m1.2761\u001b[0m       0.4234        \u001b[35m1.2735\u001b[0m  8.8006\n",
      "      9        \u001b[36m1.2695\u001b[0m       0.4106        \u001b[35m1.2689\u001b[0m  8.7679\n",
      "     10        \u001b[36m1.2653\u001b[0m       0.4058        \u001b[35m1.2648\u001b[0m  8.7696\n",
      "     11        \u001b[36m1.2603\u001b[0m       0.4200        \u001b[35m1.2582\u001b[0m  8.7187\n",
      "     12        \u001b[36m1.2543\u001b[0m       0.4436        \u001b[35m1.2533\u001b[0m  8.7390\n",
      "     13        \u001b[36m1.2481\u001b[0m       0.4591        \u001b[35m1.2485\u001b[0m  8.7674\n",
      "     14        \u001b[36m1.2421\u001b[0m       \u001b[32m0.4899\u001b[0m        \u001b[35m1.2395\u001b[0m  8.8242\n",
      "     15        \u001b[36m1.2374\u001b[0m       \u001b[32m0.4975\u001b[0m        \u001b[35m1.2380\u001b[0m  10.1270\n",
      "     16        \u001b[36m1.2332\u001b[0m       \u001b[32m0.5052\u001b[0m        \u001b[35m1.2317\u001b[0m  11.7745\n",
      "     17        \u001b[36m1.2290\u001b[0m       \u001b[32m0.5203\u001b[0m        \u001b[35m1.2266\u001b[0m  11.0792\n",
      "     18        \u001b[36m1.2248\u001b[0m       \u001b[32m0.5267\u001b[0m        1.2294  10.3474\n",
      "     19        \u001b[36m1.2220\u001b[0m       \u001b[32m0.5355\u001b[0m        \u001b[35m1.2200\u001b[0m  10.7133\n",
      "     20        \u001b[36m1.2188\u001b[0m       0.5315        \u001b[35m1.2200\u001b[0m  9.9854\n",
      "  epoch    train_loss    valid_acc    valid_loss      dur\n",
      "-------  ------------  -----------  ------------  -------\n",
      "      1        \u001b[36m1.3854\u001b[0m       \u001b[32m0.4034\u001b[0m        \u001b[35m1.3850\u001b[0m  10.7381\n",
      "      2        \u001b[36m1.3847\u001b[0m       \u001b[32m0.4315\u001b[0m        \u001b[35m1.3844\u001b[0m  9.9731\n",
      "      3        \u001b[36m1.3841\u001b[0m       \u001b[32m0.5106\u001b[0m        \u001b[35m1.3837\u001b[0m  10.2754\n",
      "      4        \u001b[36m1.3831\u001b[0m       0.4957        \u001b[35m1.3823\u001b[0m  10.7437\n",
      "      5        \u001b[36m1.3807\u001b[0m       0.5055        \u001b[35m1.3777\u001b[0m  10.5286\n",
      "      6        \u001b[36m1.3686\u001b[0m       0.4484        \u001b[35m1.3514\u001b[0m  9.8311\n",
      "      7        \u001b[36m1.3225\u001b[0m       0.4554        \u001b[35m1.2996\u001b[0m  9.7934\n",
      "      8        \u001b[36m1.2865\u001b[0m       0.4597        \u001b[35m1.2785\u001b[0m  10.0716\n",
      "      9        \u001b[36m1.2737\u001b[0m       0.4604        \u001b[35m1.2726\u001b[0m  10.5128\n",
      "     10        \u001b[36m1.2690\u001b[0m       0.4641        \u001b[35m1.2685\u001b[0m  10.9026\n",
      "     11        \u001b[36m1.2653\u001b[0m       0.4374        \u001b[35m1.2652\u001b[0m  10.4173\n",
      "     12        \u001b[36m1.2615\u001b[0m       0.4177        \u001b[35m1.2617\u001b[0m  10.3159\n",
      "     13        \u001b[36m1.2564\u001b[0m       0.4336        \u001b[35m1.2568\u001b[0m  10.3734\n",
      "     14        \u001b[36m1.2506\u001b[0m       0.4578        \u001b[35m1.2509\u001b[0m  9.9627\n",
      "     15        \u001b[36m1.2445\u001b[0m       0.4815        \u001b[35m1.2434\u001b[0m  13.6801\n",
      "     16        \u001b[36m1.2393\u001b[0m       0.4802        \u001b[35m1.2410\u001b[0m  11.7644\n",
      "     17        \u001b[36m1.2344\u001b[0m       0.4812        \u001b[35m1.2375\u001b[0m  11.0141\n",
      "     18        \u001b[36m1.2299\u001b[0m       0.4998        \u001b[35m1.2303\u001b[0m  11.5001\n",
      "     19        \u001b[36m1.2253\u001b[0m       \u001b[32m0.5214\u001b[0m        \u001b[35m1.2250\u001b[0m  11.1166\n",
      "     20        \u001b[36m1.2210\u001b[0m       0.5073        \u001b[35m1.2221\u001b[0m  10.2201\n",
      "  epoch    train_loss    valid_acc    valid_loss     dur\n",
      "-------  ------------  -----------  ------------  ------\n",
      "      1        \u001b[36m1.3850\u001b[0m       \u001b[32m0.4150\u001b[0m        \u001b[35m1.3842\u001b[0m  9.9182\n",
      "      2        \u001b[36m1.3834\u001b[0m       \u001b[32m0.4490\u001b[0m        \u001b[35m1.3822\u001b[0m  9.7126\n",
      "      3        \u001b[36m1.3800\u001b[0m       \u001b[32m0.4490\u001b[0m        \u001b[35m1.3760\u001b[0m  10.0146\n",
      "      4        \u001b[36m1.3657\u001b[0m       0.4406        \u001b[35m1.3476\u001b[0m  10.3317\n",
      "      5        \u001b[36m1.3204\u001b[0m       \u001b[32m0.4603\u001b[0m        \u001b[35m1.2984\u001b[0m  10.9796\n",
      "      6        \u001b[36m1.2881\u001b[0m       0.4547        \u001b[35m1.2804\u001b[0m  10.4627\n",
      "      7        \u001b[36m1.2764\u001b[0m       0.4584        \u001b[35m1.2734\u001b[0m  10.5173\n",
      "      8        \u001b[36m1.2713\u001b[0m       0.4457        \u001b[35m1.2690\u001b[0m  10.6218\n",
      "      9        \u001b[36m1.2671\u001b[0m       0.4242        \u001b[35m1.2647\u001b[0m  10.5170\n",
      "     10        \u001b[36m1.2627\u001b[0m       0.4184        \u001b[35m1.2604\u001b[0m  10.3368\n",
      "     11        \u001b[36m1.2579\u001b[0m       0.4298        \u001b[35m1.2558\u001b[0m  11.1785\n",
      "     12        \u001b[36m1.2523\u001b[0m       0.4288        \u001b[35m1.2528\u001b[0m  11.0940\n",
      "     13        \u001b[36m1.2475\u001b[0m       0.4485        \u001b[35m1.2474\u001b[0m  10.1078\n",
      "     14        \u001b[36m1.2427\u001b[0m       0.4483        \u001b[35m1.2449\u001b[0m  11.3208\n",
      "     15        \u001b[36m1.2381\u001b[0m       0.4505        \u001b[35m1.2427\u001b[0m  11.3515\n",
      "     16        \u001b[36m1.2339\u001b[0m       0.4504        \u001b[35m1.2395\u001b[0m  10.7685\n",
      "     17        \u001b[36m1.2298\u001b[0m       0.4521        \u001b[35m1.2380\u001b[0m  10.7979\n",
      "     18        \u001b[36m1.2258\u001b[0m       0.4372        1.2401  10.8538\n",
      "     19        \u001b[36m1.2223\u001b[0m       0.4500        \u001b[35m1.2350\u001b[0m  10.5075\n",
      "     20        \u001b[36m1.2193\u001b[0m       \u001b[32m0.4647\u001b[0m        \u001b[35m1.2311\u001b[0m  9.9244\n",
      "  epoch    train_loss    valid_acc    valid_loss     dur\n",
      "-------  ------------  -----------  ------------  ------\n",
      "      1        \u001b[36m1.3841\u001b[0m       \u001b[32m0.4479\u001b[0m        \u001b[35m1.3812\u001b[0m  7.3000\n",
      "      2        \u001b[36m1.3701\u001b[0m       0.4249        \u001b[35m1.3427\u001b[0m  7.5115\n",
      "      3        \u001b[36m1.3008\u001b[0m       0.4143        \u001b[35m1.2772\u001b[0m  6.7426\n",
      "      4        \u001b[36m1.2690\u001b[0m       0.4102        \u001b[35m1.2654\u001b[0m  6.7913\n",
      "      5        \u001b[36m1.2596\u001b[0m       0.4347        \u001b[35m1.2558\u001b[0m  7.2647\n",
      "      6        \u001b[36m1.2506\u001b[0m       \u001b[32m0.4656\u001b[0m        \u001b[35m1.2477\u001b[0m  7.4355\n",
      "      7        \u001b[36m1.2432\u001b[0m       \u001b[32m0.4836\u001b[0m        \u001b[35m1.2406\u001b[0m  7.5878\n",
      "      8        \u001b[36m1.2374\u001b[0m       \u001b[32m0.4877\u001b[0m        \u001b[35m1.2358\u001b[0m  7.1038\n",
      "      9        \u001b[36m1.2317\u001b[0m       \u001b[32m0.4920\u001b[0m        \u001b[35m1.2298\u001b[0m  7.4623\n",
      "     10        \u001b[36m1.2265\u001b[0m       \u001b[32m0.5040\u001b[0m        \u001b[35m1.2244\u001b[0m  7.2979\n",
      "     11        \u001b[36m1.2213\u001b[0m       \u001b[32m0.5123\u001b[0m        \u001b[35m1.2177\u001b[0m  7.3640\n",
      "     12        \u001b[36m1.2172\u001b[0m       0.5055        \u001b[35m1.2168\u001b[0m  7.4416\n",
      "     13        \u001b[36m1.2136\u001b[0m       \u001b[32m0.5149\u001b[0m        \u001b[35m1.2114\u001b[0m  7.5440\n",
      "     14        \u001b[36m1.2113\u001b[0m       \u001b[32m0.5351\u001b[0m        \u001b[35m1.2073\u001b[0m  7.7423\n",
      "     15        \u001b[36m1.2077\u001b[0m       0.5237        \u001b[35m1.2062\u001b[0m  7.3009\n",
      "     16        \u001b[36m1.2060\u001b[0m       0.5207        \u001b[35m1.2060\u001b[0m  7.7817\n",
      "     17        \u001b[36m1.2053\u001b[0m       0.5264        \u001b[35m1.2044\u001b[0m  7.3193\n",
      "     18        \u001b[36m1.2026\u001b[0m       0.5138        1.2099  7.2117\n",
      "     19        \u001b[36m1.2010\u001b[0m       0.5268        \u001b[35m1.2031\u001b[0m  8.0017\n",
      "     20        \u001b[36m1.2001\u001b[0m       0.5311        \u001b[35m1.2000\u001b[0m  7.7514\n",
      "  epoch    train_loss    valid_acc    valid_loss     dur\n",
      "-------  ------------  -----------  ------------  ------\n",
      "      1        \u001b[36m1.3838\u001b[0m       \u001b[32m0.4294\u001b[0m        \u001b[35m1.3805\u001b[0m  7.2396\n",
      "      2        \u001b[36m1.3657\u001b[0m       \u001b[32m0.4395\u001b[0m        \u001b[35m1.3336\u001b[0m  7.7664\n",
      "      3        \u001b[36m1.3012\u001b[0m       \u001b[32m0.4637\u001b[0m        \u001b[35m1.2790\u001b[0m  7.7274\n",
      "      4        \u001b[36m1.2687\u001b[0m       0.4500        \u001b[35m1.2609\u001b[0m  7.5233\n",
      "      5        \u001b[36m1.2544\u001b[0m       \u001b[32m0.4768\u001b[0m        \u001b[35m1.2496\u001b[0m  7.6469\n",
      "      6        \u001b[36m1.2446\u001b[0m       0.4522        \u001b[35m1.2461\u001b[0m  7.9528\n",
      "      7        \u001b[36m1.2357\u001b[0m       \u001b[32m0.4897\u001b[0m        \u001b[35m1.2334\u001b[0m  7.8253\n",
      "      8        \u001b[36m1.2292\u001b[0m       0.4888        \u001b[35m1.2308\u001b[0m  7.4589\n",
      "      9        \u001b[36m1.2236\u001b[0m       \u001b[32m0.5108\u001b[0m        \u001b[35m1.2210\u001b[0m  8.0026\n",
      "     10        \u001b[36m1.2187\u001b[0m       0.5107        \u001b[35m1.2182\u001b[0m  7.8670\n",
      "     11        \u001b[36m1.2159\u001b[0m       0.5098        \u001b[35m1.2154\u001b[0m  7.4239\n",
      "     12        \u001b[36m1.2120\u001b[0m       0.5047        \u001b[35m1.2150\u001b[0m  8.1443\n",
      "     13        \u001b[36m1.2105\u001b[0m       \u001b[32m0.5243\u001b[0m        \u001b[35m1.2096\u001b[0m  8.6771\n",
      "     14        \u001b[36m1.2079\u001b[0m       0.5099        1.2101  10.6441\n",
      "     15        \u001b[36m1.2063\u001b[0m       0.5228        \u001b[35m1.2080\u001b[0m  8.1896\n",
      "     16        \u001b[36m1.2042\u001b[0m       0.5066        1.2098  9.3761\n",
      "     17        \u001b[36m1.2033\u001b[0m       0.5154        \u001b[35m1.2071\u001b[0m  8.8740\n",
      "     18        \u001b[36m1.2019\u001b[0m       0.5165        1.2073  7.8487\n",
      "     19        \u001b[36m1.1999\u001b[0m       0.5083        1.2071  8.7302\n",
      "     20        \u001b[36m1.1999\u001b[0m       0.5215        \u001b[35m1.2051\u001b[0m  8.6085\n",
      "  epoch    train_loss    valid_acc    valid_loss     dur\n",
      "-------  ------------  -----------  ------------  ------\n",
      "      1        \u001b[36m1.3855\u001b[0m       \u001b[32m0.4128\u001b[0m        \u001b[35m1.3841\u001b[0m  7.3958\n",
      "      2        \u001b[36m1.3825\u001b[0m       \u001b[32m0.5137\u001b[0m        \u001b[35m1.3802\u001b[0m  7.7343\n",
      "      3        \u001b[36m1.3697\u001b[0m       0.4282        \u001b[35m1.3451\u001b[0m  7.2883\n",
      "      4        \u001b[36m1.3032\u001b[0m       0.4403        \u001b[35m1.2731\u001b[0m  7.7779\n",
      "      5        \u001b[36m1.2615\u001b[0m       0.4524        \u001b[35m1.2542\u001b[0m  7.1333\n",
      "      6        \u001b[36m1.2460\u001b[0m       0.4653        \u001b[35m1.2443\u001b[0m  7.7120\n",
      "      7        \u001b[36m1.2368\u001b[0m       0.4510        \u001b[35m1.2403\u001b[0m  7.2858\n",
      "      8        \u001b[36m1.2292\u001b[0m       0.4531        \u001b[35m1.2365\u001b[0m  7.2847\n",
      "      9        \u001b[36m1.2244\u001b[0m       0.4497        \u001b[35m1.2356\u001b[0m  7.7459\n",
      "     10        \u001b[36m1.2188\u001b[0m       0.4503        \u001b[35m1.2353\u001b[0m  7.2650\n",
      "     11        \u001b[36m1.2173\u001b[0m       0.4597        \u001b[35m1.2341\u001b[0m  7.6727\n",
      "     12        \u001b[36m1.2144\u001b[0m       0.4585        \u001b[35m1.2329\u001b[0m  7.2089\n",
      "     13        \u001b[36m1.2131\u001b[0m       0.4582        \u001b[35m1.2327\u001b[0m  7.1582\n",
      "     14        \u001b[36m1.2109\u001b[0m       0.4665        \u001b[35m1.2314\u001b[0m  7.5598\n",
      "     15        \u001b[36m1.2088\u001b[0m       0.4576        1.2317  7.4932\n",
      "     16        \u001b[36m1.2074\u001b[0m       0.4643        \u001b[35m1.2290\u001b[0m  7.4197\n",
      "     17        \u001b[36m1.2064\u001b[0m       0.4721        \u001b[35m1.2269\u001b[0m  7.4489\n",
      "     18        \u001b[36m1.2048\u001b[0m       0.4632        1.2292  7.3167\n",
      "     19        \u001b[36m1.2039\u001b[0m       0.4654        1.2280  7.5678\n",
      "     20        \u001b[36m1.2026\u001b[0m       0.4624        1.2285  7.7869\n",
      "  epoch    train_loss    valid_acc    valid_loss      dur\n",
      "-------  ------------  -----------  ------------  -------\n",
      "      1        \u001b[36m1.3867\u001b[0m       \u001b[32m0.1566\u001b[0m        \u001b[35m1.3854\u001b[0m  11.9234\n",
      "      2        \u001b[36m1.3849\u001b[0m       \u001b[32m0.4024\u001b[0m        \u001b[35m1.3843\u001b[0m  12.3477\n",
      "      3        \u001b[36m1.3837\u001b[0m       \u001b[32m0.4438\u001b[0m        \u001b[35m1.3821\u001b[0m  13.0028\n",
      "      4        \u001b[36m1.3763\u001b[0m       0.3964        \u001b[35m1.3597\u001b[0m  12.2672\n",
      "      5        \u001b[36m1.3152\u001b[0m       0.4182        \u001b[35m1.2763\u001b[0m  11.9624\n",
      "      6        \u001b[36m1.2682\u001b[0m       \u001b[32m0.4768\u001b[0m        \u001b[35m1.2522\u001b[0m  13.0553\n",
      "      7        \u001b[36m1.2542\u001b[0m       0.4539        \u001b[35m1.2473\u001b[0m  12.0600\n",
      "      8        \u001b[36m1.2466\u001b[0m       0.4694        \u001b[35m1.2398\u001b[0m  12.5456\n",
      "      9        \u001b[36m1.2399\u001b[0m       \u001b[32m0.4880\u001b[0m        \u001b[35m1.2321\u001b[0m  12.7695\n",
      "     10        \u001b[36m1.2332\u001b[0m       0.4662        1.2329  12.2906\n",
      "     11        \u001b[36m1.2278\u001b[0m       0.4782        \u001b[35m1.2275\u001b[0m  13.9706\n",
      "     12        \u001b[36m1.2214\u001b[0m       \u001b[32m0.5120\u001b[0m        \u001b[35m1.2155\u001b[0m  14.6407\n",
      "     13        \u001b[36m1.2166\u001b[0m       0.4927        1.2163  13.5430\n",
      "     14        \u001b[36m1.2128\u001b[0m       \u001b[32m0.5233\u001b[0m        \u001b[35m1.2071\u001b[0m  11.9868\n",
      "     15        \u001b[36m1.2103\u001b[0m       0.5232        \u001b[35m1.2059\u001b[0m  11.7990\n",
      "     16        \u001b[36m1.2065\u001b[0m       0.5198        \u001b[35m1.2043\u001b[0m  11.7012\n",
      "     17        \u001b[36m1.2046\u001b[0m       \u001b[32m0.5327\u001b[0m        \u001b[35m1.2005\u001b[0m  12.7767\n",
      "     18        \u001b[36m1.2018\u001b[0m       \u001b[32m0.5402\u001b[0m        \u001b[35m1.2000\u001b[0m  12.8455\n",
      "     19        \u001b[36m1.2003\u001b[0m       0.5121        1.2027  12.0263\n",
      "     20        \u001b[36m1.1983\u001b[0m       0.5329        \u001b[35m1.1968\u001b[0m  12.4945\n"
     ]
    }
   ],
   "source": [
    "# define the grid search parameters\n",
    "param_grid = {\n",
    "    'module__activation': [ nn.ReLU, nn.GELU, nn.Softplus, nn.Softsign, nn.Tanh]\n",
    "}\n",
    "grid = GridSearchCV(estimator=model, param_grid=param_grid, n_jobs=1 ,cv=3)\n",
    "grid_result = grid.fit(data_process_train, y_train.long())"
   ]
  },
  {
   "cell_type": "code",
   "execution_count": 131,
   "metadata": {},
   "outputs": [
    {
     "name": "stdout",
     "output_type": "stream",
     "text": [
      "Best: 0.504127 using {'module__activation': <class 'torch.nn.modules.activation.ReLU'>}\n",
      "0.504127 (0.018339) with: {'module__activation': <class 'torch.nn.modules.activation.ReLU'>}\n",
      "0.451424 (0.012876) with: {'module__activation': <class 'torch.nn.modules.activation.GELU'>}\n",
      "0.410249 (0.004709) with: {'module__activation': <class 'torch.nn.modules.activation.Softplus'>}\n",
      "0.500286 (0.026551) with: {'module__activation': <class 'torch.nn.modules.activation.Softsign'>}\n",
      "0.503456 (0.029505) with: {'module__activation': <class 'torch.nn.modules.activation.Tanh'>}\n"
     ]
    }
   ],
   "source": [
    "# summarize results\n",
    "print(\"Best: %f using %s\" % (grid_result.best_score_, grid_result.best_params_))\n",
    "means = grid_result.cv_results_['mean_test_score']\n",
    "stds = grid_result.cv_results_['std_test_score']\n",
    "params = grid_result.cv_results_['params']\n",
    "for mean, stdev, param in zip(means, stds, params):\n",
    "    print(\"%f (%f) with: %r\" % (mean, stdev, param))"
   ]
  },
  {
   "cell_type": "markdown",
   "metadata": {},
   "source": [
    "**Analyse du taux de dropout**"
   ]
  },
  {
   "cell_type": "code",
   "execution_count": 151,
   "metadata": {},
   "outputs": [],
   "source": [
    "class Multiclass(nn.Module):\n",
    "    def __init__(self, activation=nn.ReLU, dropout_rate=0.5):\n",
    "        super().__init__()\n",
    "        self.layer1 = nn.Linear(37, 70)\n",
    "        self.layer2 = activation()\n",
    "        self.layer3 = nn.Linear(70, 140)\n",
    "        self.layer4 = activation()\n",
    "        self.layer5 = nn.Dropout(p=dropout_rate)\n",
    "        self.layer6 = nn.Linear(140, 70)\n",
    "        self.layer7 = activation()\n",
    "        self.layer8 = nn.Linear(70, 35)\n",
    "        self.layer9 = activation()\n",
    "        self.layer10 = nn.Dropout(p=dropout_rate)\n",
    "        self.layer11= nn.Linear(35, 14)\n",
    "        self.layer12= activation()\n",
    "        self.layer13= nn.Linear(14, 4)\n",
    "\n",
    "    def forward(self, x):\n",
    "        x = self.layer1(x)\n",
    "        x = self.layer2(x)\n",
    "        x = self.layer3(x)\n",
    "        x = self.layer4(x)\n",
    "        x = self.layer5(x)\n",
    "        x = self.layer6(x)\n",
    "        x = self.layer7(x)\n",
    "        x = self.layer8(x)\n",
    "        x = self.layer9(x)\n",
    "        x = self.layer10(x)\n",
    "        x = self.layer11(x)\n",
    "        x = self.layer12(x)\n",
    "        x = self.layer13(x)\n",
    "        return F.softmax(x, dim=1)"
   ]
  },
  {
   "cell_type": "code",
   "execution_count": 152,
   "metadata": {},
   "outputs": [],
   "source": [
    "model = NeuralNetClassifier(\n",
    "    module=Multiclass,\n",
    "    criterion=nn.CrossEntropyLoss(weight=class_weights, reduction='mean'),\n",
    "    optimizer=optim.SGD,\n",
    "    max_epochs=20,\n",
    "    batch_size=64,\n",
    "    verbose=True\n",
    ")\n"
   ]
  },
  {
   "cell_type": "code",
   "execution_count": 134,
   "metadata": {},
   "outputs": [
    {
     "name": "stdout",
     "output_type": "stream",
     "text": [
      "  epoch    train_loss    valid_acc    valid_loss      dur\n",
      "-------  ------------  -----------  ------------  -------\n",
      "      1        \u001b[36m1.3851\u001b[0m       \u001b[32m0.1566\u001b[0m        \u001b[35m1.3840\u001b[0m  11.6553\n",
      "      2        \u001b[36m1.3832\u001b[0m       \u001b[32m0.4548\u001b[0m        \u001b[35m1.3813\u001b[0m  11.9507\n",
      "      3        \u001b[36m1.3768\u001b[0m       0.3812        \u001b[35m1.3647\u001b[0m  12.5874\n",
      "      4        \u001b[36m1.3302\u001b[0m       0.4188        \u001b[35m1.2803\u001b[0m  11.9894\n",
      "      5        \u001b[36m1.2690\u001b[0m       \u001b[32m0.4764\u001b[0m        \u001b[35m1.2502\u001b[0m  12.6474\n",
      "      6        \u001b[36m1.2494\u001b[0m       \u001b[32m0.4799\u001b[0m        \u001b[35m1.2400\u001b[0m  12.4976\n",
      "      7        \u001b[36m1.2388\u001b[0m       \u001b[32m0.4920\u001b[0m        \u001b[35m1.2322\u001b[0m  12.1936\n",
      "      8        \u001b[36m1.2316\u001b[0m       \u001b[32m0.4958\u001b[0m        \u001b[35m1.2267\u001b[0m  11.4135\n",
      "      9        \u001b[36m1.2259\u001b[0m       0.4849        \u001b[35m1.2238\u001b[0m  12.1705\n",
      "     10        \u001b[36m1.2204\u001b[0m       \u001b[32m0.5055\u001b[0m        \u001b[35m1.2148\u001b[0m  12.0075\n",
      "     11        \u001b[36m1.2165\u001b[0m       \u001b[32m0.5226\u001b[0m        \u001b[35m1.2094\u001b[0m  12.2892\n",
      "     12        \u001b[36m1.2129\u001b[0m       \u001b[32m0.5336\u001b[0m        \u001b[35m1.2059\u001b[0m  11.6102\n",
      "     13        \u001b[36m1.2100\u001b[0m       0.5271        \u001b[35m1.2043\u001b[0m  11.4161\n",
      "     14        \u001b[36m1.2064\u001b[0m       0.5110        1.2048  13.0020\n",
      "     15        \u001b[36m1.2045\u001b[0m       \u001b[32m0.5368\u001b[0m        \u001b[35m1.2008\u001b[0m  12.6085\n",
      "     16        \u001b[36m1.2025\u001b[0m       0.5147        1.2063  12.5086\n",
      "     17        \u001b[36m1.1996\u001b[0m       0.5207        \u001b[35m1.2006\u001b[0m  13.7174\n",
      "     18        \u001b[36m1.1981\u001b[0m       0.5269        \u001b[35m1.1972\u001b[0m  12.8313\n",
      "     19        \u001b[36m1.1968\u001b[0m       0.5288        1.2011  12.1699\n",
      "     20        \u001b[36m1.1954\u001b[0m       0.5301        \u001b[35m1.1971\u001b[0m  12.8939\n"
     ]
    }
   ],
   "source": [
    "# define the grid search parameters\n",
    "param_grid = {\n",
    "    'module__dropout_rate': [0.0, 0.1, 0.2, 0.3, 0.4, 0.5, 0.6, 0.7, 0.8, 0.9]\n",
    "}\n",
    "grid = GridSearchCV(estimator=model, param_grid=param_grid, n_jobs=-1, cv=3)\n",
    "grid_result = grid.fit(data_process_train, y_train.long())"
   ]
  },
  {
   "cell_type": "code",
   "execution_count": 135,
   "metadata": {},
   "outputs": [
    {
     "name": "stdout",
     "output_type": "stream",
     "text": [
      "Best: 0.512884 using {'module__dropout_rate': 0.2}\n",
      "0.491414 (0.036600) with: {'module__dropout_rate': 0.0}\n",
      "0.498092 (0.031979) with: {'module__dropout_rate': 0.1}\n",
      "0.512884 (0.023770) with: {'module__dropout_rate': 0.2}\n",
      "0.491067 (0.018950) with: {'module__dropout_rate': 0.3}\n",
      "0.474048 (0.012673) with: {'module__dropout_rate': 0.4}\n",
      "0.496750 (0.031558) with: {'module__dropout_rate': 0.5}\n",
      "0.507961 (0.021116) with: {'module__dropout_rate': 0.6}\n",
      "0.508099 (0.013832) with: {'module__dropout_rate': 0.7}\n",
      "0.473963 (0.041078) with: {'module__dropout_rate': 0.8}\n",
      "0.464911 (0.012024) with: {'module__dropout_rate': 0.9}\n"
     ]
    }
   ],
   "source": [
    "# summarize results\n",
    "print(\"Best: %f using %s\" % (grid_result.best_score_, grid_result.best_params_))\n",
    "means = grid_result.cv_results_['mean_test_score']\n",
    "stds = grid_result.cv_results_['std_test_score']\n",
    "params = grid_result.cv_results_['params']\n",
    "for mean, stdev, param in zip(means, stds, params):\n",
    "    print(\"%f (%f) with: %r\" % (mean, stdev, param))"
   ]
  },
  {
   "cell_type": "code",
   "execution_count": 146,
   "metadata": {},
   "outputs": [
    {
     "data": {
      "image/png": "[encoded data removed]",
      "text/plain": [
       "<Figure size 1200x600 with 1 Axes>"
      ]
     },
     "metadata": {},
     "output_type": "display_data"
    }
   ],
   "source": [
    "plt.figure(figsize=(12,6))\n",
    "plt.title('Première analyse')\n",
    "moy = [0.491414, 0.498092 , 0.512884 ,0.491067 ,0.474048 ,0.496750 ,0.507961 ,0.508099 ,0.473963 ,0.464911 ]\n",
    "std = [0.036600, 0.031979, 0.023770, 0.018950, 0.012673, 0.031558, 0.021116, 0.013832,0.041078, 0.012024 ]\n",
    "plt.bar(range(10), moy , color = 'skyblue')\n",
    "plt.errorbar(range(10), moy , yerr = std,\n",
    "    fmt = 'none', capsize = 10, ecolor = 'red', elinewidth = 2, capthick = 8)\n",
    "plt.xticks(range(10), labels=[0.0, 0.1, 0.2, 0.3, 0.4, 0.5, 0.6, 0.7, 0.8, 0.9]);\n",
    "plt.xlabel('Taux de dropout');\n",
    "plt.ylabel('Accuracy');"
   ]
  },
  {
   "cell_type": "markdown",
   "metadata": {},
   "source": [
    "Deuxième analyse"
   ]
  },
  {
   "cell_type": "code",
   "execution_count": 136,
   "metadata": {},
   "outputs": [],
   "source": [
    "model = NeuralNetClassifier(\n",
    "    module=Multiclass,\n",
    "    criterion=nn.CrossEntropyLoss(weight=class_weights, reduction='mean'),\n",
    "    optimizer=optim.SGD,\n",
    "    max_epochs=20,\n",
    "    batch_size=64,\n",
    "    verbose=True\n",
    ")"
   ]
  },
  {
   "cell_type": "code",
   "execution_count": 139,
   "metadata": {},
   "outputs": [
    {
     "name": "stdout",
     "output_type": "stream",
     "text": [
      "  epoch    train_loss    valid_acc    valid_loss      dur\n",
      "-------  ------------  -----------  ------------  -------\n",
      "      1        \u001b[36m1.3864\u001b[0m       \u001b[32m0.4035\u001b[0m        \u001b[35m1.3852\u001b[0m  15.6172\n",
      "      2        \u001b[36m1.3846\u001b[0m       \u001b[32m0.4343\u001b[0m        \u001b[35m1.3835\u001b[0m  12.8530\n",
      "      3        \u001b[36m1.3821\u001b[0m       0.4268        \u001b[35m1.3790\u001b[0m  12.1537\n",
      "      4        \u001b[36m1.3627\u001b[0m       0.3871        \u001b[35m1.3157\u001b[0m  12.0330\n",
      "      5        \u001b[36m1.2820\u001b[0m       \u001b[32m0.4546\u001b[0m        \u001b[35m1.2583\u001b[0m  15.8065\n",
      "      6        \u001b[36m1.2554\u001b[0m       \u001b[32m0.4721\u001b[0m        \u001b[35m1.2453\u001b[0m  13.5647\n",
      "      7        \u001b[36m1.2450\u001b[0m       \u001b[32m0.4896\u001b[0m        \u001b[35m1.2372\u001b[0m  13.2563\n",
      "      8        \u001b[36m1.2372\u001b[0m       0.4863        \u001b[35m1.2316\u001b[0m  15.6457\n",
      "      9        \u001b[36m1.2311\u001b[0m       \u001b[32m0.5068\u001b[0m        \u001b[35m1.2250\u001b[0m  14.8192\n",
      "     10        \u001b[36m1.2260\u001b[0m       0.4848        1.2262  15.5066\n",
      "     11        \u001b[36m1.2207\u001b[0m       0.4744        \u001b[35m1.2232\u001b[0m  14.5109\n",
      "     12        \u001b[36m1.2161\u001b[0m       0.4900        \u001b[35m1.2165\u001b[0m  14.8666\n",
      "     13        \u001b[36m1.2125\u001b[0m       0.5018        \u001b[35m1.2120\u001b[0m  14.2364\n",
      "     14        \u001b[36m1.2079\u001b[0m       0.4986        \u001b[35m1.2101\u001b[0m  13.3459\n",
      "     15        \u001b[36m1.2056\u001b[0m       \u001b[32m0.5310\u001b[0m        \u001b[35m1.2026\u001b[0m  12.5845\n",
      "     16        \u001b[36m1.2021\u001b[0m       0.5244        \u001b[35m1.2021\u001b[0m  12.5953\n",
      "     17        \u001b[36m1.1999\u001b[0m       0.5197        \u001b[35m1.2009\u001b[0m  12.4759\n",
      "     18        \u001b[36m1.1982\u001b[0m       \u001b[32m0.5310\u001b[0m        \u001b[35m1.1967\u001b[0m  12.5811\n",
      "     19        \u001b[36m1.1957\u001b[0m       0.5297        \u001b[35m1.1965\u001b[0m  12.5625\n",
      "     20        \u001b[36m1.1947\u001b[0m       \u001b[32m0.5471\u001b[0m        \u001b[35m1.1929\u001b[0m  12.6972\n"
     ]
    }
   ],
   "source": [
    "# define the grid search parameters\n",
    "param_grid = {\n",
    "    'module__dropout_rate': [0.0, 0.1, 0.2, 0.3, 0.4, 0.5, 0.6, 0.7, 0.8, 0.9]\n",
    "}\n",
    "grid = GridSearchCV(estimator=model, param_grid=param_grid, n_jobs=-1, cv=3)\n",
    "grid_result = grid.fit(data_process_train, y_train.long())"
   ]
  },
  {
   "cell_type": "code",
   "execution_count": 140,
   "metadata": {},
   "outputs": [
    {
     "name": "stdout",
     "output_type": "stream",
     "text": [
      "Best: 0.511401 using {'module__dropout_rate': 0.1}\n",
      "0.482827 (0.041111) with: {'module__dropout_rate': 0.0}\n",
      "0.511401 (0.020863) with: {'module__dropout_rate': 0.1}\n",
      "0.489579 (0.019401) with: {'module__dropout_rate': 0.2}\n",
      "0.482980 (0.024210) with: {'module__dropout_rate': 0.3}\n",
      "0.503371 (0.027795) with: {'module__dropout_rate': 0.4}\n",
      "0.503484 (0.023555) with: {'module__dropout_rate': 0.5}\n",
      "0.505745 (0.027614) with: {'module__dropout_rate': 0.6}\n",
      "0.487403 (0.003193) with: {'module__dropout_rate': 0.7}\n",
      "0.479952 (0.028328) with: {'module__dropout_rate': 0.8}\n",
      "0.484194 (0.005500) with: {'module__dropout_rate': 0.9}\n"
     ]
    }
   ],
   "source": [
    "# summarize results\n",
    "print(\"Best: %f using %s\" % (grid_result.best_score_, grid_result.best_params_))\n",
    "means = grid_result.cv_results_['mean_test_score']\n",
    "stds = grid_result.cv_results_['std_test_score']\n",
    "params = grid_result.cv_results_['params']\n",
    "for mean, stdev, param in zip(means, stds, params):\n",
    "    print(\"%f (%f) with: %r\" % (mean, stdev, param))"
   ]
  },
  {
   "cell_type": "code",
   "execution_count": 152,
   "metadata": {},
   "outputs": [
    {
     "data": {
      "image/png": "[encoded data removed]",
      "text/plain": [
       "<Figure size 1200x800 with 1 Axes>"
      ]
     },
     "metadata": {},
     "output_type": "display_data"
    }
   ],
   "source": [
    "plt.bar(range(10), grid_result.cv_results_['mean_test_score'], color = 'skyblue')\n",
    "plt.errorbar(range(10), grid_result.cv_results_['mean_test_score'] , yerr = grid_result.cv_results_['std_test_score'],\n",
    "    fmt = 'none', capsize = 10, ecolor = 'red', elinewidth = 2, capthick = 8)\n",
    "plt.xticks(range(10), labels=[0.0, 0.1, 0.2, 0.3, 0.4, 0.5, 0.6, 0.7, 0.8, 0.9]);\n",
    "plt.xlabel('Taux de dropout');\n",
    "plt.ylabel('Accuracy');"
   ]
  },
  {
   "cell_type": "markdown",
   "metadata": {},
   "source": [
    "Si l'on intègre les écarts-types, on s'aperçoit que le taux de dropout a relativement peu d'influence sur la performance du modèle. \n",
    "Cela explique pourquoi les 2 tentatives conduisent à 2 meilleurs candidats différents.\n",
    "Un léger dropout semble permettre de diminuer l'écart type en fonction de l'échantillon considéré."
   ]
  },
  {
   "cell_type": "markdown",
   "metadata": {},
   "source": [
    "**Analyse du nombre de neurones**"
   ]
  },
  {
   "cell_type": "code",
   "execution_count": 153,
   "metadata": {},
   "outputs": [],
   "source": [
    "class Multiclass(nn.Module):\n",
    "    def __init__(self, activation=nn.ReLU, dropout_rate=0.1, n_neurones = 70):\n",
    "        super().__init__()\n",
    "        self.layer1 = nn.Linear(37, n_neurones)\n",
    "        self.layer2 = activation()\n",
    "        self.layer3 = nn.Linear(n_neurones, 2*n_neurones)\n",
    "        self.layer4 = activation()\n",
    "        self.layer5 = nn.Dropout(p=dropout_rate)\n",
    "        self.layer6 = nn.Linear(2*n_neurones, n_neurones)\n",
    "        self.layer7 = activation()\n",
    "        self.layer8 = nn.Linear(n_neurones, int(0.5*n_neurones))\n",
    "        self.layer9 = activation()\n",
    "        self.layer10 = nn.Dropout(p=dropout_rate)\n",
    "        self.layer11= nn.Linear(int(0.5*n_neurones), int(0.25*n_neurones))\n",
    "        self.layer12= activation()\n",
    "        self.layer13= nn.Linear(int(0.25*n_neurones), 4)\n",
    "\n",
    "    def forward(self, x):\n",
    "        x = self.layer1(x)\n",
    "        x = self.layer2(x)\n",
    "        x = self.layer3(x)\n",
    "        x = self.layer4(x)\n",
    "        x = self.layer5(x)\n",
    "        x = self.layer6(x)\n",
    "        x = self.layer7(x)\n",
    "        x = self.layer8(x)\n",
    "        x = self.layer9(x)\n",
    "        x = self.layer10(x)\n",
    "        x = self.layer11(x)\n",
    "        x = self.layer12(x)\n",
    "        x = self.layer13(x)\n",
    "        return F.softmax(x, dim=1)"
   ]
  },
  {
   "cell_type": "code",
   "execution_count": 154,
   "metadata": {},
   "outputs": [],
   "source": [
    "model = NeuralNetClassifier(\n",
    "    module=Multiclass,\n",
    "    criterion=nn.CrossEntropyLoss(weight=class_weights, reduction='mean'),\n",
    "    optimizer=optim.SGD,\n",
    "    max_epochs=20,\n",
    "    batch_size=64,\n",
    "    verbose=True\n",
    ")"
   ]
  },
  {
   "cell_type": "code",
   "execution_count": 155,
   "metadata": {},
   "outputs": [
    {
     "name": "stdout",
     "output_type": "stream",
     "text": [
      "  epoch    train_loss    valid_acc    valid_loss      dur\n",
      "-------  ------------  -----------  ------------  -------\n",
      "      1        \u001b[36m1.3836\u001b[0m       \u001b[32m0.4053\u001b[0m        \u001b[35m1.3786\u001b[0m  54.4880\n",
      "      2        \u001b[36m1.3346\u001b[0m       \u001b[32m0.4522\u001b[0m        \u001b[35m1.2680\u001b[0m  52.8133\n",
      "      3        \u001b[36m1.2525\u001b[0m       \u001b[32m0.5166\u001b[0m        \u001b[35m1.2365\u001b[0m  54.5090\n",
      "      4        \u001b[36m1.2337\u001b[0m       0.5154        \u001b[35m1.2234\u001b[0m  55.8853\n",
      "      5        \u001b[36m1.2225\u001b[0m       \u001b[32m0.5178\u001b[0m        \u001b[35m1.2162\u001b[0m  59.2106\n",
      "      6        \u001b[36m1.2134\u001b[0m       \u001b[32m0.5321\u001b[0m        \u001b[35m1.2068\u001b[0m  57.5107\n",
      "      7        \u001b[36m1.2074\u001b[0m       0.5211        \u001b[35m1.2034\u001b[0m  77.4396\n",
      "      8        \u001b[36m1.2020\u001b[0m       \u001b[32m0.5649\u001b[0m        \u001b[35m1.1977\u001b[0m  103.9818\n",
      "      9        \u001b[36m1.1990\u001b[0m       0.5648        \u001b[35m1.1958\u001b[0m  103.4724\n",
      "     10        \u001b[36m1.1941\u001b[0m       0.5584        \u001b[35m1.1930\u001b[0m  97.7989\n",
      "     11        \u001b[36m1.1920\u001b[0m       0.5597        \u001b[35m1.1915\u001b[0m  77.8722\n",
      "     12        \u001b[36m1.1890\u001b[0m       0.5534        \u001b[35m1.1904\u001b[0m  96.3077\n",
      "     13        \u001b[36m1.1867\u001b[0m       0.5535        \u001b[35m1.1892\u001b[0m  95.5038\n",
      "     14        \u001b[36m1.1839\u001b[0m       0.5607        \u001b[35m1.1891\u001b[0m  100.6455\n",
      "     15        \u001b[36m1.1823\u001b[0m       0.5527        \u001b[35m1.1884\u001b[0m  102.6255\n",
      "     16        \u001b[36m1.1802\u001b[0m       0.5601        1.1897  89.6623\n",
      "     17        \u001b[36m1.1792\u001b[0m       0.5423        1.1899  98.9198\n",
      "     18        \u001b[36m1.1764\u001b[0m       0.5426        1.1887  97.1295\n",
      "     19        \u001b[36m1.1751\u001b[0m       0.5425        1.1885  97.6055\n",
      "     20        \u001b[36m1.1731\u001b[0m       0.5572        \u001b[35m1.1878\u001b[0m  97.4453\n"
     ]
    }
   ],
   "source": [
    "# define the grid search parameters\n",
    "param_grid = {\n",
    "    'module__n_neurones': [70,300,800,1500]\n",
    "}\n",
    "grid = GridSearchCV(estimator=model, param_grid=param_grid, n_jobs=-1, cv=3)\n",
    "grid_result = grid.fit(data_process_train, y_train.long())"
   ]
  },
  {
   "cell_type": "code",
   "execution_count": 156,
   "metadata": {},
   "outputs": [
    {
     "name": "stdout",
     "output_type": "stream",
     "text": [
      "Best: 0.522739 using {'module__n_neurones': 800}\n",
      "0.508703 (0.026197) with: {'module__n_neurones': 70}\n",
      "0.504517 (0.024791) with: {'module__n_neurones': 300}\n",
      "0.522739 (0.022373) with: {'module__n_neurones': 800}\n",
      "0.518106 (0.032010) with: {'module__n_neurones': 1500}\n"
     ]
    }
   ],
   "source": [
    "# summarize results\n",
    "print(\"Best: %f using %s\" % (grid_result.best_score_, grid_result.best_params_))\n",
    "means = grid_result.cv_results_['mean_test_score']\n",
    "stds = grid_result.cv_results_['std_test_score']\n",
    "params = grid_result.cv_results_['params']\n",
    "for mean, stdev, param in zip(means, stds, params):\n",
    "    print(\"%f (%f) with: %r\" % (mean, stdev, param))"
   ]
  },
  {
   "cell_type": "code",
   "execution_count": 157,
   "metadata": {},
   "outputs": [
    {
     "data": {
      "image/png": "[encoded data removed]",
      "text/plain": [
       "<Figure size 1200x800 with 1 Axes>"
      ]
     },
     "metadata": {},
     "output_type": "display_data"
    }
   ],
   "source": [
    "plt.bar(range(4), grid_result.cv_results_['mean_test_score'], color = 'skyblue')\n",
    "plt.errorbar(range(4), grid_result.cv_results_['mean_test_score'] , yerr = grid_result.cv_results_['std_test_score'],\n",
    "    fmt = 'none', capsize = 10, ecolor = 'red', elinewidth = 2, capthick = 8)\n",
    "plt.xticks(range(4), labels=[70,300,800,1500]);\n",
    "plt.xlabel('Nombre maximal de neurones');\n",
    "plt.ylabel('Accuracy');"
   ]
  }
 ],
 "metadata": {
  "kernelspec": {
   "display_name": "Python 3",
   "language": "python",
   "name": "python3"
  },
  "language_info": {
   "codemirror_mode": {
    "name": "ipython",
    "version": 3
   },
   "file_extension": ".py",
   "mimetype": "text/x-python",
   "name": "python",
   "nbconvert_exporter": "python",
   "pygments_lexer": "ipython3",
   "version": "3.11.5"
  }
 },
 "nbformat": 4,
 "nbformat_minor": 2
}
